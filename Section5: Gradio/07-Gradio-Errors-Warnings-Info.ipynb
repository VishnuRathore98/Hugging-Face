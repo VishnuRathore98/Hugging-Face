{
 "cells": [
  {
   "cell_type": "markdown",
   "id": "aed05bb2",
   "metadata": {},
   "source": [
    "## Errors\n",
    "In some occasions you might want to raise an error (**gr.Error()**). Examples include\n",
    "- division by zero\n",
    "- images that are too large for the model\n",
    "- format errors\n",
    "- custom functions\n",
    "\n",
    "When you raise an error the execution will be terminated!"
   ]
  },
  {
   "cell_type": "code",
   "execution_count": 3,
   "id": "360ea35c",
   "metadata": {},
   "outputs": [],
   "source": [
    "import gradio as gr"
   ]
  },
  {
   "cell_type": "code",
   "execution_count": 4,
   "id": "0a68773d",
   "metadata": {},
   "outputs": [
    {
     "name": "stdout",
     "output_type": "stream",
     "text": [
      "* Running on local URL:  http://127.0.0.1:7860\n",
      "* To create a public link, set `share=True` in `launch()`.\n"
     ]
    },
    {
     "data": {
      "text/html": [
       "<div><iframe src=\"http://127.0.0.1:7860/\" width=\"100%\" height=\"500\" allow=\"autoplay; camera; microphone; clipboard-read; clipboard-write;\" frameborder=\"0\" allowfullscreen></iframe></div>"
      ],
      "text/plain": [
       "<IPython.core.display.HTML object>"
      ]
     },
     "metadata": {},
     "output_type": "display_data"
    },
    {
     "name": "stderr",
     "output_type": "stream",
     "text": [
      "Traceback (most recent call last):\n",
      "  File \"/home/vpsr/Desktop/python/Hugging Face/.venv/lib/python3.12/site-packages/gradio/queueing.py\", line 625, in process_events\n",
      "    response = await route_utils.call_process_api(\n",
      "               ^^^^^^^^^^^^^^^^^^^^^^^^^^^^^^^^^^^\n",
      "  File \"/home/vpsr/Desktop/python/Hugging Face/.venv/lib/python3.12/site-packages/gradio/route_utils.py\", line 322, in call_process_api\n",
      "    output = await app.get_blocks().process_api(\n",
      "             ^^^^^^^^^^^^^^^^^^^^^^^^^^^^^^^^^^^\n",
      "  File \"/home/vpsr/Desktop/python/Hugging Face/.venv/lib/python3.12/site-packages/gradio/blocks.py\", line 2146, in process_api\n",
      "    result = await self.call_function(\n",
      "             ^^^^^^^^^^^^^^^^^^^^^^^^^\n",
      "  File \"/home/vpsr/Desktop/python/Hugging Face/.venv/lib/python3.12/site-packages/gradio/blocks.py\", line 1664, in call_function\n",
      "    prediction = await anyio.to_thread.run_sync(  # type: ignore\n",
      "                 ^^^^^^^^^^^^^^^^^^^^^^^^^^^^^^^^^^^^^^^^^^^^^^^\n",
      "  File \"/home/vpsr/Desktop/python/Hugging Face/.venv/lib/python3.12/site-packages/anyio/to_thread.py\", line 56, in run_sync\n",
      "    return await get_async_backend().run_sync_in_worker_thread(\n",
      "           ^^^^^^^^^^^^^^^^^^^^^^^^^^^^^^^^^^^^^^^^^^^^^^^^^^^^\n",
      "  File \"/home/vpsr/Desktop/python/Hugging Face/.venv/lib/python3.12/site-packages/anyio/_backends/_asyncio.py\", line 2470, in run_sync_in_worker_thread\n",
      "    return await future\n",
      "           ^^^^^^^^^^^^\n",
      "  File \"/home/vpsr/Desktop/python/Hugging Face/.venv/lib/python3.12/site-packages/anyio/_backends/_asyncio.py\", line 967, in run\n",
      "    result = context.run(func, *args)\n",
      "             ^^^^^^^^^^^^^^^^^^^^^^^^\n",
      "  File \"/home/vpsr/Desktop/python/Hugging Face/.venv/lib/python3.12/site-packages/gradio/utils.py\", line 884, in wrapper\n",
      "    response = f(*args, **kwargs)\n",
      "               ^^^^^^^^^^^^^^^^^^\n",
      "  File \"/tmp/ipykernel_22105/828977182.py\", line 3, in division\n",
      "    raise gr.Error(\"Cannot divide by zero!\")\n",
      "gradio.exceptions.Error: 'Cannot divide by zero!'\n"
     ]
    }
   ],
   "source": [
    "def division(num,denum):\n",
    "    if(denum==0):\n",
    "        raise gr.Error(\"Cannot divide by zero!\")\n",
    "    return num/denum\n",
    "\n",
    "iface = gr.Interface(fn=division, inputs=['number','number'], outputs='number').launch()"
   ]
  },
  {
   "cell_type": "markdown",
   "id": "59112009",
   "metadata": {},
   "source": [
    "### Warnings\n",
    "Instead of raising an error, you can also warn the user using **gr.Warning()**.\n",
    "\n",
    "The difference to the above shown error is that program execution is not interrupted."
   ]
  },
  {
   "cell_type": "code",
   "execution_count": null,
   "id": "132295d2",
   "metadata": {},
   "outputs": [
    {
     "name": "stdout",
     "output_type": "stream",
     "text": [
      "* Running on local URL:  http://127.0.0.1:7861\n",
      "* To create a public link, set `share=True` in `launch()`.\n"
     ]
    },
    {
     "data": {
      "text/html": [
       "<div><iframe src=\"http://127.0.0.1:7861/\" width=\"100%\" height=\"500\" allow=\"autoplay; camera; microphone; clipboard-read; clipboard-write;\" frameborder=\"0\" allowfullscreen></iframe></div>"
      ],
      "text/plain": [
       "<IPython.core.display.HTML object>"
      ]
     },
     "metadata": {},
     "output_type": "display_data"
    },
    {
     "data": {
      "text/plain": []
     },
     "execution_count": 6,
     "metadata": {},
     "output_type": "execute_result"
    }
   ],
   "source": [
    "def say_hello(name):\n",
    "    gr.Warning(\"This is a warning!\")\n",
    "    return \"Hello, \"+ name\n",
    "\n",
    "gr.Interface(fn=say_hello, inputs='text', outputs='text').launch()"
   ]
  },
  {
   "cell_type": "markdown",
   "id": "7897b524",
   "metadata": {},
   "source": [
    "### Information\n",
    "To pass information to the user you can use **gr.Info()**"
   ]
  },
  {
   "cell_type": "code",
   "execution_count": 9,
   "id": "3159811b",
   "metadata": {},
   "outputs": [
    {
     "name": "stdout",
     "output_type": "stream",
     "text": [
      "* Running on local URL:  http://127.0.0.1:7864\n",
      "* To create a public link, set `share=True` in `launch()`.\n"
     ]
    },
    {
     "data": {
      "text/html": [
       "<div><iframe src=\"http://127.0.0.1:7864/\" width=\"100%\" height=\"500\" allow=\"autoplay; camera; microphone; clipboard-read; clipboard-write;\" frameborder=\"0\" allowfullscreen></iframe></div>"
      ],
      "text/plain": [
       "<IPython.core.display.HTML object>"
      ]
     },
     "metadata": {},
     "output_type": "display_data"
    },
    {
     "data": {
      "text/plain": []
     },
     "execution_count": 9,
     "metadata": {},
     "output_type": "execute_result"
    }
   ],
   "source": [
    "def say_hello(name):\n",
    "    if(name == \"\"):\n",
    "        gr.Warning(\"Please enter name!\")\n",
    "    return \"Hello, \"+ name\n",
    "\n",
    "gr.Interface(fn=say_hello, inputs='text', outputs='text').launch()"
   ]
  }
 ],
 "metadata": {
  "kernelspec": {
   "display_name": ".venv",
   "language": "python",
   "name": "python3"
  },
  "language_info": {
   "codemirror_mode": {
    "name": "ipython",
    "version": 3
   },
   "file_extension": ".py",
   "mimetype": "text/x-python",
   "name": "python",
   "nbconvert_exporter": "python",
   "pygments_lexer": "ipython3",
   "version": "3.12.3"
  }
 },
 "nbformat": 4,
 "nbformat_minor": 5
}
