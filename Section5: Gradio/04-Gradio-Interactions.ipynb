{
 "cells": [
  {
   "cell_type": "markdown",
   "id": "1a1e878f",
   "metadata": {},
   "source": [
    "## Interactions\n",
    "\n",
    "Gradio events can be used to trigger actions based on changes in the interface, such as when a button is pressed or an input value changes."
   ]
  },
  {
   "cell_type": "code",
   "execution_count": 7,
   "id": "fe5c0c10",
   "metadata": {},
   "outputs": [],
   "source": [
    "import gradio as gr\n",
    "import numpy as np"
   ]
  },
  {
   "cell_type": "markdown",
   "id": "79ca001a",
   "metadata": {},
   "source": [
    "Let's create a function which calculates the product between two values as soon as the second value changes. To this end we can use the **change** event listener of the input component to bind the multiply function to the second slider.\n",
    "Whenever the value of the second slider changes,  `multiply` is triggered, updating the result.\n",
    "\n",
    "`change` can be used in the same way as **gr.Interface**, thus it accepts\n",
    "- a function fn\n",
    "- inputs\n",
    "- outputs\n"
   ]
  },
  {
   "cell_type": "code",
   "execution_count": 4,
   "id": "a92f2bbb",
   "metadata": {},
   "outputs": [
    {
     "name": "stdout",
     "output_type": "stream",
     "text": [
      "* Running on local URL:  http://127.0.0.1:7861\n",
      "* To create a public link, set `share=True` in `launch()`.\n"
     ]
    },
    {
     "data": {
      "text/html": [
       "<div><iframe src=\"http://127.0.0.1:7861/\" width=\"100%\" height=\"500\" allow=\"autoplay; camera; microphone; clipboard-read; clipboard-write;\" frameborder=\"0\" allowfullscreen></iframe></div>"
      ],
      "text/plain": [
       "<IPython.core.display.HTML object>"
      ]
     },
     "metadata": {},
     "output_type": "display_data"
    },
    {
     "data": {
      "text/plain": []
     },
     "execution_count": 4,
     "metadata": {},
     "output_type": "execute_result"
    }
   ],
   "source": [
    "def multiply(x,y):\n",
    "    return x*y\n",
    "\n",
    "with gr.Blocks() as app:\n",
    "    with gr.Row():\n",
    "        result = gr.Text(label=\"Result\")\n",
    "    with gr.Row():\n",
    "        x_input = gr.Slider(label=\"X value\")\n",
    "        y_input = gr.Slider(label=\"Y value\")\n",
    "    \n",
    "    x_input.change(fn=multiply, inputs=[x_input, y_input], outputs=result)\n",
    "app.launch()"
   ]
  },
  {
   "cell_type": "markdown",
   "id": "4ba7537c",
   "metadata": {},
   "source": [
    "Instead of using the event listener we can also create a submit button to which we append the **click** function which accepts the same arguments as `interface` or `change`."
   ]
  },
  {
   "cell_type": "code",
   "execution_count": 6,
   "id": "17c583cd",
   "metadata": {},
   "outputs": [
    {
     "name": "stdout",
     "output_type": "stream",
     "text": [
      "* Running on local URL:  http://127.0.0.1:7862\n",
      "* To create a public link, set `share=True` in `launch()`.\n"
     ]
    },
    {
     "data": {
      "text/html": [
       "<div><iframe src=\"http://127.0.0.1:7862/\" width=\"100%\" height=\"500\" allow=\"autoplay; camera; microphone; clipboard-read; clipboard-write;\" frameborder=\"0\" allowfullscreen></iframe></div>"
      ],
      "text/plain": [
       "<IPython.core.display.HTML object>"
      ]
     },
     "metadata": {},
     "output_type": "display_data"
    },
    {
     "data": {
      "text/plain": []
     },
     "execution_count": 6,
     "metadata": {},
     "output_type": "execute_result"
    }
   ],
   "source": [
    "def multiply(x,y):\n",
    "    return x*y\n",
    "\n",
    "with gr.Blocks() as app:\n",
    "    with gr.Row():\n",
    "        result = gr.Text(label=\"Result\")\n",
    "    with gr.Row():\n",
    "        x_input = gr.Slider(label=\"X value\")\n",
    "        y_input = gr.Slider(label=\"Y value\")\n",
    "    with gr.Row():\n",
    "        btn = gr.Button(\"Multiply\")\n",
    "        \n",
    "    btn.click(fn=multiply, inputs=[x_input, y_input], outputs=result)\n",
    "app.launch()"
   ]
  },
  {
   "cell_type": "markdown",
   "id": "753c43fe",
   "metadata": {},
   "source": [
    "Let's look at another example:"
   ]
  },
  {
   "cell_type": "markdown",
   "id": "134618a5",
   "metadata": {},
   "source": [
    "*   **Setting Up Interactivity**:\n",
    "    \n",
    "    *   `inp.change(to_grayscale, inputs=inp, outputs=[out, log])` sets up an event listener on the input image component (`inp`). Whenever the input image changes (i.e., when a user uploads a new image), the `process_image` function is triggered, updating both the output image and the log textbox.\n",
    "     \n",
    "This example also demonstrates how to use multiple in&outputs"
   ]
  },
  {
   "cell_type": "code",
   "execution_count": 9,
   "id": "8adae475",
   "metadata": {},
   "outputs": [
    {
     "name": "stdout",
     "output_type": "stream",
     "text": [
      "* Running on local URL:  http://127.0.0.1:7864\n",
      "* To create a public link, set `share=True` in `launch()`.\n"
     ]
    },
    {
     "data": {
      "text/html": [
       "<div><iframe src=\"http://127.0.0.1:7864/\" width=\"100%\" height=\"500\" allow=\"autoplay; camera; microphone; clipboard-read; clipboard-write;\" frameborder=\"0\" allowfullscreen></iframe></div>"
      ],
      "text/plain": [
       "<IPython.core.display.HTML object>"
      ]
     },
     "metadata": {},
     "output_type": "display_data"
    },
    {
     "data": {
      "text/plain": []
     },
     "execution_count": 9,
     "metadata": {},
     "output_type": "execute_result"
    }
   ],
   "source": [
    "def process_image(input_image):\n",
    "    grayscale = np.mean(input_image, axis=2, keepdims=True)\n",
    "    grayscale = np.tile(grayscale, (1,1,3))\n",
    "    return grayscale.astype(np.uint8), \"Converted to Grayscale\"\n",
    "\n",
    "with gr.Blocks() as app:\n",
    "    with gr.Row():\n",
    "        in_image = gr.Image(type=\"numpy\")\n",
    "        out_image = gr.Image()\n",
    "    with gr.Row():\n",
    "        log = gr.Text()\n",
    "    in_image.change(fn=process_image, inputs=in_image, outputs=[out_image, log])\n",
    "\n",
    "app.launch()"
   ]
  },
  {
   "cell_type": "markdown",
   "id": "b3ba6900",
   "metadata": {},
   "source": [
    "## Multiple functions\n",
    "It's straightforward to add more functionality to your program!\n",
    "Simply create additional components (e.g buttons) and link the corresponding function to it"
   ]
  },
  {
   "cell_type": "code",
   "execution_count": 11,
   "id": "4818ab55",
   "metadata": {},
   "outputs": [
    {
     "name": "stdout",
     "output_type": "stream",
     "text": [
      "* Running on local URL:  http://127.0.0.1:7866\n",
      "* To create a public link, set `share=True` in `launch()`.\n"
     ]
    },
    {
     "data": {
      "text/html": [
       "<div><iframe src=\"http://127.0.0.1:7866/\" width=\"100%\" height=\"500\" allow=\"autoplay; camera; microphone; clipboard-read; clipboard-write;\" frameborder=\"0\" allowfullscreen></iframe></div>"
      ],
      "text/plain": [
       "<IPython.core.display.HTML object>"
      ]
     },
     "metadata": {},
     "output_type": "display_data"
    },
    {
     "data": {
      "text/plain": []
     },
     "execution_count": 11,
     "metadata": {},
     "output_type": "execute_result"
    }
   ],
   "source": [
    "def addition(x,y):\n",
    "    return x+y\n",
    "\n",
    "def multiply(x,y):\n",
    "    return x*y\n",
    "\n",
    "with gr.Blocks() as app:\n",
    "    with gr.Row():\n",
    "        x_input = gr.Slider(label=\"X value\")\n",
    "        y_input = gr.Slider(label=\"Y value\")\n",
    "    with gr.Row():\n",
    "        result = gr.Text()\n",
    "    with gr.Row():\n",
    "        add_btn = gr.Button(\"Add\")\n",
    "        mul_btn = gr.Button(\"Multiply\")\n",
    "    add_btn.click(fn=addition, inputs=[x_input, y_input], outputs=result)\n",
    "    mul_btn.click(fn=multiply, inputs=[x_input, y_input], outputs=result)\n",
    "\n",
    "app.launch()    "
   ]
  },
  {
   "cell_type": "markdown",
   "id": "185e99eb",
   "metadata": {},
   "source": [
    "You can of course also create more python programs. The only requirement is that you link one function to the button. However, you are free to call multiply other functions and even create multiple classes within this function"
   ]
  },
  {
   "cell_type": "code",
   "execution_count": 12,
   "id": "c07ae444",
   "metadata": {},
   "outputs": [],
   "source": [
    "def result_string(sq, sqrt):\n",
    "    return f\"Square of the input: {sq},\\n Square root: {sqrt}\\n\"\n",
    "\n",
    "def square(input_value):\n",
    "   return input_value**2\n",
    "\n",
    "def square_root(input_value):\n",
    "    return input_value**0.5\n",
    "    \n",
    "def main(input_value):\n",
    "    input_value_squared = square(input_value)\n",
    "    input_value_root = square_root(input_value)\n",
    "    return result_string(input_value_squared, input_value_root)"
   ]
  },
  {
   "cell_type": "code",
   "execution_count": 13,
   "id": "51d9bc0e",
   "metadata": {},
   "outputs": [
    {
     "name": "stdout",
     "output_type": "stream",
     "text": [
      "* Running on local URL:  http://127.0.0.1:7867\n",
      "* To create a public link, set `share=True` in `launch()`.\n"
     ]
    },
    {
     "data": {
      "text/html": [
       "<div><iframe src=\"http://127.0.0.1:7867/\" width=\"100%\" height=\"500\" allow=\"autoplay; camera; microphone; clipboard-read; clipboard-write;\" frameborder=\"0\" allowfullscreen></iframe></div>"
      ],
      "text/plain": [
       "<IPython.core.display.HTML object>"
      ]
     },
     "metadata": {},
     "output_type": "display_data"
    },
    {
     "data": {
      "text/plain": []
     },
     "execution_count": 13,
     "metadata": {},
     "output_type": "execute_result"
    }
   ],
   "source": [
    "with gr.Blocks() as app:\n",
    "    with gr.Row():\n",
    "        input_value = gr.Slider(minimum=0,maximum=100,label=\"Input Value\")\n",
    "    with gr.Row():\n",
    "        calculated_value = gr.Text(label=\"Calculated Values\")\n",
    "    with gr.Row():\n",
    "        compute = gr.Button(\"Calculate\")\n",
    "    compute.click(fn=main, inputs=[input_value], outputs=[calculated_value])\n",
    "\n",
    "app.launch()"
   ]
  },
  {
   "cell_type": "markdown",
   "id": "c641a345",
   "metadata": {},
   "source": [
    "## OOP\n",
    "Of course, you can also use OOP!"
   ]
  },
  {
   "cell_type": "code",
   "execution_count": null,
   "id": "d59e9fb9",
   "metadata": {},
   "outputs": [],
   "source": [
    "class Calculate:\n",
    "    def __init__(self):\n",
    "        print(\"Object instantiated!\")\n",
    "    # Note: Do not forget to pass self as a first arg to the methods of any class.\n",
    "    def addition(self,x,y):\n",
    "        print(\"hi\")\n",
    "        return x+y\n",
    "    def multiply(self,x,y):\n",
    "        return x*y"
   ]
  },
  {
   "cell_type": "code",
   "execution_count": 28,
   "id": "058e91a6",
   "metadata": {},
   "outputs": [
    {
     "name": "stdout",
     "output_type": "stream",
     "text": [
      "Object instantiated!\n"
     ]
    }
   ],
   "source": [
    "obj = Calculate()"
   ]
  },
  {
   "cell_type": "code",
   "execution_count": null,
   "id": "86ab4a05",
   "metadata": {},
   "outputs": [
    {
     "name": "stdout",
     "output_type": "stream",
     "text": [
      "* Running on local URL:  http://127.0.0.1:7873\n",
      "* To create a public link, set `share=True` in `launch()`.\n"
     ]
    },
    {
     "data": {
      "text/html": [
       "<div><iframe src=\"http://127.0.0.1:7873/\" width=\"100%\" height=\"500\" allow=\"autoplay; camera; microphone; clipboard-read; clipboard-write;\" frameborder=\"0\" allowfullscreen></iframe></div>"
      ],
      "text/plain": [
       "<IPython.core.display.HTML object>"
      ]
     },
     "metadata": {},
     "output_type": "display_data"
    },
    {
     "data": {
      "text/plain": []
     },
     "execution_count": 29,
     "metadata": {},
     "output_type": "execute_result"
    },
    {
     "name": "stdout",
     "output_type": "stream",
     "text": [
      "hi\n"
     ]
    }
   ],
   "source": [
    "with gr.Blocks() as app:\n",
    "    with gr.Row():\n",
    "        x_input = gr.Slider(minimum=0, maximum=100)\n",
    "        y_input = gr.Slider(minimum=0, maximum=100)\n",
    "    with gr.Row():\n",
    "        add_result = gr.Text(label=\"Addition\")\n",
    "        mul_result = gr.Text(label=\"Multiplication\")\n",
    "    with gr.Row():\n",
    "        add_btn = gr.Button(\"Add\")\n",
    "        mul_btn = gr.Button(\"Multiply\")\n",
    "    add_btn.click(fn=obj.addition, inputs=[x_input, y_input], outputs=[add_result])\n",
    "    mul_btn.click(fn=obj.multiply, inputs=[x_input, y_input], outputs=[mul_result])\n",
    "\n",
    "app.launch()"
   ]
  },
  {
   "cell_type": "code",
   "execution_count": null,
   "id": "3719cfbd",
   "metadata": {},
   "outputs": [],
   "source": []
  }
 ],
 "metadata": {
  "kernelspec": {
   "display_name": ".venv",
   "language": "python",
   "name": "python3"
  },
  "language_info": {
   "codemirror_mode": {
    "name": "ipython",
    "version": 3
   },
   "file_extension": ".py",
   "mimetype": "text/x-python",
   "name": "python",
   "nbconvert_exporter": "python",
   "pygments_lexer": "ipython3",
   "version": "3.12.3"
  }
 },
 "nbformat": 4,
 "nbformat_minor": 5
}
