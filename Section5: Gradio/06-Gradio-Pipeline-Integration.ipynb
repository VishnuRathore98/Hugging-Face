{
 "cells": [
  {
   "cell_type": "markdown",
   "id": "27f40058",
   "metadata": {},
   "source": [
    "# Using Hugging Face Models with Gradio\n",
    "\n",
    "In this , we'll see how to use a Hugging Face model for sentiment analysis. We will use the `distilbert-base-uncased-finetuned-sst-2-english` model, which is a DistilBERT model fine-tuned for sentiment analysis on a dataset of movie reviews.\n",
    "\n",
    "There are two possibilities to achieve this goal:\n",
    "1) Run the model locally\n",
    "2) Use gradio.load(\"modelname\") to use the hugging face ecosystem to perform the inference and send the result back to us"
   ]
  },
  {
   "cell_type": "code",
   "execution_count": 2,
   "id": "75f8f2e6",
   "metadata": {},
   "outputs": [],
   "source": [
    "from transformers import pipeline\n",
    "import gradio as gr"
   ]
  },
  {
   "cell_type": "code",
   "execution_count": 3,
   "id": "c76e82d3",
   "metadata": {},
   "outputs": [
    {
     "name": "stderr",
     "output_type": "stream",
     "text": [
      "No model was supplied, defaulted to distilbert/distilbert-base-uncased-finetuned-sst-2-english and revision 714eb0f (https://huggingface.co/distilbert/distilbert-base-uncased-finetuned-sst-2-english).\n",
      "Using a pipeline without specifying a model name and revision in production is not recommended.\n",
      "Device set to use cuda:0\n"
     ]
    }
   ],
   "source": [
    "sentiment_analysis = pipeline(\"sentiment-analysis\")"
   ]
  },
  {
   "cell_type": "code",
   "execution_count": 7,
   "id": "baea0ee5",
   "metadata": {},
   "outputs": [],
   "source": [
    "def predict_sentiment(text):\n",
    "    prediction = sentiment_analysis(text)\n",
    "    return prediction[0]['label'], prediction[0]['score']"
   ]
  },
  {
   "cell_type": "code",
   "execution_count": 8,
   "id": "08025adb",
   "metadata": {},
   "outputs": [
    {
     "name": "stdout",
     "output_type": "stream",
     "text": [
      "* Running on local URL:  http://127.0.0.1:7860\n",
      "* To create a public link, set `share=True` in `launch()`.\n"
     ]
    },
    {
     "data": {
      "text/html": [
       "<div><iframe src=\"http://127.0.0.1:7860/\" width=\"100%\" height=\"500\" allow=\"autoplay; camera; microphone; clipboard-read; clipboard-write;\" frameborder=\"0\" allowfullscreen></iframe></div>"
      ],
      "text/plain": [
       "<IPython.core.display.HTML object>"
      ]
     },
     "metadata": {},
     "output_type": "display_data"
    },
    {
     "data": {
      "text/plain": []
     },
     "execution_count": 8,
     "metadata": {},
     "output_type": "execute_result"
    }
   ],
   "source": [
    "iface = gr.Interface(fn=predict_sentiment,\n",
    "                    inputs=[gr.Textbox(label=\"Sentence\", placeholder=\"Enter sentence to analyse\")],\n",
    "                    outputs=[gr.Label(label=\"Sentiment\"), gr.Text(label=\"Score\")],\n",
    "                    title=\"Sentiment Analysis\",\n",
    "                    description=\"Emter Sentence to analyse it's sentiment.\"\n",
    "                    )\n",
    "iface.launch()"
   ]
  },
  {
   "cell_type": "markdown",
   "id": "ffebe629",
   "metadata": {},
   "source": [
    "### Inference on hugging face"
   ]
  },
  {
   "cell_type": "code",
   "execution_count": 10,
   "id": "a998e008",
   "metadata": {},
   "outputs": [
    {
     "name": "stdout",
     "output_type": "stream",
     "text": [
      "Fetching model from: https://huggingface.co/distilbert/distilbert-base-uncased-finetuned-sst-2-english\n",
      "* Running on local URL:  http://127.0.0.1:7862\n",
      "* To create a public link, set `share=True` in `launch()`.\n"
     ]
    },
    {
     "data": {
      "text/html": [
       "<div><iframe src=\"http://127.0.0.1:7862/\" width=\"100%\" height=\"500\" allow=\"autoplay; camera; microphone; clipboard-read; clipboard-write;\" frameborder=\"0\" allowfullscreen></iframe></div>"
      ],
      "text/plain": [
       "<IPython.core.display.HTML object>"
      ]
     },
     "metadata": {},
     "output_type": "display_data"
    },
    {
     "data": {
      "text/plain": []
     },
     "execution_count": 10,
     "metadata": {},
     "output_type": "execute_result"
    }
   ],
   "source": [
    "# Access the model within the hugging face ecosystem\n",
    "app = gr.load(\"distilbert/distilbert-base-uncased-finetuned-sst-2-english\", src=\"models\")\n",
    "app.launch()"
   ]
  },
  {
   "cell_type": "code",
   "execution_count": null,
   "id": "fdaa39e5",
   "metadata": {},
   "outputs": [],
   "source": []
  }
 ],
 "metadata": {
  "kernelspec": {
   "display_name": ".venv",
   "language": "python",
   "name": "python3"
  },
  "language_info": {
   "codemirror_mode": {
    "name": "ipython",
    "version": 3
   },
   "file_extension": ".py",
   "mimetype": "text/x-python",
   "name": "python",
   "nbconvert_exporter": "python",
   "pygments_lexer": "ipython3",
   "version": "3.12.3"
  }
 },
 "nbformat": 4,
 "nbformat_minor": 5
}
