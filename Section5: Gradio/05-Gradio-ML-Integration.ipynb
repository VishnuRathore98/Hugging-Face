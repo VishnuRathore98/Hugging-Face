{
 "cells": [
  {
   "cell_type": "markdown",
   "id": "fa8ee08e",
   "metadata": {},
   "source": [
    "# Integrating Machine Learning Models\n",
    "\n",
    "## Model Integration\n",
    "\n",
    "To demonstrate how to integrate a machine learning model with Gradio, we'll use a pre-trained model using hugging face's *pipeline*. Specifically, we'll use the ResNet18 model, which is commonly used for image classification tasks. Here's how to set up and use this model with Gradio:\n",
    "\n",
    "### Setting Up the Model\n",
    "\n",
    "First, import the necessary libraries and load the pre-trained model:"
   ]
  },
  {
   "cell_type": "code",
   "execution_count": 2,
   "id": "f593bf3f",
   "metadata": {},
   "outputs": [],
   "source": [
    "# Load model directly\n",
    "from transformers import AutoImageProcessor, AutoModelForImageClassification\n",
    "\n",
    "processor = AutoImageProcessor.from_pretrained(\"microsoft/resnet-50\")\n",
    "model = AutoModelForImageClassification.from_pretrained(\"microsoft/resnet-50\")"
   ]
  },
  {
   "cell_type": "code",
   "execution_count": 7,
   "id": "81d1ebe3",
   "metadata": {},
   "outputs": [],
   "source": [
    "def classify_image(image = \"https://en.wikipedia.org/wiki/Puppy#/media/File:Golde33443.jpg\"):\n",
    "    if type(image) == None:\n",
    "        return\n",
    "    # Apply the transformation to the image\n",
    "    processed_image = processor(image, return_tensors=\"pt\")[\"pixel_values\"]\n",
    "    # Predict the class with highest probability\n",
    "    prediction = model(processed_image).logits\n",
    "    # Convert the class index to label\n",
    "    label = model.config.id2label[prediction.argmax().item()]\n",
    "    return label"
   ]
  },
  {
   "cell_type": "code",
   "execution_count": 9,
   "id": "d7bea014",
   "metadata": {},
   "outputs": [
    {
     "name": "stdout",
     "output_type": "stream",
     "text": [
      "* Running on local URL:  http://127.0.0.1:7863\n",
      "* To create a public link, set `share=True` in `launch()`.\n"
     ]
    },
    {
     "data": {
      "text/html": [
       "<div><iframe src=\"http://127.0.0.1:7863/\" width=\"100%\" height=\"500\" allow=\"autoplay; camera; microphone; clipboard-read; clipboard-write;\" frameborder=\"0\" allowfullscreen></iframe></div>"
      ],
      "text/plain": [
       "<IPython.core.display.HTML object>"
      ]
     },
     "metadata": {},
     "output_type": "display_data"
    },
    {
     "data": {
      "text/plain": []
     },
     "execution_count": 9,
     "metadata": {},
     "output_type": "execute_result"
    }
   ],
   "source": [
    "import gradio as gr\n",
    "\n",
    "iface = gr.Interface(\n",
    "    fn=classify_image,\n",
    "    inputs=gr.Image(), \n",
    "    outputs=gr.Label(),\n",
    "    title=\"RES NET Image classifier\",\n",
    "    description=\"Upload an Image to classify it to one of the 1000 classes of COCO2017 dataset.\",\n",
    "    live=True)\n",
    "\n",
    "iface.launch()"
   ]
  },
  {
   "cell_type": "markdown",
   "id": "b66abfd3",
   "metadata": {},
   "source": [
    "We have just built an easy shareable image classification model!\n",
    "\n",
    "Image sources:\n",
    "- https://en.wikipedia.org/wiki/Puppy#/media/File:Golde33443.jpg\n",
    "- https://en.wikipedia.org/wiki/Cat#/media/File:Cat_August_2010-4.jpg"
   ]
  }
 ],
 "metadata": {
  "kernelspec": {
   "display_name": ".venv",
   "language": "python",
   "name": "python3"
  },
  "language_info": {
   "codemirror_mode": {
    "name": "ipython",
    "version": 3
   },
   "file_extension": ".py",
   "mimetype": "text/x-python",
   "name": "python",
   "nbconvert_exporter": "python",
   "pygments_lexer": "ipython3",
   "version": "3.12.3"
  }
 },
 "nbformat": 4,
 "nbformat_minor": 5
}
