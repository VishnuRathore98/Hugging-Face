{
 "cells": [
  {
   "cell_type": "markdown",
   "id": "651ba877",
   "metadata": {},
   "source": [
    "## Interface Layout\n",
    "\n",
    "Gradio allows us to organize the layout of our interface components to better suit the needs of our application. We can arrange inputs and outputs side by side, in grids, or in sequence, depending on our requirements. \n",
    "\n",
    "gradio provides the following layout blocks:\n",
    "- [Row](https://www.gradio.app/docs/gradio/row)\n",
    "- [Column](https://www.gradio.app/docs/gradio/column)\n",
    "- [Tab](https://www.gradio.app/docs/gradio/tab)\n",
    "- [Group](https://www.gradio.app/docs/gradio/group)\n",
    "- [Accordion](https://www.gradio.app/docs/gradio/accordion)\n",
    "\n",
    "\n",
    "**Setting Up the Interface**:\n",
    "*   **`gr.Blocks()`**: initializes a block layout.\n",
    "*   **`gr.Row()`**: organizes the widgets in a row.\n",
    "*   **`gr.Column()`**: organizes the widgets in a column.\n",
    "*   **`gr.Tab()`**: create multiple tabs.\n",
    "*   **`gr.Accordion()`**: enables to show/hide content.\n",
    "*   **`gr.Group()`**: removes all space(paddings, margins) between elements."
   ]
  },
  {
   "cell_type": "code",
   "execution_count": 1,
   "id": "f750b5d4",
   "metadata": {},
   "outputs": [
    {
     "name": "stderr",
     "output_type": "stream",
     "text": [
      "/home/vpsr/Desktop/python/Hugging Face/.venv/lib/python3.12/site-packages/tqdm/auto.py:21: TqdmWarning: IProgress not found. Please update jupyter and ipywidgets. See https://ipywidgets.readthedocs.io/en/stable/user_install.html\n",
      "  from .autonotebook import tqdm as notebook_tqdm\n"
     ]
    }
   ],
   "source": [
    "import gradio as gr"
   ]
  },
  {
   "cell_type": "markdown",
   "id": "248d9889",
   "metadata": {},
   "source": [
    "**`gr.Row()`**: Place two Text components next to each other"
   ]
  },
  {
   "cell_type": "code",
   "execution_count": 3,
   "id": "e6de7169",
   "metadata": {},
   "outputs": [
    {
     "name": "stdout",
     "output_type": "stream",
     "text": [
      "* Running on local URL:  http://127.0.0.1:7860\n",
      "* To create a public link, set `share=True` in `launch()`.\n"
     ]
    },
    {
     "data": {
      "text/html": [
       "<div><iframe src=\"http://127.0.0.1:7860/\" width=\"100%\" height=\"500\" allow=\"autoplay; camera; microphone; clipboard-read; clipboard-write;\" frameborder=\"0\" allowfullscreen></iframe></div>"
      ],
      "text/plain": [
       "<IPython.core.display.HTML object>"
      ]
     },
     "metadata": {},
     "output_type": "display_data"
    },
    {
     "data": {
      "text/plain": []
     },
     "execution_count": 3,
     "metadata": {},
     "output_type": "execute_result"
    }
   ],
   "source": [
    "with gr.Blocks() as app:\n",
    "    with gr.Row():\n",
    "        gr.TextArea(placeholder=\"Enter first name\", label=\"First name\")\n",
    "        gr.TextArea(placeholder=\"Enter last name\", label=\"Last name\")\n",
    "app.launch()"
   ]
  },
  {
   "cell_type": "markdown",
   "id": "dd91fa42",
   "metadata": {},
   "source": [
    "**`gr.Column()`**: Use the column block to place components below each other. \n",
    "\n",
    "Each `gr.Column()` create a new column in your application\n",
    "\n",
    "If you wish, you can provde the scale factor as an argument to **gr.Column()**"
   ]
  },
  {
   "cell_type": "code",
   "execution_count": 9,
   "id": "7e7f4349",
   "metadata": {},
   "outputs": [
    {
     "name": "stdout",
     "output_type": "stream",
     "text": [
      "* Running on local URL:  http://127.0.0.1:7864\n",
      "* To create a public link, set `share=True` in `launch()`.\n"
     ]
    },
    {
     "data": {
      "text/html": [
       "<div><iframe src=\"http://127.0.0.1:7864/\" width=\"100%\" height=\"500\" allow=\"autoplay; camera; microphone; clipboard-read; clipboard-write;\" frameborder=\"0\" allowfullscreen></iframe></div>"
      ],
      "text/plain": [
       "<IPython.core.display.HTML object>"
      ]
     },
     "metadata": {},
     "output_type": "display_data"
    },
    {
     "data": {
      "text/plain": []
     },
     "execution_count": 9,
     "metadata": {},
     "output_type": "execute_result"
    }
   ],
   "source": [
    "with gr.Blocks() as app:\n",
    "    with gr.Column():\n",
    "        gr.Markdown(\"Start typing below and click Run\")\n",
    "        gr.Text()\n",
    "        gr.Button()\n",
    "\n",
    "app.launch()"
   ]
  },
  {
   "cell_type": "markdown",
   "id": "37133203",
   "metadata": {},
   "source": [
    "**`gr.Tab()`**: Let's create two tabs with different content"
   ]
  },
  {
   "cell_type": "code",
   "execution_count": 10,
   "id": "8d67d9ab",
   "metadata": {},
   "outputs": [
    {
     "name": "stdout",
     "output_type": "stream",
     "text": [
      "* Running on local URL:  http://127.0.0.1:7865\n",
      "* To create a public link, set `share=True` in `launch()`.\n"
     ]
    },
    {
     "data": {
      "text/html": [
       "<div><iframe src=\"http://127.0.0.1:7865/\" width=\"100%\" height=\"500\" allow=\"autoplay; camera; microphone; clipboard-read; clipboard-write;\" frameborder=\"0\" allowfullscreen></iframe></div>"
      ],
      "text/plain": [
       "<IPython.core.display.HTML object>"
      ]
     },
     "metadata": {},
     "output_type": "display_data"
    },
    {
     "data": {
      "text/plain": []
     },
     "execution_count": 10,
     "metadata": {},
     "output_type": "execute_result"
    }
   ],
   "source": [
    "with gr.Blocks() as app:\n",
    "    with gr.Tab(label=\"Tab 1\"):\n",
    "        with gr.Column():\n",
    "            gr.Markdown(\"Start typing below and click Run\")\n",
    "            gr.Text()\n",
    "            gr.Button()\n",
    "    with gr.Tab(label=\"Tab 2\"):\n",
    "        with gr.Row():\n",
    "            gr.Image(type=\"filepath\")\n",
    "            gr.Label()\n",
    "app.launch()"
   ]
  },
  {
   "cell_type": "markdown",
   "id": "59afc65b",
   "metadata": {},
   "source": [
    "**`gr.Accordion()`** allows us to show and hide content. This is especially useful when we use large components."
   ]
  },
  {
   "cell_type": "code",
   "execution_count": 13,
   "id": "68ec446d",
   "metadata": {},
   "outputs": [
    {
     "name": "stdout",
     "output_type": "stream",
     "text": [
      "* Running on local URL:  http://127.0.0.1:7868\n",
      "* To create a public link, set `share=True` in `launch()`.\n"
     ]
    },
    {
     "data": {
      "text/html": [
       "<div><iframe src=\"http://127.0.0.1:7868/\" width=\"100%\" height=\"500\" allow=\"autoplay; camera; microphone; clipboard-read; clipboard-write;\" frameborder=\"0\" allowfullscreen></iframe></div>"
      ],
      "text/plain": [
       "<IPython.core.display.HTML object>"
      ]
     },
     "metadata": {},
     "output_type": "display_data"
    },
    {
     "data": {
      "text/plain": []
     },
     "execution_count": 13,
     "metadata": {},
     "output_type": "execute_result"
    }
   ],
   "source": [
    "with gr.Blocks() as app:\n",
    "    with gr.Accordion(label=\"Click to expand\", open=False):\n",
    "        gr.Markdown(\"Element 1\")\n",
    "        gr.Markdown(\"Element 2\")\n",
    "        gr.Markdown(\"Element 3\")\n",
    "        gr.Markdown(\"Element 4\")\n",
    "        gr.Markdown(\"Element 5\")\n",
    "        \n",
    "app.launch()"
   ]
  },
  {
   "cell_type": "markdown",
   "id": "4dd9c418",
   "metadata": {},
   "source": [
    "**`gr.Group()`** removes all padding / margin between the components. We can see that the buttons are located below each other with no space between them whereas the Image is placed further away."
   ]
  },
  {
   "cell_type": "code",
   "execution_count": 14,
   "id": "4d4a8e5e",
   "metadata": {},
   "outputs": [
    {
     "name": "stdout",
     "output_type": "stream",
     "text": [
      "* Running on local URL:  http://127.0.0.1:7869\n",
      "* To create a public link, set `share=True` in `launch()`.\n"
     ]
    },
    {
     "data": {
      "text/html": [
       "<div><iframe src=\"http://127.0.0.1:7869/\" width=\"100%\" height=\"500\" allow=\"autoplay; camera; microphone; clipboard-read; clipboard-write;\" frameborder=\"0\" allowfullscreen></iframe></div>"
      ],
      "text/plain": [
       "<IPython.core.display.HTML object>"
      ]
     },
     "metadata": {},
     "output_type": "display_data"
    },
    {
     "data": {
      "text/plain": []
     },
     "execution_count": 14,
     "metadata": {},
     "output_type": "execute_result"
    }
   ],
   "source": [
    "with gr.Blocks() as app:\n",
    "    \n",
    "    with gr.Group():\n",
    "        gr.Markdown(\"Start typing below and click Run\")\n",
    "        gr.Text()\n",
    "        gr.Button()\n",
    "\n",
    "    with gr.Group():\n",
    "        gr.Image(type=\"filepath\")\n",
    "        gr.Label()\n",
    "app.launch()"
   ]
  },
  {
   "cell_type": "markdown",
   "id": "1b53574a",
   "metadata": {},
   "source": [
    "### Dimensions\n",
    "To manually adjust the width and height of your components by either using the corresponding arguments or directly pass the css code. Keep in mind that we need to pass a string and unit (e.g \"150px\").\n",
    "\n",
    "Note, that not all components include these arguments yet. E.g for a button you can only specify the **min_width** argument."
   ]
  },
  {
   "cell_type": "code",
   "execution_count": 18,
   "id": "82827a2e",
   "metadata": {},
   "outputs": [
    {
     "name": "stdout",
     "output_type": "stream",
     "text": [
      "* Running on local URL:  http://127.0.0.1:7873\n",
      "* To create a public link, set `share=True` in `launch()`.\n"
     ]
    },
    {
     "data": {
      "text/html": [
       "<div><iframe src=\"http://127.0.0.1:7873/\" width=\"100%\" height=\"500\" allow=\"autoplay; camera; microphone; clipboard-read; clipboard-write;\" frameborder=\"0\" allowfullscreen></iframe></div>"
      ],
      "text/plain": [
       "<IPython.core.display.HTML object>"
      ]
     },
     "metadata": {},
     "output_type": "display_data"
    },
    {
     "data": {
      "text/plain": []
     },
     "execution_count": 18,
     "metadata": {},
     "output_type": "execute_result"
    }
   ],
   "source": [
    "with gr.Blocks() as app:\n",
    "\n",
    "    gr.Image(type=\"filepath\", height=200, width=400)\n",
    "    gr.Label()\n",
    "\n",
    "app.launch()"
   ]
  },
  {
   "cell_type": "code",
   "execution_count": 31,
   "id": "dce4deda",
   "metadata": {},
   "outputs": [],
   "source": [
    "my_css = \"\"\"\n",
    ".dimensions{\n",
    "    height:1400px;\n",
    "    width:40px;\n",
    "}\n",
    "\"\"\""
   ]
  },
  {
   "cell_type": "code",
   "execution_count": 32,
   "id": "8a38dafd",
   "metadata": {},
   "outputs": [
    {
     "name": "stdout",
     "output_type": "stream",
     "text": [
      "* Running on local URL:  http://127.0.0.1:7880\n",
      "* To create a public link, set `share=True` in `launch()`.\n"
     ]
    },
    {
     "data": {
      "text/html": [
       "<div><iframe src=\"http://127.0.0.1:7880/\" width=\"100%\" height=\"500\" allow=\"autoplay; camera; microphone; clipboard-read; clipboard-write;\" frameborder=\"0\" allowfullscreen></iframe></div>"
      ],
      "text/plain": [
       "<IPython.core.display.HTML object>"
      ]
     },
     "metadata": {},
     "output_type": "display_data"
    },
    {
     "data": {
      "text/plain": []
     },
     "execution_count": 32,
     "metadata": {},
     "output_type": "execute_result"
    }
   ],
   "source": [
    "with gr.Blocks(css=my_css) as app:\n",
    "    with gr.Group():\n",
    "        gr.Image(type=\"filepath\")\n",
    "        gr.Label()\n",
    "app.launch()"
   ]
  },
  {
   "cell_type": "markdown",
   "metadata": {},
   "source": [
    "### Nesting\n",
    "Of course we can combine the above statements to create more complex nested applications"
   ]
  },
  {
   "cell_type": "code",
   "execution_count": 33,
   "id": "5b28042f",
   "metadata": {},
   "outputs": [],
   "source": [
    "new_css = \"\"\"\n",
    ".container {\n",
    "    height: 200px;\n",
    "    width: 600px\n",
    "}\n",
    "\"\"\""
   ]
  },
  {
   "cell_type": "code",
   "execution_count": 35,
   "id": "ac725652",
   "metadata": {},
   "outputs": [
    {
     "name": "stdout",
     "output_type": "stream",
     "text": [
      "* Running on local URL:  http://127.0.0.1:7882\n",
      "* To create a public link, set `share=True` in `launch()`.\n"
     ]
    },
    {
     "data": {
      "text/html": [
       "<div><iframe src=\"http://127.0.0.1:7882/\" width=\"100%\" height=\"500\" allow=\"autoplay; camera; microphone; clipboard-read; clipboard-write;\" frameborder=\"0\" allowfullscreen></iframe></div>"
      ],
      "text/plain": [
       "<IPython.core.display.HTML object>"
      ]
     },
     "metadata": {},
     "output_type": "display_data"
    },
    {
     "data": {
      "text/plain": []
     },
     "execution_count": 35,
     "metadata": {},
     "output_type": "execute_result"
    }
   ],
   "source": [
    "with gr.Blocks(css=new_css) as demo:\n",
    "    with gr.Row():\n",
    "        text1 = gr.Text(label=\"Text 1\")\n",
    "        text2 = gr.Text(label=\"Text 2\")\n",
    "        image1 = gr.Image(label = \"Image1\")\n",
    "    with gr.Row():\n",
    "        with gr.Column():\n",
    "            label1 = gr.Label(label=\"These labels are\")\n",
    "            label2 = gr.Label(label=\"below each other\")\n",
    "        with gr.Column():\n",
    "            label3 = gr.Label(label=\"Note this new column\")\n",
    "demo.launch()"
   ]
  },
  {
   "cell_type": "code",
   "execution_count": null,
   "id": "2d792ae8",
   "metadata": {},
   "outputs": [],
   "source": []
  }
 ],
 "metadata": {
  "kernelspec": {
   "display_name": ".venv",
   "language": "python",
   "name": "python3"
  },
  "language_info": {
   "codemirror_mode": {
    "name": "ipython",
    "version": 3
   },
   "file_extension": ".py",
   "mimetype": "text/x-python",
   "name": "python",
   "nbconvert_exporter": "python",
   "pygments_lexer": "ipython3",
   "version": "3.12.3"
  }
 },
 "nbformat": 4,
 "nbformat_minor": 5
}
