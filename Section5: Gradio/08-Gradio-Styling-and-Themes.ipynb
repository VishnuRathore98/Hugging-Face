{
 "cells": [
  {
   "cell_type": "markdown",
   "id": "7f5bdbe1",
   "metadata": {},
   "source": [
    "## Loading a Theme\n",
    "\n",
    "Gradio provides several built-in themes that you can apply to your interface. Let's start by loading a theme.\n",
    "\n",
    "The following themes are [available](https://www.gradio.app/guides/theming-guide):\n",
    "\n",
    "- gr.themes.Base()\n",
    "- gr.themes.Default()\n",
    "- gr.themes.Glass()\n",
    "- gr.themes.Monochrome()\n",
    "- gr.themes.Soft()\n"
   ]
  },
  {
   "cell_type": "code",
   "execution_count": 3,
   "id": "714e1285",
   "metadata": {},
   "outputs": [
    {
     "name": "stdout",
     "output_type": "stream",
     "text": [
      "* Running on local URL:  http://127.0.0.1:7867\n",
      "* To create a public link, set `share=True` in `launch()`.\n"
     ]
    },
    {
     "data": {
      "text/html": [
       "<div><iframe src=\"http://127.0.0.1:7867/\" width=\"100%\" height=\"500\" allow=\"autoplay; camera; microphone; clipboard-read; clipboard-write;\" frameborder=\"0\" allowfullscreen></iframe></div>"
      ],
      "text/plain": [
       "<IPython.core.display.HTML object>"
      ]
     },
     "metadata": {},
     "output_type": "display_data"
    },
    {
     "data": {
      "text/plain": []
     },
     "execution_count": 3,
     "metadata": {},
     "output_type": "execute_result"
    }
   ],
   "source": [
    "import gradio as gr\n",
    "\n",
    "def greet(name):\n",
    "    return f\"Hello, {name}!\"\n",
    "\n",
    "gr.Interface(\n",
    "    fn=greet,\n",
    "    inputs=\"text\",\n",
    "    outputs=\"text\",\n",
    "    theme=gr.themes.Monochrome()\n",
    ").launch()\n"
   ]
  },
  {
   "cell_type": "markdown",
   "id": "cfdccaf5",
   "metadata": {},
   "source": [
    "## Theme Builder\n",
    "\n",
    "To create custom themes you can use the [theme builder](https://www.gradio.app/guides/theming-guide#using-the-theme-builder).\n",
    "It comes with a detailed instruction panel on the right."
   ]
  },
  {
   "cell_type": "code",
   "execution_count": 4,
   "id": "425871e5",
   "metadata": {},
   "outputs": [
    {
     "name": "stderr",
     "output_type": "stream",
     "text": [
      "/home/vpsr/Desktop/python/Hugging Face/.venv/lib/python3.12/site-packages/gradio/themes/builder_app.py:443: UserWarning: You have not specified a value for the `type` parameter. Defaulting to the 'tuples' format for chatbot messages, but this is deprecated and will be removed in a future version of Gradio. Please set type='messages' instead, which uses openai-style dictionaries with 'role' and 'content' keys.\n",
      "  chatbot = gr.Chatbot([(\"Hello\", \"Hi\")], label=\"Chatbot\")\n"
     ]
    },
    {
     "name": "stdout",
     "output_type": "stream",
     "text": [
      "* Running on local URL:  http://127.0.0.1:7868\n",
      "* To create a public link, set `share=True` in `launch()`.\n"
     ]
    },
    {
     "data": {
      "text/html": [
       "<div><iframe src=\"http://127.0.0.1:7868/\" width=\"100%\" height=\"500\" allow=\"autoplay; camera; microphone; clipboard-read; clipboard-write;\" frameborder=\"0\" allowfullscreen></iframe></div>"
      ],
      "text/plain": [
       "<IPython.core.display.HTML object>"
      ]
     },
     "metadata": {},
     "output_type": "display_data"
    },
    {
     "data": {
      "text/plain": []
     },
     "execution_count": 4,
     "metadata": {},
     "output_type": "execute_result"
    }
   ],
   "source": [
    "gr.themes.builder()\n"
   ]
  },
  {
   "cell_type": "markdown",
   "id": "5fda78d5",
   "metadata": {},
   "source": [
    "Let's use our new theme! Please don't be too harsh about my design skills"
   ]
  },
  {
   "cell_type": "code",
   "execution_count": 5,
   "id": "e1b19c11",
   "metadata": {},
   "outputs": [
    {
     "name": "stdout",
     "output_type": "stream",
     "text": [
      "* Running on local URL:  http://127.0.0.1:7869\n",
      "* To create a public link, set `share=True` in `launch()`.\n"
     ]
    },
    {
     "data": {
      "text/html": [
       "<div><iframe src=\"http://127.0.0.1:7869/\" width=\"100%\" height=\"500\" allow=\"autoplay; camera; microphone; clipboard-read; clipboard-write;\" frameborder=\"0\" allowfullscreen></iframe></div>"
      ],
      "text/plain": [
       "<IPython.core.display.HTML object>"
      ]
     },
     "metadata": {},
     "output_type": "display_data"
    },
    {
     "data": {
      "text/plain": []
     },
     "execution_count": 5,
     "metadata": {},
     "output_type": "execute_result"
    }
   ],
   "source": [
    "import gradio as gr\n",
    "\n",
    "theme = gr.themes.Base(\n",
    "    primary_hue=\"gray\",\n",
    "    secondary_hue=\"gray\",\n",
    "    neutral_hue=\"green\",\n",
    "    text_size=\"lg\",\n",
    "    spacing_size=\"lg\",\n",
    "    radius_size=\"sm\",\n",
    ")\n",
    "\n",
    "\n",
    "demo = gr.Interface(\n",
    "    fn=greet,\n",
    "    inputs=\"text\",\n",
    "    outputs=\"text\",\n",
    "    theme=theme  # Load the default theme\n",
    ")\n",
    "\n",
    "# Launch the interface\n",
    "demo.launch()"
   ]
  },
  {
   "cell_type": "markdown",
   "id": "f0c898d6",
   "metadata": {},
   "source": [
    "## Downloading themes\n",
    "If you are not a skilled designer like me, there are plenty of themes to download from the gradio [theme gallery](https://huggingface.co/spaces/gradio/theme-gallery).\n",
    "\n",
    "To obtain the theme, you just need to pass the name and creator of the theme to `gr.Theme.from_hub`"
   ]
  },
  {
   "cell_type": "code",
   "execution_count": 6,
   "id": "5852db01",
   "metadata": {},
   "outputs": [
    {
     "name": "stdout",
     "output_type": "stream",
     "text": [
      "* Running on local URL:  http://127.0.0.1:7870\n",
      "* To create a public link, set `share=True` in `launch()`.\n"
     ]
    },
    {
     "data": {
      "text/html": [
       "<div><iframe src=\"http://127.0.0.1:7870/\" width=\"100%\" height=\"500\" allow=\"autoplay; camera; microphone; clipboard-read; clipboard-write;\" frameborder=\"0\" allowfullscreen></iframe></div>"
      ],
      "text/plain": [
       "<IPython.core.display.HTML object>"
      ]
     },
     "metadata": {},
     "output_type": "display_data"
    },
    {
     "data": {
      "text/plain": []
     },
     "execution_count": 6,
     "metadata": {},
     "output_type": "execute_result"
    }
   ],
   "source": [
    "theme = gr.Theme.from_hub(\"gstaff/xkcd\")\n",
    "\n",
    "demo = gr.Interface(\n",
    "    fn=greet,\n",
    "    inputs=\"text\",\n",
    "    outputs=\"text\",\n",
    "    theme=theme  # Load the default theme\n",
    ")\n",
    "\n",
    "# Launch the interface\n",
    "demo.launch()"
   ]
  },
  {
   "cell_type": "markdown",
   "id": "d82d0784",
   "metadata": {},
   "source": [
    "## Custom CSS\n",
    "You can also provide custom CSS code to your gradio components by leveraging the **elem_classes** or **elem_id** arguments.\n",
    "\n",
    "The base class for the Gradio app is gradio-container"
   ]
  },
  {
   "cell_type": "code",
   "execution_count": 7,
   "id": "c85dee76",
   "metadata": {},
   "outputs": [
    {
     "name": "stdout",
     "output_type": "stream",
     "text": [
      "* Running on local URL:  http://127.0.0.1:7871\n",
      "* To create a public link, set `share=True` in `launch()`.\n"
     ]
    },
    {
     "data": {
      "text/html": [
       "<div><iframe src=\"http://127.0.0.1:7871/\" width=\"100%\" height=\"500\" allow=\"autoplay; camera; microphone; clipboard-read; clipboard-write;\" frameborder=\"0\" allowfullscreen></iframe></div>"
      ],
      "text/plain": [
       "<IPython.core.display.HTML object>"
      ]
     },
     "metadata": {},
     "output_type": "display_data"
    },
    {
     "data": {
      "text/plain": []
     },
     "execution_count": 7,
     "metadata": {},
     "output_type": "execute_result"
    }
   ],
   "source": [
    "css = \"\"\"\n",
    ".gradio-container {background-color: Black}\n",
    "#error_id {background-color: Red}\n",
    ".textbox_class textarea {font-size: 48px}\n",
    "\"\"\"\n",
    "with gr.Blocks(css=css) as demo:\n",
    "    box1 = gr.Text(value=\"Good Job\", elem_classes=\"textbox_class\")\n",
    "    box2 = gr.Text(value=\"Failure\", elem_id=\"error_id\")\n",
    "    box3 = gr.Text(value=\"Failure\", elem_id=\"error_id\", elem_classes=\"textbox_class\")\n",
    "\n",
    "demo.launch()"
   ]
  }
 ],
 "metadata": {
  "kernelspec": {
   "display_name": ".venv",
   "language": "python",
   "name": "python3"
  },
  "language_info": {
   "codemirror_mode": {
    "name": "ipython",
    "version": 3
   },
   "file_extension": ".py",
   "mimetype": "text/x-python",
   "name": "python",
   "nbconvert_exporter": "python",
   "pygments_lexer": "ipython3",
   "version": "3.12.3"
  }
 },
 "nbformat": 4,
 "nbformat_minor": 5
}
