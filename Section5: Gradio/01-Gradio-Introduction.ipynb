{
 "cells": [
  {
   "cell_type": "markdown",
   "id": "e1dcccbe",
   "metadata": {},
   "source": [
    "## Introduction to Gradio\n",
    "\n",
    "Gradio is an open-source Python library that simplifies the process of creating interfaces for machine learning models. It allows us to quickly build customizable web-based UIs for models. \n",
    "The main advantages of using Gradio include:\n",
    "\n",
    "- **Ease of Use**: Gradio is easy to work with, to create and share interactive demos of machine learning models.\n",
    "\n",
    "- **Rapid Prototyping**: You can develop and iterate on your model's interface quickly, making it an ideal tool for experimentation and prototype development.\n",
    "\n",
    "- **Accessibility**: By providing a simple way to interact with models via the web.\n",
    "\n",
    "- **Collaboration and Sharing**: Gradio interfaces can be shared with a link, enabling easy collaboration and feedback gathering anywhere in the world.\n",
    "\n",
    "## Installation Guide\n",
    "\n",
    "To get started with Gradio, you first need to install the library. You can install Gradio using pip:\n",
    "\n",
    "```bash\n",
    "pip install gradio\n"
   ]
  },
  {
   "cell_type": "markdown",
   "id": "c2662228",
   "metadata": {},
   "source": [
    "## Basics of Gradio\n",
    "\n",
    "## Creating Your First Interface\n",
    "\n",
    "To start using Gradio, let's create a simple interface for a function that adds two numbers. This will demonstrate how you can turn a Python function into an interactive web app with just a few lines of code.\n",
    "\n",
    "First, define the Python function:"
   ]
  },
  {
   "cell_type": "code",
   "execution_count": 5,
   "id": "e4400f22",
   "metadata": {},
   "outputs": [],
   "source": [
    "def add_numbers(x, y):\n",
    "    return x + y"
   ]
  },
  {
   "cell_type": "markdown",
   "id": "220a0c03",
   "metadata": {},
   "source": [
    "Next, create a Gradio interface for this function:"
   ]
  },
  {
   "cell_type": "code",
   "execution_count": 4,
   "id": "dd1ecc14",
   "metadata": {},
   "outputs": [
    {
     "name": "stdout",
     "output_type": "stream",
     "text": [
      "* Running on local URL:  http://127.0.0.1:7860\n",
      "* To create a public link, set `share=True` in `launch()`.\n"
     ]
    },
    {
     "data": {
      "text/html": [
       "<div><iframe src=\"http://127.0.0.1:7860/\" width=\"100%\" height=\"500\" allow=\"autoplay; camera; microphone; clipboard-read; clipboard-write;\" frameborder=\"0\" allowfullscreen></iframe></div>"
      ],
      "text/plain": [
       "<IPython.core.display.HTML object>"
      ]
     },
     "metadata": {},
     "output_type": "display_data"
    },
    {
     "data": {
      "text/plain": []
     },
     "execution_count": 4,
     "metadata": {},
     "output_type": "execute_result"
    },
    {
     "name": "stderr",
     "output_type": "stream",
     "text": [
      "Traceback (most recent call last):\n",
      "  File \"/home/vpsr/Desktop/python/Hugging Face/.venv/lib/python3.12/site-packages/gradio/queueing.py\", line 625, in process_events\n",
      "    response = await route_utils.call_process_api(\n",
      "               ^^^^^^^^^^^^^^^^^^^^^^^^^^^^^^^^^^^\n",
      "  File \"/home/vpsr/Desktop/python/Hugging Face/.venv/lib/python3.12/site-packages/gradio/route_utils.py\", line 322, in call_process_api\n",
      "    output = await app.get_blocks().process_api(\n",
      "             ^^^^^^^^^^^^^^^^^^^^^^^^^^^^^^^^^^^\n",
      "  File \"/home/vpsr/Desktop/python/Hugging Face/.venv/lib/python3.12/site-packages/gradio/blocks.py\", line 2146, in process_api\n",
      "    result = await self.call_function(\n",
      "             ^^^^^^^^^^^^^^^^^^^^^^^^^\n",
      "  File \"/home/vpsr/Desktop/python/Hugging Face/.venv/lib/python3.12/site-packages/gradio/blocks.py\", line 1664, in call_function\n",
      "    prediction = await anyio.to_thread.run_sync(  # type: ignore\n",
      "                 ^^^^^^^^^^^^^^^^^^^^^^^^^^^^^^^^^^^^^^^^^^^^^^^\n",
      "  File \"/home/vpsr/Desktop/python/Hugging Face/.venv/lib/python3.12/site-packages/anyio/to_thread.py\", line 56, in run_sync\n",
      "    return await get_async_backend().run_sync_in_worker_thread(\n",
      "           ^^^^^^^^^^^^^^^^^^^^^^^^^^^^^^^^^^^^^^^^^^^^^^^^^^^^\n",
      "  File \"/home/vpsr/Desktop/python/Hugging Face/.venv/lib/python3.12/site-packages/anyio/_backends/_asyncio.py\", line 2470, in run_sync_in_worker_thread\n",
      "    return await future\n",
      "           ^^^^^^^^^^^^\n",
      "  File \"/home/vpsr/Desktop/python/Hugging Face/.venv/lib/python3.12/site-packages/anyio/_backends/_asyncio.py\", line 967, in run\n",
      "    result = context.run(func, *args)\n",
      "             ^^^^^^^^^^^^^^^^^^^^^^^^\n",
      "  File \"/home/vpsr/Desktop/python/Hugging Face/.venv/lib/python3.12/site-packages/gradio/utils.py\", line 884, in wrapper\n",
      "    response = f(*args, **kwargs)\n",
      "               ^^^^^^^^^^^^^^^^^^\n",
      "  File \"/tmp/ipykernel_7639/1372624490.py\", line 2, in add_numbers\n",
      "    return x + y\n",
      "           ~~^~~\n",
      "TypeError: unsupported operand type(s) for +: 'int' and 'NoneType'\n"
     ]
    }
   ],
   "source": [
    "import gradio as gr\n",
    "\n",
    "iface = gr.Interface(fn=add_numbers, inputs=[gr.Number(10), gr.Number()], outputs=gr.Number())\n",
    "iface.launch()\n"
   ]
  },
  {
   "cell_type": "markdown",
   "id": "6f2e795c",
   "metadata": {},
   "source": [
    "This code snippet does the following:\n",
    "\n",
    "- `gr.Interface` creates a new Gradio interface. The `fn` parameter takes the function we defined earlier (`add_numbers`).\n",
    "- The `inputs` parameter specifies that our function requires two numeric inputs.\n",
    "    - `gr.Number()` accepts various [arguments](https://www.gradio.app/docs/gradio/number), such as default values and min/max values.\n",
    "- The `outputs` parameter indicates that our function returns a numeric output.\n",
    "- `iface.launch()` launches the interface. By default, it will be served locally and be accessible via a web browser at `http://localhost:7860`.\n",
    "  \n",
    "The `Flag` button can be used to *flag* outputs for manual review. The flagged outputs are stored within the `flagged`directory.\n",
    "\n",
    "You can find the full documentation for the Interface function [here](https://www.gradio.app/docs/gradio/interface)"
   ]
  },
  {
   "cell_type": "code",
   "execution_count": null,
   "id": "9eb1ea96",
   "metadata": {},
   "outputs": [],
   "source": []
  }
 ],
 "metadata": {
  "kernelspec": {
   "display_name": ".venv",
   "language": "python",
   "name": "python3"
  },
  "language_info": {
   "codemirror_mode": {
    "name": "ipython",
    "version": 3
   },
   "file_extension": ".py",
   "mimetype": "text/x-python",
   "name": "python",
   "nbconvert_exporter": "python",
   "pygments_lexer": "ipython3",
   "version": "3.12.3"
  }
 },
 "nbformat": 4,
 "nbformat_minor": 5
}
