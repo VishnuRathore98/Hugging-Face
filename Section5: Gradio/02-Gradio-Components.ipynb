{
 "cells": [
  {
   "cell_type": "markdown",
   "id": "3a3fab08",
   "metadata": {},
   "source": [
    "# Components Overview\n",
    "Gradio offers a wide range of input and output [components](https://www.gradio.app/docs/gradio/components) to handle various data types and use cases. Here are some of the most commonly used components:\n",
    "\n",
    "- **Number**: Enables to enter a number. Useful to add additional information.\n",
    "- **Textbox**: Allows users to enter text. Useful for models that process text input like translations or sentiment analysis.\n",
    "- **Slider**: Provides a slider for numerical input. Ideal for parameters that range within a defined interval.\n",
    "- **Image**: Lets users upload an image or take a picture for image processing models.\n",
    "- **Dropdown**: Enables selection from a list of options. Perfect for choosing model options or categories.\n",
    "- **Label**: Displays text output. Commonly used to show the result from classification models.\n",
    "- **Image**: Allow for image handling. Useful for models that generate or modify images.\n",
    "- **JSON**: Handle JSON data. Ideal for displaying raw model outputs or more complex data structures.\n",
    "\n",
    "Each gradio application has a structure as shown in the image below([Source](https://raw.githubusercontent.com/gradio-app/gradio/main/guides/assets/dataflow.svg))\n",
    "![Data Flow of a gradio application](dataflow.svg)\n",
    "\n",
    "\n",
    "In addition, each component has its specific events that they support."
   ]
  },
  {
   "cell_type": "code",
   "execution_count": 2,
   "id": "bf5f8978",
   "metadata": {},
   "outputs": [
    {
     "name": "stderr",
     "output_type": "stream",
     "text": [
      "/home/vpsr/Desktop/python/Hugging Face/.venv/lib/python3.12/site-packages/tqdm/auto.py:21: TqdmWarning: IProgress not found. Please update jupyter and ipywidgets. See https://ipywidgets.readthedocs.io/en/stable/user_install.html\n",
      "  from .autonotebook import tqdm as notebook_tqdm\n"
     ]
    }
   ],
   "source": [
    "import gradio as gr"
   ]
  },
  {
   "cell_type": "markdown",
   "id": "08b99d1d",
   "metadata": {},
   "source": [
    "**Text Example**"
   ]
  },
  {
   "cell_type": "code",
   "execution_count": 3,
   "id": "13ee77be",
   "metadata": {},
   "outputs": [
    {
     "name": "stdout",
     "output_type": "stream",
     "text": [
      "* Running on local URL:  http://127.0.0.1:7860\n",
      "* To create a public link, set `share=True` in `launch()`.\n"
     ]
    },
    {
     "data": {
      "text/html": [
       "<div><iframe src=\"http://127.0.0.1:7860/\" width=\"100%\" height=\"500\" allow=\"autoplay; camera; microphone; clipboard-read; clipboard-write;\" frameborder=\"0\" allowfullscreen></iframe></div>"
      ],
      "text/plain": [
       "<IPython.core.display.HTML object>"
      ]
     },
     "metadata": {},
     "output_type": "display_data"
    },
    {
     "data": {
      "text/plain": []
     },
     "execution_count": 3,
     "metadata": {},
     "output_type": "execute_result"
    }
   ],
   "source": [
    "def reverse_text(input_text):\n",
    "    return input_text[::-1]\n",
    "\n",
    "iface = gr.Interface(fn=reverse_text, inputs=gr.Text(), outputs=gr.Text())\n",
    "iface.launch()"
   ]
  },
  {
   "cell_type": "markdown",
   "id": "d6802964",
   "metadata": {},
   "source": [
    "**Slider Example**"
   ]
  },
  {
   "cell_type": "code",
   "execution_count": 4,
   "id": "4102463e",
   "metadata": {},
   "outputs": [
    {
     "name": "stdout",
     "output_type": "stream",
     "text": [
      "* Running on local URL:  http://127.0.0.1:7861\n",
      "* To create a public link, set `share=True` in `launch()`.\n"
     ]
    },
    {
     "data": {
      "text/html": [
       "<div><iframe src=\"http://127.0.0.1:7861/\" width=\"100%\" height=\"500\" allow=\"autoplay; camera; microphone; clipboard-read; clipboard-write;\" frameborder=\"0\" allowfullscreen></iframe></div>"
      ],
      "text/plain": [
       "<IPython.core.display.HTML object>"
      ]
     },
     "metadata": {},
     "output_type": "display_data"
    },
    {
     "data": {
      "text/plain": []
     },
     "execution_count": 4,
     "metadata": {},
     "output_type": "execute_result"
    }
   ],
   "source": [
    "def slider_example(value):\n",
    "    return f\"Slider value: {value}\"\n",
    "\n",
    "iface = gr.Interface(fn=slider_example, inputs=gr.Slider(minimum=0, maximum=100), outputs=gr.Text())\n",
    "iface.launch()\n"
   ]
  },
  {
   "cell_type": "markdown",
   "id": "6a30f8ba",
   "metadata": {},
   "source": [
    "**Image Example**"
   ]
  },
  {
   "cell_type": "code",
   "execution_count": 5,
   "id": "5c9e21dd",
   "metadata": {},
   "outputs": [
    {
     "name": "stdout",
     "output_type": "stream",
     "text": [
      "* Running on local URL:  http://127.0.0.1:7862\n",
      "* To create a public link, set `share=True` in `launch()`.\n"
     ]
    },
    {
     "data": {
      "text/html": [
       "<div><iframe src=\"http://127.0.0.1:7862/\" width=\"100%\" height=\"500\" allow=\"autoplay; camera; microphone; clipboard-read; clipboard-write;\" frameborder=\"0\" allowfullscreen></iframe></div>"
      ],
      "text/plain": [
       "<IPython.core.display.HTML object>"
      ]
     },
     "metadata": {},
     "output_type": "display_data"
    },
    {
     "data": {
      "text/plain": []
     },
     "execution_count": 5,
     "metadata": {},
     "output_type": "execute_result"
    }
   ],
   "source": [
    "from PIL import Image\n",
    "import numpy as np\n",
    "\n",
    "def to_grayscale(input_image):\n",
    "    grayscale_image = np.mean(input_image, axis=2, keepdims=True)\n",
    "    grayscale_image = np.tile(grayscale_image, (1, 1, 3))\n",
    "    return grayscale_image.astype(np.uint8)\n",
    "\n",
    "iface = gr.Interface(fn=to_grayscale, inputs=gr.Image(), outputs=gr.Image())\n",
    "iface.launch()\n"
   ]
  },
  {
   "cell_type": "markdown",
   "id": "0ff08cfe",
   "metadata": {},
   "source": [
    "**Dropdown Example**"
   ]
  },
  {
   "cell_type": "code",
   "execution_count": 6,
   "id": "fcf334c7",
   "metadata": {},
   "outputs": [
    {
     "name": "stdout",
     "output_type": "stream",
     "text": [
      "* Running on local URL:  http://127.0.0.1:7863\n",
      "* To create a public link, set `share=True` in `launch()`.\n"
     ]
    },
    {
     "data": {
      "text/html": [
       "<div><iframe src=\"http://127.0.0.1:7863/\" width=\"100%\" height=\"500\" allow=\"autoplay; camera; microphone; clipboard-read; clipboard-write;\" frameborder=\"0\" allowfullscreen></iframe></div>"
      ],
      "text/plain": [
       "<IPython.core.display.HTML object>"
      ]
     },
     "metadata": {},
     "output_type": "display_data"
    },
    {
     "data": {
      "text/plain": []
     },
     "execution_count": 6,
     "metadata": {},
     "output_type": "execute_result"
    }
   ],
   "source": [
    "def handle_dropdown(selection):\n",
    "    return f\"You selected: {selection}\"\n",
    "\n",
    "options = [\"Option 1\", \"Option 2\", \"Option 3\"]\n",
    "iface = gr.Interface(fn=handle_dropdown, inputs=gr.Dropdown(choices=options), outputs=gr.Text())\n",
    "iface.launch()\n"
   ]
  },
  {
   "cell_type": "markdown",
   "id": "94905094",
   "metadata": {},
   "source": [
    "**Json**"
   ]
  },
  {
   "cell_type": "code",
   "execution_count": 7,
   "id": "c15992cf",
   "metadata": {},
   "outputs": [
    {
     "name": "stdout",
     "output_type": "stream",
     "text": [
      "* Running on local URL:  http://127.0.0.1:7864\n",
      "* To create a public link, set `share=True` in `launch()`.\n"
     ]
    },
    {
     "data": {
      "text/html": [
       "<div><iframe src=\"http://127.0.0.1:7864/\" width=\"100%\" height=\"500\" allow=\"autoplay; camera; microphone; clipboard-read; clipboard-write;\" frameborder=\"0\" allowfullscreen></iframe></div>"
      ],
      "text/plain": [
       "<IPython.core.display.HTML object>"
      ]
     },
     "metadata": {},
     "output_type": "display_data"
    },
    {
     "data": {
      "text/plain": []
     },
     "execution_count": 7,
     "metadata": {},
     "output_type": "execute_result"
    }
   ],
   "source": [
    "def number_details(number):\n",
    "    details = {\n",
    "        \"original\": number,\n",
    "        \"squared\": number ** 2,\n",
    "        \"sqrt\": number ** 0.5,\n",
    "        \"is_even\": number % 2 == 0\n",
    "    }\n",
    "    return details\n",
    "\n",
    "iface = gr.Interface(fn=number_details, inputs=gr.Number(), outputs=gr.Json())\n",
    "iface.launch()\n"
   ]
  },
  {
   "cell_type": "markdown",
   "id": "e9f902cc",
   "metadata": {},
   "source": [
    "**Label**"
   ]
  },
  {
   "cell_type": "code",
   "execution_count": 8,
   "id": "cfc01ca6",
   "metadata": {},
   "outputs": [
    {
     "name": "stdout",
     "output_type": "stream",
     "text": [
      "* Running on local URL:  http://127.0.0.1:7865\n",
      "* To create a public link, set `share=True` in `launch()`.\n"
     ]
    },
    {
     "data": {
      "text/html": [
       "<div><iframe src=\"http://127.0.0.1:7865/\" width=\"100%\" height=\"500\" allow=\"autoplay; camera; microphone; clipboard-read; clipboard-write;\" frameborder=\"0\" allowfullscreen></iframe></div>"
      ],
      "text/plain": [
       "<IPython.core.display.HTML object>"
      ]
     },
     "metadata": {},
     "output_type": "display_data"
    },
    {
     "data": {
      "text/plain": []
     },
     "execution_count": 8,
     "metadata": {},
     "output_type": "execute_result"
    }
   ],
   "source": [
    "def classify_number(number):\n",
    "    if number > 0:\n",
    "        return \"Positive\"\n",
    "    elif number < 0:\n",
    "        return \"Negative\"\n",
    "    else:\n",
    "        return \"Zero\"\n",
    "\n",
    "iface = gr.Interface(fn=classify_number, inputs=gr.Number(), outputs=gr.Label())\n",
    "iface.launch()\n"
   ]
  },
  {
   "cell_type": "code",
   "execution_count": null,
   "id": "c1c70cd1",
   "metadata": {},
   "outputs": [],
   "source": []
  }
 ],
 "metadata": {
  "kernelspec": {
   "display_name": ".venv",
   "language": "python",
   "name": "python3"
  },
  "language_info": {
   "codemirror_mode": {
    "name": "ipython",
    "version": 3
   },
   "file_extension": ".py",
   "mimetype": "text/x-python",
   "name": "python",
   "nbconvert_exporter": "python",
   "pygments_lexer": "ipython3",
   "version": "3.12.3"
  }
 },
 "nbformat": 4,
 "nbformat_minor": 5
}
