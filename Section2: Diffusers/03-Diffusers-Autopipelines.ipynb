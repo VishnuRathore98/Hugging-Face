{
 "cells": [
  {
   "cell_type": "markdown",
   "id": "e0bac48c",
   "metadata": {},
   "source": [
    "### Understanding AutoPipeline in Diffusers\n",
    "\n",
    "Diffusers offers a wide range of pipelines for generating images, videos, audio, inpainting, and more specialized tasks like upscaling and super-resolution. With so many pipelines available, it can be tricky to know which one to use for a specific task. \n",
    "\n",
    "**Enter the AutoPipeline class!** This class is designed to simplify your workflow by letting you focus on the task at hand without worrying about the specific pipeline class. AutoPipeline automatically detects and uses the correct pipeline class for your task, whether it’s generating text-to-image, image-to-image, or inpainting.\n",
    "\n",
    "#### How AutoPipeline Works\n",
    "\n",
    "Let’s look at an example using the `dreamlike-art/dreamlike-photoreal-2.0` checkpoint. Here’s what happens under the hood:\n",
    "\n",
    "1. **Model Detection**: AutoPipeline identifies the model type (e.g., \"stable-diffusion\") from the `model_index.json` file.\n",
    "2. **Pipeline Loading**: Depending on your task, it loads the appropriate pipeline class:\n",
    "    - `StableDiffusionPipeline`\n",
    "    - `StableDiffusionImg2ImgPipeline`\n",
    "    - `StableDiffusionInpaintPipeline`\n",
    "3. **Parameter Handling**: Any parameters you would pass to these specific pipelines can also be passed to AutoPipeline.\n",
    "\n",
    "Here’s how you can use AutoPipeline for a text-to-image task:"
   ]
  },
  {
   "cell_type": "code",
   "execution_count": 1,
   "id": "f46e7f95",
   "metadata": {},
   "outputs": [
    {
     "name": "stderr",
     "output_type": "stream",
     "text": [
      "/home/vpsr/Desktop/python/Hugging Face/.venv/lib/python3.12/site-packages/tqdm/auto.py:21: TqdmWarning: IProgress not found. Please update jupyter and ipywidgets. See https://ipywidgets.readthedocs.io/en/stable/user_install.html\n",
      "  from .autonotebook import tqdm as notebook_tqdm\n",
      "2025-04-25 07:52:50.408645: E external/local_xla/xla/stream_executor/cuda/cuda_fft.cc:467] Unable to register cuFFT factory: Attempting to register factory for plugin cuFFT when one has already been registered\n",
      "WARNING: All log messages before absl::InitializeLog() is called are written to STDERR\n",
      "E0000 00:00:1745547770.436061   34700 cuda_dnn.cc:8579] Unable to register cuDNN factory: Attempting to register factory for plugin cuDNN when one has already been registered\n",
      "E0000 00:00:1745547770.443328   34700 cuda_blas.cc:1407] Unable to register cuBLAS factory: Attempting to register factory for plugin cuBLAS when one has already been registered\n",
      "W0000 00:00:1745547770.461949   34700 computation_placer.cc:177] computation placer already registered. Please check linkage and avoid linking the same target more than once.\n",
      "W0000 00:00:1745547770.461986   34700 computation_placer.cc:177] computation placer already registered. Please check linkage and avoid linking the same target more than once.\n",
      "W0000 00:00:1745547770.461989   34700 computation_placer.cc:177] computation placer already registered. Please check linkage and avoid linking the same target more than once.\n",
      "W0000 00:00:1745547770.461993   34700 computation_placer.cc:177] computation placer already registered. Please check linkage and avoid linking the same target more than once.\n",
      "2025-04-25 07:52:50.468691: I tensorflow/core/platform/cpu_feature_guard.cc:210] This TensorFlow binary is optimized to use available CPU instructions in performance-critical operations.\n",
      "To enable the following instructions: AVX2 FMA, in other operations, rebuild TensorFlow with the appropriate compiler flags.\n"
     ]
    }
   ],
   "source": [
    "from diffusers import AutoPipelineForText2Image\n",
    "import torch"
   ]
  },
  {
   "cell_type": "code",
   "execution_count": null,
   "id": "a1ad6290",
   "metadata": {},
   "outputs": [],
   "source": [
    "from diffusers import AutoPipelineForText2Image\n",
    "import torch\n",
    "\n",
    "pipe_txt2img = AutoPipelineForText2Image.from_pretrained(\"dreamlike-art/dreamlike-photoreal-2.0\", torch_dtype=torch.float16, use_safetensors=True).to('cuda')\n",
    "\n",
    "prompt = \"a photo realistic black mustang driving in the city of new york at the night\"\n",
    "generator = torch.Generator(device='cuda').manual_seed(42)\n",
    "\n",
    "image = pipe_txt2img(prompt=prompt, generator=generator).images[0]\n",
    "\n",
    "image"
   ]
  },
  {
   "cell_type": "markdown",
   "id": "1390815a",
   "metadata": {},
   "source": [
    "In this example, AutoPipeline automatically detects and uses the `StableDiffusionPipeline` for text-to-image generation.\n",
    "\n",
    "#### Handling Unsupported Checkpoints\n",
    "\n",
    "AutoPipeline supports a variety of checkpoints, including Stable Diffusion, Stable Diffusion XL, ControlNet, Kandinsky 2.1, Kandinsky 2.2, and DeepFloyd IF. If you try to load an unsupported checkpoint, you’ll encounter an error.\n",
    "\n",
    "For instance, attempting to use the `openai/shap-e-img2img` checkpoint will result in the following error:"
   ]
  },
  {
   "cell_type": "markdown",
   "id": "f0563a7e",
   "metadata": {},
   "source": [
    " \n",
    "from diffusers import AutoPipelineForImage2Image\n",
    "import torch\n",
    "\n",
    "pipeline = AutoPipelineForImage2Image.from_pretrained(\n",
    "    \"openai/shap-e-img2img\", torch_dtype=torch.float16, use_safetensors=True\n",
    ")"
   ]
  },
  {
   "cell_type": "markdown",
   "id": "82fe0d20",
   "metadata": {},
   "source": [
    "This will raise a ValueError\n",
    "Thus in order to use this pipeline, we would need to specify DiffusionPipeline\n",
    "AutoPipeline simplifies working with multiple pipelines, ensuring we can focus on our creative tasks without getting bogged down by the specifics of pipeline classes."
   ]
  },
  {
   "cell_type": "markdown",
   "id": "6eb58555",
   "metadata": {},
   "source": []
  }
 ],
 "metadata": {
  "kernelspec": {
   "display_name": ".venv",
   "language": "python",
   "name": "python3"
  },
  "language_info": {
   "codemirror_mode": {
    "name": "ipython",
    "version": 3
   },
   "file_extension": ".py",
   "mimetype": "text/x-python",
   "name": "python",
   "nbconvert_exporter": "python",
   "pygments_lexer": "ipython3",
   "version": "3.12.3"
  }
 },
 "nbformat": 4,
 "nbformat_minor": 5
}
