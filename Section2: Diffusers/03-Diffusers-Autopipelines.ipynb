{
 "cells": [
  {
   "cell_type": "markdown",
   "id": "e0bac48c",
   "metadata": {},
   "source": [
    "### Understanding AutoPipeline in Diffusers\n",
    "\n",
    "Diffusers offers a wide range of pipelines for generating images, videos, audio, inpainting, and more specialized tasks like upscaling and super-resolution. With so many pipelines available, it can be tricky to know which one to use for a specific task. \n",
    "\n",
    "**Enter the AutoPipeline class!** This class is designed to simplify your workflow by letting you focus on the task at hand without worrying about the specific pipeline class. AutoPipeline automatically detects and uses the correct pipeline class for your task, whether it’s generating text-to-image, image-to-image, or inpainting.\n",
    "\n",
    "#### How AutoPipeline Works\n",
    "\n",
    "Let’s look at an example using the `dreamlike-art/dreamlike-photoreal-2.0` checkpoint. Here’s what happens under the hood:\n",
    "\n",
    "1. **Model Detection**: AutoPipeline identifies the model type (e.g., \"stable-diffusion\") from the `model_index.json` file.\n",
    "2. **Pipeline Loading**: Depending on your task, it loads the appropriate pipeline class:\n",
    "    - `StableDiffusionPipeline`\n",
    "    - `StableDiffusionImg2ImgPipeline`\n",
    "    - `StableDiffusionInpaintPipeline`\n",
    "3. **Parameter Handling**: Any parameters you would pass to these specific pipelines can also be passed to AutoPipeline.\n",
    "\n",
    "Here’s how you can use AutoPipeline for a text-to-image task:"
   ]
  },
  {
   "cell_type": "code",
   "execution_count": 7,
   "id": "f46e7f95",
   "metadata": {},
   "outputs": [],
   "source": [
    "import diffusers\n",
    "from diffusers import AutoPipelineForText2Image\n",
    "import torch"
   ]
  },
  {
   "cell_type": "code",
   "execution_count": 8,
   "id": "6dfebff2",
   "metadata": {},
   "outputs": [
    {
     "data": {
      "text/plain": [
       "'0.33.1'"
      ]
     },
     "execution_count": 8,
     "metadata": {},
     "output_type": "execute_result"
    }
   ],
   "source": [
    "diffusers.__version__"
   ]
  },
  {
   "cell_type": "code",
   "execution_count": 6,
   "id": "c113b98c",
   "metadata": {},
   "outputs": [],
   "source": [
    "torch.cuda.empty_cache()"
   ]
  },
  {
   "cell_type": "code",
   "execution_count": null,
   "id": "a1ad6290",
   "metadata": {},
   "outputs": [],
   "source": [
    "from diffusers import AutoPipelineForText2Image\n",
    "import torch\n",
    "\n",
    "pipe_txt2img = AutoPipelineForText2Image.from_pretrained(\"dreamlike-art/dreamlike-photoreal-2.0\", torch_dtype=torch.float16, use_safetensors=True).to('cuda')\n",
    "\n",
    "prompt = \"a photo realistic black mustang driving in the city of new york at the night\"\n",
    "generator = torch.Generator(device='cuda').manual_seed(42)\n",
    "\n",
    "image = pipe_txt2img(prompt=prompt, generator=generator).images[0]\n",
    "\n",
    "image"
   ]
  },
  {
   "cell_type": "markdown",
   "id": "1390815a",
   "metadata": {},
   "source": [
    "In this example, AutoPipeline automatically detects and uses the `StableDiffusionPipeline` for text-to-image generation.\n",
    "\n",
    "#### Handling Unsupported Checkpoints\n",
    "\n",
    "AutoPipeline supports a variety of checkpoints, including Stable Diffusion, Stable Diffusion XL, ControlNet, Kandinsky 2.1, Kandinsky 2.2, and DeepFloyd IF. If you try to load an unsupported checkpoint, you’ll encounter an error.\n",
    "\n",
    "For instance, attempting to use the `openai/shap-e-img2img` checkpoint will result in the following error:"
   ]
  },
  {
   "cell_type": "markdown",
   "id": "f0563a7e",
   "metadata": {},
   "source": [
    " \n",
    "from diffusers import AutoPipelineForImage2Image\n",
    "import torch\n",
    "\n",
    "pipeline = AutoPipelineForImage2Image.from_pretrained(\n",
    "    \"openai/shap-e-img2img\", torch_dtype=torch.float16, use_safetensors=True\n",
    ")"
   ]
  },
  {
   "cell_type": "markdown",
   "id": "82fe0d20",
   "metadata": {},
   "source": [
    "This will raise a ValueError\n",
    "Thus in order to use this pipeline, we would need to specify DiffusionPipeline\n",
    "AutoPipeline simplifies working with multiple pipelines, ensuring we can focus on our creative tasks without getting bogged down by the specifics of pipeline classes."
   ]
  },
  {
   "cell_type": "markdown",
   "id": "6eb58555",
   "metadata": {},
   "source": []
  }
 ],
 "metadata": {
  "kernelspec": {
   "display_name": ".venv",
   "language": "python",
   "name": "python3"
  },
  "language_info": {
   "codemirror_mode": {
    "name": "ipython",
    "version": 3
   },
   "file_extension": ".py",
   "mimetype": "text/x-python",
   "name": "python",
   "nbconvert_exporter": "python",
   "pygments_lexer": "ipython3",
   "version": "3.12.3"
  }
 },
 "nbformat": 4,
 "nbformat_minor": 5
}
