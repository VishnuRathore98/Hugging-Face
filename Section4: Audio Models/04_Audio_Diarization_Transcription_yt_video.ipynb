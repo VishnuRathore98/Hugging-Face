{
  "nbformat": 4,
  "nbformat_minor": 0,
  "metadata": {
    "colab": {
      "provenance": [],
      "gpuType": "T4"
    },
    "kernelspec": {
      "name": "python3",
      "display_name": "Python 3"
    },
    "language_info": {
      "name": "python"
    },
    "accelerator": "GPU",
    "widgets": {
      "application/vnd.jupyter.widget-state+json": {
        "0f3d83ca42da488bb05bca309bc926f0": {
          "model_module": "@jupyter-widgets/controls",
          "model_name": "VBoxModel",
          "model_module_version": "1.5.0",
          "state": {
            "_dom_classes": [],
            "_model_module": "@jupyter-widgets/controls",
            "_model_module_version": "1.5.0",
            "_model_name": "VBoxModel",
            "_view_count": null,
            "_view_module": "@jupyter-widgets/controls",
            "_view_module_version": "1.5.0",
            "_view_name": "VBoxView",
            "box_style": "",
            "children": [],
            "layout": "IPY_MODEL_fb5830089867437a8251a2357e97c741"
          }
        },
        "564f3599139c4d8eb797c58baff78932": {
          "model_module": "@jupyter-widgets/controls",
          "model_name": "HTMLModel",
          "model_module_version": "1.5.0",
          "state": {
            "_dom_classes": [],
            "_model_module": "@jupyter-widgets/controls",
            "_model_module_version": "1.5.0",
            "_model_name": "HTMLModel",
            "_view_count": null,
            "_view_module": "@jupyter-widgets/controls",
            "_view_module_version": "1.5.0",
            "_view_name": "HTMLView",
            "description": "",
            "description_tooltip": null,
            "layout": "IPY_MODEL_c90804648bc246bca58e8d8e4feef3be",
            "placeholder": "​",
            "style": "IPY_MODEL_538ea5ccd4d344e89227ecfaffdb051a",
            "value": "<center> <img\nsrc=https://huggingface.co/front/assets/huggingface_logo-noborder.svg\nalt='Hugging Face'> <br> Copy a token from <a\nhref=\"https://huggingface.co/settings/tokens\" target=\"_blank\">your Hugging Face\ntokens page</a> and paste it below. <br> Immediately click login after copying\nyour token or it might be stored in plain text in this notebook file. </center>"
          }
        },
        "2fc1a4ed00ea48c5b14c4eb91e091d72": {
          "model_module": "@jupyter-widgets/controls",
          "model_name": "PasswordModel",
          "model_module_version": "1.5.0",
          "state": {
            "_dom_classes": [],
            "_model_module": "@jupyter-widgets/controls",
            "_model_module_version": "1.5.0",
            "_model_name": "PasswordModel",
            "_view_count": null,
            "_view_module": "@jupyter-widgets/controls",
            "_view_module_version": "1.5.0",
            "_view_name": "PasswordView",
            "continuous_update": true,
            "description": "Token:",
            "description_tooltip": null,
            "disabled": false,
            "layout": "IPY_MODEL_945067090cfb4fda8569458383c9251b",
            "placeholder": "​",
            "style": "IPY_MODEL_9442137e73224b16883fd24ab4e9fdfb",
            "value": ""
          }
        },
        "4ba1b7f9a1834f8597a8cb174c1bda14": {
          "model_module": "@jupyter-widgets/controls",
          "model_name": "CheckboxModel",
          "model_module_version": "1.5.0",
          "state": {
            "_dom_classes": [],
            "_model_module": "@jupyter-widgets/controls",
            "_model_module_version": "1.5.0",
            "_model_name": "CheckboxModel",
            "_view_count": null,
            "_view_module": "@jupyter-widgets/controls",
            "_view_module_version": "1.5.0",
            "_view_name": "CheckboxView",
            "description": "Add token as git credential?",
            "description_tooltip": null,
            "disabled": false,
            "indent": true,
            "layout": "IPY_MODEL_cc883988307c411c9b563df3487ac700",
            "style": "IPY_MODEL_0c1e84c373324777aeb3dc4b9a484702",
            "value": true
          }
        },
        "98eb117dfea04227889253ec2b3c4aa4": {
          "model_module": "@jupyter-widgets/controls",
          "model_name": "ButtonModel",
          "model_module_version": "1.5.0",
          "state": {
            "_dom_classes": [],
            "_model_module": "@jupyter-widgets/controls",
            "_model_module_version": "1.5.0",
            "_model_name": "ButtonModel",
            "_view_count": null,
            "_view_module": "@jupyter-widgets/controls",
            "_view_module_version": "1.5.0",
            "_view_name": "ButtonView",
            "button_style": "",
            "description": "Login",
            "disabled": false,
            "icon": "",
            "layout": "IPY_MODEL_e55f826a578546519f34b70da474ca01",
            "style": "IPY_MODEL_db8e4e83180e4f1db7899f18a18ea2f6",
            "tooltip": ""
          }
        },
        "9300aa368e6645b494b5e1cd4bc9153e": {
          "model_module": "@jupyter-widgets/controls",
          "model_name": "HTMLModel",
          "model_module_version": "1.5.0",
          "state": {
            "_dom_classes": [],
            "_model_module": "@jupyter-widgets/controls",
            "_model_module_version": "1.5.0",
            "_model_name": "HTMLModel",
            "_view_count": null,
            "_view_module": "@jupyter-widgets/controls",
            "_view_module_version": "1.5.0",
            "_view_name": "HTMLView",
            "description": "",
            "description_tooltip": null,
            "layout": "IPY_MODEL_19892ed821604631ae07591287d8f087",
            "placeholder": "​",
            "style": "IPY_MODEL_4cd2e148562c4dff880daa912edb4de4",
            "value": "\n<b>Pro Tip:</b> If you don't already have one, you can create a dedicated\n'notebooks' token with 'write' access, that you can then easily reuse for all\nnotebooks. </center>"
          }
        },
        "fb5830089867437a8251a2357e97c741": {
          "model_module": "@jupyter-widgets/base",
          "model_name": "LayoutModel",
          "model_module_version": "1.2.0",
          "state": {
            "_model_module": "@jupyter-widgets/base",
            "_model_module_version": "1.2.0",
            "_model_name": "LayoutModel",
            "_view_count": null,
            "_view_module": "@jupyter-widgets/base",
            "_view_module_version": "1.2.0",
            "_view_name": "LayoutView",
            "align_content": null,
            "align_items": "center",
            "align_self": null,
            "border": null,
            "bottom": null,
            "display": "flex",
            "flex": null,
            "flex_flow": "column",
            "grid_area": null,
            "grid_auto_columns": null,
            "grid_auto_flow": null,
            "grid_auto_rows": null,
            "grid_column": null,
            "grid_gap": null,
            "grid_row": null,
            "grid_template_areas": null,
            "grid_template_columns": null,
            "grid_template_rows": null,
            "height": null,
            "justify_content": null,
            "justify_items": null,
            "left": null,
            "margin": null,
            "max_height": null,
            "max_width": null,
            "min_height": null,
            "min_width": null,
            "object_fit": null,
            "object_position": null,
            "order": null,
            "overflow": null,
            "overflow_x": null,
            "overflow_y": null,
            "padding": null,
            "right": null,
            "top": null,
            "visibility": null,
            "width": "50%"
          }
        },
        "c90804648bc246bca58e8d8e4feef3be": {
          "model_module": "@jupyter-widgets/base",
          "model_name": "LayoutModel",
          "model_module_version": "1.2.0",
          "state": {
            "_model_module": "@jupyter-widgets/base",
            "_model_module_version": "1.2.0",
            "_model_name": "LayoutModel",
            "_view_count": null,
            "_view_module": "@jupyter-widgets/base",
            "_view_module_version": "1.2.0",
            "_view_name": "LayoutView",
            "align_content": null,
            "align_items": null,
            "align_self": null,
            "border": null,
            "bottom": null,
            "display": null,
            "flex": null,
            "flex_flow": null,
            "grid_area": null,
            "grid_auto_columns": null,
            "grid_auto_flow": null,
            "grid_auto_rows": null,
            "grid_column": null,
            "grid_gap": null,
            "grid_row": null,
            "grid_template_areas": null,
            "grid_template_columns": null,
            "grid_template_rows": null,
            "height": null,
            "justify_content": null,
            "justify_items": null,
            "left": null,
            "margin": null,
            "max_height": null,
            "max_width": null,
            "min_height": null,
            "min_width": null,
            "object_fit": null,
            "object_position": null,
            "order": null,
            "overflow": null,
            "overflow_x": null,
            "overflow_y": null,
            "padding": null,
            "right": null,
            "top": null,
            "visibility": null,
            "width": null
          }
        },
        "538ea5ccd4d344e89227ecfaffdb051a": {
          "model_module": "@jupyter-widgets/controls",
          "model_name": "DescriptionStyleModel",
          "model_module_version": "1.5.0",
          "state": {
            "_model_module": "@jupyter-widgets/controls",
            "_model_module_version": "1.5.0",
            "_model_name": "DescriptionStyleModel",
            "_view_count": null,
            "_view_module": "@jupyter-widgets/base",
            "_view_module_version": "1.2.0",
            "_view_name": "StyleView",
            "description_width": ""
          }
        },
        "945067090cfb4fda8569458383c9251b": {
          "model_module": "@jupyter-widgets/base",
          "model_name": "LayoutModel",
          "model_module_version": "1.2.0",
          "state": {
            "_model_module": "@jupyter-widgets/base",
            "_model_module_version": "1.2.0",
            "_model_name": "LayoutModel",
            "_view_count": null,
            "_view_module": "@jupyter-widgets/base",
            "_view_module_version": "1.2.0",
            "_view_name": "LayoutView",
            "align_content": null,
            "align_items": null,
            "align_self": null,
            "border": null,
            "bottom": null,
            "display": null,
            "flex": null,
            "flex_flow": null,
            "grid_area": null,
            "grid_auto_columns": null,
            "grid_auto_flow": null,
            "grid_auto_rows": null,
            "grid_column": null,
            "grid_gap": null,
            "grid_row": null,
            "grid_template_areas": null,
            "grid_template_columns": null,
            "grid_template_rows": null,
            "height": null,
            "justify_content": null,
            "justify_items": null,
            "left": null,
            "margin": null,
            "max_height": null,
            "max_width": null,
            "min_height": null,
            "min_width": null,
            "object_fit": null,
            "object_position": null,
            "order": null,
            "overflow": null,
            "overflow_x": null,
            "overflow_y": null,
            "padding": null,
            "right": null,
            "top": null,
            "visibility": null,
            "width": null
          }
        },
        "9442137e73224b16883fd24ab4e9fdfb": {
          "model_module": "@jupyter-widgets/controls",
          "model_name": "DescriptionStyleModel",
          "model_module_version": "1.5.0",
          "state": {
            "_model_module": "@jupyter-widgets/controls",
            "_model_module_version": "1.5.0",
            "_model_name": "DescriptionStyleModel",
            "_view_count": null,
            "_view_module": "@jupyter-widgets/base",
            "_view_module_version": "1.2.0",
            "_view_name": "StyleView",
            "description_width": ""
          }
        },
        "cc883988307c411c9b563df3487ac700": {
          "model_module": "@jupyter-widgets/base",
          "model_name": "LayoutModel",
          "model_module_version": "1.2.0",
          "state": {
            "_model_module": "@jupyter-widgets/base",
            "_model_module_version": "1.2.0",
            "_model_name": "LayoutModel",
            "_view_count": null,
            "_view_module": "@jupyter-widgets/base",
            "_view_module_version": "1.2.0",
            "_view_name": "LayoutView",
            "align_content": null,
            "align_items": null,
            "align_self": null,
            "border": null,
            "bottom": null,
            "display": null,
            "flex": null,
            "flex_flow": null,
            "grid_area": null,
            "grid_auto_columns": null,
            "grid_auto_flow": null,
            "grid_auto_rows": null,
            "grid_column": null,
            "grid_gap": null,
            "grid_row": null,
            "grid_template_areas": null,
            "grid_template_columns": null,
            "grid_template_rows": null,
            "height": null,
            "justify_content": null,
            "justify_items": null,
            "left": null,
            "margin": null,
            "max_height": null,
            "max_width": null,
            "min_height": null,
            "min_width": null,
            "object_fit": null,
            "object_position": null,
            "order": null,
            "overflow": null,
            "overflow_x": null,
            "overflow_y": null,
            "padding": null,
            "right": null,
            "top": null,
            "visibility": null,
            "width": null
          }
        },
        "0c1e84c373324777aeb3dc4b9a484702": {
          "model_module": "@jupyter-widgets/controls",
          "model_name": "DescriptionStyleModel",
          "model_module_version": "1.5.0",
          "state": {
            "_model_module": "@jupyter-widgets/controls",
            "_model_module_version": "1.5.0",
            "_model_name": "DescriptionStyleModel",
            "_view_count": null,
            "_view_module": "@jupyter-widgets/base",
            "_view_module_version": "1.2.0",
            "_view_name": "StyleView",
            "description_width": ""
          }
        },
        "e55f826a578546519f34b70da474ca01": {
          "model_module": "@jupyter-widgets/base",
          "model_name": "LayoutModel",
          "model_module_version": "1.2.0",
          "state": {
            "_model_module": "@jupyter-widgets/base",
            "_model_module_version": "1.2.0",
            "_model_name": "LayoutModel",
            "_view_count": null,
            "_view_module": "@jupyter-widgets/base",
            "_view_module_version": "1.2.0",
            "_view_name": "LayoutView",
            "align_content": null,
            "align_items": null,
            "align_self": null,
            "border": null,
            "bottom": null,
            "display": null,
            "flex": null,
            "flex_flow": null,
            "grid_area": null,
            "grid_auto_columns": null,
            "grid_auto_flow": null,
            "grid_auto_rows": null,
            "grid_column": null,
            "grid_gap": null,
            "grid_row": null,
            "grid_template_areas": null,
            "grid_template_columns": null,
            "grid_template_rows": null,
            "height": null,
            "justify_content": null,
            "justify_items": null,
            "left": null,
            "margin": null,
            "max_height": null,
            "max_width": null,
            "min_height": null,
            "min_width": null,
            "object_fit": null,
            "object_position": null,
            "order": null,
            "overflow": null,
            "overflow_x": null,
            "overflow_y": null,
            "padding": null,
            "right": null,
            "top": null,
            "visibility": null,
            "width": null
          }
        },
        "db8e4e83180e4f1db7899f18a18ea2f6": {
          "model_module": "@jupyter-widgets/controls",
          "model_name": "ButtonStyleModel",
          "model_module_version": "1.5.0",
          "state": {
            "_model_module": "@jupyter-widgets/controls",
            "_model_module_version": "1.5.0",
            "_model_name": "ButtonStyleModel",
            "_view_count": null,
            "_view_module": "@jupyter-widgets/base",
            "_view_module_version": "1.2.0",
            "_view_name": "StyleView",
            "button_color": null,
            "font_weight": ""
          }
        },
        "19892ed821604631ae07591287d8f087": {
          "model_module": "@jupyter-widgets/base",
          "model_name": "LayoutModel",
          "model_module_version": "1.2.0",
          "state": {
            "_model_module": "@jupyter-widgets/base",
            "_model_module_version": "1.2.0",
            "_model_name": "LayoutModel",
            "_view_count": null,
            "_view_module": "@jupyter-widgets/base",
            "_view_module_version": "1.2.0",
            "_view_name": "LayoutView",
            "align_content": null,
            "align_items": null,
            "align_self": null,
            "border": null,
            "bottom": null,
            "display": null,
            "flex": null,
            "flex_flow": null,
            "grid_area": null,
            "grid_auto_columns": null,
            "grid_auto_flow": null,
            "grid_auto_rows": null,
            "grid_column": null,
            "grid_gap": null,
            "grid_row": null,
            "grid_template_areas": null,
            "grid_template_columns": null,
            "grid_template_rows": null,
            "height": null,
            "justify_content": null,
            "justify_items": null,
            "left": null,
            "margin": null,
            "max_height": null,
            "max_width": null,
            "min_height": null,
            "min_width": null,
            "object_fit": null,
            "object_position": null,
            "order": null,
            "overflow": null,
            "overflow_x": null,
            "overflow_y": null,
            "padding": null,
            "right": null,
            "top": null,
            "visibility": null,
            "width": null
          }
        },
        "4cd2e148562c4dff880daa912edb4de4": {
          "model_module": "@jupyter-widgets/controls",
          "model_name": "DescriptionStyleModel",
          "model_module_version": "1.5.0",
          "state": {
            "_model_module": "@jupyter-widgets/controls",
            "_model_module_version": "1.5.0",
            "_model_name": "DescriptionStyleModel",
            "_view_count": null,
            "_view_module": "@jupyter-widgets/base",
            "_view_module_version": "1.2.0",
            "_view_name": "StyleView",
            "description_width": ""
          }
        },
        "240f1968c3644fa2a797f174ff17c159": {
          "model_module": "@jupyter-widgets/controls",
          "model_name": "LabelModel",
          "model_module_version": "1.5.0",
          "state": {
            "_dom_classes": [],
            "_model_module": "@jupyter-widgets/controls",
            "_model_module_version": "1.5.0",
            "_model_name": "LabelModel",
            "_view_count": null,
            "_view_module": "@jupyter-widgets/controls",
            "_view_module_version": "1.5.0",
            "_view_name": "LabelView",
            "description": "",
            "description_tooltip": null,
            "layout": "IPY_MODEL_c08606e2d863466eb6dd1450e270798b",
            "placeholder": "​",
            "style": "IPY_MODEL_ebcf2359cdcc45589b6a27a313e0a01c",
            "value": "Connecting..."
          }
        },
        "c08606e2d863466eb6dd1450e270798b": {
          "model_module": "@jupyter-widgets/base",
          "model_name": "LayoutModel",
          "model_module_version": "1.2.0",
          "state": {
            "_model_module": "@jupyter-widgets/base",
            "_model_module_version": "1.2.0",
            "_model_name": "LayoutModel",
            "_view_count": null,
            "_view_module": "@jupyter-widgets/base",
            "_view_module_version": "1.2.0",
            "_view_name": "LayoutView",
            "align_content": null,
            "align_items": null,
            "align_self": null,
            "border": null,
            "bottom": null,
            "display": null,
            "flex": null,
            "flex_flow": null,
            "grid_area": null,
            "grid_auto_columns": null,
            "grid_auto_flow": null,
            "grid_auto_rows": null,
            "grid_column": null,
            "grid_gap": null,
            "grid_row": null,
            "grid_template_areas": null,
            "grid_template_columns": null,
            "grid_template_rows": null,
            "height": null,
            "justify_content": null,
            "justify_items": null,
            "left": null,
            "margin": null,
            "max_height": null,
            "max_width": null,
            "min_height": null,
            "min_width": null,
            "object_fit": null,
            "object_position": null,
            "order": null,
            "overflow": null,
            "overflow_x": null,
            "overflow_y": null,
            "padding": null,
            "right": null,
            "top": null,
            "visibility": null,
            "width": null
          }
        },
        "ebcf2359cdcc45589b6a27a313e0a01c": {
          "model_module": "@jupyter-widgets/controls",
          "model_name": "DescriptionStyleModel",
          "model_module_version": "1.5.0",
          "state": {
            "_model_module": "@jupyter-widgets/controls",
            "_model_module_version": "1.5.0",
            "_model_name": "DescriptionStyleModel",
            "_view_count": null,
            "_view_module": "@jupyter-widgets/base",
            "_view_module_version": "1.2.0",
            "_view_name": "StyleView",
            "description_width": ""
          }
        },
        "65129c61620647bcb5ab8f545bf127c5": {
          "model_module": "@jupyter-widgets/controls",
          "model_name": "HBoxModel",
          "model_module_version": "1.5.0",
          "state": {
            "_dom_classes": [],
            "_model_module": "@jupyter-widgets/controls",
            "_model_module_version": "1.5.0",
            "_model_name": "HBoxModel",
            "_view_count": null,
            "_view_module": "@jupyter-widgets/controls",
            "_view_module_version": "1.5.0",
            "_view_name": "HBoxView",
            "box_style": "",
            "children": [
              "IPY_MODEL_4d768ce143ca4afc852e31f7ccf0988d",
              "IPY_MODEL_959dfe5c48714dd3bdc722c79fbb8038",
              "IPY_MODEL_12c60d7fb6d74362acc57c759536d7fe"
            ],
            "layout": "IPY_MODEL_2038086db140430bb37de40f245cda6d"
          }
        },
        "4d768ce143ca4afc852e31f7ccf0988d": {
          "model_module": "@jupyter-widgets/controls",
          "model_name": "HTMLModel",
          "model_module_version": "1.5.0",
          "state": {
            "_dom_classes": [],
            "_model_module": "@jupyter-widgets/controls",
            "_model_module_version": "1.5.0",
            "_model_name": "HTMLModel",
            "_view_count": null,
            "_view_module": "@jupyter-widgets/controls",
            "_view_module_version": "1.5.0",
            "_view_name": "HTMLView",
            "description": "",
            "description_tooltip": null,
            "layout": "IPY_MODEL_b0be3311a48449398b64ca7d94c2f613",
            "placeholder": "​",
            "style": "IPY_MODEL_5cd2034132f14c71a45c70e453037304",
            "value": "config.yaml: 100%"
          }
        },
        "959dfe5c48714dd3bdc722c79fbb8038": {
          "model_module": "@jupyter-widgets/controls",
          "model_name": "FloatProgressModel",
          "model_module_version": "1.5.0",
          "state": {
            "_dom_classes": [],
            "_model_module": "@jupyter-widgets/controls",
            "_model_module_version": "1.5.0",
            "_model_name": "FloatProgressModel",
            "_view_count": null,
            "_view_module": "@jupyter-widgets/controls",
            "_view_module_version": "1.5.0",
            "_view_name": "ProgressView",
            "bar_style": "success",
            "description": "",
            "description_tooltip": null,
            "layout": "IPY_MODEL_894b9711f2d54e2c8770ebecb8817646",
            "max": 469,
            "min": 0,
            "orientation": "horizontal",
            "style": "IPY_MODEL_1da2873093994fd9a3f073b89f184141",
            "value": 469
          }
        },
        "12c60d7fb6d74362acc57c759536d7fe": {
          "model_module": "@jupyter-widgets/controls",
          "model_name": "HTMLModel",
          "model_module_version": "1.5.0",
          "state": {
            "_dom_classes": [],
            "_model_module": "@jupyter-widgets/controls",
            "_model_module_version": "1.5.0",
            "_model_name": "HTMLModel",
            "_view_count": null,
            "_view_module": "@jupyter-widgets/controls",
            "_view_module_version": "1.5.0",
            "_view_name": "HTMLView",
            "description": "",
            "description_tooltip": null,
            "layout": "IPY_MODEL_d2015d57d59f42cab8bd333a3199326e",
            "placeholder": "​",
            "style": "IPY_MODEL_65c4bc69c80548fb8eca89383d02868c",
            "value": " 469/469 [00:00&lt;00:00, 31.9kB/s]"
          }
        },
        "2038086db140430bb37de40f245cda6d": {
          "model_module": "@jupyter-widgets/base",
          "model_name": "LayoutModel",
          "model_module_version": "1.2.0",
          "state": {
            "_model_module": "@jupyter-widgets/base",
            "_model_module_version": "1.2.0",
            "_model_name": "LayoutModel",
            "_view_count": null,
            "_view_module": "@jupyter-widgets/base",
            "_view_module_version": "1.2.0",
            "_view_name": "LayoutView",
            "align_content": null,
            "align_items": null,
            "align_self": null,
            "border": null,
            "bottom": null,
            "display": null,
            "flex": null,
            "flex_flow": null,
            "grid_area": null,
            "grid_auto_columns": null,
            "grid_auto_flow": null,
            "grid_auto_rows": null,
            "grid_column": null,
            "grid_gap": null,
            "grid_row": null,
            "grid_template_areas": null,
            "grid_template_columns": null,
            "grid_template_rows": null,
            "height": null,
            "justify_content": null,
            "justify_items": null,
            "left": null,
            "margin": null,
            "max_height": null,
            "max_width": null,
            "min_height": null,
            "min_width": null,
            "object_fit": null,
            "object_position": null,
            "order": null,
            "overflow": null,
            "overflow_x": null,
            "overflow_y": null,
            "padding": null,
            "right": null,
            "top": null,
            "visibility": null,
            "width": null
          }
        },
        "b0be3311a48449398b64ca7d94c2f613": {
          "model_module": "@jupyter-widgets/base",
          "model_name": "LayoutModel",
          "model_module_version": "1.2.0",
          "state": {
            "_model_module": "@jupyter-widgets/base",
            "_model_module_version": "1.2.0",
            "_model_name": "LayoutModel",
            "_view_count": null,
            "_view_module": "@jupyter-widgets/base",
            "_view_module_version": "1.2.0",
            "_view_name": "LayoutView",
            "align_content": null,
            "align_items": null,
            "align_self": null,
            "border": null,
            "bottom": null,
            "display": null,
            "flex": null,
            "flex_flow": null,
            "grid_area": null,
            "grid_auto_columns": null,
            "grid_auto_flow": null,
            "grid_auto_rows": null,
            "grid_column": null,
            "grid_gap": null,
            "grid_row": null,
            "grid_template_areas": null,
            "grid_template_columns": null,
            "grid_template_rows": null,
            "height": null,
            "justify_content": null,
            "justify_items": null,
            "left": null,
            "margin": null,
            "max_height": null,
            "max_width": null,
            "min_height": null,
            "min_width": null,
            "object_fit": null,
            "object_position": null,
            "order": null,
            "overflow": null,
            "overflow_x": null,
            "overflow_y": null,
            "padding": null,
            "right": null,
            "top": null,
            "visibility": null,
            "width": null
          }
        },
        "5cd2034132f14c71a45c70e453037304": {
          "model_module": "@jupyter-widgets/controls",
          "model_name": "DescriptionStyleModel",
          "model_module_version": "1.5.0",
          "state": {
            "_model_module": "@jupyter-widgets/controls",
            "_model_module_version": "1.5.0",
            "_model_name": "DescriptionStyleModel",
            "_view_count": null,
            "_view_module": "@jupyter-widgets/base",
            "_view_module_version": "1.2.0",
            "_view_name": "StyleView",
            "description_width": ""
          }
        },
        "894b9711f2d54e2c8770ebecb8817646": {
          "model_module": "@jupyter-widgets/base",
          "model_name": "LayoutModel",
          "model_module_version": "1.2.0",
          "state": {
            "_model_module": "@jupyter-widgets/base",
            "_model_module_version": "1.2.0",
            "_model_name": "LayoutModel",
            "_view_count": null,
            "_view_module": "@jupyter-widgets/base",
            "_view_module_version": "1.2.0",
            "_view_name": "LayoutView",
            "align_content": null,
            "align_items": null,
            "align_self": null,
            "border": null,
            "bottom": null,
            "display": null,
            "flex": null,
            "flex_flow": null,
            "grid_area": null,
            "grid_auto_columns": null,
            "grid_auto_flow": null,
            "grid_auto_rows": null,
            "grid_column": null,
            "grid_gap": null,
            "grid_row": null,
            "grid_template_areas": null,
            "grid_template_columns": null,
            "grid_template_rows": null,
            "height": null,
            "justify_content": null,
            "justify_items": null,
            "left": null,
            "margin": null,
            "max_height": null,
            "max_width": null,
            "min_height": null,
            "min_width": null,
            "object_fit": null,
            "object_position": null,
            "order": null,
            "overflow": null,
            "overflow_x": null,
            "overflow_y": null,
            "padding": null,
            "right": null,
            "top": null,
            "visibility": null,
            "width": null
          }
        },
        "1da2873093994fd9a3f073b89f184141": {
          "model_module": "@jupyter-widgets/controls",
          "model_name": "ProgressStyleModel",
          "model_module_version": "1.5.0",
          "state": {
            "_model_module": "@jupyter-widgets/controls",
            "_model_module_version": "1.5.0",
            "_model_name": "ProgressStyleModel",
            "_view_count": null,
            "_view_module": "@jupyter-widgets/base",
            "_view_module_version": "1.2.0",
            "_view_name": "StyleView",
            "bar_color": null,
            "description_width": ""
          }
        },
        "d2015d57d59f42cab8bd333a3199326e": {
          "model_module": "@jupyter-widgets/base",
          "model_name": "LayoutModel",
          "model_module_version": "1.2.0",
          "state": {
            "_model_module": "@jupyter-widgets/base",
            "_model_module_version": "1.2.0",
            "_model_name": "LayoutModel",
            "_view_count": null,
            "_view_module": "@jupyter-widgets/base",
            "_view_module_version": "1.2.0",
            "_view_name": "LayoutView",
            "align_content": null,
            "align_items": null,
            "align_self": null,
            "border": null,
            "bottom": null,
            "display": null,
            "flex": null,
            "flex_flow": null,
            "grid_area": null,
            "grid_auto_columns": null,
            "grid_auto_flow": null,
            "grid_auto_rows": null,
            "grid_column": null,
            "grid_gap": null,
            "grid_row": null,
            "grid_template_areas": null,
            "grid_template_columns": null,
            "grid_template_rows": null,
            "height": null,
            "justify_content": null,
            "justify_items": null,
            "left": null,
            "margin": null,
            "max_height": null,
            "max_width": null,
            "min_height": null,
            "min_width": null,
            "object_fit": null,
            "object_position": null,
            "order": null,
            "overflow": null,
            "overflow_x": null,
            "overflow_y": null,
            "padding": null,
            "right": null,
            "top": null,
            "visibility": null,
            "width": null
          }
        },
        "65c4bc69c80548fb8eca89383d02868c": {
          "model_module": "@jupyter-widgets/controls",
          "model_name": "DescriptionStyleModel",
          "model_module_version": "1.5.0",
          "state": {
            "_model_module": "@jupyter-widgets/controls",
            "_model_module_version": "1.5.0",
            "_model_name": "DescriptionStyleModel",
            "_view_count": null,
            "_view_module": "@jupyter-widgets/base",
            "_view_module_version": "1.2.0",
            "_view_name": "StyleView",
            "description_width": ""
          }
        },
        "dc0d1fb5b0bb4a3cac58e7a3e4acb779": {
          "model_module": "@jupyter-widgets/controls",
          "model_name": "HBoxModel",
          "model_module_version": "1.5.0",
          "state": {
            "_dom_classes": [],
            "_model_module": "@jupyter-widgets/controls",
            "_model_module_version": "1.5.0",
            "_model_name": "HBoxModel",
            "_view_count": null,
            "_view_module": "@jupyter-widgets/controls",
            "_view_module_version": "1.5.0",
            "_view_name": "HBoxView",
            "box_style": "",
            "children": [
              "IPY_MODEL_f1efe685c3d84e4988e33cbbf8e8cdbb",
              "IPY_MODEL_cae8c86c5e604ec18dc97bb979d0b836",
              "IPY_MODEL_99af074656944391b475e7acab3fc309"
            ],
            "layout": "IPY_MODEL_bb2264f345aa4c8ba5d99a6aa5c96cf4"
          }
        },
        "f1efe685c3d84e4988e33cbbf8e8cdbb": {
          "model_module": "@jupyter-widgets/controls",
          "model_name": "HTMLModel",
          "model_module_version": "1.5.0",
          "state": {
            "_dom_classes": [],
            "_model_module": "@jupyter-widgets/controls",
            "_model_module_version": "1.5.0",
            "_model_name": "HTMLModel",
            "_view_count": null,
            "_view_module": "@jupyter-widgets/controls",
            "_view_module_version": "1.5.0",
            "_view_name": "HTMLView",
            "description": "",
            "description_tooltip": null,
            "layout": "IPY_MODEL_e3ecdc9a1b1342e28e1fc9f138ced249",
            "placeholder": "​",
            "style": "IPY_MODEL_6136ee3731494c0e9f236b6f2c9bd962",
            "value": "pytorch_model.bin: 100%"
          }
        },
        "cae8c86c5e604ec18dc97bb979d0b836": {
          "model_module": "@jupyter-widgets/controls",
          "model_name": "FloatProgressModel",
          "model_module_version": "1.5.0",
          "state": {
            "_dom_classes": [],
            "_model_module": "@jupyter-widgets/controls",
            "_model_module_version": "1.5.0",
            "_model_name": "FloatProgressModel",
            "_view_count": null,
            "_view_module": "@jupyter-widgets/controls",
            "_view_module_version": "1.5.0",
            "_view_name": "ProgressView",
            "bar_style": "success",
            "description": "",
            "description_tooltip": null,
            "layout": "IPY_MODEL_ae993f7ae6c74e1c808bef5122ac0091",
            "max": 5905440,
            "min": 0,
            "orientation": "horizontal",
            "style": "IPY_MODEL_7a1c8b18ce574fc9974381c5007aa7e2",
            "value": 5905440
          }
        },
        "99af074656944391b475e7acab3fc309": {
          "model_module": "@jupyter-widgets/controls",
          "model_name": "HTMLModel",
          "model_module_version": "1.5.0",
          "state": {
            "_dom_classes": [],
            "_model_module": "@jupyter-widgets/controls",
            "_model_module_version": "1.5.0",
            "_model_name": "HTMLModel",
            "_view_count": null,
            "_view_module": "@jupyter-widgets/controls",
            "_view_module_version": "1.5.0",
            "_view_name": "HTMLView",
            "description": "",
            "description_tooltip": null,
            "layout": "IPY_MODEL_49bf3672b3704c3ea72e7af62f078756",
            "placeholder": "​",
            "style": "IPY_MODEL_9151ccdf20e74c1db1a309b709230529",
            "value": " 5.91M/5.91M [00:00&lt;00:00, 66.1MB/s]"
          }
        },
        "bb2264f345aa4c8ba5d99a6aa5c96cf4": {
          "model_module": "@jupyter-widgets/base",
          "model_name": "LayoutModel",
          "model_module_version": "1.2.0",
          "state": {
            "_model_module": "@jupyter-widgets/base",
            "_model_module_version": "1.2.0",
            "_model_name": "LayoutModel",
            "_view_count": null,
            "_view_module": "@jupyter-widgets/base",
            "_view_module_version": "1.2.0",
            "_view_name": "LayoutView",
            "align_content": null,
            "align_items": null,
            "align_self": null,
            "border": null,
            "bottom": null,
            "display": null,
            "flex": null,
            "flex_flow": null,
            "grid_area": null,
            "grid_auto_columns": null,
            "grid_auto_flow": null,
            "grid_auto_rows": null,
            "grid_column": null,
            "grid_gap": null,
            "grid_row": null,
            "grid_template_areas": null,
            "grid_template_columns": null,
            "grid_template_rows": null,
            "height": null,
            "justify_content": null,
            "justify_items": null,
            "left": null,
            "margin": null,
            "max_height": null,
            "max_width": null,
            "min_height": null,
            "min_width": null,
            "object_fit": null,
            "object_position": null,
            "order": null,
            "overflow": null,
            "overflow_x": null,
            "overflow_y": null,
            "padding": null,
            "right": null,
            "top": null,
            "visibility": null,
            "width": null
          }
        },
        "e3ecdc9a1b1342e28e1fc9f138ced249": {
          "model_module": "@jupyter-widgets/base",
          "model_name": "LayoutModel",
          "model_module_version": "1.2.0",
          "state": {
            "_model_module": "@jupyter-widgets/base",
            "_model_module_version": "1.2.0",
            "_model_name": "LayoutModel",
            "_view_count": null,
            "_view_module": "@jupyter-widgets/base",
            "_view_module_version": "1.2.0",
            "_view_name": "LayoutView",
            "align_content": null,
            "align_items": null,
            "align_self": null,
            "border": null,
            "bottom": null,
            "display": null,
            "flex": null,
            "flex_flow": null,
            "grid_area": null,
            "grid_auto_columns": null,
            "grid_auto_flow": null,
            "grid_auto_rows": null,
            "grid_column": null,
            "grid_gap": null,
            "grid_row": null,
            "grid_template_areas": null,
            "grid_template_columns": null,
            "grid_template_rows": null,
            "height": null,
            "justify_content": null,
            "justify_items": null,
            "left": null,
            "margin": null,
            "max_height": null,
            "max_width": null,
            "min_height": null,
            "min_width": null,
            "object_fit": null,
            "object_position": null,
            "order": null,
            "overflow": null,
            "overflow_x": null,
            "overflow_y": null,
            "padding": null,
            "right": null,
            "top": null,
            "visibility": null,
            "width": null
          }
        },
        "6136ee3731494c0e9f236b6f2c9bd962": {
          "model_module": "@jupyter-widgets/controls",
          "model_name": "DescriptionStyleModel",
          "model_module_version": "1.5.0",
          "state": {
            "_model_module": "@jupyter-widgets/controls",
            "_model_module_version": "1.5.0",
            "_model_name": "DescriptionStyleModel",
            "_view_count": null,
            "_view_module": "@jupyter-widgets/base",
            "_view_module_version": "1.2.0",
            "_view_name": "StyleView",
            "description_width": ""
          }
        },
        "ae993f7ae6c74e1c808bef5122ac0091": {
          "model_module": "@jupyter-widgets/base",
          "model_name": "LayoutModel",
          "model_module_version": "1.2.0",
          "state": {
            "_model_module": "@jupyter-widgets/base",
            "_model_module_version": "1.2.0",
            "_model_name": "LayoutModel",
            "_view_count": null,
            "_view_module": "@jupyter-widgets/base",
            "_view_module_version": "1.2.0",
            "_view_name": "LayoutView",
            "align_content": null,
            "align_items": null,
            "align_self": null,
            "border": null,
            "bottom": null,
            "display": null,
            "flex": null,
            "flex_flow": null,
            "grid_area": null,
            "grid_auto_columns": null,
            "grid_auto_flow": null,
            "grid_auto_rows": null,
            "grid_column": null,
            "grid_gap": null,
            "grid_row": null,
            "grid_template_areas": null,
            "grid_template_columns": null,
            "grid_template_rows": null,
            "height": null,
            "justify_content": null,
            "justify_items": null,
            "left": null,
            "margin": null,
            "max_height": null,
            "max_width": null,
            "min_height": null,
            "min_width": null,
            "object_fit": null,
            "object_position": null,
            "order": null,
            "overflow": null,
            "overflow_x": null,
            "overflow_y": null,
            "padding": null,
            "right": null,
            "top": null,
            "visibility": null,
            "width": null
          }
        },
        "7a1c8b18ce574fc9974381c5007aa7e2": {
          "model_module": "@jupyter-widgets/controls",
          "model_name": "ProgressStyleModel",
          "model_module_version": "1.5.0",
          "state": {
            "_model_module": "@jupyter-widgets/controls",
            "_model_module_version": "1.5.0",
            "_model_name": "ProgressStyleModel",
            "_view_count": null,
            "_view_module": "@jupyter-widgets/base",
            "_view_module_version": "1.2.0",
            "_view_name": "StyleView",
            "bar_color": null,
            "description_width": ""
          }
        },
        "49bf3672b3704c3ea72e7af62f078756": {
          "model_module": "@jupyter-widgets/base",
          "model_name": "LayoutModel",
          "model_module_version": "1.2.0",
          "state": {
            "_model_module": "@jupyter-widgets/base",
            "_model_module_version": "1.2.0",
            "_model_name": "LayoutModel",
            "_view_count": null,
            "_view_module": "@jupyter-widgets/base",
            "_view_module_version": "1.2.0",
            "_view_name": "LayoutView",
            "align_content": null,
            "align_items": null,
            "align_self": null,
            "border": null,
            "bottom": null,
            "display": null,
            "flex": null,
            "flex_flow": null,
            "grid_area": null,
            "grid_auto_columns": null,
            "grid_auto_flow": null,
            "grid_auto_rows": null,
            "grid_column": null,
            "grid_gap": null,
            "grid_row": null,
            "grid_template_areas": null,
            "grid_template_columns": null,
            "grid_template_rows": null,
            "height": null,
            "justify_content": null,
            "justify_items": null,
            "left": null,
            "margin": null,
            "max_height": null,
            "max_width": null,
            "min_height": null,
            "min_width": null,
            "object_fit": null,
            "object_position": null,
            "order": null,
            "overflow": null,
            "overflow_x": null,
            "overflow_y": null,
            "padding": null,
            "right": null,
            "top": null,
            "visibility": null,
            "width": null
          }
        },
        "9151ccdf20e74c1db1a309b709230529": {
          "model_module": "@jupyter-widgets/controls",
          "model_name": "DescriptionStyleModel",
          "model_module_version": "1.5.0",
          "state": {
            "_model_module": "@jupyter-widgets/controls",
            "_model_module_version": "1.5.0",
            "_model_name": "DescriptionStyleModel",
            "_view_count": null,
            "_view_module": "@jupyter-widgets/base",
            "_view_module_version": "1.2.0",
            "_view_name": "StyleView",
            "description_width": ""
          }
        },
        "47a18aae46b3424ebae1a5cbda3d48e0": {
          "model_module": "@jupyter-widgets/controls",
          "model_name": "HBoxModel",
          "model_module_version": "1.5.0",
          "state": {
            "_dom_classes": [],
            "_model_module": "@jupyter-widgets/controls",
            "_model_module_version": "1.5.0",
            "_model_name": "HBoxModel",
            "_view_count": null,
            "_view_module": "@jupyter-widgets/controls",
            "_view_module_version": "1.5.0",
            "_view_name": "HBoxView",
            "box_style": "",
            "children": [
              "IPY_MODEL_e886b8931d9c4637a6f7241312baba7e",
              "IPY_MODEL_0f85db40106f4fc195a855f57146f13c",
              "IPY_MODEL_3c8467346b154ae789e22eae88d46970"
            ],
            "layout": "IPY_MODEL_6a624f3d24f34e49be44ec450c868248"
          }
        },
        "e886b8931d9c4637a6f7241312baba7e": {
          "model_module": "@jupyter-widgets/controls",
          "model_name": "HTMLModel",
          "model_module_version": "1.5.0",
          "state": {
            "_dom_classes": [],
            "_model_module": "@jupyter-widgets/controls",
            "_model_module_version": "1.5.0",
            "_model_name": "HTMLModel",
            "_view_count": null,
            "_view_module": "@jupyter-widgets/controls",
            "_view_module_version": "1.5.0",
            "_view_name": "HTMLView",
            "description": "",
            "description_tooltip": null,
            "layout": "IPY_MODEL_55936c58dec942d3bc1912c03cb5e00e",
            "placeholder": "​",
            "style": "IPY_MODEL_695871c748ea401697e275f3c0795c0b",
            "value": "config.yaml: 100%"
          }
        },
        "0f85db40106f4fc195a855f57146f13c": {
          "model_module": "@jupyter-widgets/controls",
          "model_name": "FloatProgressModel",
          "model_module_version": "1.5.0",
          "state": {
            "_dom_classes": [],
            "_model_module": "@jupyter-widgets/controls",
            "_model_module_version": "1.5.0",
            "_model_name": "FloatProgressModel",
            "_view_count": null,
            "_view_module": "@jupyter-widgets/controls",
            "_view_module_version": "1.5.0",
            "_view_name": "ProgressView",
            "bar_style": "success",
            "description": "",
            "description_tooltip": null,
            "layout": "IPY_MODEL_115a0966a1034f9aad21edef5e3d5c0f",
            "max": 399,
            "min": 0,
            "orientation": "horizontal",
            "style": "IPY_MODEL_ce3708bbe901456588855c5ed78cbfa5",
            "value": 399
          }
        },
        "3c8467346b154ae789e22eae88d46970": {
          "model_module": "@jupyter-widgets/controls",
          "model_name": "HTMLModel",
          "model_module_version": "1.5.0",
          "state": {
            "_dom_classes": [],
            "_model_module": "@jupyter-widgets/controls",
            "_model_module_version": "1.5.0",
            "_model_name": "HTMLModel",
            "_view_count": null,
            "_view_module": "@jupyter-widgets/controls",
            "_view_module_version": "1.5.0",
            "_view_name": "HTMLView",
            "description": "",
            "description_tooltip": null,
            "layout": "IPY_MODEL_e980d09911d741c4af1c93289d301f52",
            "placeholder": "​",
            "style": "IPY_MODEL_7f15984b8a8c4ddaad44a4b45ca62aca",
            "value": " 399/399 [00:00&lt;00:00, 34.4kB/s]"
          }
        },
        "6a624f3d24f34e49be44ec450c868248": {
          "model_module": "@jupyter-widgets/base",
          "model_name": "LayoutModel",
          "model_module_version": "1.2.0",
          "state": {
            "_model_module": "@jupyter-widgets/base",
            "_model_module_version": "1.2.0",
            "_model_name": "LayoutModel",
            "_view_count": null,
            "_view_module": "@jupyter-widgets/base",
            "_view_module_version": "1.2.0",
            "_view_name": "LayoutView",
            "align_content": null,
            "align_items": null,
            "align_self": null,
            "border": null,
            "bottom": null,
            "display": null,
            "flex": null,
            "flex_flow": null,
            "grid_area": null,
            "grid_auto_columns": null,
            "grid_auto_flow": null,
            "grid_auto_rows": null,
            "grid_column": null,
            "grid_gap": null,
            "grid_row": null,
            "grid_template_areas": null,
            "grid_template_columns": null,
            "grid_template_rows": null,
            "height": null,
            "justify_content": null,
            "justify_items": null,
            "left": null,
            "margin": null,
            "max_height": null,
            "max_width": null,
            "min_height": null,
            "min_width": null,
            "object_fit": null,
            "object_position": null,
            "order": null,
            "overflow": null,
            "overflow_x": null,
            "overflow_y": null,
            "padding": null,
            "right": null,
            "top": null,
            "visibility": null,
            "width": null
          }
        },
        "55936c58dec942d3bc1912c03cb5e00e": {
          "model_module": "@jupyter-widgets/base",
          "model_name": "LayoutModel",
          "model_module_version": "1.2.0",
          "state": {
            "_model_module": "@jupyter-widgets/base",
            "_model_module_version": "1.2.0",
            "_model_name": "LayoutModel",
            "_view_count": null,
            "_view_module": "@jupyter-widgets/base",
            "_view_module_version": "1.2.0",
            "_view_name": "LayoutView",
            "align_content": null,
            "align_items": null,
            "align_self": null,
            "border": null,
            "bottom": null,
            "display": null,
            "flex": null,
            "flex_flow": null,
            "grid_area": null,
            "grid_auto_columns": null,
            "grid_auto_flow": null,
            "grid_auto_rows": null,
            "grid_column": null,
            "grid_gap": null,
            "grid_row": null,
            "grid_template_areas": null,
            "grid_template_columns": null,
            "grid_template_rows": null,
            "height": null,
            "justify_content": null,
            "justify_items": null,
            "left": null,
            "margin": null,
            "max_height": null,
            "max_width": null,
            "min_height": null,
            "min_width": null,
            "object_fit": null,
            "object_position": null,
            "order": null,
            "overflow": null,
            "overflow_x": null,
            "overflow_y": null,
            "padding": null,
            "right": null,
            "top": null,
            "visibility": null,
            "width": null
          }
        },
        "695871c748ea401697e275f3c0795c0b": {
          "model_module": "@jupyter-widgets/controls",
          "model_name": "DescriptionStyleModel",
          "model_module_version": "1.5.0",
          "state": {
            "_model_module": "@jupyter-widgets/controls",
            "_model_module_version": "1.5.0",
            "_model_name": "DescriptionStyleModel",
            "_view_count": null,
            "_view_module": "@jupyter-widgets/base",
            "_view_module_version": "1.2.0",
            "_view_name": "StyleView",
            "description_width": ""
          }
        },
        "115a0966a1034f9aad21edef5e3d5c0f": {
          "model_module": "@jupyter-widgets/base",
          "model_name": "LayoutModel",
          "model_module_version": "1.2.0",
          "state": {
            "_model_module": "@jupyter-widgets/base",
            "_model_module_version": "1.2.0",
            "_model_name": "LayoutModel",
            "_view_count": null,
            "_view_module": "@jupyter-widgets/base",
            "_view_module_version": "1.2.0",
            "_view_name": "LayoutView",
            "align_content": null,
            "align_items": null,
            "align_self": null,
            "border": null,
            "bottom": null,
            "display": null,
            "flex": null,
            "flex_flow": null,
            "grid_area": null,
            "grid_auto_columns": null,
            "grid_auto_flow": null,
            "grid_auto_rows": null,
            "grid_column": null,
            "grid_gap": null,
            "grid_row": null,
            "grid_template_areas": null,
            "grid_template_columns": null,
            "grid_template_rows": null,
            "height": null,
            "justify_content": null,
            "justify_items": null,
            "left": null,
            "margin": null,
            "max_height": null,
            "max_width": null,
            "min_height": null,
            "min_width": null,
            "object_fit": null,
            "object_position": null,
            "order": null,
            "overflow": null,
            "overflow_x": null,
            "overflow_y": null,
            "padding": null,
            "right": null,
            "top": null,
            "visibility": null,
            "width": null
          }
        },
        "ce3708bbe901456588855c5ed78cbfa5": {
          "model_module": "@jupyter-widgets/controls",
          "model_name": "ProgressStyleModel",
          "model_module_version": "1.5.0",
          "state": {
            "_model_module": "@jupyter-widgets/controls",
            "_model_module_version": "1.5.0",
            "_model_name": "ProgressStyleModel",
            "_view_count": null,
            "_view_module": "@jupyter-widgets/base",
            "_view_module_version": "1.2.0",
            "_view_name": "StyleView",
            "bar_color": null,
            "description_width": ""
          }
        },
        "e980d09911d741c4af1c93289d301f52": {
          "model_module": "@jupyter-widgets/base",
          "model_name": "LayoutModel",
          "model_module_version": "1.2.0",
          "state": {
            "_model_module": "@jupyter-widgets/base",
            "_model_module_version": "1.2.0",
            "_model_name": "LayoutModel",
            "_view_count": null,
            "_view_module": "@jupyter-widgets/base",
            "_view_module_version": "1.2.0",
            "_view_name": "LayoutView",
            "align_content": null,
            "align_items": null,
            "align_self": null,
            "border": null,
            "bottom": null,
            "display": null,
            "flex": null,
            "flex_flow": null,
            "grid_area": null,
            "grid_auto_columns": null,
            "grid_auto_flow": null,
            "grid_auto_rows": null,
            "grid_column": null,
            "grid_gap": null,
            "grid_row": null,
            "grid_template_areas": null,
            "grid_template_columns": null,
            "grid_template_rows": null,
            "height": null,
            "justify_content": null,
            "justify_items": null,
            "left": null,
            "margin": null,
            "max_height": null,
            "max_width": null,
            "min_height": null,
            "min_width": null,
            "object_fit": null,
            "object_position": null,
            "order": null,
            "overflow": null,
            "overflow_x": null,
            "overflow_y": null,
            "padding": null,
            "right": null,
            "top": null,
            "visibility": null,
            "width": null
          }
        },
        "7f15984b8a8c4ddaad44a4b45ca62aca": {
          "model_module": "@jupyter-widgets/controls",
          "model_name": "DescriptionStyleModel",
          "model_module_version": "1.5.0",
          "state": {
            "_model_module": "@jupyter-widgets/controls",
            "_model_module_version": "1.5.0",
            "_model_name": "DescriptionStyleModel",
            "_view_count": null,
            "_view_module": "@jupyter-widgets/base",
            "_view_module_version": "1.2.0",
            "_view_name": "StyleView",
            "description_width": ""
          }
        },
        "a1e0902906624cf5aa65c713d3b22ebc": {
          "model_module": "@jupyter-widgets/controls",
          "model_name": "HBoxModel",
          "model_module_version": "1.5.0",
          "state": {
            "_dom_classes": [],
            "_model_module": "@jupyter-widgets/controls",
            "_model_module_version": "1.5.0",
            "_model_name": "HBoxModel",
            "_view_count": null,
            "_view_module": "@jupyter-widgets/controls",
            "_view_module_version": "1.5.0",
            "_view_name": "HBoxView",
            "box_style": "",
            "children": [
              "IPY_MODEL_39064d544d794e3096bb90d00d8aa11f",
              "IPY_MODEL_2d10b4d8fb0345df8687a22ace8a48a8",
              "IPY_MODEL_13ae85b3f0e3430d93c11fa0a733968d"
            ],
            "layout": "IPY_MODEL_55a0c1b746e649cf904b5bb823a8e85f"
          }
        },
        "39064d544d794e3096bb90d00d8aa11f": {
          "model_module": "@jupyter-widgets/controls",
          "model_name": "HTMLModel",
          "model_module_version": "1.5.0",
          "state": {
            "_dom_classes": [],
            "_model_module": "@jupyter-widgets/controls",
            "_model_module_version": "1.5.0",
            "_model_name": "HTMLModel",
            "_view_count": null,
            "_view_module": "@jupyter-widgets/controls",
            "_view_module_version": "1.5.0",
            "_view_name": "HTMLView",
            "description": "",
            "description_tooltip": null,
            "layout": "IPY_MODEL_d0d278985b38497aaccaa88ddd622c54",
            "placeholder": "​",
            "style": "IPY_MODEL_d7ecdcca529b4634bb6b1225cd9a75b3",
            "value": "pytorch_model.bin: 100%"
          }
        },
        "2d10b4d8fb0345df8687a22ace8a48a8": {
          "model_module": "@jupyter-widgets/controls",
          "model_name": "FloatProgressModel",
          "model_module_version": "1.5.0",
          "state": {
            "_dom_classes": [],
            "_model_module": "@jupyter-widgets/controls",
            "_model_module_version": "1.5.0",
            "_model_name": "FloatProgressModel",
            "_view_count": null,
            "_view_module": "@jupyter-widgets/controls",
            "_view_module_version": "1.5.0",
            "_view_name": "ProgressView",
            "bar_style": "success",
            "description": "",
            "description_tooltip": null,
            "layout": "IPY_MODEL_e0bf977d989c44e8be7a40d50c3e5022",
            "max": 26645418,
            "min": 0,
            "orientation": "horizontal",
            "style": "IPY_MODEL_7a502b961a3b48a9a3da26cc6f3810b1",
            "value": 26645418
          }
        },
        "13ae85b3f0e3430d93c11fa0a733968d": {
          "model_module": "@jupyter-widgets/controls",
          "model_name": "HTMLModel",
          "model_module_version": "1.5.0",
          "state": {
            "_dom_classes": [],
            "_model_module": "@jupyter-widgets/controls",
            "_model_module_version": "1.5.0",
            "_model_name": "HTMLModel",
            "_view_count": null,
            "_view_module": "@jupyter-widgets/controls",
            "_view_module_version": "1.5.0",
            "_view_name": "HTMLView",
            "description": "",
            "description_tooltip": null,
            "layout": "IPY_MODEL_fef4e4e109e14a128eae646044ed70d1",
            "placeholder": "​",
            "style": "IPY_MODEL_b9b3918d6b3b4e0482bb58306a5b09ba",
            "value": " 26.6M/26.6M [00:00&lt;00:00, 47.3MB/s]"
          }
        },
        "55a0c1b746e649cf904b5bb823a8e85f": {
          "model_module": "@jupyter-widgets/base",
          "model_name": "LayoutModel",
          "model_module_version": "1.2.0",
          "state": {
            "_model_module": "@jupyter-widgets/base",
            "_model_module_version": "1.2.0",
            "_model_name": "LayoutModel",
            "_view_count": null,
            "_view_module": "@jupyter-widgets/base",
            "_view_module_version": "1.2.0",
            "_view_name": "LayoutView",
            "align_content": null,
            "align_items": null,
            "align_self": null,
            "border": null,
            "bottom": null,
            "display": null,
            "flex": null,
            "flex_flow": null,
            "grid_area": null,
            "grid_auto_columns": null,
            "grid_auto_flow": null,
            "grid_auto_rows": null,
            "grid_column": null,
            "grid_gap": null,
            "grid_row": null,
            "grid_template_areas": null,
            "grid_template_columns": null,
            "grid_template_rows": null,
            "height": null,
            "justify_content": null,
            "justify_items": null,
            "left": null,
            "margin": null,
            "max_height": null,
            "max_width": null,
            "min_height": null,
            "min_width": null,
            "object_fit": null,
            "object_position": null,
            "order": null,
            "overflow": null,
            "overflow_x": null,
            "overflow_y": null,
            "padding": null,
            "right": null,
            "top": null,
            "visibility": null,
            "width": null
          }
        },
        "d0d278985b38497aaccaa88ddd622c54": {
          "model_module": "@jupyter-widgets/base",
          "model_name": "LayoutModel",
          "model_module_version": "1.2.0",
          "state": {
            "_model_module": "@jupyter-widgets/base",
            "_model_module_version": "1.2.0",
            "_model_name": "LayoutModel",
            "_view_count": null,
            "_view_module": "@jupyter-widgets/base",
            "_view_module_version": "1.2.0",
            "_view_name": "LayoutView",
            "align_content": null,
            "align_items": null,
            "align_self": null,
            "border": null,
            "bottom": null,
            "display": null,
            "flex": null,
            "flex_flow": null,
            "grid_area": null,
            "grid_auto_columns": null,
            "grid_auto_flow": null,
            "grid_auto_rows": null,
            "grid_column": null,
            "grid_gap": null,
            "grid_row": null,
            "grid_template_areas": null,
            "grid_template_columns": null,
            "grid_template_rows": null,
            "height": null,
            "justify_content": null,
            "justify_items": null,
            "left": null,
            "margin": null,
            "max_height": null,
            "max_width": null,
            "min_height": null,
            "min_width": null,
            "object_fit": null,
            "object_position": null,
            "order": null,
            "overflow": null,
            "overflow_x": null,
            "overflow_y": null,
            "padding": null,
            "right": null,
            "top": null,
            "visibility": null,
            "width": null
          }
        },
        "d7ecdcca529b4634bb6b1225cd9a75b3": {
          "model_module": "@jupyter-widgets/controls",
          "model_name": "DescriptionStyleModel",
          "model_module_version": "1.5.0",
          "state": {
            "_model_module": "@jupyter-widgets/controls",
            "_model_module_version": "1.5.0",
            "_model_name": "DescriptionStyleModel",
            "_view_count": null,
            "_view_module": "@jupyter-widgets/base",
            "_view_module_version": "1.2.0",
            "_view_name": "StyleView",
            "description_width": ""
          }
        },
        "e0bf977d989c44e8be7a40d50c3e5022": {
          "model_module": "@jupyter-widgets/base",
          "model_name": "LayoutModel",
          "model_module_version": "1.2.0",
          "state": {
            "_model_module": "@jupyter-widgets/base",
            "_model_module_version": "1.2.0",
            "_model_name": "LayoutModel",
            "_view_count": null,
            "_view_module": "@jupyter-widgets/base",
            "_view_module_version": "1.2.0",
            "_view_name": "LayoutView",
            "align_content": null,
            "align_items": null,
            "align_self": null,
            "border": null,
            "bottom": null,
            "display": null,
            "flex": null,
            "flex_flow": null,
            "grid_area": null,
            "grid_auto_columns": null,
            "grid_auto_flow": null,
            "grid_auto_rows": null,
            "grid_column": null,
            "grid_gap": null,
            "grid_row": null,
            "grid_template_areas": null,
            "grid_template_columns": null,
            "grid_template_rows": null,
            "height": null,
            "justify_content": null,
            "justify_items": null,
            "left": null,
            "margin": null,
            "max_height": null,
            "max_width": null,
            "min_height": null,
            "min_width": null,
            "object_fit": null,
            "object_position": null,
            "order": null,
            "overflow": null,
            "overflow_x": null,
            "overflow_y": null,
            "padding": null,
            "right": null,
            "top": null,
            "visibility": null,
            "width": null
          }
        },
        "7a502b961a3b48a9a3da26cc6f3810b1": {
          "model_module": "@jupyter-widgets/controls",
          "model_name": "ProgressStyleModel",
          "model_module_version": "1.5.0",
          "state": {
            "_model_module": "@jupyter-widgets/controls",
            "_model_module_version": "1.5.0",
            "_model_name": "ProgressStyleModel",
            "_view_count": null,
            "_view_module": "@jupyter-widgets/base",
            "_view_module_version": "1.2.0",
            "_view_name": "StyleView",
            "bar_color": null,
            "description_width": ""
          }
        },
        "fef4e4e109e14a128eae646044ed70d1": {
          "model_module": "@jupyter-widgets/base",
          "model_name": "LayoutModel",
          "model_module_version": "1.2.0",
          "state": {
            "_model_module": "@jupyter-widgets/base",
            "_model_module_version": "1.2.0",
            "_model_name": "LayoutModel",
            "_view_count": null,
            "_view_module": "@jupyter-widgets/base",
            "_view_module_version": "1.2.0",
            "_view_name": "LayoutView",
            "align_content": null,
            "align_items": null,
            "align_self": null,
            "border": null,
            "bottom": null,
            "display": null,
            "flex": null,
            "flex_flow": null,
            "grid_area": null,
            "grid_auto_columns": null,
            "grid_auto_flow": null,
            "grid_auto_rows": null,
            "grid_column": null,
            "grid_gap": null,
            "grid_row": null,
            "grid_template_areas": null,
            "grid_template_columns": null,
            "grid_template_rows": null,
            "height": null,
            "justify_content": null,
            "justify_items": null,
            "left": null,
            "margin": null,
            "max_height": null,
            "max_width": null,
            "min_height": null,
            "min_width": null,
            "object_fit": null,
            "object_position": null,
            "order": null,
            "overflow": null,
            "overflow_x": null,
            "overflow_y": null,
            "padding": null,
            "right": null,
            "top": null,
            "visibility": null,
            "width": null
          }
        },
        "b9b3918d6b3b4e0482bb58306a5b09ba": {
          "model_module": "@jupyter-widgets/controls",
          "model_name": "DescriptionStyleModel",
          "model_module_version": "1.5.0",
          "state": {
            "_model_module": "@jupyter-widgets/controls",
            "_model_module_version": "1.5.0",
            "_model_name": "DescriptionStyleModel",
            "_view_count": null,
            "_view_module": "@jupyter-widgets/base",
            "_view_module_version": "1.2.0",
            "_view_name": "StyleView",
            "description_width": ""
          }
        },
        "d231e18bf59d4b9b809e96af6fbe11f0": {
          "model_module": "@jupyter-widgets/controls",
          "model_name": "HBoxModel",
          "model_module_version": "1.5.0",
          "state": {
            "_dom_classes": [],
            "_model_module": "@jupyter-widgets/controls",
            "_model_module_version": "1.5.0",
            "_model_name": "HBoxModel",
            "_view_count": null,
            "_view_module": "@jupyter-widgets/controls",
            "_view_module_version": "1.5.0",
            "_view_name": "HBoxView",
            "box_style": "",
            "children": [
              "IPY_MODEL_e658b4efb94f43ca8c459162f514a779",
              "IPY_MODEL_3a9726d9292d429ea156bd4bdd987c4b",
              "IPY_MODEL_2947dc2956c04167a0f0a76353cd715c"
            ],
            "layout": "IPY_MODEL_731fe85b0e0a4a7ca128229484053a58"
          }
        },
        "e658b4efb94f43ca8c459162f514a779": {
          "model_module": "@jupyter-widgets/controls",
          "model_name": "HTMLModel",
          "model_module_version": "1.5.0",
          "state": {
            "_dom_classes": [],
            "_model_module": "@jupyter-widgets/controls",
            "_model_module_version": "1.5.0",
            "_model_name": "HTMLModel",
            "_view_count": null,
            "_view_module": "@jupyter-widgets/controls",
            "_view_module_version": "1.5.0",
            "_view_name": "HTMLView",
            "description": "",
            "description_tooltip": null,
            "layout": "IPY_MODEL_b60300f5758e47caa4f7b581ca9bb3c2",
            "placeholder": "​",
            "style": "IPY_MODEL_acf0cf6e5ea4495693dddb6bcbf4c7e5",
            "value": "config.yaml: 100%"
          }
        },
        "3a9726d9292d429ea156bd4bdd987c4b": {
          "model_module": "@jupyter-widgets/controls",
          "model_name": "FloatProgressModel",
          "model_module_version": "1.5.0",
          "state": {
            "_dom_classes": [],
            "_model_module": "@jupyter-widgets/controls",
            "_model_module_version": "1.5.0",
            "_model_name": "FloatProgressModel",
            "_view_count": null,
            "_view_module": "@jupyter-widgets/controls",
            "_view_module_version": "1.5.0",
            "_view_name": "ProgressView",
            "bar_style": "success",
            "description": "",
            "description_tooltip": null,
            "layout": "IPY_MODEL_91b5ac391e1b4a7fb8544b52db774d00",
            "max": 221,
            "min": 0,
            "orientation": "horizontal",
            "style": "IPY_MODEL_ba37a3be0c0045e98ceb2a1d276831d1",
            "value": 221
          }
        },
        "2947dc2956c04167a0f0a76353cd715c": {
          "model_module": "@jupyter-widgets/controls",
          "model_name": "HTMLModel",
          "model_module_version": "1.5.0",
          "state": {
            "_dom_classes": [],
            "_model_module": "@jupyter-widgets/controls",
            "_model_module_version": "1.5.0",
            "_model_name": "HTMLModel",
            "_view_count": null,
            "_view_module": "@jupyter-widgets/controls",
            "_view_module_version": "1.5.0",
            "_view_name": "HTMLView",
            "description": "",
            "description_tooltip": null,
            "layout": "IPY_MODEL_6452b8fb12624031b9a8d7fffeea060e",
            "placeholder": "​",
            "style": "IPY_MODEL_dcdb699b3d3347d5a08d1d575486b2ae",
            "value": " 221/221 [00:00&lt;00:00, 21.6kB/s]"
          }
        },
        "731fe85b0e0a4a7ca128229484053a58": {
          "model_module": "@jupyter-widgets/base",
          "model_name": "LayoutModel",
          "model_module_version": "1.2.0",
          "state": {
            "_model_module": "@jupyter-widgets/base",
            "_model_module_version": "1.2.0",
            "_model_name": "LayoutModel",
            "_view_count": null,
            "_view_module": "@jupyter-widgets/base",
            "_view_module_version": "1.2.0",
            "_view_name": "LayoutView",
            "align_content": null,
            "align_items": null,
            "align_self": null,
            "border": null,
            "bottom": null,
            "display": null,
            "flex": null,
            "flex_flow": null,
            "grid_area": null,
            "grid_auto_columns": null,
            "grid_auto_flow": null,
            "grid_auto_rows": null,
            "grid_column": null,
            "grid_gap": null,
            "grid_row": null,
            "grid_template_areas": null,
            "grid_template_columns": null,
            "grid_template_rows": null,
            "height": null,
            "justify_content": null,
            "justify_items": null,
            "left": null,
            "margin": null,
            "max_height": null,
            "max_width": null,
            "min_height": null,
            "min_width": null,
            "object_fit": null,
            "object_position": null,
            "order": null,
            "overflow": null,
            "overflow_x": null,
            "overflow_y": null,
            "padding": null,
            "right": null,
            "top": null,
            "visibility": null,
            "width": null
          }
        },
        "b60300f5758e47caa4f7b581ca9bb3c2": {
          "model_module": "@jupyter-widgets/base",
          "model_name": "LayoutModel",
          "model_module_version": "1.2.0",
          "state": {
            "_model_module": "@jupyter-widgets/base",
            "_model_module_version": "1.2.0",
            "_model_name": "LayoutModel",
            "_view_count": null,
            "_view_module": "@jupyter-widgets/base",
            "_view_module_version": "1.2.0",
            "_view_name": "LayoutView",
            "align_content": null,
            "align_items": null,
            "align_self": null,
            "border": null,
            "bottom": null,
            "display": null,
            "flex": null,
            "flex_flow": null,
            "grid_area": null,
            "grid_auto_columns": null,
            "grid_auto_flow": null,
            "grid_auto_rows": null,
            "grid_column": null,
            "grid_gap": null,
            "grid_row": null,
            "grid_template_areas": null,
            "grid_template_columns": null,
            "grid_template_rows": null,
            "height": null,
            "justify_content": null,
            "justify_items": null,
            "left": null,
            "margin": null,
            "max_height": null,
            "max_width": null,
            "min_height": null,
            "min_width": null,
            "object_fit": null,
            "object_position": null,
            "order": null,
            "overflow": null,
            "overflow_x": null,
            "overflow_y": null,
            "padding": null,
            "right": null,
            "top": null,
            "visibility": null,
            "width": null
          }
        },
        "acf0cf6e5ea4495693dddb6bcbf4c7e5": {
          "model_module": "@jupyter-widgets/controls",
          "model_name": "DescriptionStyleModel",
          "model_module_version": "1.5.0",
          "state": {
            "_model_module": "@jupyter-widgets/controls",
            "_model_module_version": "1.5.0",
            "_model_name": "DescriptionStyleModel",
            "_view_count": null,
            "_view_module": "@jupyter-widgets/base",
            "_view_module_version": "1.2.0",
            "_view_name": "StyleView",
            "description_width": ""
          }
        },
        "91b5ac391e1b4a7fb8544b52db774d00": {
          "model_module": "@jupyter-widgets/base",
          "model_name": "LayoutModel",
          "model_module_version": "1.2.0",
          "state": {
            "_model_module": "@jupyter-widgets/base",
            "_model_module_version": "1.2.0",
            "_model_name": "LayoutModel",
            "_view_count": null,
            "_view_module": "@jupyter-widgets/base",
            "_view_module_version": "1.2.0",
            "_view_name": "LayoutView",
            "align_content": null,
            "align_items": null,
            "align_self": null,
            "border": null,
            "bottom": null,
            "display": null,
            "flex": null,
            "flex_flow": null,
            "grid_area": null,
            "grid_auto_columns": null,
            "grid_auto_flow": null,
            "grid_auto_rows": null,
            "grid_column": null,
            "grid_gap": null,
            "grid_row": null,
            "grid_template_areas": null,
            "grid_template_columns": null,
            "grid_template_rows": null,
            "height": null,
            "justify_content": null,
            "justify_items": null,
            "left": null,
            "margin": null,
            "max_height": null,
            "max_width": null,
            "min_height": null,
            "min_width": null,
            "object_fit": null,
            "object_position": null,
            "order": null,
            "overflow": null,
            "overflow_x": null,
            "overflow_y": null,
            "padding": null,
            "right": null,
            "top": null,
            "visibility": null,
            "width": null
          }
        },
        "ba37a3be0c0045e98ceb2a1d276831d1": {
          "model_module": "@jupyter-widgets/controls",
          "model_name": "ProgressStyleModel",
          "model_module_version": "1.5.0",
          "state": {
            "_model_module": "@jupyter-widgets/controls",
            "_model_module_version": "1.5.0",
            "_model_name": "ProgressStyleModel",
            "_view_count": null,
            "_view_module": "@jupyter-widgets/base",
            "_view_module_version": "1.2.0",
            "_view_name": "StyleView",
            "bar_color": null,
            "description_width": ""
          }
        },
        "6452b8fb12624031b9a8d7fffeea060e": {
          "model_module": "@jupyter-widgets/base",
          "model_name": "LayoutModel",
          "model_module_version": "1.2.0",
          "state": {
            "_model_module": "@jupyter-widgets/base",
            "_model_module_version": "1.2.0",
            "_model_name": "LayoutModel",
            "_view_count": null,
            "_view_module": "@jupyter-widgets/base",
            "_view_module_version": "1.2.0",
            "_view_name": "LayoutView",
            "align_content": null,
            "align_items": null,
            "align_self": null,
            "border": null,
            "bottom": null,
            "display": null,
            "flex": null,
            "flex_flow": null,
            "grid_area": null,
            "grid_auto_columns": null,
            "grid_auto_flow": null,
            "grid_auto_rows": null,
            "grid_column": null,
            "grid_gap": null,
            "grid_row": null,
            "grid_template_areas": null,
            "grid_template_columns": null,
            "grid_template_rows": null,
            "height": null,
            "justify_content": null,
            "justify_items": null,
            "left": null,
            "margin": null,
            "max_height": null,
            "max_width": null,
            "min_height": null,
            "min_width": null,
            "object_fit": null,
            "object_position": null,
            "order": null,
            "overflow": null,
            "overflow_x": null,
            "overflow_y": null,
            "padding": null,
            "right": null,
            "top": null,
            "visibility": null,
            "width": null
          }
        },
        "dcdb699b3d3347d5a08d1d575486b2ae": {
          "model_module": "@jupyter-widgets/controls",
          "model_name": "DescriptionStyleModel",
          "model_module_version": "1.5.0",
          "state": {
            "_model_module": "@jupyter-widgets/controls",
            "_model_module_version": "1.5.0",
            "_model_name": "DescriptionStyleModel",
            "_view_count": null,
            "_view_module": "@jupyter-widgets/base",
            "_view_module_version": "1.2.0",
            "_view_name": "StyleView",
            "description_width": ""
          }
        },
        "fa5f4fe7613443d4b962dbd07d5fd5e3": {
          "model_module": "@jupyter-widgets/output",
          "model_name": "OutputModel",
          "model_module_version": "1.0.0",
          "state": {
            "_dom_classes": [],
            "_model_module": "@jupyter-widgets/output",
            "_model_module_version": "1.0.0",
            "_model_name": "OutputModel",
            "_view_count": null,
            "_view_module": "@jupyter-widgets/output",
            "_view_module_version": "1.0.0",
            "_view_name": "OutputView",
            "layout": "IPY_MODEL_7cd75fbc88434ca886d2e52e1e1f07c4",
            "msg_id": "",
            "outputs": [
              {
                "output_type": "display_data",
                "data": {
                  "text/plain": "segmentation         \u001b[38;2;114;156;31m━━━━━━━━━━━━━━━━━━━━━━━━━━━━━━━━━━━━━━━━\u001b[0m \u001b[35m100%\u001b[0m \u001b[33m0:00:04\u001b[0m\nspeaker_counting     \u001b[38;2;114;156;31m━━━━━━━━━━━━━━━━━━━━━━━━━━━━━━━━━━━━━━━━\u001b[0m \u001b[35m100%\u001b[0m \u001b[33m0:00:00\u001b[0m\nembeddings           \u001b[38;2;114;156;31m━━━━━━━━━━━━━━━━━━━━━━━━━━━━━━━━━━━━━━━━\u001b[0m \u001b[35m100%\u001b[0m \u001b[33m0:03:29\u001b[0m\ndiscrete_diarization \u001b[38;2;114;156;31m━━━━━━━━━━━━━━━━━━━━━━━━━━━━━━━━━━━━━━━━\u001b[0m \u001b[35m100%\u001b[0m \u001b[33m0:00:00\u001b[0m\n",
                  "text/html": "<pre style=\"white-space:pre;overflow-x:auto;line-height:normal;font-family:Menlo,'DejaVu Sans Mono',consolas,'Courier New',monospace\">segmentation         <span style=\"color: #729c1f; text-decoration-color: #729c1f\">━━━━━━━━━━━━━━━━━━━━━━━━━━━━━━━━━━━━━━━━</span> <span style=\"color: #800080; text-decoration-color: #800080\">100%</span> <span style=\"color: #808000; text-decoration-color: #808000\">0:00:04</span>\nspeaker_counting     <span style=\"color: #729c1f; text-decoration-color: #729c1f\">━━━━━━━━━━━━━━━━━━━━━━━━━━━━━━━━━━━━━━━━</span> <span style=\"color: #800080; text-decoration-color: #800080\">100%</span> <span style=\"color: #808000; text-decoration-color: #808000\">0:00:00</span>\nembeddings           <span style=\"color: #729c1f; text-decoration-color: #729c1f\">━━━━━━━━━━━━━━━━━━━━━━━━━━━━━━━━━━━━━━━━</span> <span style=\"color: #800080; text-decoration-color: #800080\">100%</span> <span style=\"color: #808000; text-decoration-color: #808000\">0:03:29</span>\ndiscrete_diarization <span style=\"color: #729c1f; text-decoration-color: #729c1f\">━━━━━━━━━━━━━━━━━━━━━━━━━━━━━━━━━━━━━━━━</span> <span style=\"color: #800080; text-decoration-color: #800080\">100%</span> <span style=\"color: #808000; text-decoration-color: #808000\">0:00:00</span>\n</pre>\n"
                },
                "metadata": {}
              }
            ]
          }
        },
        "7cd75fbc88434ca886d2e52e1e1f07c4": {
          "model_module": "@jupyter-widgets/base",
          "model_name": "LayoutModel",
          "model_module_version": "1.2.0",
          "state": {
            "_model_module": "@jupyter-widgets/base",
            "_model_module_version": "1.2.0",
            "_model_name": "LayoutModel",
            "_view_count": null,
            "_view_module": "@jupyter-widgets/base",
            "_view_module_version": "1.2.0",
            "_view_name": "LayoutView",
            "align_content": null,
            "align_items": null,
            "align_self": null,
            "border": null,
            "bottom": null,
            "display": null,
            "flex": null,
            "flex_flow": null,
            "grid_area": null,
            "grid_auto_columns": null,
            "grid_auto_flow": null,
            "grid_auto_rows": null,
            "grid_column": null,
            "grid_gap": null,
            "grid_row": null,
            "grid_template_areas": null,
            "grid_template_columns": null,
            "grid_template_rows": null,
            "height": null,
            "justify_content": null,
            "justify_items": null,
            "left": null,
            "margin": null,
            "max_height": null,
            "max_width": null,
            "min_height": null,
            "min_width": null,
            "object_fit": null,
            "object_position": null,
            "order": null,
            "overflow": null,
            "overflow_x": null,
            "overflow_y": null,
            "padding": null,
            "right": null,
            "top": null,
            "visibility": null,
            "width": null
          }
        },
        "dfc39ff26d534df9b8bb3e41a904e67d": {
          "model_module": "@jupyter-widgets/controls",
          "model_name": "HBoxModel",
          "model_module_version": "1.5.0",
          "state": {
            "_dom_classes": [],
            "_model_module": "@jupyter-widgets/controls",
            "_model_module_version": "1.5.0",
            "_model_name": "HBoxModel",
            "_view_count": null,
            "_view_module": "@jupyter-widgets/controls",
            "_view_module_version": "1.5.0",
            "_view_name": "HBoxView",
            "box_style": "",
            "children": [
              "IPY_MODEL_54f8e1a1af2c45f88b542a7dae2289fc",
              "IPY_MODEL_5aa9cda7909549878a0d54a4e6f336cc",
              "IPY_MODEL_7773d0a0fe484100ac7502428f01a3af"
            ],
            "layout": "IPY_MODEL_e3637ec8a89b47b1a581c3ae918c52ca"
          }
        },
        "54f8e1a1af2c45f88b542a7dae2289fc": {
          "model_module": "@jupyter-widgets/controls",
          "model_name": "HTMLModel",
          "model_module_version": "1.5.0",
          "state": {
            "_dom_classes": [],
            "_model_module": "@jupyter-widgets/controls",
            "_model_module_version": "1.5.0",
            "_model_name": "HTMLModel",
            "_view_count": null,
            "_view_module": "@jupyter-widgets/controls",
            "_view_module_version": "1.5.0",
            "_view_name": "HTMLView",
            "description": "",
            "description_tooltip": null,
            "layout": "IPY_MODEL_548c21364b5f4775b27102f3a8c4a535",
            "placeholder": "​",
            "style": "IPY_MODEL_6b51ebbf7fc048e2b8da106e4fc6a7fe",
            "value": "config.json: 100%"
          }
        },
        "5aa9cda7909549878a0d54a4e6f336cc": {
          "model_module": "@jupyter-widgets/controls",
          "model_name": "FloatProgressModel",
          "model_module_version": "1.5.0",
          "state": {
            "_dom_classes": [],
            "_model_module": "@jupyter-widgets/controls",
            "_model_module_version": "1.5.0",
            "_model_name": "FloatProgressModel",
            "_view_count": null,
            "_view_module": "@jupyter-widgets/controls",
            "_view_module_version": "1.5.0",
            "_view_name": "ProgressView",
            "bar_style": "success",
            "description": "",
            "description_tooltip": null,
            "layout": "IPY_MODEL_46b6ff0e5bd14bd4bbdfdf6497f6e7a6",
            "max": 1272,
            "min": 0,
            "orientation": "horizontal",
            "style": "IPY_MODEL_22e3338236bf4055ab693a4539f1e4f9",
            "value": 1272
          }
        },
        "7773d0a0fe484100ac7502428f01a3af": {
          "model_module": "@jupyter-widgets/controls",
          "model_name": "HTMLModel",
          "model_module_version": "1.5.0",
          "state": {
            "_dom_classes": [],
            "_model_module": "@jupyter-widgets/controls",
            "_model_module_version": "1.5.0",
            "_model_name": "HTMLModel",
            "_view_count": null,
            "_view_module": "@jupyter-widgets/controls",
            "_view_module_version": "1.5.0",
            "_view_name": "HTMLView",
            "description": "",
            "description_tooltip": null,
            "layout": "IPY_MODEL_c642dc693393464dbfb0fd57bc963b3c",
            "placeholder": "​",
            "style": "IPY_MODEL_701b89aac36a4ba2a95b035b6a5920bd",
            "value": " 1.27k/1.27k [00:00&lt;00:00, 136kB/s]"
          }
        },
        "e3637ec8a89b47b1a581c3ae918c52ca": {
          "model_module": "@jupyter-widgets/base",
          "model_name": "LayoutModel",
          "model_module_version": "1.2.0",
          "state": {
            "_model_module": "@jupyter-widgets/base",
            "_model_module_version": "1.2.0",
            "_model_name": "LayoutModel",
            "_view_count": null,
            "_view_module": "@jupyter-widgets/base",
            "_view_module_version": "1.2.0",
            "_view_name": "LayoutView",
            "align_content": null,
            "align_items": null,
            "align_self": null,
            "border": null,
            "bottom": null,
            "display": null,
            "flex": null,
            "flex_flow": null,
            "grid_area": null,
            "grid_auto_columns": null,
            "grid_auto_flow": null,
            "grid_auto_rows": null,
            "grid_column": null,
            "grid_gap": null,
            "grid_row": null,
            "grid_template_areas": null,
            "grid_template_columns": null,
            "grid_template_rows": null,
            "height": null,
            "justify_content": null,
            "justify_items": null,
            "left": null,
            "margin": null,
            "max_height": null,
            "max_width": null,
            "min_height": null,
            "min_width": null,
            "object_fit": null,
            "object_position": null,
            "order": null,
            "overflow": null,
            "overflow_x": null,
            "overflow_y": null,
            "padding": null,
            "right": null,
            "top": null,
            "visibility": null,
            "width": null
          }
        },
        "548c21364b5f4775b27102f3a8c4a535": {
          "model_module": "@jupyter-widgets/base",
          "model_name": "LayoutModel",
          "model_module_version": "1.2.0",
          "state": {
            "_model_module": "@jupyter-widgets/base",
            "_model_module_version": "1.2.0",
            "_model_name": "LayoutModel",
            "_view_count": null,
            "_view_module": "@jupyter-widgets/base",
            "_view_module_version": "1.2.0",
            "_view_name": "LayoutView",
            "align_content": null,
            "align_items": null,
            "align_self": null,
            "border": null,
            "bottom": null,
            "display": null,
            "flex": null,
            "flex_flow": null,
            "grid_area": null,
            "grid_auto_columns": null,
            "grid_auto_flow": null,
            "grid_auto_rows": null,
            "grid_column": null,
            "grid_gap": null,
            "grid_row": null,
            "grid_template_areas": null,
            "grid_template_columns": null,
            "grid_template_rows": null,
            "height": null,
            "justify_content": null,
            "justify_items": null,
            "left": null,
            "margin": null,
            "max_height": null,
            "max_width": null,
            "min_height": null,
            "min_width": null,
            "object_fit": null,
            "object_position": null,
            "order": null,
            "overflow": null,
            "overflow_x": null,
            "overflow_y": null,
            "padding": null,
            "right": null,
            "top": null,
            "visibility": null,
            "width": null
          }
        },
        "6b51ebbf7fc048e2b8da106e4fc6a7fe": {
          "model_module": "@jupyter-widgets/controls",
          "model_name": "DescriptionStyleModel",
          "model_module_version": "1.5.0",
          "state": {
            "_model_module": "@jupyter-widgets/controls",
            "_model_module_version": "1.5.0",
            "_model_name": "DescriptionStyleModel",
            "_view_count": null,
            "_view_module": "@jupyter-widgets/base",
            "_view_module_version": "1.2.0",
            "_view_name": "StyleView",
            "description_width": ""
          }
        },
        "46b6ff0e5bd14bd4bbdfdf6497f6e7a6": {
          "model_module": "@jupyter-widgets/base",
          "model_name": "LayoutModel",
          "model_module_version": "1.2.0",
          "state": {
            "_model_module": "@jupyter-widgets/base",
            "_model_module_version": "1.2.0",
            "_model_name": "LayoutModel",
            "_view_count": null,
            "_view_module": "@jupyter-widgets/base",
            "_view_module_version": "1.2.0",
            "_view_name": "LayoutView",
            "align_content": null,
            "align_items": null,
            "align_self": null,
            "border": null,
            "bottom": null,
            "display": null,
            "flex": null,
            "flex_flow": null,
            "grid_area": null,
            "grid_auto_columns": null,
            "grid_auto_flow": null,
            "grid_auto_rows": null,
            "grid_column": null,
            "grid_gap": null,
            "grid_row": null,
            "grid_template_areas": null,
            "grid_template_columns": null,
            "grid_template_rows": null,
            "height": null,
            "justify_content": null,
            "justify_items": null,
            "left": null,
            "margin": null,
            "max_height": null,
            "max_width": null,
            "min_height": null,
            "min_width": null,
            "object_fit": null,
            "object_position": null,
            "order": null,
            "overflow": null,
            "overflow_x": null,
            "overflow_y": null,
            "padding": null,
            "right": null,
            "top": null,
            "visibility": null,
            "width": null
          }
        },
        "22e3338236bf4055ab693a4539f1e4f9": {
          "model_module": "@jupyter-widgets/controls",
          "model_name": "ProgressStyleModel",
          "model_module_version": "1.5.0",
          "state": {
            "_model_module": "@jupyter-widgets/controls",
            "_model_module_version": "1.5.0",
            "_model_name": "ProgressStyleModel",
            "_view_count": null,
            "_view_module": "@jupyter-widgets/base",
            "_view_module_version": "1.2.0",
            "_view_name": "StyleView",
            "bar_color": null,
            "description_width": ""
          }
        },
        "c642dc693393464dbfb0fd57bc963b3c": {
          "model_module": "@jupyter-widgets/base",
          "model_name": "LayoutModel",
          "model_module_version": "1.2.0",
          "state": {
            "_model_module": "@jupyter-widgets/base",
            "_model_module_version": "1.2.0",
            "_model_name": "LayoutModel",
            "_view_count": null,
            "_view_module": "@jupyter-widgets/base",
            "_view_module_version": "1.2.0",
            "_view_name": "LayoutView",
            "align_content": null,
            "align_items": null,
            "align_self": null,
            "border": null,
            "bottom": null,
            "display": null,
            "flex": null,
            "flex_flow": null,
            "grid_area": null,
            "grid_auto_columns": null,
            "grid_auto_flow": null,
            "grid_auto_rows": null,
            "grid_column": null,
            "grid_gap": null,
            "grid_row": null,
            "grid_template_areas": null,
            "grid_template_columns": null,
            "grid_template_rows": null,
            "height": null,
            "justify_content": null,
            "justify_items": null,
            "left": null,
            "margin": null,
            "max_height": null,
            "max_width": null,
            "min_height": null,
            "min_width": null,
            "object_fit": null,
            "object_position": null,
            "order": null,
            "overflow": null,
            "overflow_x": null,
            "overflow_y": null,
            "padding": null,
            "right": null,
            "top": null,
            "visibility": null,
            "width": null
          }
        },
        "701b89aac36a4ba2a95b035b6a5920bd": {
          "model_module": "@jupyter-widgets/controls",
          "model_name": "DescriptionStyleModel",
          "model_module_version": "1.5.0",
          "state": {
            "_model_module": "@jupyter-widgets/controls",
            "_model_module_version": "1.5.0",
            "_model_name": "DescriptionStyleModel",
            "_view_count": null,
            "_view_module": "@jupyter-widgets/base",
            "_view_module_version": "1.2.0",
            "_view_name": "StyleView",
            "description_width": ""
          }
        },
        "e19e38f754b841b7bf48c75afe207bd2": {
          "model_module": "@jupyter-widgets/controls",
          "model_name": "HBoxModel",
          "model_module_version": "1.5.0",
          "state": {
            "_dom_classes": [],
            "_model_module": "@jupyter-widgets/controls",
            "_model_module_version": "1.5.0",
            "_model_name": "HBoxModel",
            "_view_count": null,
            "_view_module": "@jupyter-widgets/controls",
            "_view_module_version": "1.5.0",
            "_view_name": "HBoxView",
            "box_style": "",
            "children": [
              "IPY_MODEL_82a7256bf1674e3188688818c2de2f36",
              "IPY_MODEL_d65154f7c32c4807965a63b2b3563bf6",
              "IPY_MODEL_d864f7ce99324366b250e542bb753e39"
            ],
            "layout": "IPY_MODEL_b874db7af32e430a9d6b16a7c06ef649"
          }
        },
        "82a7256bf1674e3188688818c2de2f36": {
          "model_module": "@jupyter-widgets/controls",
          "model_name": "HTMLModel",
          "model_module_version": "1.5.0",
          "state": {
            "_dom_classes": [],
            "_model_module": "@jupyter-widgets/controls",
            "_model_module_version": "1.5.0",
            "_model_name": "HTMLModel",
            "_view_count": null,
            "_view_module": "@jupyter-widgets/controls",
            "_view_module_version": "1.5.0",
            "_view_name": "HTMLView",
            "description": "",
            "description_tooltip": null,
            "layout": "IPY_MODEL_be9f036b2a3f4b318776201846f2239f",
            "placeholder": "​",
            "style": "IPY_MODEL_202849791e21461587ee9feea332eb13",
            "value": "model.safetensors: 100%"
          }
        },
        "d65154f7c32c4807965a63b2b3563bf6": {
          "model_module": "@jupyter-widgets/controls",
          "model_name": "FloatProgressModel",
          "model_module_version": "1.5.0",
          "state": {
            "_dom_classes": [],
            "_model_module": "@jupyter-widgets/controls",
            "_model_module_version": "1.5.0",
            "_model_name": "FloatProgressModel",
            "_view_count": null,
            "_view_module": "@jupyter-widgets/controls",
            "_view_module_version": "1.5.0",
            "_view_name": "ProgressView",
            "bar_style": "success",
            "description": "",
            "description_tooltip": null,
            "layout": "IPY_MODEL_2fae9745d8cc4e2e83ac0a59b9fd5a19",
            "max": 3087130976,
            "min": 0,
            "orientation": "horizontal",
            "style": "IPY_MODEL_6b10f295b0c34f77bfbb78aaf0eb0b9b",
            "value": 3087130976
          }
        },
        "d864f7ce99324366b250e542bb753e39": {
          "model_module": "@jupyter-widgets/controls",
          "model_name": "HTMLModel",
          "model_module_version": "1.5.0",
          "state": {
            "_dom_classes": [],
            "_model_module": "@jupyter-widgets/controls",
            "_model_module_version": "1.5.0",
            "_model_name": "HTMLModel",
            "_view_count": null,
            "_view_module": "@jupyter-widgets/controls",
            "_view_module_version": "1.5.0",
            "_view_name": "HTMLView",
            "description": "",
            "description_tooltip": null,
            "layout": "IPY_MODEL_8faee0a3a16d4567b5aa15226cb461c5",
            "placeholder": "​",
            "style": "IPY_MODEL_082804abf61f465ca9f8d189f4348cf7",
            "value": " 3.09G/3.09G [00:16&lt;00:00, 262MB/s]"
          }
        },
        "b874db7af32e430a9d6b16a7c06ef649": {
          "model_module": "@jupyter-widgets/base",
          "model_name": "LayoutModel",
          "model_module_version": "1.2.0",
          "state": {
            "_model_module": "@jupyter-widgets/base",
            "_model_module_version": "1.2.0",
            "_model_name": "LayoutModel",
            "_view_count": null,
            "_view_module": "@jupyter-widgets/base",
            "_view_module_version": "1.2.0",
            "_view_name": "LayoutView",
            "align_content": null,
            "align_items": null,
            "align_self": null,
            "border": null,
            "bottom": null,
            "display": null,
            "flex": null,
            "flex_flow": null,
            "grid_area": null,
            "grid_auto_columns": null,
            "grid_auto_flow": null,
            "grid_auto_rows": null,
            "grid_column": null,
            "grid_gap": null,
            "grid_row": null,
            "grid_template_areas": null,
            "grid_template_columns": null,
            "grid_template_rows": null,
            "height": null,
            "justify_content": null,
            "justify_items": null,
            "left": null,
            "margin": null,
            "max_height": null,
            "max_width": null,
            "min_height": null,
            "min_width": null,
            "object_fit": null,
            "object_position": null,
            "order": null,
            "overflow": null,
            "overflow_x": null,
            "overflow_y": null,
            "padding": null,
            "right": null,
            "top": null,
            "visibility": null,
            "width": null
          }
        },
        "be9f036b2a3f4b318776201846f2239f": {
          "model_module": "@jupyter-widgets/base",
          "model_name": "LayoutModel",
          "model_module_version": "1.2.0",
          "state": {
            "_model_module": "@jupyter-widgets/base",
            "_model_module_version": "1.2.0",
            "_model_name": "LayoutModel",
            "_view_count": null,
            "_view_module": "@jupyter-widgets/base",
            "_view_module_version": "1.2.0",
            "_view_name": "LayoutView",
            "align_content": null,
            "align_items": null,
            "align_self": null,
            "border": null,
            "bottom": null,
            "display": null,
            "flex": null,
            "flex_flow": null,
            "grid_area": null,
            "grid_auto_columns": null,
            "grid_auto_flow": null,
            "grid_auto_rows": null,
            "grid_column": null,
            "grid_gap": null,
            "grid_row": null,
            "grid_template_areas": null,
            "grid_template_columns": null,
            "grid_template_rows": null,
            "height": null,
            "justify_content": null,
            "justify_items": null,
            "left": null,
            "margin": null,
            "max_height": null,
            "max_width": null,
            "min_height": null,
            "min_width": null,
            "object_fit": null,
            "object_position": null,
            "order": null,
            "overflow": null,
            "overflow_x": null,
            "overflow_y": null,
            "padding": null,
            "right": null,
            "top": null,
            "visibility": null,
            "width": null
          }
        },
        "202849791e21461587ee9feea332eb13": {
          "model_module": "@jupyter-widgets/controls",
          "model_name": "DescriptionStyleModel",
          "model_module_version": "1.5.0",
          "state": {
            "_model_module": "@jupyter-widgets/controls",
            "_model_module_version": "1.5.0",
            "_model_name": "DescriptionStyleModel",
            "_view_count": null,
            "_view_module": "@jupyter-widgets/base",
            "_view_module_version": "1.2.0",
            "_view_name": "StyleView",
            "description_width": ""
          }
        },
        "2fae9745d8cc4e2e83ac0a59b9fd5a19": {
          "model_module": "@jupyter-widgets/base",
          "model_name": "LayoutModel",
          "model_module_version": "1.2.0",
          "state": {
            "_model_module": "@jupyter-widgets/base",
            "_model_module_version": "1.2.0",
            "_model_name": "LayoutModel",
            "_view_count": null,
            "_view_module": "@jupyter-widgets/base",
            "_view_module_version": "1.2.0",
            "_view_name": "LayoutView",
            "align_content": null,
            "align_items": null,
            "align_self": null,
            "border": null,
            "bottom": null,
            "display": null,
            "flex": null,
            "flex_flow": null,
            "grid_area": null,
            "grid_auto_columns": null,
            "grid_auto_flow": null,
            "grid_auto_rows": null,
            "grid_column": null,
            "grid_gap": null,
            "grid_row": null,
            "grid_template_areas": null,
            "grid_template_columns": null,
            "grid_template_rows": null,
            "height": null,
            "justify_content": null,
            "justify_items": null,
            "left": null,
            "margin": null,
            "max_height": null,
            "max_width": null,
            "min_height": null,
            "min_width": null,
            "object_fit": null,
            "object_position": null,
            "order": null,
            "overflow": null,
            "overflow_x": null,
            "overflow_y": null,
            "padding": null,
            "right": null,
            "top": null,
            "visibility": null,
            "width": null
          }
        },
        "6b10f295b0c34f77bfbb78aaf0eb0b9b": {
          "model_module": "@jupyter-widgets/controls",
          "model_name": "ProgressStyleModel",
          "model_module_version": "1.5.0",
          "state": {
            "_model_module": "@jupyter-widgets/controls",
            "_model_module_version": "1.5.0",
            "_model_name": "ProgressStyleModel",
            "_view_count": null,
            "_view_module": "@jupyter-widgets/base",
            "_view_module_version": "1.2.0",
            "_view_name": "StyleView",
            "bar_color": null,
            "description_width": ""
          }
        },
        "8faee0a3a16d4567b5aa15226cb461c5": {
          "model_module": "@jupyter-widgets/base",
          "model_name": "LayoutModel",
          "model_module_version": "1.2.0",
          "state": {
            "_model_module": "@jupyter-widgets/base",
            "_model_module_version": "1.2.0",
            "_model_name": "LayoutModel",
            "_view_count": null,
            "_view_module": "@jupyter-widgets/base",
            "_view_module_version": "1.2.0",
            "_view_name": "LayoutView",
            "align_content": null,
            "align_items": null,
            "align_self": null,
            "border": null,
            "bottom": null,
            "display": null,
            "flex": null,
            "flex_flow": null,
            "grid_area": null,
            "grid_auto_columns": null,
            "grid_auto_flow": null,
            "grid_auto_rows": null,
            "grid_column": null,
            "grid_gap": null,
            "grid_row": null,
            "grid_template_areas": null,
            "grid_template_columns": null,
            "grid_template_rows": null,
            "height": null,
            "justify_content": null,
            "justify_items": null,
            "left": null,
            "margin": null,
            "max_height": null,
            "max_width": null,
            "min_height": null,
            "min_width": null,
            "object_fit": null,
            "object_position": null,
            "order": null,
            "overflow": null,
            "overflow_x": null,
            "overflow_y": null,
            "padding": null,
            "right": null,
            "top": null,
            "visibility": null,
            "width": null
          }
        },
        "082804abf61f465ca9f8d189f4348cf7": {
          "model_module": "@jupyter-widgets/controls",
          "model_name": "DescriptionStyleModel",
          "model_module_version": "1.5.0",
          "state": {
            "_model_module": "@jupyter-widgets/controls",
            "_model_module_version": "1.5.0",
            "_model_name": "DescriptionStyleModel",
            "_view_count": null,
            "_view_module": "@jupyter-widgets/base",
            "_view_module_version": "1.2.0",
            "_view_name": "StyleView",
            "description_width": ""
          }
        },
        "9749c8bd99d54278837412980ef7fa6f": {
          "model_module": "@jupyter-widgets/controls",
          "model_name": "HBoxModel",
          "model_module_version": "1.5.0",
          "state": {
            "_dom_classes": [],
            "_model_module": "@jupyter-widgets/controls",
            "_model_module_version": "1.5.0",
            "_model_name": "HBoxModel",
            "_view_count": null,
            "_view_module": "@jupyter-widgets/controls",
            "_view_module_version": "1.5.0",
            "_view_name": "HBoxView",
            "box_style": "",
            "children": [
              "IPY_MODEL_0d67797b6af44605b67569718d00f757",
              "IPY_MODEL_ada20a73c2df4caabf61c5a2a068d2b9",
              "IPY_MODEL_ccee79cf2c4c4f99b4fabb44962dba7e"
            ],
            "layout": "IPY_MODEL_0505c98d25564cddae722fec582aadde"
          }
        },
        "0d67797b6af44605b67569718d00f757": {
          "model_module": "@jupyter-widgets/controls",
          "model_name": "HTMLModel",
          "model_module_version": "1.5.0",
          "state": {
            "_dom_classes": [],
            "_model_module": "@jupyter-widgets/controls",
            "_model_module_version": "1.5.0",
            "_model_name": "HTMLModel",
            "_view_count": null,
            "_view_module": "@jupyter-widgets/controls",
            "_view_module_version": "1.5.0",
            "_view_name": "HTMLView",
            "description": "",
            "description_tooltip": null,
            "layout": "IPY_MODEL_09c547644ab9423a85e47a8f54384930",
            "placeholder": "​",
            "style": "IPY_MODEL_e0d8671513924d528d5117299abd7557",
            "value": "generation_config.json: 100%"
          }
        },
        "ada20a73c2df4caabf61c5a2a068d2b9": {
          "model_module": "@jupyter-widgets/controls",
          "model_name": "FloatProgressModel",
          "model_module_version": "1.5.0",
          "state": {
            "_dom_classes": [],
            "_model_module": "@jupyter-widgets/controls",
            "_model_module_version": "1.5.0",
            "_model_name": "FloatProgressModel",
            "_view_count": null,
            "_view_module": "@jupyter-widgets/controls",
            "_view_module_version": "1.5.0",
            "_view_name": "ProgressView",
            "bar_style": "success",
            "description": "",
            "description_tooltip": null,
            "layout": "IPY_MODEL_115911a2dc1a4bed863e4a01bf3f48ad",
            "max": 3903,
            "min": 0,
            "orientation": "horizontal",
            "style": "IPY_MODEL_6051afc49b4944f3959b5f7fb7e68f63",
            "value": 3903
          }
        },
        "ccee79cf2c4c4f99b4fabb44962dba7e": {
          "model_module": "@jupyter-widgets/controls",
          "model_name": "HTMLModel",
          "model_module_version": "1.5.0",
          "state": {
            "_dom_classes": [],
            "_model_module": "@jupyter-widgets/controls",
            "_model_module_version": "1.5.0",
            "_model_name": "HTMLModel",
            "_view_count": null,
            "_view_module": "@jupyter-widgets/controls",
            "_view_module_version": "1.5.0",
            "_view_name": "HTMLView",
            "description": "",
            "description_tooltip": null,
            "layout": "IPY_MODEL_faec2724dbe2429dbe850376c49f7490",
            "placeholder": "​",
            "style": "IPY_MODEL_89b9bfcecdb54cd1a3d4b8bb06bb8389",
            "value": " 3.90k/3.90k [00:00&lt;00:00, 302kB/s]"
          }
        },
        "0505c98d25564cddae722fec582aadde": {
          "model_module": "@jupyter-widgets/base",
          "model_name": "LayoutModel",
          "model_module_version": "1.2.0",
          "state": {
            "_model_module": "@jupyter-widgets/base",
            "_model_module_version": "1.2.0",
            "_model_name": "LayoutModel",
            "_view_count": null,
            "_view_module": "@jupyter-widgets/base",
            "_view_module_version": "1.2.0",
            "_view_name": "LayoutView",
            "align_content": null,
            "align_items": null,
            "align_self": null,
            "border": null,
            "bottom": null,
            "display": null,
            "flex": null,
            "flex_flow": null,
            "grid_area": null,
            "grid_auto_columns": null,
            "grid_auto_flow": null,
            "grid_auto_rows": null,
            "grid_column": null,
            "grid_gap": null,
            "grid_row": null,
            "grid_template_areas": null,
            "grid_template_columns": null,
            "grid_template_rows": null,
            "height": null,
            "justify_content": null,
            "justify_items": null,
            "left": null,
            "margin": null,
            "max_height": null,
            "max_width": null,
            "min_height": null,
            "min_width": null,
            "object_fit": null,
            "object_position": null,
            "order": null,
            "overflow": null,
            "overflow_x": null,
            "overflow_y": null,
            "padding": null,
            "right": null,
            "top": null,
            "visibility": null,
            "width": null
          }
        },
        "09c547644ab9423a85e47a8f54384930": {
          "model_module": "@jupyter-widgets/base",
          "model_name": "LayoutModel",
          "model_module_version": "1.2.0",
          "state": {
            "_model_module": "@jupyter-widgets/base",
            "_model_module_version": "1.2.0",
            "_model_name": "LayoutModel",
            "_view_count": null,
            "_view_module": "@jupyter-widgets/base",
            "_view_module_version": "1.2.0",
            "_view_name": "LayoutView",
            "align_content": null,
            "align_items": null,
            "align_self": null,
            "border": null,
            "bottom": null,
            "display": null,
            "flex": null,
            "flex_flow": null,
            "grid_area": null,
            "grid_auto_columns": null,
            "grid_auto_flow": null,
            "grid_auto_rows": null,
            "grid_column": null,
            "grid_gap": null,
            "grid_row": null,
            "grid_template_areas": null,
            "grid_template_columns": null,
            "grid_template_rows": null,
            "height": null,
            "justify_content": null,
            "justify_items": null,
            "left": null,
            "margin": null,
            "max_height": null,
            "max_width": null,
            "min_height": null,
            "min_width": null,
            "object_fit": null,
            "object_position": null,
            "order": null,
            "overflow": null,
            "overflow_x": null,
            "overflow_y": null,
            "padding": null,
            "right": null,
            "top": null,
            "visibility": null,
            "width": null
          }
        },
        "e0d8671513924d528d5117299abd7557": {
          "model_module": "@jupyter-widgets/controls",
          "model_name": "DescriptionStyleModel",
          "model_module_version": "1.5.0",
          "state": {
            "_model_module": "@jupyter-widgets/controls",
            "_model_module_version": "1.5.0",
            "_model_name": "DescriptionStyleModel",
            "_view_count": null,
            "_view_module": "@jupyter-widgets/base",
            "_view_module_version": "1.2.0",
            "_view_name": "StyleView",
            "description_width": ""
          }
        },
        "115911a2dc1a4bed863e4a01bf3f48ad": {
          "model_module": "@jupyter-widgets/base",
          "model_name": "LayoutModel",
          "model_module_version": "1.2.0",
          "state": {
            "_model_module": "@jupyter-widgets/base",
            "_model_module_version": "1.2.0",
            "_model_name": "LayoutModel",
            "_view_count": null,
            "_view_module": "@jupyter-widgets/base",
            "_view_module_version": "1.2.0",
            "_view_name": "LayoutView",
            "align_content": null,
            "align_items": null,
            "align_self": null,
            "border": null,
            "bottom": null,
            "display": null,
            "flex": null,
            "flex_flow": null,
            "grid_area": null,
            "grid_auto_columns": null,
            "grid_auto_flow": null,
            "grid_auto_rows": null,
            "grid_column": null,
            "grid_gap": null,
            "grid_row": null,
            "grid_template_areas": null,
            "grid_template_columns": null,
            "grid_template_rows": null,
            "height": null,
            "justify_content": null,
            "justify_items": null,
            "left": null,
            "margin": null,
            "max_height": null,
            "max_width": null,
            "min_height": null,
            "min_width": null,
            "object_fit": null,
            "object_position": null,
            "order": null,
            "overflow": null,
            "overflow_x": null,
            "overflow_y": null,
            "padding": null,
            "right": null,
            "top": null,
            "visibility": null,
            "width": null
          }
        },
        "6051afc49b4944f3959b5f7fb7e68f63": {
          "model_module": "@jupyter-widgets/controls",
          "model_name": "ProgressStyleModel",
          "model_module_version": "1.5.0",
          "state": {
            "_model_module": "@jupyter-widgets/controls",
            "_model_module_version": "1.5.0",
            "_model_name": "ProgressStyleModel",
            "_view_count": null,
            "_view_module": "@jupyter-widgets/base",
            "_view_module_version": "1.2.0",
            "_view_name": "StyleView",
            "bar_color": null,
            "description_width": ""
          }
        },
        "faec2724dbe2429dbe850376c49f7490": {
          "model_module": "@jupyter-widgets/base",
          "model_name": "LayoutModel",
          "model_module_version": "1.2.0",
          "state": {
            "_model_module": "@jupyter-widgets/base",
            "_model_module_version": "1.2.0",
            "_model_name": "LayoutModel",
            "_view_count": null,
            "_view_module": "@jupyter-widgets/base",
            "_view_module_version": "1.2.0",
            "_view_name": "LayoutView",
            "align_content": null,
            "align_items": null,
            "align_self": null,
            "border": null,
            "bottom": null,
            "display": null,
            "flex": null,
            "flex_flow": null,
            "grid_area": null,
            "grid_auto_columns": null,
            "grid_auto_flow": null,
            "grid_auto_rows": null,
            "grid_column": null,
            "grid_gap": null,
            "grid_row": null,
            "grid_template_areas": null,
            "grid_template_columns": null,
            "grid_template_rows": null,
            "height": null,
            "justify_content": null,
            "justify_items": null,
            "left": null,
            "margin": null,
            "max_height": null,
            "max_width": null,
            "min_height": null,
            "min_width": null,
            "object_fit": null,
            "object_position": null,
            "order": null,
            "overflow": null,
            "overflow_x": null,
            "overflow_y": null,
            "padding": null,
            "right": null,
            "top": null,
            "visibility": null,
            "width": null
          }
        },
        "89b9bfcecdb54cd1a3d4b8bb06bb8389": {
          "model_module": "@jupyter-widgets/controls",
          "model_name": "DescriptionStyleModel",
          "model_module_version": "1.5.0",
          "state": {
            "_model_module": "@jupyter-widgets/controls",
            "_model_module_version": "1.5.0",
            "_model_name": "DescriptionStyleModel",
            "_view_count": null,
            "_view_module": "@jupyter-widgets/base",
            "_view_module_version": "1.2.0",
            "_view_name": "StyleView",
            "description_width": ""
          }
        },
        "c219e72facf54c95ae4cd0ddc81899e7": {
          "model_module": "@jupyter-widgets/controls",
          "model_name": "HBoxModel",
          "model_module_version": "1.5.0",
          "state": {
            "_dom_classes": [],
            "_model_module": "@jupyter-widgets/controls",
            "_model_module_version": "1.5.0",
            "_model_name": "HBoxModel",
            "_view_count": null,
            "_view_module": "@jupyter-widgets/controls",
            "_view_module_version": "1.5.0",
            "_view_name": "HBoxView",
            "box_style": "",
            "children": [
              "IPY_MODEL_0eb6010240724a51b1384b742cff1351",
              "IPY_MODEL_45e15d8f02b64effb4b866ebff161ec1",
              "IPY_MODEL_dda7a9ac75b2434eb01bb6309e03fb9f"
            ],
            "layout": "IPY_MODEL_21b32ab777854a2e832a5ec6b4f8bde2"
          }
        },
        "0eb6010240724a51b1384b742cff1351": {
          "model_module": "@jupyter-widgets/controls",
          "model_name": "HTMLModel",
          "model_module_version": "1.5.0",
          "state": {
            "_dom_classes": [],
            "_model_module": "@jupyter-widgets/controls",
            "_model_module_version": "1.5.0",
            "_model_name": "HTMLModel",
            "_view_count": null,
            "_view_module": "@jupyter-widgets/controls",
            "_view_module_version": "1.5.0",
            "_view_name": "HTMLView",
            "description": "",
            "description_tooltip": null,
            "layout": "IPY_MODEL_e8f6b824bc3241ecadd479ee9d204c56",
            "placeholder": "​",
            "style": "IPY_MODEL_b83866ff035c473b89d1abda3fb73058",
            "value": "tokenizer_config.json: 100%"
          }
        },
        "45e15d8f02b64effb4b866ebff161ec1": {
          "model_module": "@jupyter-widgets/controls",
          "model_name": "FloatProgressModel",
          "model_module_version": "1.5.0",
          "state": {
            "_dom_classes": [],
            "_model_module": "@jupyter-widgets/controls",
            "_model_module_version": "1.5.0",
            "_model_name": "FloatProgressModel",
            "_view_count": null,
            "_view_module": "@jupyter-widgets/controls",
            "_view_module_version": "1.5.0",
            "_view_name": "ProgressView",
            "bar_style": "success",
            "description": "",
            "description_tooltip": null,
            "layout": "IPY_MODEL_b69b7470510748a1aa1d9cf447844c06",
            "max": 282843,
            "min": 0,
            "orientation": "horizontal",
            "style": "IPY_MODEL_b28c893baaff4e90a2b361e62779b9e7",
            "value": 282843
          }
        },
        "dda7a9ac75b2434eb01bb6309e03fb9f": {
          "model_module": "@jupyter-widgets/controls",
          "model_name": "HTMLModel",
          "model_module_version": "1.5.0",
          "state": {
            "_dom_classes": [],
            "_model_module": "@jupyter-widgets/controls",
            "_model_module_version": "1.5.0",
            "_model_name": "HTMLModel",
            "_view_count": null,
            "_view_module": "@jupyter-widgets/controls",
            "_view_module_version": "1.5.0",
            "_view_name": "HTMLView",
            "description": "",
            "description_tooltip": null,
            "layout": "IPY_MODEL_c1ef5a4368bc432f9a0ddd4bdc214166",
            "placeholder": "​",
            "style": "IPY_MODEL_a659f893d33942c9badc34da10d6ba97",
            "value": " 283k/283k [00:00&lt;00:00, 4.80MB/s]"
          }
        },
        "21b32ab777854a2e832a5ec6b4f8bde2": {
          "model_module": "@jupyter-widgets/base",
          "model_name": "LayoutModel",
          "model_module_version": "1.2.0",
          "state": {
            "_model_module": "@jupyter-widgets/base",
            "_model_module_version": "1.2.0",
            "_model_name": "LayoutModel",
            "_view_count": null,
            "_view_module": "@jupyter-widgets/base",
            "_view_module_version": "1.2.0",
            "_view_name": "LayoutView",
            "align_content": null,
            "align_items": null,
            "align_self": null,
            "border": null,
            "bottom": null,
            "display": null,
            "flex": null,
            "flex_flow": null,
            "grid_area": null,
            "grid_auto_columns": null,
            "grid_auto_flow": null,
            "grid_auto_rows": null,
            "grid_column": null,
            "grid_gap": null,
            "grid_row": null,
            "grid_template_areas": null,
            "grid_template_columns": null,
            "grid_template_rows": null,
            "height": null,
            "justify_content": null,
            "justify_items": null,
            "left": null,
            "margin": null,
            "max_height": null,
            "max_width": null,
            "min_height": null,
            "min_width": null,
            "object_fit": null,
            "object_position": null,
            "order": null,
            "overflow": null,
            "overflow_x": null,
            "overflow_y": null,
            "padding": null,
            "right": null,
            "top": null,
            "visibility": null,
            "width": null
          }
        },
        "e8f6b824bc3241ecadd479ee9d204c56": {
          "model_module": "@jupyter-widgets/base",
          "model_name": "LayoutModel",
          "model_module_version": "1.2.0",
          "state": {
            "_model_module": "@jupyter-widgets/base",
            "_model_module_version": "1.2.0",
            "_model_name": "LayoutModel",
            "_view_count": null,
            "_view_module": "@jupyter-widgets/base",
            "_view_module_version": "1.2.0",
            "_view_name": "LayoutView",
            "align_content": null,
            "align_items": null,
            "align_self": null,
            "border": null,
            "bottom": null,
            "display": null,
            "flex": null,
            "flex_flow": null,
            "grid_area": null,
            "grid_auto_columns": null,
            "grid_auto_flow": null,
            "grid_auto_rows": null,
            "grid_column": null,
            "grid_gap": null,
            "grid_row": null,
            "grid_template_areas": null,
            "grid_template_columns": null,
            "grid_template_rows": null,
            "height": null,
            "justify_content": null,
            "justify_items": null,
            "left": null,
            "margin": null,
            "max_height": null,
            "max_width": null,
            "min_height": null,
            "min_width": null,
            "object_fit": null,
            "object_position": null,
            "order": null,
            "overflow": null,
            "overflow_x": null,
            "overflow_y": null,
            "padding": null,
            "right": null,
            "top": null,
            "visibility": null,
            "width": null
          }
        },
        "b83866ff035c473b89d1abda3fb73058": {
          "model_module": "@jupyter-widgets/controls",
          "model_name": "DescriptionStyleModel",
          "model_module_version": "1.5.0",
          "state": {
            "_model_module": "@jupyter-widgets/controls",
            "_model_module_version": "1.5.0",
            "_model_name": "DescriptionStyleModel",
            "_view_count": null,
            "_view_module": "@jupyter-widgets/base",
            "_view_module_version": "1.2.0",
            "_view_name": "StyleView",
            "description_width": ""
          }
        },
        "b69b7470510748a1aa1d9cf447844c06": {
          "model_module": "@jupyter-widgets/base",
          "model_name": "LayoutModel",
          "model_module_version": "1.2.0",
          "state": {
            "_model_module": "@jupyter-widgets/base",
            "_model_module_version": "1.2.0",
            "_model_name": "LayoutModel",
            "_view_count": null,
            "_view_module": "@jupyter-widgets/base",
            "_view_module_version": "1.2.0",
            "_view_name": "LayoutView",
            "align_content": null,
            "align_items": null,
            "align_self": null,
            "border": null,
            "bottom": null,
            "display": null,
            "flex": null,
            "flex_flow": null,
            "grid_area": null,
            "grid_auto_columns": null,
            "grid_auto_flow": null,
            "grid_auto_rows": null,
            "grid_column": null,
            "grid_gap": null,
            "grid_row": null,
            "grid_template_areas": null,
            "grid_template_columns": null,
            "grid_template_rows": null,
            "height": null,
            "justify_content": null,
            "justify_items": null,
            "left": null,
            "margin": null,
            "max_height": null,
            "max_width": null,
            "min_height": null,
            "min_width": null,
            "object_fit": null,
            "object_position": null,
            "order": null,
            "overflow": null,
            "overflow_x": null,
            "overflow_y": null,
            "padding": null,
            "right": null,
            "top": null,
            "visibility": null,
            "width": null
          }
        },
        "b28c893baaff4e90a2b361e62779b9e7": {
          "model_module": "@jupyter-widgets/controls",
          "model_name": "ProgressStyleModel",
          "model_module_version": "1.5.0",
          "state": {
            "_model_module": "@jupyter-widgets/controls",
            "_model_module_version": "1.5.0",
            "_model_name": "ProgressStyleModel",
            "_view_count": null,
            "_view_module": "@jupyter-widgets/base",
            "_view_module_version": "1.2.0",
            "_view_name": "StyleView",
            "bar_color": null,
            "description_width": ""
          }
        },
        "c1ef5a4368bc432f9a0ddd4bdc214166": {
          "model_module": "@jupyter-widgets/base",
          "model_name": "LayoutModel",
          "model_module_version": "1.2.0",
          "state": {
            "_model_module": "@jupyter-widgets/base",
            "_model_module_version": "1.2.0",
            "_model_name": "LayoutModel",
            "_view_count": null,
            "_view_module": "@jupyter-widgets/base",
            "_view_module_version": "1.2.0",
            "_view_name": "LayoutView",
            "align_content": null,
            "align_items": null,
            "align_self": null,
            "border": null,
            "bottom": null,
            "display": null,
            "flex": null,
            "flex_flow": null,
            "grid_area": null,
            "grid_auto_columns": null,
            "grid_auto_flow": null,
            "grid_auto_rows": null,
            "grid_column": null,
            "grid_gap": null,
            "grid_row": null,
            "grid_template_areas": null,
            "grid_template_columns": null,
            "grid_template_rows": null,
            "height": null,
            "justify_content": null,
            "justify_items": null,
            "left": null,
            "margin": null,
            "max_height": null,
            "max_width": null,
            "min_height": null,
            "min_width": null,
            "object_fit": null,
            "object_position": null,
            "order": null,
            "overflow": null,
            "overflow_x": null,
            "overflow_y": null,
            "padding": null,
            "right": null,
            "top": null,
            "visibility": null,
            "width": null
          }
        },
        "a659f893d33942c9badc34da10d6ba97": {
          "model_module": "@jupyter-widgets/controls",
          "model_name": "DescriptionStyleModel",
          "model_module_version": "1.5.0",
          "state": {
            "_model_module": "@jupyter-widgets/controls",
            "_model_module_version": "1.5.0",
            "_model_name": "DescriptionStyleModel",
            "_view_count": null,
            "_view_module": "@jupyter-widgets/base",
            "_view_module_version": "1.2.0",
            "_view_name": "StyleView",
            "description_width": ""
          }
        },
        "122f8d39e618449ea5e6e333f0867689": {
          "model_module": "@jupyter-widgets/controls",
          "model_name": "HBoxModel",
          "model_module_version": "1.5.0",
          "state": {
            "_dom_classes": [],
            "_model_module": "@jupyter-widgets/controls",
            "_model_module_version": "1.5.0",
            "_model_name": "HBoxModel",
            "_view_count": null,
            "_view_module": "@jupyter-widgets/controls",
            "_view_module_version": "1.5.0",
            "_view_name": "HBoxView",
            "box_style": "",
            "children": [
              "IPY_MODEL_672f6e23d4364b0396afa720cf5fd9f3",
              "IPY_MODEL_6ac2987445234041b4b2054a5820ce0d",
              "IPY_MODEL_4ddccc64bf5640f99b59b6906f8f4e3a"
            ],
            "layout": "IPY_MODEL_029b03252e5246e9a2f1947108c5be0d"
          }
        },
        "672f6e23d4364b0396afa720cf5fd9f3": {
          "model_module": "@jupyter-widgets/controls",
          "model_name": "HTMLModel",
          "model_module_version": "1.5.0",
          "state": {
            "_dom_classes": [],
            "_model_module": "@jupyter-widgets/controls",
            "_model_module_version": "1.5.0",
            "_model_name": "HTMLModel",
            "_view_count": null,
            "_view_module": "@jupyter-widgets/controls",
            "_view_module_version": "1.5.0",
            "_view_name": "HTMLView",
            "description": "",
            "description_tooltip": null,
            "layout": "IPY_MODEL_8b3c2279175543e094bb358ffbb82716",
            "placeholder": "​",
            "style": "IPY_MODEL_213b13271b614dea964cb8ba11b09d4d",
            "value": "vocab.json: 100%"
          }
        },
        "6ac2987445234041b4b2054a5820ce0d": {
          "model_module": "@jupyter-widgets/controls",
          "model_name": "FloatProgressModel",
          "model_module_version": "1.5.0",
          "state": {
            "_dom_classes": [],
            "_model_module": "@jupyter-widgets/controls",
            "_model_module_version": "1.5.0",
            "_model_name": "FloatProgressModel",
            "_view_count": null,
            "_view_module": "@jupyter-widgets/controls",
            "_view_module_version": "1.5.0",
            "_view_name": "ProgressView",
            "bar_style": "success",
            "description": "",
            "description_tooltip": null,
            "layout": "IPY_MODEL_a060a1bb3d3c43d4855747b37e4f3080",
            "max": 1036558,
            "min": 0,
            "orientation": "horizontal",
            "style": "IPY_MODEL_9a9cb20fb3654b66b586246f62e5afec",
            "value": 1036558
          }
        },
        "4ddccc64bf5640f99b59b6906f8f4e3a": {
          "model_module": "@jupyter-widgets/controls",
          "model_name": "HTMLModel",
          "model_module_version": "1.5.0",
          "state": {
            "_dom_classes": [],
            "_model_module": "@jupyter-widgets/controls",
            "_model_module_version": "1.5.0",
            "_model_name": "HTMLModel",
            "_view_count": null,
            "_view_module": "@jupyter-widgets/controls",
            "_view_module_version": "1.5.0",
            "_view_name": "HTMLView",
            "description": "",
            "description_tooltip": null,
            "layout": "IPY_MODEL_dd1e4a5482cf444596d46e02b4377ca0",
            "placeholder": "​",
            "style": "IPY_MODEL_dc1cb496889d488a975683cd82f32718",
            "value": " 1.04M/1.04M [00:00&lt;00:00, 4.84MB/s]"
          }
        },
        "029b03252e5246e9a2f1947108c5be0d": {
          "model_module": "@jupyter-widgets/base",
          "model_name": "LayoutModel",
          "model_module_version": "1.2.0",
          "state": {
            "_model_module": "@jupyter-widgets/base",
            "_model_module_version": "1.2.0",
            "_model_name": "LayoutModel",
            "_view_count": null,
            "_view_module": "@jupyter-widgets/base",
            "_view_module_version": "1.2.0",
            "_view_name": "LayoutView",
            "align_content": null,
            "align_items": null,
            "align_self": null,
            "border": null,
            "bottom": null,
            "display": null,
            "flex": null,
            "flex_flow": null,
            "grid_area": null,
            "grid_auto_columns": null,
            "grid_auto_flow": null,
            "grid_auto_rows": null,
            "grid_column": null,
            "grid_gap": null,
            "grid_row": null,
            "grid_template_areas": null,
            "grid_template_columns": null,
            "grid_template_rows": null,
            "height": null,
            "justify_content": null,
            "justify_items": null,
            "left": null,
            "margin": null,
            "max_height": null,
            "max_width": null,
            "min_height": null,
            "min_width": null,
            "object_fit": null,
            "object_position": null,
            "order": null,
            "overflow": null,
            "overflow_x": null,
            "overflow_y": null,
            "padding": null,
            "right": null,
            "top": null,
            "visibility": null,
            "width": null
          }
        },
        "8b3c2279175543e094bb358ffbb82716": {
          "model_module": "@jupyter-widgets/base",
          "model_name": "LayoutModel",
          "model_module_version": "1.2.0",
          "state": {
            "_model_module": "@jupyter-widgets/base",
            "_model_module_version": "1.2.0",
            "_model_name": "LayoutModel",
            "_view_count": null,
            "_view_module": "@jupyter-widgets/base",
            "_view_module_version": "1.2.0",
            "_view_name": "LayoutView",
            "align_content": null,
            "align_items": null,
            "align_self": null,
            "border": null,
            "bottom": null,
            "display": null,
            "flex": null,
            "flex_flow": null,
            "grid_area": null,
            "grid_auto_columns": null,
            "grid_auto_flow": null,
            "grid_auto_rows": null,
            "grid_column": null,
            "grid_gap": null,
            "grid_row": null,
            "grid_template_areas": null,
            "grid_template_columns": null,
            "grid_template_rows": null,
            "height": null,
            "justify_content": null,
            "justify_items": null,
            "left": null,
            "margin": null,
            "max_height": null,
            "max_width": null,
            "min_height": null,
            "min_width": null,
            "object_fit": null,
            "object_position": null,
            "order": null,
            "overflow": null,
            "overflow_x": null,
            "overflow_y": null,
            "padding": null,
            "right": null,
            "top": null,
            "visibility": null,
            "width": null
          }
        },
        "213b13271b614dea964cb8ba11b09d4d": {
          "model_module": "@jupyter-widgets/controls",
          "model_name": "DescriptionStyleModel",
          "model_module_version": "1.5.0",
          "state": {
            "_model_module": "@jupyter-widgets/controls",
            "_model_module_version": "1.5.0",
            "_model_name": "DescriptionStyleModel",
            "_view_count": null,
            "_view_module": "@jupyter-widgets/base",
            "_view_module_version": "1.2.0",
            "_view_name": "StyleView",
            "description_width": ""
          }
        },
        "a060a1bb3d3c43d4855747b37e4f3080": {
          "model_module": "@jupyter-widgets/base",
          "model_name": "LayoutModel",
          "model_module_version": "1.2.0",
          "state": {
            "_model_module": "@jupyter-widgets/base",
            "_model_module_version": "1.2.0",
            "_model_name": "LayoutModel",
            "_view_count": null,
            "_view_module": "@jupyter-widgets/base",
            "_view_module_version": "1.2.0",
            "_view_name": "LayoutView",
            "align_content": null,
            "align_items": null,
            "align_self": null,
            "border": null,
            "bottom": null,
            "display": null,
            "flex": null,
            "flex_flow": null,
            "grid_area": null,
            "grid_auto_columns": null,
            "grid_auto_flow": null,
            "grid_auto_rows": null,
            "grid_column": null,
            "grid_gap": null,
            "grid_row": null,
            "grid_template_areas": null,
            "grid_template_columns": null,
            "grid_template_rows": null,
            "height": null,
            "justify_content": null,
            "justify_items": null,
            "left": null,
            "margin": null,
            "max_height": null,
            "max_width": null,
            "min_height": null,
            "min_width": null,
            "object_fit": null,
            "object_position": null,
            "order": null,
            "overflow": null,
            "overflow_x": null,
            "overflow_y": null,
            "padding": null,
            "right": null,
            "top": null,
            "visibility": null,
            "width": null
          }
        },
        "9a9cb20fb3654b66b586246f62e5afec": {
          "model_module": "@jupyter-widgets/controls",
          "model_name": "ProgressStyleModel",
          "model_module_version": "1.5.0",
          "state": {
            "_model_module": "@jupyter-widgets/controls",
            "_model_module_version": "1.5.0",
            "_model_name": "ProgressStyleModel",
            "_view_count": null,
            "_view_module": "@jupyter-widgets/base",
            "_view_module_version": "1.2.0",
            "_view_name": "StyleView",
            "bar_color": null,
            "description_width": ""
          }
        },
        "dd1e4a5482cf444596d46e02b4377ca0": {
          "model_module": "@jupyter-widgets/base",
          "model_name": "LayoutModel",
          "model_module_version": "1.2.0",
          "state": {
            "_model_module": "@jupyter-widgets/base",
            "_model_module_version": "1.2.0",
            "_model_name": "LayoutModel",
            "_view_count": null,
            "_view_module": "@jupyter-widgets/base",
            "_view_module_version": "1.2.0",
            "_view_name": "LayoutView",
            "align_content": null,
            "align_items": null,
            "align_self": null,
            "border": null,
            "bottom": null,
            "display": null,
            "flex": null,
            "flex_flow": null,
            "grid_area": null,
            "grid_auto_columns": null,
            "grid_auto_flow": null,
            "grid_auto_rows": null,
            "grid_column": null,
            "grid_gap": null,
            "grid_row": null,
            "grid_template_areas": null,
            "grid_template_columns": null,
            "grid_template_rows": null,
            "height": null,
            "justify_content": null,
            "justify_items": null,
            "left": null,
            "margin": null,
            "max_height": null,
            "max_width": null,
            "min_height": null,
            "min_width": null,
            "object_fit": null,
            "object_position": null,
            "order": null,
            "overflow": null,
            "overflow_x": null,
            "overflow_y": null,
            "padding": null,
            "right": null,
            "top": null,
            "visibility": null,
            "width": null
          }
        },
        "dc1cb496889d488a975683cd82f32718": {
          "model_module": "@jupyter-widgets/controls",
          "model_name": "DescriptionStyleModel",
          "model_module_version": "1.5.0",
          "state": {
            "_model_module": "@jupyter-widgets/controls",
            "_model_module_version": "1.5.0",
            "_model_name": "DescriptionStyleModel",
            "_view_count": null,
            "_view_module": "@jupyter-widgets/base",
            "_view_module_version": "1.2.0",
            "_view_name": "StyleView",
            "description_width": ""
          }
        },
        "cf8e03789c7f45cd89ee83c6ff4a9a6a": {
          "model_module": "@jupyter-widgets/controls",
          "model_name": "HBoxModel",
          "model_module_version": "1.5.0",
          "state": {
            "_dom_classes": [],
            "_model_module": "@jupyter-widgets/controls",
            "_model_module_version": "1.5.0",
            "_model_name": "HBoxModel",
            "_view_count": null,
            "_view_module": "@jupyter-widgets/controls",
            "_view_module_version": "1.5.0",
            "_view_name": "HBoxView",
            "box_style": "",
            "children": [
              "IPY_MODEL_0ccd78dac5404a849f2be7c8c499973f",
              "IPY_MODEL_1cf01c1cb40546e9873788651621ba7f",
              "IPY_MODEL_9acbc2658f83463dab67d33f95daec17"
            ],
            "layout": "IPY_MODEL_04371446c2d6423ab1d7583cd8977e50"
          }
        },
        "0ccd78dac5404a849f2be7c8c499973f": {
          "model_module": "@jupyter-widgets/controls",
          "model_name": "HTMLModel",
          "model_module_version": "1.5.0",
          "state": {
            "_dom_classes": [],
            "_model_module": "@jupyter-widgets/controls",
            "_model_module_version": "1.5.0",
            "_model_name": "HTMLModel",
            "_view_count": null,
            "_view_module": "@jupyter-widgets/controls",
            "_view_module_version": "1.5.0",
            "_view_name": "HTMLView",
            "description": "",
            "description_tooltip": null,
            "layout": "IPY_MODEL_6a248e0609ab4481986f79dd939374db",
            "placeholder": "​",
            "style": "IPY_MODEL_986d099c7228427c89b277dfe068d429",
            "value": "tokenizer.json: 100%"
          }
        },
        "1cf01c1cb40546e9873788651621ba7f": {
          "model_module": "@jupyter-widgets/controls",
          "model_name": "FloatProgressModel",
          "model_module_version": "1.5.0",
          "state": {
            "_dom_classes": [],
            "_model_module": "@jupyter-widgets/controls",
            "_model_module_version": "1.5.0",
            "_model_name": "FloatProgressModel",
            "_view_count": null,
            "_view_module": "@jupyter-widgets/controls",
            "_view_module_version": "1.5.0",
            "_view_name": "ProgressView",
            "bar_style": "success",
            "description": "",
            "description_tooltip": null,
            "layout": "IPY_MODEL_8e653d8f27bf43c6af7758c6d667d641",
            "max": 2480617,
            "min": 0,
            "orientation": "horizontal",
            "style": "IPY_MODEL_e07778f1553d4df690fdff24c77a0f28",
            "value": 2480617
          }
        },
        "9acbc2658f83463dab67d33f95daec17": {
          "model_module": "@jupyter-widgets/controls",
          "model_name": "HTMLModel",
          "model_module_version": "1.5.0",
          "state": {
            "_dom_classes": [],
            "_model_module": "@jupyter-widgets/controls",
            "_model_module_version": "1.5.0",
            "_model_name": "HTMLModel",
            "_view_count": null,
            "_view_module": "@jupyter-widgets/controls",
            "_view_module_version": "1.5.0",
            "_view_name": "HTMLView",
            "description": "",
            "description_tooltip": null,
            "layout": "IPY_MODEL_c063f64547174fb08201fdb289a9c665",
            "placeholder": "​",
            "style": "IPY_MODEL_1d7acfa605ab420f8ba0fc124e078407",
            "value": " 2.48M/2.48M [00:00&lt;00:00, 6.73MB/s]"
          }
        },
        "04371446c2d6423ab1d7583cd8977e50": {
          "model_module": "@jupyter-widgets/base",
          "model_name": "LayoutModel",
          "model_module_version": "1.2.0",
          "state": {
            "_model_module": "@jupyter-widgets/base",
            "_model_module_version": "1.2.0",
            "_model_name": "LayoutModel",
            "_view_count": null,
            "_view_module": "@jupyter-widgets/base",
            "_view_module_version": "1.2.0",
            "_view_name": "LayoutView",
            "align_content": null,
            "align_items": null,
            "align_self": null,
            "border": null,
            "bottom": null,
            "display": null,
            "flex": null,
            "flex_flow": null,
            "grid_area": null,
            "grid_auto_columns": null,
            "grid_auto_flow": null,
            "grid_auto_rows": null,
            "grid_column": null,
            "grid_gap": null,
            "grid_row": null,
            "grid_template_areas": null,
            "grid_template_columns": null,
            "grid_template_rows": null,
            "height": null,
            "justify_content": null,
            "justify_items": null,
            "left": null,
            "margin": null,
            "max_height": null,
            "max_width": null,
            "min_height": null,
            "min_width": null,
            "object_fit": null,
            "object_position": null,
            "order": null,
            "overflow": null,
            "overflow_x": null,
            "overflow_y": null,
            "padding": null,
            "right": null,
            "top": null,
            "visibility": null,
            "width": null
          }
        },
        "6a248e0609ab4481986f79dd939374db": {
          "model_module": "@jupyter-widgets/base",
          "model_name": "LayoutModel",
          "model_module_version": "1.2.0",
          "state": {
            "_model_module": "@jupyter-widgets/base",
            "_model_module_version": "1.2.0",
            "_model_name": "LayoutModel",
            "_view_count": null,
            "_view_module": "@jupyter-widgets/base",
            "_view_module_version": "1.2.0",
            "_view_name": "LayoutView",
            "align_content": null,
            "align_items": null,
            "align_self": null,
            "border": null,
            "bottom": null,
            "display": null,
            "flex": null,
            "flex_flow": null,
            "grid_area": null,
            "grid_auto_columns": null,
            "grid_auto_flow": null,
            "grid_auto_rows": null,
            "grid_column": null,
            "grid_gap": null,
            "grid_row": null,
            "grid_template_areas": null,
            "grid_template_columns": null,
            "grid_template_rows": null,
            "height": null,
            "justify_content": null,
            "justify_items": null,
            "left": null,
            "margin": null,
            "max_height": null,
            "max_width": null,
            "min_height": null,
            "min_width": null,
            "object_fit": null,
            "object_position": null,
            "order": null,
            "overflow": null,
            "overflow_x": null,
            "overflow_y": null,
            "padding": null,
            "right": null,
            "top": null,
            "visibility": null,
            "width": null
          }
        },
        "986d099c7228427c89b277dfe068d429": {
          "model_module": "@jupyter-widgets/controls",
          "model_name": "DescriptionStyleModel",
          "model_module_version": "1.5.0",
          "state": {
            "_model_module": "@jupyter-widgets/controls",
            "_model_module_version": "1.5.0",
            "_model_name": "DescriptionStyleModel",
            "_view_count": null,
            "_view_module": "@jupyter-widgets/base",
            "_view_module_version": "1.2.0",
            "_view_name": "StyleView",
            "description_width": ""
          }
        },
        "8e653d8f27bf43c6af7758c6d667d641": {
          "model_module": "@jupyter-widgets/base",
          "model_name": "LayoutModel",
          "model_module_version": "1.2.0",
          "state": {
            "_model_module": "@jupyter-widgets/base",
            "_model_module_version": "1.2.0",
            "_model_name": "LayoutModel",
            "_view_count": null,
            "_view_module": "@jupyter-widgets/base",
            "_view_module_version": "1.2.0",
            "_view_name": "LayoutView",
            "align_content": null,
            "align_items": null,
            "align_self": null,
            "border": null,
            "bottom": null,
            "display": null,
            "flex": null,
            "flex_flow": null,
            "grid_area": null,
            "grid_auto_columns": null,
            "grid_auto_flow": null,
            "grid_auto_rows": null,
            "grid_column": null,
            "grid_gap": null,
            "grid_row": null,
            "grid_template_areas": null,
            "grid_template_columns": null,
            "grid_template_rows": null,
            "height": null,
            "justify_content": null,
            "justify_items": null,
            "left": null,
            "margin": null,
            "max_height": null,
            "max_width": null,
            "min_height": null,
            "min_width": null,
            "object_fit": null,
            "object_position": null,
            "order": null,
            "overflow": null,
            "overflow_x": null,
            "overflow_y": null,
            "padding": null,
            "right": null,
            "top": null,
            "visibility": null,
            "width": null
          }
        },
        "e07778f1553d4df690fdff24c77a0f28": {
          "model_module": "@jupyter-widgets/controls",
          "model_name": "ProgressStyleModel",
          "model_module_version": "1.5.0",
          "state": {
            "_model_module": "@jupyter-widgets/controls",
            "_model_module_version": "1.5.0",
            "_model_name": "ProgressStyleModel",
            "_view_count": null,
            "_view_module": "@jupyter-widgets/base",
            "_view_module_version": "1.2.0",
            "_view_name": "StyleView",
            "bar_color": null,
            "description_width": ""
          }
        },
        "c063f64547174fb08201fdb289a9c665": {
          "model_module": "@jupyter-widgets/base",
          "model_name": "LayoutModel",
          "model_module_version": "1.2.0",
          "state": {
            "_model_module": "@jupyter-widgets/base",
            "_model_module_version": "1.2.0",
            "_model_name": "LayoutModel",
            "_view_count": null,
            "_view_module": "@jupyter-widgets/base",
            "_view_module_version": "1.2.0",
            "_view_name": "LayoutView",
            "align_content": null,
            "align_items": null,
            "align_self": null,
            "border": null,
            "bottom": null,
            "display": null,
            "flex": null,
            "flex_flow": null,
            "grid_area": null,
            "grid_auto_columns": null,
            "grid_auto_flow": null,
            "grid_auto_rows": null,
            "grid_column": null,
            "grid_gap": null,
            "grid_row": null,
            "grid_template_areas": null,
            "grid_template_columns": null,
            "grid_template_rows": null,
            "height": null,
            "justify_content": null,
            "justify_items": null,
            "left": null,
            "margin": null,
            "max_height": null,
            "max_width": null,
            "min_height": null,
            "min_width": null,
            "object_fit": null,
            "object_position": null,
            "order": null,
            "overflow": null,
            "overflow_x": null,
            "overflow_y": null,
            "padding": null,
            "right": null,
            "top": null,
            "visibility": null,
            "width": null
          }
        },
        "1d7acfa605ab420f8ba0fc124e078407": {
          "model_module": "@jupyter-widgets/controls",
          "model_name": "DescriptionStyleModel",
          "model_module_version": "1.5.0",
          "state": {
            "_model_module": "@jupyter-widgets/controls",
            "_model_module_version": "1.5.0",
            "_model_name": "DescriptionStyleModel",
            "_view_count": null,
            "_view_module": "@jupyter-widgets/base",
            "_view_module_version": "1.2.0",
            "_view_name": "StyleView",
            "description_width": ""
          }
        },
        "8769644154cc4c399e56c36d647c4ece": {
          "model_module": "@jupyter-widgets/controls",
          "model_name": "HBoxModel",
          "model_module_version": "1.5.0",
          "state": {
            "_dom_classes": [],
            "_model_module": "@jupyter-widgets/controls",
            "_model_module_version": "1.5.0",
            "_model_name": "HBoxModel",
            "_view_count": null,
            "_view_module": "@jupyter-widgets/controls",
            "_view_module_version": "1.5.0",
            "_view_name": "HBoxView",
            "box_style": "",
            "children": [
              "IPY_MODEL_70fc9e8711554e428221e87ef9d95a43",
              "IPY_MODEL_f9aa5d136dc54c5db778b8e5c5d96296",
              "IPY_MODEL_7d8453bcdc5b40b8a78065fcd44fd265"
            ],
            "layout": "IPY_MODEL_cf661cf12d1b4bbb851c6cf5af599045"
          }
        },
        "70fc9e8711554e428221e87ef9d95a43": {
          "model_module": "@jupyter-widgets/controls",
          "model_name": "HTMLModel",
          "model_module_version": "1.5.0",
          "state": {
            "_dom_classes": [],
            "_model_module": "@jupyter-widgets/controls",
            "_model_module_version": "1.5.0",
            "_model_name": "HTMLModel",
            "_view_count": null,
            "_view_module": "@jupyter-widgets/controls",
            "_view_module_version": "1.5.0",
            "_view_name": "HTMLView",
            "description": "",
            "description_tooltip": null,
            "layout": "IPY_MODEL_77021a53c9c9416bab949d0c26737a83",
            "placeholder": "​",
            "style": "IPY_MODEL_28a010504acc445894e9b586f1a63618",
            "value": "merges.txt: 100%"
          }
        },
        "f9aa5d136dc54c5db778b8e5c5d96296": {
          "model_module": "@jupyter-widgets/controls",
          "model_name": "FloatProgressModel",
          "model_module_version": "1.5.0",
          "state": {
            "_dom_classes": [],
            "_model_module": "@jupyter-widgets/controls",
            "_model_module_version": "1.5.0",
            "_model_name": "FloatProgressModel",
            "_view_count": null,
            "_view_module": "@jupyter-widgets/controls",
            "_view_module_version": "1.5.0",
            "_view_name": "ProgressView",
            "bar_style": "success",
            "description": "",
            "description_tooltip": null,
            "layout": "IPY_MODEL_83dea97b304a490fa1157a79e920f428",
            "max": 493869,
            "min": 0,
            "orientation": "horizontal",
            "style": "IPY_MODEL_c2b46b24bde4466d8509e4d99d1bed90",
            "value": 493869
          }
        },
        "7d8453bcdc5b40b8a78065fcd44fd265": {
          "model_module": "@jupyter-widgets/controls",
          "model_name": "HTMLModel",
          "model_module_version": "1.5.0",
          "state": {
            "_dom_classes": [],
            "_model_module": "@jupyter-widgets/controls",
            "_model_module_version": "1.5.0",
            "_model_name": "HTMLModel",
            "_view_count": null,
            "_view_module": "@jupyter-widgets/controls",
            "_view_module_version": "1.5.0",
            "_view_name": "HTMLView",
            "description": "",
            "description_tooltip": null,
            "layout": "IPY_MODEL_3504d423fc4c4f5f854e3c817c3da9b3",
            "placeholder": "​",
            "style": "IPY_MODEL_40022ba90d044596ad4e5a2ba70b5644",
            "value": " 494k/494k [00:00&lt;00:00, 3.45MB/s]"
          }
        },
        "cf661cf12d1b4bbb851c6cf5af599045": {
          "model_module": "@jupyter-widgets/base",
          "model_name": "LayoutModel",
          "model_module_version": "1.2.0",
          "state": {
            "_model_module": "@jupyter-widgets/base",
            "_model_module_version": "1.2.0",
            "_model_name": "LayoutModel",
            "_view_count": null,
            "_view_module": "@jupyter-widgets/base",
            "_view_module_version": "1.2.0",
            "_view_name": "LayoutView",
            "align_content": null,
            "align_items": null,
            "align_self": null,
            "border": null,
            "bottom": null,
            "display": null,
            "flex": null,
            "flex_flow": null,
            "grid_area": null,
            "grid_auto_columns": null,
            "grid_auto_flow": null,
            "grid_auto_rows": null,
            "grid_column": null,
            "grid_gap": null,
            "grid_row": null,
            "grid_template_areas": null,
            "grid_template_columns": null,
            "grid_template_rows": null,
            "height": null,
            "justify_content": null,
            "justify_items": null,
            "left": null,
            "margin": null,
            "max_height": null,
            "max_width": null,
            "min_height": null,
            "min_width": null,
            "object_fit": null,
            "object_position": null,
            "order": null,
            "overflow": null,
            "overflow_x": null,
            "overflow_y": null,
            "padding": null,
            "right": null,
            "top": null,
            "visibility": null,
            "width": null
          }
        },
        "77021a53c9c9416bab949d0c26737a83": {
          "model_module": "@jupyter-widgets/base",
          "model_name": "LayoutModel",
          "model_module_version": "1.2.0",
          "state": {
            "_model_module": "@jupyter-widgets/base",
            "_model_module_version": "1.2.0",
            "_model_name": "LayoutModel",
            "_view_count": null,
            "_view_module": "@jupyter-widgets/base",
            "_view_module_version": "1.2.0",
            "_view_name": "LayoutView",
            "align_content": null,
            "align_items": null,
            "align_self": null,
            "border": null,
            "bottom": null,
            "display": null,
            "flex": null,
            "flex_flow": null,
            "grid_area": null,
            "grid_auto_columns": null,
            "grid_auto_flow": null,
            "grid_auto_rows": null,
            "grid_column": null,
            "grid_gap": null,
            "grid_row": null,
            "grid_template_areas": null,
            "grid_template_columns": null,
            "grid_template_rows": null,
            "height": null,
            "justify_content": null,
            "justify_items": null,
            "left": null,
            "margin": null,
            "max_height": null,
            "max_width": null,
            "min_height": null,
            "min_width": null,
            "object_fit": null,
            "object_position": null,
            "order": null,
            "overflow": null,
            "overflow_x": null,
            "overflow_y": null,
            "padding": null,
            "right": null,
            "top": null,
            "visibility": null,
            "width": null
          }
        },
        "28a010504acc445894e9b586f1a63618": {
          "model_module": "@jupyter-widgets/controls",
          "model_name": "DescriptionStyleModel",
          "model_module_version": "1.5.0",
          "state": {
            "_model_module": "@jupyter-widgets/controls",
            "_model_module_version": "1.5.0",
            "_model_name": "DescriptionStyleModel",
            "_view_count": null,
            "_view_module": "@jupyter-widgets/base",
            "_view_module_version": "1.2.0",
            "_view_name": "StyleView",
            "description_width": ""
          }
        },
        "83dea97b304a490fa1157a79e920f428": {
          "model_module": "@jupyter-widgets/base",
          "model_name": "LayoutModel",
          "model_module_version": "1.2.0",
          "state": {
            "_model_module": "@jupyter-widgets/base",
            "_model_module_version": "1.2.0",
            "_model_name": "LayoutModel",
            "_view_count": null,
            "_view_module": "@jupyter-widgets/base",
            "_view_module_version": "1.2.0",
            "_view_name": "LayoutView",
            "align_content": null,
            "align_items": null,
            "align_self": null,
            "border": null,
            "bottom": null,
            "display": null,
            "flex": null,
            "flex_flow": null,
            "grid_area": null,
            "grid_auto_columns": null,
            "grid_auto_flow": null,
            "grid_auto_rows": null,
            "grid_column": null,
            "grid_gap": null,
            "grid_row": null,
            "grid_template_areas": null,
            "grid_template_columns": null,
            "grid_template_rows": null,
            "height": null,
            "justify_content": null,
            "justify_items": null,
            "left": null,
            "margin": null,
            "max_height": null,
            "max_width": null,
            "min_height": null,
            "min_width": null,
            "object_fit": null,
            "object_position": null,
            "order": null,
            "overflow": null,
            "overflow_x": null,
            "overflow_y": null,
            "padding": null,
            "right": null,
            "top": null,
            "visibility": null,
            "width": null
          }
        },
        "c2b46b24bde4466d8509e4d99d1bed90": {
          "model_module": "@jupyter-widgets/controls",
          "model_name": "ProgressStyleModel",
          "model_module_version": "1.5.0",
          "state": {
            "_model_module": "@jupyter-widgets/controls",
            "_model_module_version": "1.5.0",
            "_model_name": "ProgressStyleModel",
            "_view_count": null,
            "_view_module": "@jupyter-widgets/base",
            "_view_module_version": "1.2.0",
            "_view_name": "StyleView",
            "bar_color": null,
            "description_width": ""
          }
        },
        "3504d423fc4c4f5f854e3c817c3da9b3": {
          "model_module": "@jupyter-widgets/base",
          "model_name": "LayoutModel",
          "model_module_version": "1.2.0",
          "state": {
            "_model_module": "@jupyter-widgets/base",
            "_model_module_version": "1.2.0",
            "_model_name": "LayoutModel",
            "_view_count": null,
            "_view_module": "@jupyter-widgets/base",
            "_view_module_version": "1.2.0",
            "_view_name": "LayoutView",
            "align_content": null,
            "align_items": null,
            "align_self": null,
            "border": null,
            "bottom": null,
            "display": null,
            "flex": null,
            "flex_flow": null,
            "grid_area": null,
            "grid_auto_columns": null,
            "grid_auto_flow": null,
            "grid_auto_rows": null,
            "grid_column": null,
            "grid_gap": null,
            "grid_row": null,
            "grid_template_areas": null,
            "grid_template_columns": null,
            "grid_template_rows": null,
            "height": null,
            "justify_content": null,
            "justify_items": null,
            "left": null,
            "margin": null,
            "max_height": null,
            "max_width": null,
            "min_height": null,
            "min_width": null,
            "object_fit": null,
            "object_position": null,
            "order": null,
            "overflow": null,
            "overflow_x": null,
            "overflow_y": null,
            "padding": null,
            "right": null,
            "top": null,
            "visibility": null,
            "width": null
          }
        },
        "40022ba90d044596ad4e5a2ba70b5644": {
          "model_module": "@jupyter-widgets/controls",
          "model_name": "DescriptionStyleModel",
          "model_module_version": "1.5.0",
          "state": {
            "_model_module": "@jupyter-widgets/controls",
            "_model_module_version": "1.5.0",
            "_model_name": "DescriptionStyleModel",
            "_view_count": null,
            "_view_module": "@jupyter-widgets/base",
            "_view_module_version": "1.2.0",
            "_view_name": "StyleView",
            "description_width": ""
          }
        },
        "27e4b2da2abc44739405ed94048c782a": {
          "model_module": "@jupyter-widgets/controls",
          "model_name": "HBoxModel",
          "model_module_version": "1.5.0",
          "state": {
            "_dom_classes": [],
            "_model_module": "@jupyter-widgets/controls",
            "_model_module_version": "1.5.0",
            "_model_name": "HBoxModel",
            "_view_count": null,
            "_view_module": "@jupyter-widgets/controls",
            "_view_module_version": "1.5.0",
            "_view_name": "HBoxView",
            "box_style": "",
            "children": [
              "IPY_MODEL_cd6027ad16194b7db0082e82471e3387",
              "IPY_MODEL_8ca5de070d8c4c45af119b621146d1a7",
              "IPY_MODEL_a1641ea778b2412681205f63c5a57416"
            ],
            "layout": "IPY_MODEL_d256898185e44aa3aa6d7b21386b08c3"
          }
        },
        "cd6027ad16194b7db0082e82471e3387": {
          "model_module": "@jupyter-widgets/controls",
          "model_name": "HTMLModel",
          "model_module_version": "1.5.0",
          "state": {
            "_dom_classes": [],
            "_model_module": "@jupyter-widgets/controls",
            "_model_module_version": "1.5.0",
            "_model_name": "HTMLModel",
            "_view_count": null,
            "_view_module": "@jupyter-widgets/controls",
            "_view_module_version": "1.5.0",
            "_view_name": "HTMLView",
            "description": "",
            "description_tooltip": null,
            "layout": "IPY_MODEL_85f8198bb3cb4273b5a3d82a0bf1aa97",
            "placeholder": "​",
            "style": "IPY_MODEL_09a25bf5558949fcaf09d9f286349ae2",
            "value": "normalizer.json: 100%"
          }
        },
        "8ca5de070d8c4c45af119b621146d1a7": {
          "model_module": "@jupyter-widgets/controls",
          "model_name": "FloatProgressModel",
          "model_module_version": "1.5.0",
          "state": {
            "_dom_classes": [],
            "_model_module": "@jupyter-widgets/controls",
            "_model_module_version": "1.5.0",
            "_model_name": "FloatProgressModel",
            "_view_count": null,
            "_view_module": "@jupyter-widgets/controls",
            "_view_module_version": "1.5.0",
            "_view_name": "ProgressView",
            "bar_style": "success",
            "description": "",
            "description_tooltip": null,
            "layout": "IPY_MODEL_7f33966cdb9a485485753b83302dec0d",
            "max": 52666,
            "min": 0,
            "orientation": "horizontal",
            "style": "IPY_MODEL_d5970ff529de488fb7779440ff149e1a",
            "value": 52666
          }
        },
        "a1641ea778b2412681205f63c5a57416": {
          "model_module": "@jupyter-widgets/controls",
          "model_name": "HTMLModel",
          "model_module_version": "1.5.0",
          "state": {
            "_dom_classes": [],
            "_model_module": "@jupyter-widgets/controls",
            "_model_module_version": "1.5.0",
            "_model_name": "HTMLModel",
            "_view_count": null,
            "_view_module": "@jupyter-widgets/controls",
            "_view_module_version": "1.5.0",
            "_view_name": "HTMLView",
            "description": "",
            "description_tooltip": null,
            "layout": "IPY_MODEL_e67d6fab2160472088a54c50001ea483",
            "placeholder": "​",
            "style": "IPY_MODEL_68b1a7322eeb40ef91deaa28abd00688",
            "value": " 52.7k/52.7k [00:00&lt;00:00, 5.67MB/s]"
          }
        },
        "d256898185e44aa3aa6d7b21386b08c3": {
          "model_module": "@jupyter-widgets/base",
          "model_name": "LayoutModel",
          "model_module_version": "1.2.0",
          "state": {
            "_model_module": "@jupyter-widgets/base",
            "_model_module_version": "1.2.0",
            "_model_name": "LayoutModel",
            "_view_count": null,
            "_view_module": "@jupyter-widgets/base",
            "_view_module_version": "1.2.0",
            "_view_name": "LayoutView",
            "align_content": null,
            "align_items": null,
            "align_self": null,
            "border": null,
            "bottom": null,
            "display": null,
            "flex": null,
            "flex_flow": null,
            "grid_area": null,
            "grid_auto_columns": null,
            "grid_auto_flow": null,
            "grid_auto_rows": null,
            "grid_column": null,
            "grid_gap": null,
            "grid_row": null,
            "grid_template_areas": null,
            "grid_template_columns": null,
            "grid_template_rows": null,
            "height": null,
            "justify_content": null,
            "justify_items": null,
            "left": null,
            "margin": null,
            "max_height": null,
            "max_width": null,
            "min_height": null,
            "min_width": null,
            "object_fit": null,
            "object_position": null,
            "order": null,
            "overflow": null,
            "overflow_x": null,
            "overflow_y": null,
            "padding": null,
            "right": null,
            "top": null,
            "visibility": null,
            "width": null
          }
        },
        "85f8198bb3cb4273b5a3d82a0bf1aa97": {
          "model_module": "@jupyter-widgets/base",
          "model_name": "LayoutModel",
          "model_module_version": "1.2.0",
          "state": {
            "_model_module": "@jupyter-widgets/base",
            "_model_module_version": "1.2.0",
            "_model_name": "LayoutModel",
            "_view_count": null,
            "_view_module": "@jupyter-widgets/base",
            "_view_module_version": "1.2.0",
            "_view_name": "LayoutView",
            "align_content": null,
            "align_items": null,
            "align_self": null,
            "border": null,
            "bottom": null,
            "display": null,
            "flex": null,
            "flex_flow": null,
            "grid_area": null,
            "grid_auto_columns": null,
            "grid_auto_flow": null,
            "grid_auto_rows": null,
            "grid_column": null,
            "grid_gap": null,
            "grid_row": null,
            "grid_template_areas": null,
            "grid_template_columns": null,
            "grid_template_rows": null,
            "height": null,
            "justify_content": null,
            "justify_items": null,
            "left": null,
            "margin": null,
            "max_height": null,
            "max_width": null,
            "min_height": null,
            "min_width": null,
            "object_fit": null,
            "object_position": null,
            "order": null,
            "overflow": null,
            "overflow_x": null,
            "overflow_y": null,
            "padding": null,
            "right": null,
            "top": null,
            "visibility": null,
            "width": null
          }
        },
        "09a25bf5558949fcaf09d9f286349ae2": {
          "model_module": "@jupyter-widgets/controls",
          "model_name": "DescriptionStyleModel",
          "model_module_version": "1.5.0",
          "state": {
            "_model_module": "@jupyter-widgets/controls",
            "_model_module_version": "1.5.0",
            "_model_name": "DescriptionStyleModel",
            "_view_count": null,
            "_view_module": "@jupyter-widgets/base",
            "_view_module_version": "1.2.0",
            "_view_name": "StyleView",
            "description_width": ""
          }
        },
        "7f33966cdb9a485485753b83302dec0d": {
          "model_module": "@jupyter-widgets/base",
          "model_name": "LayoutModel",
          "model_module_version": "1.2.0",
          "state": {
            "_model_module": "@jupyter-widgets/base",
            "_model_module_version": "1.2.0",
            "_model_name": "LayoutModel",
            "_view_count": null,
            "_view_module": "@jupyter-widgets/base",
            "_view_module_version": "1.2.0",
            "_view_name": "LayoutView",
            "align_content": null,
            "align_items": null,
            "align_self": null,
            "border": null,
            "bottom": null,
            "display": null,
            "flex": null,
            "flex_flow": null,
            "grid_area": null,
            "grid_auto_columns": null,
            "grid_auto_flow": null,
            "grid_auto_rows": null,
            "grid_column": null,
            "grid_gap": null,
            "grid_row": null,
            "grid_template_areas": null,
            "grid_template_columns": null,
            "grid_template_rows": null,
            "height": null,
            "justify_content": null,
            "justify_items": null,
            "left": null,
            "margin": null,
            "max_height": null,
            "max_width": null,
            "min_height": null,
            "min_width": null,
            "object_fit": null,
            "object_position": null,
            "order": null,
            "overflow": null,
            "overflow_x": null,
            "overflow_y": null,
            "padding": null,
            "right": null,
            "top": null,
            "visibility": null,
            "width": null
          }
        },
        "d5970ff529de488fb7779440ff149e1a": {
          "model_module": "@jupyter-widgets/controls",
          "model_name": "ProgressStyleModel",
          "model_module_version": "1.5.0",
          "state": {
            "_model_module": "@jupyter-widgets/controls",
            "_model_module_version": "1.5.0",
            "_model_name": "ProgressStyleModel",
            "_view_count": null,
            "_view_module": "@jupyter-widgets/base",
            "_view_module_version": "1.2.0",
            "_view_name": "StyleView",
            "bar_color": null,
            "description_width": ""
          }
        },
        "e67d6fab2160472088a54c50001ea483": {
          "model_module": "@jupyter-widgets/base",
          "model_name": "LayoutModel",
          "model_module_version": "1.2.0",
          "state": {
            "_model_module": "@jupyter-widgets/base",
            "_model_module_version": "1.2.0",
            "_model_name": "LayoutModel",
            "_view_count": null,
            "_view_module": "@jupyter-widgets/base",
            "_view_module_version": "1.2.0",
            "_view_name": "LayoutView",
            "align_content": null,
            "align_items": null,
            "align_self": null,
            "border": null,
            "bottom": null,
            "display": null,
            "flex": null,
            "flex_flow": null,
            "grid_area": null,
            "grid_auto_columns": null,
            "grid_auto_flow": null,
            "grid_auto_rows": null,
            "grid_column": null,
            "grid_gap": null,
            "grid_row": null,
            "grid_template_areas": null,
            "grid_template_columns": null,
            "grid_template_rows": null,
            "height": null,
            "justify_content": null,
            "justify_items": null,
            "left": null,
            "margin": null,
            "max_height": null,
            "max_width": null,
            "min_height": null,
            "min_width": null,
            "object_fit": null,
            "object_position": null,
            "order": null,
            "overflow": null,
            "overflow_x": null,
            "overflow_y": null,
            "padding": null,
            "right": null,
            "top": null,
            "visibility": null,
            "width": null
          }
        },
        "68b1a7322eeb40ef91deaa28abd00688": {
          "model_module": "@jupyter-widgets/controls",
          "model_name": "DescriptionStyleModel",
          "model_module_version": "1.5.0",
          "state": {
            "_model_module": "@jupyter-widgets/controls",
            "_model_module_version": "1.5.0",
            "_model_name": "DescriptionStyleModel",
            "_view_count": null,
            "_view_module": "@jupyter-widgets/base",
            "_view_module_version": "1.2.0",
            "_view_name": "StyleView",
            "description_width": ""
          }
        },
        "9218b7243686472ea94c01c4cbd03ee9": {
          "model_module": "@jupyter-widgets/controls",
          "model_name": "HBoxModel",
          "model_module_version": "1.5.0",
          "state": {
            "_dom_classes": [],
            "_model_module": "@jupyter-widgets/controls",
            "_model_module_version": "1.5.0",
            "_model_name": "HBoxModel",
            "_view_count": null,
            "_view_module": "@jupyter-widgets/controls",
            "_view_module_version": "1.5.0",
            "_view_name": "HBoxView",
            "box_style": "",
            "children": [
              "IPY_MODEL_3b1f268c104347529728ae6b3b3ff688",
              "IPY_MODEL_ef1bbf6a02254eb5a7555054a577b6b1",
              "IPY_MODEL_fb83642b00a04b79a46ccfd288bc19fa"
            ],
            "layout": "IPY_MODEL_74b46fb75b5d4f25804c30bb173d5ed7"
          }
        },
        "3b1f268c104347529728ae6b3b3ff688": {
          "model_module": "@jupyter-widgets/controls",
          "model_name": "HTMLModel",
          "model_module_version": "1.5.0",
          "state": {
            "_dom_classes": [],
            "_model_module": "@jupyter-widgets/controls",
            "_model_module_version": "1.5.0",
            "_model_name": "HTMLModel",
            "_view_count": null,
            "_view_module": "@jupyter-widgets/controls",
            "_view_module_version": "1.5.0",
            "_view_name": "HTMLView",
            "description": "",
            "description_tooltip": null,
            "layout": "IPY_MODEL_4eb36aa0f961463eaac4e78e27dbfa68",
            "placeholder": "​",
            "style": "IPY_MODEL_6957766a3aba438ca45e53467b81929b",
            "value": "added_tokens.json: 100%"
          }
        },
        "ef1bbf6a02254eb5a7555054a577b6b1": {
          "model_module": "@jupyter-widgets/controls",
          "model_name": "FloatProgressModel",
          "model_module_version": "1.5.0",
          "state": {
            "_dom_classes": [],
            "_model_module": "@jupyter-widgets/controls",
            "_model_module_version": "1.5.0",
            "_model_name": "FloatProgressModel",
            "_view_count": null,
            "_view_module": "@jupyter-widgets/controls",
            "_view_module_version": "1.5.0",
            "_view_name": "ProgressView",
            "bar_style": "success",
            "description": "",
            "description_tooltip": null,
            "layout": "IPY_MODEL_7b56c7c362864327939b586e38c17f57",
            "max": 34648,
            "min": 0,
            "orientation": "horizontal",
            "style": "IPY_MODEL_4b6086a795004e1a9a6a0737d444b140",
            "value": 34648
          }
        },
        "fb83642b00a04b79a46ccfd288bc19fa": {
          "model_module": "@jupyter-widgets/controls",
          "model_name": "HTMLModel",
          "model_module_version": "1.5.0",
          "state": {
            "_dom_classes": [],
            "_model_module": "@jupyter-widgets/controls",
            "_model_module_version": "1.5.0",
            "_model_name": "HTMLModel",
            "_view_count": null,
            "_view_module": "@jupyter-widgets/controls",
            "_view_module_version": "1.5.0",
            "_view_name": "HTMLView",
            "description": "",
            "description_tooltip": null,
            "layout": "IPY_MODEL_c54f819c46cc4de3898d4903f221fcda",
            "placeholder": "​",
            "style": "IPY_MODEL_4253ac687692416587142f7523bf5cda",
            "value": " 34.6k/34.6k [00:00&lt;00:00, 3.63MB/s]"
          }
        },
        "74b46fb75b5d4f25804c30bb173d5ed7": {
          "model_module": "@jupyter-widgets/base",
          "model_name": "LayoutModel",
          "model_module_version": "1.2.0",
          "state": {
            "_model_module": "@jupyter-widgets/base",
            "_model_module_version": "1.2.0",
            "_model_name": "LayoutModel",
            "_view_count": null,
            "_view_module": "@jupyter-widgets/base",
            "_view_module_version": "1.2.0",
            "_view_name": "LayoutView",
            "align_content": null,
            "align_items": null,
            "align_self": null,
            "border": null,
            "bottom": null,
            "display": null,
            "flex": null,
            "flex_flow": null,
            "grid_area": null,
            "grid_auto_columns": null,
            "grid_auto_flow": null,
            "grid_auto_rows": null,
            "grid_column": null,
            "grid_gap": null,
            "grid_row": null,
            "grid_template_areas": null,
            "grid_template_columns": null,
            "grid_template_rows": null,
            "height": null,
            "justify_content": null,
            "justify_items": null,
            "left": null,
            "margin": null,
            "max_height": null,
            "max_width": null,
            "min_height": null,
            "min_width": null,
            "object_fit": null,
            "object_position": null,
            "order": null,
            "overflow": null,
            "overflow_x": null,
            "overflow_y": null,
            "padding": null,
            "right": null,
            "top": null,
            "visibility": null,
            "width": null
          }
        },
        "4eb36aa0f961463eaac4e78e27dbfa68": {
          "model_module": "@jupyter-widgets/base",
          "model_name": "LayoutModel",
          "model_module_version": "1.2.0",
          "state": {
            "_model_module": "@jupyter-widgets/base",
            "_model_module_version": "1.2.0",
            "_model_name": "LayoutModel",
            "_view_count": null,
            "_view_module": "@jupyter-widgets/base",
            "_view_module_version": "1.2.0",
            "_view_name": "LayoutView",
            "align_content": null,
            "align_items": null,
            "align_self": null,
            "border": null,
            "bottom": null,
            "display": null,
            "flex": null,
            "flex_flow": null,
            "grid_area": null,
            "grid_auto_columns": null,
            "grid_auto_flow": null,
            "grid_auto_rows": null,
            "grid_column": null,
            "grid_gap": null,
            "grid_row": null,
            "grid_template_areas": null,
            "grid_template_columns": null,
            "grid_template_rows": null,
            "height": null,
            "justify_content": null,
            "justify_items": null,
            "left": null,
            "margin": null,
            "max_height": null,
            "max_width": null,
            "min_height": null,
            "min_width": null,
            "object_fit": null,
            "object_position": null,
            "order": null,
            "overflow": null,
            "overflow_x": null,
            "overflow_y": null,
            "padding": null,
            "right": null,
            "top": null,
            "visibility": null,
            "width": null
          }
        },
        "6957766a3aba438ca45e53467b81929b": {
          "model_module": "@jupyter-widgets/controls",
          "model_name": "DescriptionStyleModel",
          "model_module_version": "1.5.0",
          "state": {
            "_model_module": "@jupyter-widgets/controls",
            "_model_module_version": "1.5.0",
            "_model_name": "DescriptionStyleModel",
            "_view_count": null,
            "_view_module": "@jupyter-widgets/base",
            "_view_module_version": "1.2.0",
            "_view_name": "StyleView",
            "description_width": ""
          }
        },
        "7b56c7c362864327939b586e38c17f57": {
          "model_module": "@jupyter-widgets/base",
          "model_name": "LayoutModel",
          "model_module_version": "1.2.0",
          "state": {
            "_model_module": "@jupyter-widgets/base",
            "_model_module_version": "1.2.0",
            "_model_name": "LayoutModel",
            "_view_count": null,
            "_view_module": "@jupyter-widgets/base",
            "_view_module_version": "1.2.0",
            "_view_name": "LayoutView",
            "align_content": null,
            "align_items": null,
            "align_self": null,
            "border": null,
            "bottom": null,
            "display": null,
            "flex": null,
            "flex_flow": null,
            "grid_area": null,
            "grid_auto_columns": null,
            "grid_auto_flow": null,
            "grid_auto_rows": null,
            "grid_column": null,
            "grid_gap": null,
            "grid_row": null,
            "grid_template_areas": null,
            "grid_template_columns": null,
            "grid_template_rows": null,
            "height": null,
            "justify_content": null,
            "justify_items": null,
            "left": null,
            "margin": null,
            "max_height": null,
            "max_width": null,
            "min_height": null,
            "min_width": null,
            "object_fit": null,
            "object_position": null,
            "order": null,
            "overflow": null,
            "overflow_x": null,
            "overflow_y": null,
            "padding": null,
            "right": null,
            "top": null,
            "visibility": null,
            "width": null
          }
        },
        "4b6086a795004e1a9a6a0737d444b140": {
          "model_module": "@jupyter-widgets/controls",
          "model_name": "ProgressStyleModel",
          "model_module_version": "1.5.0",
          "state": {
            "_model_module": "@jupyter-widgets/controls",
            "_model_module_version": "1.5.0",
            "_model_name": "ProgressStyleModel",
            "_view_count": null,
            "_view_module": "@jupyter-widgets/base",
            "_view_module_version": "1.2.0",
            "_view_name": "StyleView",
            "bar_color": null,
            "description_width": ""
          }
        },
        "c54f819c46cc4de3898d4903f221fcda": {
          "model_module": "@jupyter-widgets/base",
          "model_name": "LayoutModel",
          "model_module_version": "1.2.0",
          "state": {
            "_model_module": "@jupyter-widgets/base",
            "_model_module_version": "1.2.0",
            "_model_name": "LayoutModel",
            "_view_count": null,
            "_view_module": "@jupyter-widgets/base",
            "_view_module_version": "1.2.0",
            "_view_name": "LayoutView",
            "align_content": null,
            "align_items": null,
            "align_self": null,
            "border": null,
            "bottom": null,
            "display": null,
            "flex": null,
            "flex_flow": null,
            "grid_area": null,
            "grid_auto_columns": null,
            "grid_auto_flow": null,
            "grid_auto_rows": null,
            "grid_column": null,
            "grid_gap": null,
            "grid_row": null,
            "grid_template_areas": null,
            "grid_template_columns": null,
            "grid_template_rows": null,
            "height": null,
            "justify_content": null,
            "justify_items": null,
            "left": null,
            "margin": null,
            "max_height": null,
            "max_width": null,
            "min_height": null,
            "min_width": null,
            "object_fit": null,
            "object_position": null,
            "order": null,
            "overflow": null,
            "overflow_x": null,
            "overflow_y": null,
            "padding": null,
            "right": null,
            "top": null,
            "visibility": null,
            "width": null
          }
        },
        "4253ac687692416587142f7523bf5cda": {
          "model_module": "@jupyter-widgets/controls",
          "model_name": "DescriptionStyleModel",
          "model_module_version": "1.5.0",
          "state": {
            "_model_module": "@jupyter-widgets/controls",
            "_model_module_version": "1.5.0",
            "_model_name": "DescriptionStyleModel",
            "_view_count": null,
            "_view_module": "@jupyter-widgets/base",
            "_view_module_version": "1.2.0",
            "_view_name": "StyleView",
            "description_width": ""
          }
        },
        "1246a94f88a54245a014af9b34840a61": {
          "model_module": "@jupyter-widgets/controls",
          "model_name": "HBoxModel",
          "model_module_version": "1.5.0",
          "state": {
            "_dom_classes": [],
            "_model_module": "@jupyter-widgets/controls",
            "_model_module_version": "1.5.0",
            "_model_name": "HBoxModel",
            "_view_count": null,
            "_view_module": "@jupyter-widgets/controls",
            "_view_module_version": "1.5.0",
            "_view_name": "HBoxView",
            "box_style": "",
            "children": [
              "IPY_MODEL_6e71ccf5382349579cd9c4bb6db26f27",
              "IPY_MODEL_f5518f3754644955b26136b90afbff31",
              "IPY_MODEL_4e9f7c70e69641e0b6719cabb50c1719"
            ],
            "layout": "IPY_MODEL_4024749429384e999f6b111af9f26c7a"
          }
        },
        "6e71ccf5382349579cd9c4bb6db26f27": {
          "model_module": "@jupyter-widgets/controls",
          "model_name": "HTMLModel",
          "model_module_version": "1.5.0",
          "state": {
            "_dom_classes": [],
            "_model_module": "@jupyter-widgets/controls",
            "_model_module_version": "1.5.0",
            "_model_name": "HTMLModel",
            "_view_count": null,
            "_view_module": "@jupyter-widgets/controls",
            "_view_module_version": "1.5.0",
            "_view_name": "HTMLView",
            "description": "",
            "description_tooltip": null,
            "layout": "IPY_MODEL_2ae0c0475f6944d98dd30192a01dc6ec",
            "placeholder": "​",
            "style": "IPY_MODEL_30df7dcfd6764aae8d8742f2057b65ca",
            "value": "special_tokens_map.json: 100%"
          }
        },
        "f5518f3754644955b26136b90afbff31": {
          "model_module": "@jupyter-widgets/controls",
          "model_name": "FloatProgressModel",
          "model_module_version": "1.5.0",
          "state": {
            "_dom_classes": [],
            "_model_module": "@jupyter-widgets/controls",
            "_model_module_version": "1.5.0",
            "_model_name": "FloatProgressModel",
            "_view_count": null,
            "_view_module": "@jupyter-widgets/controls",
            "_view_module_version": "1.5.0",
            "_view_name": "ProgressView",
            "bar_style": "success",
            "description": "",
            "description_tooltip": null,
            "layout": "IPY_MODEL_28b6760410ce4b398a7f1103b122c203",
            "max": 2072,
            "min": 0,
            "orientation": "horizontal",
            "style": "IPY_MODEL_1c8ba032b6ce4173b865b621929b3710",
            "value": 2072
          }
        },
        "4e9f7c70e69641e0b6719cabb50c1719": {
          "model_module": "@jupyter-widgets/controls",
          "model_name": "HTMLModel",
          "model_module_version": "1.5.0",
          "state": {
            "_dom_classes": [],
            "_model_module": "@jupyter-widgets/controls",
            "_model_module_version": "1.5.0",
            "_model_name": "HTMLModel",
            "_view_count": null,
            "_view_module": "@jupyter-widgets/controls",
            "_view_module_version": "1.5.0",
            "_view_name": "HTMLView",
            "description": "",
            "description_tooltip": null,
            "layout": "IPY_MODEL_fb870f70a4bd4402958a9ca330e9cf8b",
            "placeholder": "​",
            "style": "IPY_MODEL_8d5de8cd77964de2a14fd92bf03e6e52",
            "value": " 2.07k/2.07k [00:00&lt;00:00, 134kB/s]"
          }
        },
        "4024749429384e999f6b111af9f26c7a": {
          "model_module": "@jupyter-widgets/base",
          "model_name": "LayoutModel",
          "model_module_version": "1.2.0",
          "state": {
            "_model_module": "@jupyter-widgets/base",
            "_model_module_version": "1.2.0",
            "_model_name": "LayoutModel",
            "_view_count": null,
            "_view_module": "@jupyter-widgets/base",
            "_view_module_version": "1.2.0",
            "_view_name": "LayoutView",
            "align_content": null,
            "align_items": null,
            "align_self": null,
            "border": null,
            "bottom": null,
            "display": null,
            "flex": null,
            "flex_flow": null,
            "grid_area": null,
            "grid_auto_columns": null,
            "grid_auto_flow": null,
            "grid_auto_rows": null,
            "grid_column": null,
            "grid_gap": null,
            "grid_row": null,
            "grid_template_areas": null,
            "grid_template_columns": null,
            "grid_template_rows": null,
            "height": null,
            "justify_content": null,
            "justify_items": null,
            "left": null,
            "margin": null,
            "max_height": null,
            "max_width": null,
            "min_height": null,
            "min_width": null,
            "object_fit": null,
            "object_position": null,
            "order": null,
            "overflow": null,
            "overflow_x": null,
            "overflow_y": null,
            "padding": null,
            "right": null,
            "top": null,
            "visibility": null,
            "width": null
          }
        },
        "2ae0c0475f6944d98dd30192a01dc6ec": {
          "model_module": "@jupyter-widgets/base",
          "model_name": "LayoutModel",
          "model_module_version": "1.2.0",
          "state": {
            "_model_module": "@jupyter-widgets/base",
            "_model_module_version": "1.2.0",
            "_model_name": "LayoutModel",
            "_view_count": null,
            "_view_module": "@jupyter-widgets/base",
            "_view_module_version": "1.2.0",
            "_view_name": "LayoutView",
            "align_content": null,
            "align_items": null,
            "align_self": null,
            "border": null,
            "bottom": null,
            "display": null,
            "flex": null,
            "flex_flow": null,
            "grid_area": null,
            "grid_auto_columns": null,
            "grid_auto_flow": null,
            "grid_auto_rows": null,
            "grid_column": null,
            "grid_gap": null,
            "grid_row": null,
            "grid_template_areas": null,
            "grid_template_columns": null,
            "grid_template_rows": null,
            "height": null,
            "justify_content": null,
            "justify_items": null,
            "left": null,
            "margin": null,
            "max_height": null,
            "max_width": null,
            "min_height": null,
            "min_width": null,
            "object_fit": null,
            "object_position": null,
            "order": null,
            "overflow": null,
            "overflow_x": null,
            "overflow_y": null,
            "padding": null,
            "right": null,
            "top": null,
            "visibility": null,
            "width": null
          }
        },
        "30df7dcfd6764aae8d8742f2057b65ca": {
          "model_module": "@jupyter-widgets/controls",
          "model_name": "DescriptionStyleModel",
          "model_module_version": "1.5.0",
          "state": {
            "_model_module": "@jupyter-widgets/controls",
            "_model_module_version": "1.5.0",
            "_model_name": "DescriptionStyleModel",
            "_view_count": null,
            "_view_module": "@jupyter-widgets/base",
            "_view_module_version": "1.2.0",
            "_view_name": "StyleView",
            "description_width": ""
          }
        },
        "28b6760410ce4b398a7f1103b122c203": {
          "model_module": "@jupyter-widgets/base",
          "model_name": "LayoutModel",
          "model_module_version": "1.2.0",
          "state": {
            "_model_module": "@jupyter-widgets/base",
            "_model_module_version": "1.2.0",
            "_model_name": "LayoutModel",
            "_view_count": null,
            "_view_module": "@jupyter-widgets/base",
            "_view_module_version": "1.2.0",
            "_view_name": "LayoutView",
            "align_content": null,
            "align_items": null,
            "align_self": null,
            "border": null,
            "bottom": null,
            "display": null,
            "flex": null,
            "flex_flow": null,
            "grid_area": null,
            "grid_auto_columns": null,
            "grid_auto_flow": null,
            "grid_auto_rows": null,
            "grid_column": null,
            "grid_gap": null,
            "grid_row": null,
            "grid_template_areas": null,
            "grid_template_columns": null,
            "grid_template_rows": null,
            "height": null,
            "justify_content": null,
            "justify_items": null,
            "left": null,
            "margin": null,
            "max_height": null,
            "max_width": null,
            "min_height": null,
            "min_width": null,
            "object_fit": null,
            "object_position": null,
            "order": null,
            "overflow": null,
            "overflow_x": null,
            "overflow_y": null,
            "padding": null,
            "right": null,
            "top": null,
            "visibility": null,
            "width": null
          }
        },
        "1c8ba032b6ce4173b865b621929b3710": {
          "model_module": "@jupyter-widgets/controls",
          "model_name": "ProgressStyleModel",
          "model_module_version": "1.5.0",
          "state": {
            "_model_module": "@jupyter-widgets/controls",
            "_model_module_version": "1.5.0",
            "_model_name": "ProgressStyleModel",
            "_view_count": null,
            "_view_module": "@jupyter-widgets/base",
            "_view_module_version": "1.2.0",
            "_view_name": "StyleView",
            "bar_color": null,
            "description_width": ""
          }
        },
        "fb870f70a4bd4402958a9ca330e9cf8b": {
          "model_module": "@jupyter-widgets/base",
          "model_name": "LayoutModel",
          "model_module_version": "1.2.0",
          "state": {
            "_model_module": "@jupyter-widgets/base",
            "_model_module_version": "1.2.0",
            "_model_name": "LayoutModel",
            "_view_count": null,
            "_view_module": "@jupyter-widgets/base",
            "_view_module_version": "1.2.0",
            "_view_name": "LayoutView",
            "align_content": null,
            "align_items": null,
            "align_self": null,
            "border": null,
            "bottom": null,
            "display": null,
            "flex": null,
            "flex_flow": null,
            "grid_area": null,
            "grid_auto_columns": null,
            "grid_auto_flow": null,
            "grid_auto_rows": null,
            "grid_column": null,
            "grid_gap": null,
            "grid_row": null,
            "grid_template_areas": null,
            "grid_template_columns": null,
            "grid_template_rows": null,
            "height": null,
            "justify_content": null,
            "justify_items": null,
            "left": null,
            "margin": null,
            "max_height": null,
            "max_width": null,
            "min_height": null,
            "min_width": null,
            "object_fit": null,
            "object_position": null,
            "order": null,
            "overflow": null,
            "overflow_x": null,
            "overflow_y": null,
            "padding": null,
            "right": null,
            "top": null,
            "visibility": null,
            "width": null
          }
        },
        "8d5de8cd77964de2a14fd92bf03e6e52": {
          "model_module": "@jupyter-widgets/controls",
          "model_name": "DescriptionStyleModel",
          "model_module_version": "1.5.0",
          "state": {
            "_model_module": "@jupyter-widgets/controls",
            "_model_module_version": "1.5.0",
            "_model_name": "DescriptionStyleModel",
            "_view_count": null,
            "_view_module": "@jupyter-widgets/base",
            "_view_module_version": "1.2.0",
            "_view_name": "StyleView",
            "description_width": ""
          }
        },
        "970378f190ab483fbe06c0a5b6044478": {
          "model_module": "@jupyter-widgets/controls",
          "model_name": "HBoxModel",
          "model_module_version": "1.5.0",
          "state": {
            "_dom_classes": [],
            "_model_module": "@jupyter-widgets/controls",
            "_model_module_version": "1.5.0",
            "_model_name": "HBoxModel",
            "_view_count": null,
            "_view_module": "@jupyter-widgets/controls",
            "_view_module_version": "1.5.0",
            "_view_name": "HBoxView",
            "box_style": "",
            "children": [
              "IPY_MODEL_b4cf4da0bae44a8f9b182b31afed171d",
              "IPY_MODEL_3c41733966da42548a8d4add0dc62c99",
              "IPY_MODEL_4cb85eb46b0f42e685b725547b18792b"
            ],
            "layout": "IPY_MODEL_1af0714985b5489a96ff85979870cd2c"
          }
        },
        "b4cf4da0bae44a8f9b182b31afed171d": {
          "model_module": "@jupyter-widgets/controls",
          "model_name": "HTMLModel",
          "model_module_version": "1.5.0",
          "state": {
            "_dom_classes": [],
            "_model_module": "@jupyter-widgets/controls",
            "_model_module_version": "1.5.0",
            "_model_name": "HTMLModel",
            "_view_count": null,
            "_view_module": "@jupyter-widgets/controls",
            "_view_module_version": "1.5.0",
            "_view_name": "HTMLView",
            "description": "",
            "description_tooltip": null,
            "layout": "IPY_MODEL_7f9702027ecc40429f6c2564ba22bda5",
            "placeholder": "​",
            "style": "IPY_MODEL_d9fdb974b8a64a4cab64051205fef908",
            "value": "preprocessor_config.json: 100%"
          }
        },
        "3c41733966da42548a8d4add0dc62c99": {
          "model_module": "@jupyter-widgets/controls",
          "model_name": "FloatProgressModel",
          "model_module_version": "1.5.0",
          "state": {
            "_dom_classes": [],
            "_model_module": "@jupyter-widgets/controls",
            "_model_module_version": "1.5.0",
            "_model_name": "FloatProgressModel",
            "_view_count": null,
            "_view_module": "@jupyter-widgets/controls",
            "_view_module_version": "1.5.0",
            "_view_name": "ProgressView",
            "bar_style": "success",
            "description": "",
            "description_tooltip": null,
            "layout": "IPY_MODEL_ea7f389ae7034e8e98ba62463f4955d6",
            "max": 340,
            "min": 0,
            "orientation": "horizontal",
            "style": "IPY_MODEL_51301fb4c8444cfba4e3c46f716296ce",
            "value": 340
          }
        },
        "4cb85eb46b0f42e685b725547b18792b": {
          "model_module": "@jupyter-widgets/controls",
          "model_name": "HTMLModel",
          "model_module_version": "1.5.0",
          "state": {
            "_dom_classes": [],
            "_model_module": "@jupyter-widgets/controls",
            "_model_module_version": "1.5.0",
            "_model_name": "HTMLModel",
            "_view_count": null,
            "_view_module": "@jupyter-widgets/controls",
            "_view_module_version": "1.5.0",
            "_view_name": "HTMLView",
            "description": "",
            "description_tooltip": null,
            "layout": "IPY_MODEL_5f8cb90e7008485d920ca3400b22c00a",
            "placeholder": "​",
            "style": "IPY_MODEL_0084eabd248f440db78f979bae19c9d1",
            "value": " 340/340 [00:00&lt;00:00, 26.9kB/s]"
          }
        },
        "1af0714985b5489a96ff85979870cd2c": {
          "model_module": "@jupyter-widgets/base",
          "model_name": "LayoutModel",
          "model_module_version": "1.2.0",
          "state": {
            "_model_module": "@jupyter-widgets/base",
            "_model_module_version": "1.2.0",
            "_model_name": "LayoutModel",
            "_view_count": null,
            "_view_module": "@jupyter-widgets/base",
            "_view_module_version": "1.2.0",
            "_view_name": "LayoutView",
            "align_content": null,
            "align_items": null,
            "align_self": null,
            "border": null,
            "bottom": null,
            "display": null,
            "flex": null,
            "flex_flow": null,
            "grid_area": null,
            "grid_auto_columns": null,
            "grid_auto_flow": null,
            "grid_auto_rows": null,
            "grid_column": null,
            "grid_gap": null,
            "grid_row": null,
            "grid_template_areas": null,
            "grid_template_columns": null,
            "grid_template_rows": null,
            "height": null,
            "justify_content": null,
            "justify_items": null,
            "left": null,
            "margin": null,
            "max_height": null,
            "max_width": null,
            "min_height": null,
            "min_width": null,
            "object_fit": null,
            "object_position": null,
            "order": null,
            "overflow": null,
            "overflow_x": null,
            "overflow_y": null,
            "padding": null,
            "right": null,
            "top": null,
            "visibility": null,
            "width": null
          }
        },
        "7f9702027ecc40429f6c2564ba22bda5": {
          "model_module": "@jupyter-widgets/base",
          "model_name": "LayoutModel",
          "model_module_version": "1.2.0",
          "state": {
            "_model_module": "@jupyter-widgets/base",
            "_model_module_version": "1.2.0",
            "_model_name": "LayoutModel",
            "_view_count": null,
            "_view_module": "@jupyter-widgets/base",
            "_view_module_version": "1.2.0",
            "_view_name": "LayoutView",
            "align_content": null,
            "align_items": null,
            "align_self": null,
            "border": null,
            "bottom": null,
            "display": null,
            "flex": null,
            "flex_flow": null,
            "grid_area": null,
            "grid_auto_columns": null,
            "grid_auto_flow": null,
            "grid_auto_rows": null,
            "grid_column": null,
            "grid_gap": null,
            "grid_row": null,
            "grid_template_areas": null,
            "grid_template_columns": null,
            "grid_template_rows": null,
            "height": null,
            "justify_content": null,
            "justify_items": null,
            "left": null,
            "margin": null,
            "max_height": null,
            "max_width": null,
            "min_height": null,
            "min_width": null,
            "object_fit": null,
            "object_position": null,
            "order": null,
            "overflow": null,
            "overflow_x": null,
            "overflow_y": null,
            "padding": null,
            "right": null,
            "top": null,
            "visibility": null,
            "width": null
          }
        },
        "d9fdb974b8a64a4cab64051205fef908": {
          "model_module": "@jupyter-widgets/controls",
          "model_name": "DescriptionStyleModel",
          "model_module_version": "1.5.0",
          "state": {
            "_model_module": "@jupyter-widgets/controls",
            "_model_module_version": "1.5.0",
            "_model_name": "DescriptionStyleModel",
            "_view_count": null,
            "_view_module": "@jupyter-widgets/base",
            "_view_module_version": "1.2.0",
            "_view_name": "StyleView",
            "description_width": ""
          }
        },
        "ea7f389ae7034e8e98ba62463f4955d6": {
          "model_module": "@jupyter-widgets/base",
          "model_name": "LayoutModel",
          "model_module_version": "1.2.0",
          "state": {
            "_model_module": "@jupyter-widgets/base",
            "_model_module_version": "1.2.0",
            "_model_name": "LayoutModel",
            "_view_count": null,
            "_view_module": "@jupyter-widgets/base",
            "_view_module_version": "1.2.0",
            "_view_name": "LayoutView",
            "align_content": null,
            "align_items": null,
            "align_self": null,
            "border": null,
            "bottom": null,
            "display": null,
            "flex": null,
            "flex_flow": null,
            "grid_area": null,
            "grid_auto_columns": null,
            "grid_auto_flow": null,
            "grid_auto_rows": null,
            "grid_column": null,
            "grid_gap": null,
            "grid_row": null,
            "grid_template_areas": null,
            "grid_template_columns": null,
            "grid_template_rows": null,
            "height": null,
            "justify_content": null,
            "justify_items": null,
            "left": null,
            "margin": null,
            "max_height": null,
            "max_width": null,
            "min_height": null,
            "min_width": null,
            "object_fit": null,
            "object_position": null,
            "order": null,
            "overflow": null,
            "overflow_x": null,
            "overflow_y": null,
            "padding": null,
            "right": null,
            "top": null,
            "visibility": null,
            "width": null
          }
        },
        "51301fb4c8444cfba4e3c46f716296ce": {
          "model_module": "@jupyter-widgets/controls",
          "model_name": "ProgressStyleModel",
          "model_module_version": "1.5.0",
          "state": {
            "_model_module": "@jupyter-widgets/controls",
            "_model_module_version": "1.5.0",
            "_model_name": "ProgressStyleModel",
            "_view_count": null,
            "_view_module": "@jupyter-widgets/base",
            "_view_module_version": "1.2.0",
            "_view_name": "StyleView",
            "bar_color": null,
            "description_width": ""
          }
        },
        "5f8cb90e7008485d920ca3400b22c00a": {
          "model_module": "@jupyter-widgets/base",
          "model_name": "LayoutModel",
          "model_module_version": "1.2.0",
          "state": {
            "_model_module": "@jupyter-widgets/base",
            "_model_module_version": "1.2.0",
            "_model_name": "LayoutModel",
            "_view_count": null,
            "_view_module": "@jupyter-widgets/base",
            "_view_module_version": "1.2.0",
            "_view_name": "LayoutView",
            "align_content": null,
            "align_items": null,
            "align_self": null,
            "border": null,
            "bottom": null,
            "display": null,
            "flex": null,
            "flex_flow": null,
            "grid_area": null,
            "grid_auto_columns": null,
            "grid_auto_flow": null,
            "grid_auto_rows": null,
            "grid_column": null,
            "grid_gap": null,
            "grid_row": null,
            "grid_template_areas": null,
            "grid_template_columns": null,
            "grid_template_rows": null,
            "height": null,
            "justify_content": null,
            "justify_items": null,
            "left": null,
            "margin": null,
            "max_height": null,
            "max_width": null,
            "min_height": null,
            "min_width": null,
            "object_fit": null,
            "object_position": null,
            "order": null,
            "overflow": null,
            "overflow_x": null,
            "overflow_y": null,
            "padding": null,
            "right": null,
            "top": null,
            "visibility": null,
            "width": null
          }
        },
        "0084eabd248f440db78f979bae19c9d1": {
          "model_module": "@jupyter-widgets/controls",
          "model_name": "DescriptionStyleModel",
          "model_module_version": "1.5.0",
          "state": {
            "_model_module": "@jupyter-widgets/controls",
            "_model_module_version": "1.5.0",
            "_model_name": "DescriptionStyleModel",
            "_view_count": null,
            "_view_module": "@jupyter-widgets/base",
            "_view_module_version": "1.2.0",
            "_view_name": "StyleView",
            "description_width": ""
          }
        }
      }
    }
  },
  "cells": [
    {
      "cell_type": "code",
      "source": [
        "!pip install yt-dlp\n",
        "!sudo apt install ffmpeg"
      ],
      "metadata": {
        "colab": {
          "base_uri": "https://localhost:8080/"
        },
        "id": "IGfSpXuDmKUU",
        "outputId": "36894923-b75f-40bc-c2df-7ed02b2cee59"
      },
      "execution_count": 5,
      "outputs": [
        {
          "output_type": "stream",
          "name": "stdout",
          "text": [
            "Requirement already satisfied: yt-dlp in /usr/local/lib/python3.11/dist-packages (2025.4.30)\n",
            "Reading package lists... Done\n",
            "Building dependency tree... Done\n",
            "Reading state information... Done\n",
            "ffmpeg is already the newest version (7:4.4.2-0ubuntu0.22.04.1).\n",
            "0 upgraded, 0 newly installed, 0 to remove and 34 not upgraded.\n"
          ]
        }
      ]
    },
    {
      "cell_type": "code",
      "source": [
        "import yt_dlp\n",
        "\n",
        "def download_video(url, output_path=\"./downloads\"):\n",
        "    ydl_opts = {\n",
        "        'format': 'bestaudio/best',\n",
        "        'outtmpl': f'{output_path}/%(title)s.%(ext)s',\n",
        "        'postprocessors': [{\n",
        "            'key': 'FFmpegExtractAudio',\n",
        "            'preferredcodec': 'mp3',\n",
        "            'preferredquality': '192',\n",
        "        }]\n",
        "    }\n",
        "\n",
        "    with yt_dlp.YoutubeDL(ydl_opts) as ydl:\n",
        "        ydl.download([url])\n",
        "\n",
        "# Example usage:\n",
        "download_video(\"https://youtu.be/U6KfvcFdO8k?si=x1wr_5QbX_Ood99j\")\n"
      ],
      "metadata": {
        "colab": {
          "base_uri": "https://localhost:8080/"
        },
        "id": "F2WxFbnCmKPS",
        "outputId": "967e4b6f-7797-4e60-b06c-8553ae922c55"
      },
      "execution_count": 6,
      "outputs": [
        {
          "output_type": "stream",
          "name": "stdout",
          "text": [
            "[youtube] Extracting URL: https://youtu.be/U6KfvcFdO8k?si=x1wr_5QbX_Ood99j\n",
            "[youtube] U6KfvcFdO8k: Downloading webpage\n",
            "[youtube] U6KfvcFdO8k: Downloading tv client config\n",
            "[youtube] U6KfvcFdO8k: Downloading player ab11fe69-main\n",
            "[youtube] U6KfvcFdO8k: Downloading tv player API JSON\n",
            "[youtube] U6KfvcFdO8k: Downloading ios player API JSON\n",
            "[youtube] U6KfvcFdO8k: Downloading m3u8 information\n",
            "[info] U6KfvcFdO8k: Downloading 1 format(s): 251\n",
            "[download] Destination: ./downloads/चिटा को आग दीजिये और हमे फ्री कीजिये ｜ Movie Welcome ｜ Best Comedy ｜ Akshay Kumar - Nana Patekar.webm\n",
            "[download] 100% of   28.16MiB in 00:00:00 at 29.67MiB/s  \n",
            "[ExtractAudio] Destination: ./downloads/चिटा को आग दीजिये और हमे फ्री कीजिये ｜ Movie Welcome ｜ Best Comedy ｜ Akshay Kumar - Nana Patekar.mp3\n",
            "Deleting original file ./downloads/चिटा को आग दीजिये और हमे फ्री कीजिये ｜ Movie Welcome ｜ Best Comedy ｜ Akshay Kumar - Nana Patekar.webm (pass -k to keep)\n"
          ]
        }
      ]
    },
    {
      "cell_type": "code",
      "source": [],
      "metadata": {
        "id": "UQa-SvrCmKIl"
      },
      "execution_count": null,
      "outputs": []
    },
    {
      "cell_type": "code",
      "execution_count": 7,
      "metadata": {
        "colab": {
          "base_uri": "https://localhost:8080/",
          "height": 1000
        },
        "collapsed": true,
        "id": "YWlWrG9RM-oN",
        "outputId": "df7ae662-2d7f-4cfa-96a3-e004fb23c1ce"
      },
      "outputs": [
        {
          "output_type": "stream",
          "name": "stdout",
          "text": [
            "Collecting pydub\n",
            "  Downloading pydub-0.25.1-py2.py3-none-any.whl.metadata (1.4 kB)\n",
            "Collecting pyannote.audio\n",
            "  Downloading pyannote.audio-3.3.2-py2.py3-none-any.whl.metadata (11 kB)\n",
            "Collecting asteroid-filterbanks>=0.4 (from pyannote.audio)\n",
            "  Downloading asteroid_filterbanks-0.4.0-py3-none-any.whl.metadata (3.3 kB)\n",
            "Requirement already satisfied: einops>=0.6.0 in /usr/local/lib/python3.11/dist-packages (from pyannote.audio) (0.8.1)\n",
            "Requirement already satisfied: huggingface-hub>=0.13.0 in /usr/local/lib/python3.11/dist-packages (from pyannote.audio) (0.30.2)\n",
            "Collecting lightning>=2.0.1 (from pyannote.audio)\n",
            "  Downloading lightning-2.5.1.post0-py3-none-any.whl.metadata (39 kB)\n",
            "Collecting omegaconf<3.0,>=2.1 (from pyannote.audio)\n",
            "  Downloading omegaconf-2.3.0-py3-none-any.whl.metadata (3.9 kB)\n",
            "Collecting pyannote.core>=5.0.0 (from pyannote.audio)\n",
            "  Downloading pyannote.core-5.0.0-py3-none-any.whl.metadata (1.4 kB)\n",
            "Collecting pyannote.database>=5.0.1 (from pyannote.audio)\n",
            "  Downloading pyannote.database-5.1.3-py3-none-any.whl.metadata (1.1 kB)\n",
            "Collecting pyannote.metrics>=3.2 (from pyannote.audio)\n",
            "  Downloading pyannote.metrics-3.2.1-py3-none-any.whl.metadata (1.3 kB)\n",
            "Collecting pyannote.pipeline>=3.0.1 (from pyannote.audio)\n",
            "  Downloading pyannote.pipeline-3.0.1-py3-none-any.whl.metadata (897 bytes)\n",
            "Collecting pytorch-metric-learning>=2.1.0 (from pyannote.audio)\n",
            "  Downloading pytorch_metric_learning-2.8.1-py3-none-any.whl.metadata (18 kB)\n",
            "Requirement already satisfied: rich>=12.0.0 in /usr/local/lib/python3.11/dist-packages (from pyannote.audio) (13.9.4)\n",
            "Collecting semver>=3.0.0 (from pyannote.audio)\n",
            "  Downloading semver-3.0.4-py3-none-any.whl.metadata (6.8 kB)\n",
            "Requirement already satisfied: soundfile>=0.12.1 in /usr/local/lib/python3.11/dist-packages (from pyannote.audio) (0.13.1)\n",
            "Collecting speechbrain>=1.0.0 (from pyannote.audio)\n",
            "  Downloading speechbrain-1.0.3-py3-none-any.whl.metadata (24 kB)\n",
            "Collecting tensorboardX>=2.6 (from pyannote.audio)\n",
            "  Downloading tensorboardX-2.6.2.2-py2.py3-none-any.whl.metadata (5.8 kB)\n",
            "Requirement already satisfied: torch>=2.0.0 in /usr/local/lib/python3.11/dist-packages (from pyannote.audio) (2.6.0+cu124)\n",
            "Collecting torch-audiomentations>=0.11.0 (from pyannote.audio)\n",
            "  Downloading torch_audiomentations-0.12.0-py3-none-any.whl.metadata (15 kB)\n",
            "Requirement already satisfied: torchaudio>=2.2.0 in /usr/local/lib/python3.11/dist-packages (from pyannote.audio) (2.6.0+cu124)\n",
            "Collecting torchmetrics>=0.11.0 (from pyannote.audio)\n",
            "  Downloading torchmetrics-1.7.1-py3-none-any.whl.metadata (21 kB)\n",
            "Requirement already satisfied: numpy in /usr/local/lib/python3.11/dist-packages (from asteroid-filterbanks>=0.4->pyannote.audio) (2.0.2)\n",
            "Requirement already satisfied: typing-extensions in /usr/local/lib/python3.11/dist-packages (from asteroid-filterbanks>=0.4->pyannote.audio) (4.13.2)\n",
            "Requirement already satisfied: filelock in /usr/local/lib/python3.11/dist-packages (from huggingface-hub>=0.13.0->pyannote.audio) (3.18.0)\n",
            "Requirement already satisfied: fsspec>=2023.5.0 in /usr/local/lib/python3.11/dist-packages (from huggingface-hub>=0.13.0->pyannote.audio) (2025.3.2)\n",
            "Requirement already satisfied: packaging>=20.9 in /usr/local/lib/python3.11/dist-packages (from huggingface-hub>=0.13.0->pyannote.audio) (24.2)\n",
            "Requirement already satisfied: pyyaml>=5.1 in /usr/local/lib/python3.11/dist-packages (from huggingface-hub>=0.13.0->pyannote.audio) (6.0.2)\n",
            "Requirement already satisfied: requests in /usr/local/lib/python3.11/dist-packages (from huggingface-hub>=0.13.0->pyannote.audio) (2.32.3)\n",
            "Requirement already satisfied: tqdm>=4.42.1 in /usr/local/lib/python3.11/dist-packages (from huggingface-hub>=0.13.0->pyannote.audio) (4.67.1)\n",
            "Collecting lightning-utilities<2.0,>=0.10.0 (from lightning>=2.0.1->pyannote.audio)\n",
            "  Downloading lightning_utilities-0.14.3-py3-none-any.whl.metadata (5.6 kB)\n",
            "Collecting pytorch-lightning (from lightning>=2.0.1->pyannote.audio)\n",
            "  Downloading pytorch_lightning-2.5.1.post0-py3-none-any.whl.metadata (20 kB)\n",
            "Collecting antlr4-python3-runtime==4.9.* (from omegaconf<3.0,>=2.1->pyannote.audio)\n",
            "  Downloading antlr4-python3-runtime-4.9.3.tar.gz (117 kB)\n",
            "\u001b[2K     \u001b[90m━━━━━━━━━━━━━━━━━━━━━━━━━━━━━━━━━━━━━━━\u001b[0m \u001b[32m117.0/117.0 kB\u001b[0m \u001b[31m8.0 MB/s\u001b[0m eta \u001b[36m0:00:00\u001b[0m\n",
            "\u001b[?25h  Preparing metadata (setup.py) ... \u001b[?25l\u001b[?25hdone\n",
            "Requirement already satisfied: sortedcontainers>=2.0.4 in /usr/local/lib/python3.11/dist-packages (from pyannote.core>=5.0.0->pyannote.audio) (2.4.0)\n",
            "Requirement already satisfied: scipy>=1.1 in /usr/local/lib/python3.11/dist-packages (from pyannote.core>=5.0.0->pyannote.audio) (1.15.2)\n",
            "Requirement already satisfied: pandas>=0.19 in /usr/local/lib/python3.11/dist-packages (from pyannote.database>=5.0.1->pyannote.audio) (2.2.2)\n",
            "Requirement already satisfied: typer>=0.12.1 in /usr/local/lib/python3.11/dist-packages (from pyannote.database>=5.0.1->pyannote.audio) (0.15.3)\n",
            "Requirement already satisfied: scikit-learn>=0.17.1 in /usr/local/lib/python3.11/dist-packages (from pyannote.metrics>=3.2->pyannote.audio) (1.6.1)\n",
            "Collecting docopt>=0.6.2 (from pyannote.metrics>=3.2->pyannote.audio)\n",
            "  Downloading docopt-0.6.2.tar.gz (25 kB)\n",
            "  Preparing metadata (setup.py) ... \u001b[?25l\u001b[?25hdone\n",
            "Requirement already satisfied: tabulate>=0.7.7 in /usr/local/lib/python3.11/dist-packages (from pyannote.metrics>=3.2->pyannote.audio) (0.9.0)\n",
            "Requirement already satisfied: matplotlib>=2.0.0 in /usr/local/lib/python3.11/dist-packages (from pyannote.metrics>=3.2->pyannote.audio) (3.10.0)\n",
            "Requirement already satisfied: sympy>=1.1 in /usr/local/lib/python3.11/dist-packages (from pyannote.metrics>=3.2->pyannote.audio) (1.13.1)\n",
            "Collecting optuna>=3.1 (from pyannote.pipeline>=3.0.1->pyannote.audio)\n",
            "  Downloading optuna-4.3.0-py3-none-any.whl.metadata (17 kB)\n",
            "Requirement already satisfied: markdown-it-py>=2.2.0 in /usr/local/lib/python3.11/dist-packages (from rich>=12.0.0->pyannote.audio) (3.0.0)\n",
            "Requirement already satisfied: pygments<3.0.0,>=2.13.0 in /usr/local/lib/python3.11/dist-packages (from rich>=12.0.0->pyannote.audio) (2.19.1)\n",
            "Requirement already satisfied: cffi>=1.0 in /usr/local/lib/python3.11/dist-packages (from soundfile>=0.12.1->pyannote.audio) (1.17.1)\n",
            "Collecting hyperpyyaml (from speechbrain>=1.0.0->pyannote.audio)\n",
            "  Downloading HyperPyYAML-1.2.2-py3-none-any.whl.metadata (7.6 kB)\n",
            "Requirement already satisfied: joblib in /usr/local/lib/python3.11/dist-packages (from speechbrain>=1.0.0->pyannote.audio) (1.4.2)\n",
            "Requirement already satisfied: sentencepiece in /usr/local/lib/python3.11/dist-packages (from speechbrain>=1.0.0->pyannote.audio) (0.2.0)\n",
            "Requirement already satisfied: protobuf>=3.20 in /usr/local/lib/python3.11/dist-packages (from tensorboardX>=2.6->pyannote.audio) (5.29.4)\n",
            "Requirement already satisfied: networkx in /usr/local/lib/python3.11/dist-packages (from torch>=2.0.0->pyannote.audio) (3.4.2)\n",
            "Requirement already satisfied: jinja2 in /usr/local/lib/python3.11/dist-packages (from torch>=2.0.0->pyannote.audio) (3.1.6)\n",
            "Collecting nvidia-cuda-nvrtc-cu12==12.4.127 (from torch>=2.0.0->pyannote.audio)\n",
            "  Downloading nvidia_cuda_nvrtc_cu12-12.4.127-py3-none-manylinux2014_x86_64.whl.metadata (1.5 kB)\n",
            "Collecting nvidia-cuda-runtime-cu12==12.4.127 (from torch>=2.0.0->pyannote.audio)\n",
            "  Downloading nvidia_cuda_runtime_cu12-12.4.127-py3-none-manylinux2014_x86_64.whl.metadata (1.5 kB)\n",
            "Collecting nvidia-cuda-cupti-cu12==12.4.127 (from torch>=2.0.0->pyannote.audio)\n",
            "  Downloading nvidia_cuda_cupti_cu12-12.4.127-py3-none-manylinux2014_x86_64.whl.metadata (1.6 kB)\n",
            "Collecting nvidia-cudnn-cu12==9.1.0.70 (from torch>=2.0.0->pyannote.audio)\n",
            "  Downloading nvidia_cudnn_cu12-9.1.0.70-py3-none-manylinux2014_x86_64.whl.metadata (1.6 kB)\n",
            "Collecting nvidia-cublas-cu12==12.4.5.8 (from torch>=2.0.0->pyannote.audio)\n",
            "  Downloading nvidia_cublas_cu12-12.4.5.8-py3-none-manylinux2014_x86_64.whl.metadata (1.5 kB)\n",
            "Collecting nvidia-cufft-cu12==11.2.1.3 (from torch>=2.0.0->pyannote.audio)\n",
            "  Downloading nvidia_cufft_cu12-11.2.1.3-py3-none-manylinux2014_x86_64.whl.metadata (1.5 kB)\n",
            "Collecting nvidia-curand-cu12==10.3.5.147 (from torch>=2.0.0->pyannote.audio)\n",
            "  Downloading nvidia_curand_cu12-10.3.5.147-py3-none-manylinux2014_x86_64.whl.metadata (1.5 kB)\n",
            "Collecting nvidia-cusolver-cu12==11.6.1.9 (from torch>=2.0.0->pyannote.audio)\n",
            "  Downloading nvidia_cusolver_cu12-11.6.1.9-py3-none-manylinux2014_x86_64.whl.metadata (1.6 kB)\n",
            "Collecting nvidia-cusparse-cu12==12.3.1.170 (from torch>=2.0.0->pyannote.audio)\n",
            "  Downloading nvidia_cusparse_cu12-12.3.1.170-py3-none-manylinux2014_x86_64.whl.metadata (1.6 kB)\n",
            "Requirement already satisfied: nvidia-cusparselt-cu12==0.6.2 in /usr/local/lib/python3.11/dist-packages (from torch>=2.0.0->pyannote.audio) (0.6.2)\n",
            "Requirement already satisfied: nvidia-nccl-cu12==2.21.5 in /usr/local/lib/python3.11/dist-packages (from torch>=2.0.0->pyannote.audio) (2.21.5)\n",
            "Requirement already satisfied: nvidia-nvtx-cu12==12.4.127 in /usr/local/lib/python3.11/dist-packages (from torch>=2.0.0->pyannote.audio) (12.4.127)\n",
            "Collecting nvidia-nvjitlink-cu12==12.4.127 (from torch>=2.0.0->pyannote.audio)\n",
            "  Downloading nvidia_nvjitlink_cu12-12.4.127-py3-none-manylinux2014_x86_64.whl.metadata (1.5 kB)\n",
            "Requirement already satisfied: triton==3.2.0 in /usr/local/lib/python3.11/dist-packages (from torch>=2.0.0->pyannote.audio) (3.2.0)\n",
            "Requirement already satisfied: mpmath<1.4,>=1.1.0 in /usr/local/lib/python3.11/dist-packages (from sympy>=1.1->pyannote.metrics>=3.2->pyannote.audio) (1.3.0)\n",
            "Collecting julius<0.3,>=0.2.3 (from torch-audiomentations>=0.11.0->pyannote.audio)\n",
            "  Downloading julius-0.2.7.tar.gz (59 kB)\n",
            "\u001b[2K     \u001b[90m━━━━━━━━━━━━━━━━━━━━━━━━━━━━━━━━━━━━━━━━\u001b[0m \u001b[32m59.6/59.6 kB\u001b[0m \u001b[31m6.3 MB/s\u001b[0m eta \u001b[36m0:00:00\u001b[0m\n",
            "\u001b[?25h  Preparing metadata (setup.py) ... \u001b[?25l\u001b[?25hdone\n",
            "Collecting torch-pitch-shift>=1.2.2 (from torch-audiomentations>=0.11.0->pyannote.audio)\n",
            "  Downloading torch_pitch_shift-1.2.5-py3-none-any.whl.metadata (2.5 kB)\n",
            "Requirement already satisfied: pycparser in /usr/local/lib/python3.11/dist-packages (from cffi>=1.0->soundfile>=0.12.1->pyannote.audio) (2.22)\n",
            "Requirement already satisfied: aiohttp!=4.0.0a0,!=4.0.0a1 in /usr/local/lib/python3.11/dist-packages (from fsspec[http]<2026.0,>=2022.5.0->lightning>=2.0.1->pyannote.audio) (3.11.15)\n",
            "Requirement already satisfied: setuptools in /usr/local/lib/python3.11/dist-packages (from lightning-utilities<2.0,>=0.10.0->lightning>=2.0.1->pyannote.audio) (75.2.0)\n",
            "Requirement already satisfied: mdurl~=0.1 in /usr/local/lib/python3.11/dist-packages (from markdown-it-py>=2.2.0->rich>=12.0.0->pyannote.audio) (0.1.2)\n",
            "Requirement already satisfied: contourpy>=1.0.1 in /usr/local/lib/python3.11/dist-packages (from matplotlib>=2.0.0->pyannote.metrics>=3.2->pyannote.audio) (1.3.2)\n",
            "Requirement already satisfied: cycler>=0.10 in /usr/local/lib/python3.11/dist-packages (from matplotlib>=2.0.0->pyannote.metrics>=3.2->pyannote.audio) (0.12.1)\n",
            "Requirement already satisfied: fonttools>=4.22.0 in /usr/local/lib/python3.11/dist-packages (from matplotlib>=2.0.0->pyannote.metrics>=3.2->pyannote.audio) (4.57.0)\n",
            "Requirement already satisfied: kiwisolver>=1.3.1 in /usr/local/lib/python3.11/dist-packages (from matplotlib>=2.0.0->pyannote.metrics>=3.2->pyannote.audio) (1.4.8)\n",
            "Requirement already satisfied: pillow>=8 in /usr/local/lib/python3.11/dist-packages (from matplotlib>=2.0.0->pyannote.metrics>=3.2->pyannote.audio) (11.2.1)\n",
            "Requirement already satisfied: pyparsing>=2.3.1 in /usr/local/lib/python3.11/dist-packages (from matplotlib>=2.0.0->pyannote.metrics>=3.2->pyannote.audio) (3.2.3)\n",
            "Requirement already satisfied: python-dateutil>=2.7 in /usr/local/lib/python3.11/dist-packages (from matplotlib>=2.0.0->pyannote.metrics>=3.2->pyannote.audio) (2.9.0.post0)\n",
            "Collecting alembic>=1.5.0 (from optuna>=3.1->pyannote.pipeline>=3.0.1->pyannote.audio)\n",
            "  Downloading alembic-1.15.2-py3-none-any.whl.metadata (7.3 kB)\n",
            "Collecting colorlog (from optuna>=3.1->pyannote.pipeline>=3.0.1->pyannote.audio)\n",
            "  Downloading colorlog-6.9.0-py3-none-any.whl.metadata (10 kB)\n",
            "Requirement already satisfied: sqlalchemy>=1.4.2 in /usr/local/lib/python3.11/dist-packages (from optuna>=3.1->pyannote.pipeline>=3.0.1->pyannote.audio) (2.0.40)\n",
            "Requirement already satisfied: pytz>=2020.1 in /usr/local/lib/python3.11/dist-packages (from pandas>=0.19->pyannote.database>=5.0.1->pyannote.audio) (2025.2)\n",
            "Requirement already satisfied: tzdata>=2022.7 in /usr/local/lib/python3.11/dist-packages (from pandas>=0.19->pyannote.database>=5.0.1->pyannote.audio) (2025.2)\n",
            "Requirement already satisfied: threadpoolctl>=3.1.0 in /usr/local/lib/python3.11/dist-packages (from scikit-learn>=0.17.1->pyannote.metrics>=3.2->pyannote.audio) (3.6.0)\n",
            "Collecting primePy>=1.3 (from torch-pitch-shift>=1.2.2->torch-audiomentations>=0.11.0->pyannote.audio)\n",
            "  Downloading primePy-1.3-py3-none-any.whl.metadata (4.8 kB)\n",
            "Requirement already satisfied: click>=8.0.0 in /usr/local/lib/python3.11/dist-packages (from typer>=0.12.1->pyannote.database>=5.0.1->pyannote.audio) (8.1.8)\n",
            "Requirement already satisfied: shellingham>=1.3.0 in /usr/local/lib/python3.11/dist-packages (from typer>=0.12.1->pyannote.database>=5.0.1->pyannote.audio) (1.5.4)\n",
            "Collecting ruamel.yaml>=0.17.28 (from hyperpyyaml->speechbrain>=1.0.0->pyannote.audio)\n",
            "  Downloading ruamel.yaml-0.18.10-py3-none-any.whl.metadata (23 kB)\n",
            "Requirement already satisfied: MarkupSafe>=2.0 in /usr/local/lib/python3.11/dist-packages (from jinja2->torch>=2.0.0->pyannote.audio) (3.0.2)\n",
            "Requirement already satisfied: charset-normalizer<4,>=2 in /usr/local/lib/python3.11/dist-packages (from requests->huggingface-hub>=0.13.0->pyannote.audio) (3.4.1)\n",
            "Requirement already satisfied: idna<4,>=2.5 in /usr/local/lib/python3.11/dist-packages (from requests->huggingface-hub>=0.13.0->pyannote.audio) (3.10)\n",
            "Requirement already satisfied: urllib3<3,>=1.21.1 in /usr/local/lib/python3.11/dist-packages (from requests->huggingface-hub>=0.13.0->pyannote.audio) (2.4.0)\n",
            "Requirement already satisfied: certifi>=2017.4.17 in /usr/local/lib/python3.11/dist-packages (from requests->huggingface-hub>=0.13.0->pyannote.audio) (2025.4.26)\n",
            "Requirement already satisfied: aiohappyeyeballs>=2.3.0 in /usr/local/lib/python3.11/dist-packages (from aiohttp!=4.0.0a0,!=4.0.0a1->fsspec[http]<2026.0,>=2022.5.0->lightning>=2.0.1->pyannote.audio) (2.6.1)\n",
            "Requirement already satisfied: aiosignal>=1.1.2 in /usr/local/lib/python3.11/dist-packages (from aiohttp!=4.0.0a0,!=4.0.0a1->fsspec[http]<2026.0,>=2022.5.0->lightning>=2.0.1->pyannote.audio) (1.3.2)\n",
            "Requirement already satisfied: attrs>=17.3.0 in /usr/local/lib/python3.11/dist-packages (from aiohttp!=4.0.0a0,!=4.0.0a1->fsspec[http]<2026.0,>=2022.5.0->lightning>=2.0.1->pyannote.audio) (25.3.0)\n",
            "Requirement already satisfied: frozenlist>=1.1.1 in /usr/local/lib/python3.11/dist-packages (from aiohttp!=4.0.0a0,!=4.0.0a1->fsspec[http]<2026.0,>=2022.5.0->lightning>=2.0.1->pyannote.audio) (1.6.0)\n",
            "Requirement already satisfied: multidict<7.0,>=4.5 in /usr/local/lib/python3.11/dist-packages (from aiohttp!=4.0.0a0,!=4.0.0a1->fsspec[http]<2026.0,>=2022.5.0->lightning>=2.0.1->pyannote.audio) (6.4.3)\n",
            "Requirement already satisfied: propcache>=0.2.0 in /usr/local/lib/python3.11/dist-packages (from aiohttp!=4.0.0a0,!=4.0.0a1->fsspec[http]<2026.0,>=2022.5.0->lightning>=2.0.1->pyannote.audio) (0.3.1)\n",
            "Requirement already satisfied: yarl<2.0,>=1.17.0 in /usr/local/lib/python3.11/dist-packages (from aiohttp!=4.0.0a0,!=4.0.0a1->fsspec[http]<2026.0,>=2022.5.0->lightning>=2.0.1->pyannote.audio) (1.20.0)\n",
            "Requirement already satisfied: Mako in /usr/lib/python3/dist-packages (from alembic>=1.5.0->optuna>=3.1->pyannote.pipeline>=3.0.1->pyannote.audio) (1.1.3)\n",
            "Requirement already satisfied: six>=1.5 in /usr/local/lib/python3.11/dist-packages (from python-dateutil>=2.7->matplotlib>=2.0.0->pyannote.metrics>=3.2->pyannote.audio) (1.17.0)\n",
            "Collecting ruamel.yaml.clib>=0.2.7 (from ruamel.yaml>=0.17.28->hyperpyyaml->speechbrain>=1.0.0->pyannote.audio)\n",
            "  Downloading ruamel.yaml.clib-0.2.12-cp311-cp311-manylinux_2_17_x86_64.manylinux2014_x86_64.whl.metadata (2.7 kB)\n",
            "Requirement already satisfied: greenlet>=1 in /usr/local/lib/python3.11/dist-packages (from sqlalchemy>=1.4.2->optuna>=3.1->pyannote.pipeline>=3.0.1->pyannote.audio) (3.2.1)\n",
            "Downloading pydub-0.25.1-py2.py3-none-any.whl (32 kB)\n",
            "Downloading pyannote.audio-3.3.2-py2.py3-none-any.whl (898 kB)\n",
            "\u001b[2K   \u001b[90m━━━━━━━━━━━━━━━━━━━━━━━━━━━━━━━━━━━━━━━━\u001b[0m \u001b[32m898.7/898.7 kB\u001b[0m \u001b[31m37.2 MB/s\u001b[0m eta \u001b[36m0:00:00\u001b[0m\n",
            "\u001b[?25hDownloading asteroid_filterbanks-0.4.0-py3-none-any.whl (29 kB)\n",
            "Downloading lightning-2.5.1.post0-py3-none-any.whl (819 kB)\n",
            "\u001b[2K   \u001b[90m━━━━━━━━━━━━━━━━━━━━━━━━━━━━━━━━━━━━━━━━\u001b[0m \u001b[32m819.0/819.0 kB\u001b[0m \u001b[31m60.0 MB/s\u001b[0m eta \u001b[36m0:00:00\u001b[0m\n",
            "\u001b[?25hDownloading omegaconf-2.3.0-py3-none-any.whl (79 kB)\n",
            "\u001b[2K   \u001b[90m━━━━━━━━━━━━━━━━━━━━━━━━━━━━━━━━━━━━━━━━\u001b[0m \u001b[32m79.5/79.5 kB\u001b[0m \u001b[31m9.0 MB/s\u001b[0m eta \u001b[36m0:00:00\u001b[0m\n",
            "\u001b[?25hDownloading pyannote.core-5.0.0-py3-none-any.whl (58 kB)\n",
            "\u001b[2K   \u001b[90m━━━━━━━━━━━━━━━━━━━━━━━━━━━━━━━━━━━━━━━━\u001b[0m \u001b[32m58.5/58.5 kB\u001b[0m \u001b[31m6.6 MB/s\u001b[0m eta \u001b[36m0:00:00\u001b[0m\n",
            "\u001b[?25hDownloading pyannote.database-5.1.3-py3-none-any.whl (48 kB)\n",
            "\u001b[2K   \u001b[90m━━━━━━━━━━━━━━━━━━━━━━━━━━━━━━━━━━━━━━━━\u001b[0m \u001b[32m48.1/48.1 kB\u001b[0m \u001b[31m5.5 MB/s\u001b[0m eta \u001b[36m0:00:00\u001b[0m\n",
            "\u001b[?25hDownloading pyannote.metrics-3.2.1-py3-none-any.whl (51 kB)\n",
            "\u001b[2K   \u001b[90m━━━━━━━━━━━━━━━━━━━━━━━━━━━━━━━━━━━━━━━━\u001b[0m \u001b[32m51.4/51.4 kB\u001b[0m \u001b[31m6.3 MB/s\u001b[0m eta \u001b[36m0:00:00\u001b[0m\n",
            "\u001b[?25hDownloading pyannote.pipeline-3.0.1-py3-none-any.whl (31 kB)\n",
            "Downloading pytorch_metric_learning-2.8.1-py3-none-any.whl (125 kB)\n",
            "\u001b[2K   \u001b[90m━━━━━━━━━━━━━━━━━━━━━━━━━━━━━━━━━━━━━━━━\u001b[0m \u001b[32m125.9/125.9 kB\u001b[0m \u001b[31m15.1 MB/s\u001b[0m eta \u001b[36m0:00:00\u001b[0m\n",
            "\u001b[?25hDownloading semver-3.0.4-py3-none-any.whl (17 kB)\n",
            "Downloading speechbrain-1.0.3-py3-none-any.whl (864 kB)\n",
            "\u001b[2K   \u001b[90m━━━━━━━━━━━━━━━━━━━━━━━━━━━━━━━━━━━━━━━━\u001b[0m \u001b[32m864.1/864.1 kB\u001b[0m \u001b[31m65.6 MB/s\u001b[0m eta \u001b[36m0:00:00\u001b[0m\n",
            "\u001b[?25hDownloading tensorboardX-2.6.2.2-py2.py3-none-any.whl (101 kB)\n",
            "\u001b[2K   \u001b[90m━━━━━━━━━━━━━━━━━━━━━━━━━━━━━━━━━━━━━━━━\u001b[0m \u001b[32m101.7/101.7 kB\u001b[0m \u001b[31m10.3 MB/s\u001b[0m eta \u001b[36m0:00:00\u001b[0m\n",
            "\u001b[?25hDownloading nvidia_cublas_cu12-12.4.5.8-py3-none-manylinux2014_x86_64.whl (363.4 MB)\n",
            "\u001b[2K   \u001b[90m━━━━━━━━━━━━━━━━━━━━━━━━━━━━━━━━━━━━━━━━\u001b[0m \u001b[32m363.4/363.4 MB\u001b[0m \u001b[31m3.9 MB/s\u001b[0m eta \u001b[36m0:00:00\u001b[0m\n",
            "\u001b[?25hDownloading nvidia_cuda_cupti_cu12-12.4.127-py3-none-manylinux2014_x86_64.whl (13.8 MB)\n",
            "\u001b[2K   \u001b[90m━━━━━━━━━━━━━━━━━━━━━━━━━━━━━━━━━━━━━━━━\u001b[0m \u001b[32m13.8/13.8 MB\u001b[0m \u001b[31m118.8 MB/s\u001b[0m eta \u001b[36m0:00:00\u001b[0m\n",
            "\u001b[?25hDownloading nvidia_cuda_nvrtc_cu12-12.4.127-py3-none-manylinux2014_x86_64.whl (24.6 MB)\n",
            "\u001b[2K   \u001b[90m━━━━━━━━━━━━━━━━━━━━━━━━━━━━━━━━━━━━━━━━\u001b[0m \u001b[32m24.6/24.6 MB\u001b[0m \u001b[31m84.3 MB/s\u001b[0m eta \u001b[36m0:00:00\u001b[0m\n",
            "\u001b[?25hDownloading nvidia_cuda_runtime_cu12-12.4.127-py3-none-manylinux2014_x86_64.whl (883 kB)\n",
            "\u001b[2K   \u001b[90m━━━━━━━━━━━━━━━━━━━━━━━━━━━━━━━━━━━━━━━━\u001b[0m \u001b[32m883.7/883.7 kB\u001b[0m \u001b[31m61.3 MB/s\u001b[0m eta \u001b[36m0:00:00\u001b[0m\n",
            "\u001b[?25hDownloading nvidia_cudnn_cu12-9.1.0.70-py3-none-manylinux2014_x86_64.whl (664.8 MB)\n",
            "\u001b[2K   \u001b[90m━━━━━━━━━━━━━━━━━━━━━━━━━━━━━━━━━━━━━━━\u001b[0m \u001b[32m664.8/664.8 MB\u001b[0m \u001b[31m828.3 kB/s\u001b[0m eta \u001b[36m0:00:00\u001b[0m\n",
            "\u001b[?25hDownloading nvidia_cufft_cu12-11.2.1.3-py3-none-manylinux2014_x86_64.whl (211.5 MB)\n",
            "\u001b[2K   \u001b[90m━━━━━━━━━━━━━━━━━━━━━━━━━━━━━━━━━━━━━━━━\u001b[0m \u001b[32m211.5/211.5 MB\u001b[0m \u001b[31m5.9 MB/s\u001b[0m eta \u001b[36m0:00:00\u001b[0m\n",
            "\u001b[?25hDownloading nvidia_curand_cu12-10.3.5.147-py3-none-manylinux2014_x86_64.whl (56.3 MB)\n",
            "\u001b[2K   \u001b[90m━━━━━━━━━━━━━━━━━━━━━━━━━━━━━━━━━━━━━━━━\u001b[0m \u001b[32m56.3/56.3 MB\u001b[0m \u001b[31m12.1 MB/s\u001b[0m eta \u001b[36m0:00:00\u001b[0m\n",
            "\u001b[?25hDownloading nvidia_cusolver_cu12-11.6.1.9-py3-none-manylinux2014_x86_64.whl (127.9 MB)\n",
            "\u001b[2K   \u001b[90m━━━━━━━━━━━━━━━━━━━━━━━━━━━━━━━━━━━━━━━━\u001b[0m \u001b[32m127.9/127.9 MB\u001b[0m \u001b[31m7.3 MB/s\u001b[0m eta \u001b[36m0:00:00\u001b[0m\n",
            "\u001b[?25hDownloading nvidia_cusparse_cu12-12.3.1.170-py3-none-manylinux2014_x86_64.whl (207.5 MB)\n",
            "\u001b[2K   \u001b[90m━━━━━━━━━━━━━━━━━━━━━━━━━━━━━━━━━━━━━━━━\u001b[0m \u001b[32m207.5/207.5 MB\u001b[0m \u001b[31m5.7 MB/s\u001b[0m eta \u001b[36m0:00:00\u001b[0m\n",
            "\u001b[?25hDownloading nvidia_nvjitlink_cu12-12.4.127-py3-none-manylinux2014_x86_64.whl (21.1 MB)\n",
            "\u001b[2K   \u001b[90m━━━━━━━━━━━━━━━━━━━━━━━━━━━━━━━━━━━━━━━━\u001b[0m \u001b[32m21.1/21.1 MB\u001b[0m \u001b[31m103.8 MB/s\u001b[0m eta \u001b[36m0:00:00\u001b[0m\n",
            "\u001b[?25hDownloading torch_audiomentations-0.12.0-py3-none-any.whl (48 kB)\n",
            "\u001b[2K   \u001b[90m━━━━━━━━━━━━━━━━━━━━━━━━━━━━━━━━━━━━━━━━\u001b[0m \u001b[32m48.5/48.5 kB\u001b[0m \u001b[31m4.7 MB/s\u001b[0m eta \u001b[36m0:00:00\u001b[0m\n",
            "\u001b[?25hDownloading torchmetrics-1.7.1-py3-none-any.whl (961 kB)\n",
            "\u001b[2K   \u001b[90m━━━━━━━━━━━━━━━━━━━━━━━━━━━━━━━━━━━━━━━━\u001b[0m \u001b[32m961.5/961.5 kB\u001b[0m \u001b[31m70.0 MB/s\u001b[0m eta \u001b[36m0:00:00\u001b[0m\n",
            "\u001b[?25hDownloading lightning_utilities-0.14.3-py3-none-any.whl (28 kB)\n",
            "Downloading optuna-4.3.0-py3-none-any.whl (386 kB)\n",
            "\u001b[2K   \u001b[90m━━━━━━━━━━━━━━━━━━━━━━━━━━━━━━━━━━━━━━━━\u001b[0m \u001b[32m386.6/386.6 kB\u001b[0m \u001b[31m39.3 MB/s\u001b[0m eta \u001b[36m0:00:00\u001b[0m\n",
            "\u001b[?25hDownloading torch_pitch_shift-1.2.5-py3-none-any.whl (5.0 kB)\n",
            "Downloading HyperPyYAML-1.2.2-py3-none-any.whl (16 kB)\n",
            "Downloading pytorch_lightning-2.5.1.post0-py3-none-any.whl (823 kB)\n",
            "\u001b[2K   \u001b[90m━━━━━━━━━━━━━━━━━━━━━━━━━━━━━━━━━━━━━━━━\u001b[0m \u001b[32m823.1/823.1 kB\u001b[0m \u001b[31m62.1 MB/s\u001b[0m eta \u001b[36m0:00:00\u001b[0m\n",
            "\u001b[?25hDownloading alembic-1.15.2-py3-none-any.whl (231 kB)\n",
            "\u001b[2K   \u001b[90m━━━━━━━━━━━━━━━━━━━━━━━━━━━━━━━━━━━━━━━━\u001b[0m \u001b[32m231.9/231.9 kB\u001b[0m \u001b[31m25.2 MB/s\u001b[0m eta \u001b[36m0:00:00\u001b[0m\n",
            "\u001b[?25hDownloading primePy-1.3-py3-none-any.whl (4.0 kB)\n",
            "Downloading ruamel.yaml-0.18.10-py3-none-any.whl (117 kB)\n",
            "\u001b[2K   \u001b[90m━━━━━━━━━━━━━━━━━━━━━━━━━━━━━━━━━━━━━━━━\u001b[0m \u001b[32m117.7/117.7 kB\u001b[0m \u001b[31m14.2 MB/s\u001b[0m eta \u001b[36m0:00:00\u001b[0m\n",
            "\u001b[?25hDownloading colorlog-6.9.0-py3-none-any.whl (11 kB)\n",
            "Downloading ruamel.yaml.clib-0.2.12-cp311-cp311-manylinux_2_17_x86_64.manylinux2014_x86_64.whl (739 kB)\n",
            "\u001b[2K   \u001b[90m━━━━━━━━━━━━━━━━━━━━━━━━━━━━━━━━━━━━━━━━\u001b[0m \u001b[32m739.1/739.1 kB\u001b[0m \u001b[31m50.5 MB/s\u001b[0m eta \u001b[36m0:00:00\u001b[0m\n",
            "\u001b[?25hBuilding wheels for collected packages: antlr4-python3-runtime, docopt, julius\n",
            "  Building wheel for antlr4-python3-runtime (setup.py) ... \u001b[?25l\u001b[?25hdone\n",
            "  Created wheel for antlr4-python3-runtime: filename=antlr4_python3_runtime-4.9.3-py3-none-any.whl size=144554 sha256=688f9f648d50cd5d1c7b01717ea09b7b04ebe1fa66bf30d811da46b6bc9691a4\n",
            "  Stored in directory: /root/.cache/pip/wheels/1a/97/32/461f837398029ad76911109f07047fde1d7b661a147c7c56d1\n",
            "  Building wheel for docopt (setup.py) ... \u001b[?25l\u001b[?25hdone\n",
            "  Created wheel for docopt: filename=docopt-0.6.2-py2.py3-none-any.whl size=13706 sha256=c5c58d10b0d824f343ba2efdeae32e8e272d8e07b3d7ecdfa8ec78709919ad7c\n",
            "  Stored in directory: /root/.cache/pip/wheels/1a/b0/8c/4b75c4116c31f83c8f9f047231251e13cc74481cca4a78a9ce\n",
            "  Building wheel for julius (setup.py) ... \u001b[?25l\u001b[?25hdone\n",
            "  Created wheel for julius: filename=julius-0.2.7-py3-none-any.whl size=21870 sha256=abb16530d9eacf3a3c96eb6bcde34254bff7c94083d8651d2f39d9e8bb4b1425\n",
            "  Stored in directory: /root/.cache/pip/wheels/16/15/d4/edd724cefe78050a6ba3344b8b0c6672db829a799dbb9f81ff\n",
            "Successfully built antlr4-python3-runtime docopt julius\n",
            "Installing collected packages: pydub, primePy, docopt, antlr4-python3-runtime, tensorboardX, semver, ruamel.yaml.clib, omegaconf, nvidia-nvjitlink-cu12, nvidia-curand-cu12, nvidia-cufft-cu12, nvidia-cuda-runtime-cu12, nvidia-cuda-nvrtc-cu12, nvidia-cuda-cupti-cu12, nvidia-cublas-cu12, lightning-utilities, colorlog, ruamel.yaml, pyannote.core, nvidia-cusparse-cu12, nvidia-cudnn-cu12, alembic, optuna, nvidia-cusolver-cu12, hyperpyyaml, pyannote.database, torchmetrics, pytorch-metric-learning, pyannote.pipeline, pyannote.metrics, julius, asteroid-filterbanks, torch-pitch-shift, speechbrain, pytorch-lightning, torch-audiomentations, lightning, pyannote.audio\n",
            "  Attempting uninstall: nvidia-nvjitlink-cu12\n",
            "    Found existing installation: nvidia-nvjitlink-cu12 12.5.82\n",
            "    Uninstalling nvidia-nvjitlink-cu12-12.5.82:\n",
            "      Successfully uninstalled nvidia-nvjitlink-cu12-12.5.82\n",
            "  Attempting uninstall: nvidia-curand-cu12\n",
            "    Found existing installation: nvidia-curand-cu12 10.3.6.82\n",
            "    Uninstalling nvidia-curand-cu12-10.3.6.82:\n",
            "      Successfully uninstalled nvidia-curand-cu12-10.3.6.82\n",
            "  Attempting uninstall: nvidia-cufft-cu12\n",
            "    Found existing installation: nvidia-cufft-cu12 11.2.3.61\n",
            "    Uninstalling nvidia-cufft-cu12-11.2.3.61:\n",
            "      Successfully uninstalled nvidia-cufft-cu12-11.2.3.61\n",
            "  Attempting uninstall: nvidia-cuda-runtime-cu12\n",
            "    Found existing installation: nvidia-cuda-runtime-cu12 12.5.82\n",
            "    Uninstalling nvidia-cuda-runtime-cu12-12.5.82:\n",
            "      Successfully uninstalled nvidia-cuda-runtime-cu12-12.5.82\n",
            "  Attempting uninstall: nvidia-cuda-nvrtc-cu12\n",
            "    Found existing installation: nvidia-cuda-nvrtc-cu12 12.5.82\n",
            "    Uninstalling nvidia-cuda-nvrtc-cu12-12.5.82:\n",
            "      Successfully uninstalled nvidia-cuda-nvrtc-cu12-12.5.82\n",
            "  Attempting uninstall: nvidia-cuda-cupti-cu12\n",
            "    Found existing installation: nvidia-cuda-cupti-cu12 12.5.82\n",
            "    Uninstalling nvidia-cuda-cupti-cu12-12.5.82:\n",
            "      Successfully uninstalled nvidia-cuda-cupti-cu12-12.5.82\n",
            "  Attempting uninstall: nvidia-cublas-cu12\n",
            "    Found existing installation: nvidia-cublas-cu12 12.5.3.2\n",
            "    Uninstalling nvidia-cublas-cu12-12.5.3.2:\n",
            "      Successfully uninstalled nvidia-cublas-cu12-12.5.3.2\n",
            "  Attempting uninstall: nvidia-cusparse-cu12\n",
            "    Found existing installation: nvidia-cusparse-cu12 12.5.1.3\n",
            "    Uninstalling nvidia-cusparse-cu12-12.5.1.3:\n",
            "      Successfully uninstalled nvidia-cusparse-cu12-12.5.1.3\n",
            "  Attempting uninstall: nvidia-cudnn-cu12\n",
            "    Found existing installation: nvidia-cudnn-cu12 9.3.0.75\n",
            "    Uninstalling nvidia-cudnn-cu12-9.3.0.75:\n",
            "      Successfully uninstalled nvidia-cudnn-cu12-9.3.0.75\n",
            "  Attempting uninstall: nvidia-cusolver-cu12\n",
            "    Found existing installation: nvidia-cusolver-cu12 11.6.3.83\n",
            "    Uninstalling nvidia-cusolver-cu12-11.6.3.83:\n",
            "      Successfully uninstalled nvidia-cusolver-cu12-11.6.3.83\n",
            "Successfully installed alembic-1.15.2 antlr4-python3-runtime-4.9.3 asteroid-filterbanks-0.4.0 colorlog-6.9.0 docopt-0.6.2 hyperpyyaml-1.2.2 julius-0.2.7 lightning-2.5.1.post0 lightning-utilities-0.14.3 nvidia-cublas-cu12-12.4.5.8 nvidia-cuda-cupti-cu12-12.4.127 nvidia-cuda-nvrtc-cu12-12.4.127 nvidia-cuda-runtime-cu12-12.4.127 nvidia-cudnn-cu12-9.1.0.70 nvidia-cufft-cu12-11.2.1.3 nvidia-curand-cu12-10.3.5.147 nvidia-cusolver-cu12-11.6.1.9 nvidia-cusparse-cu12-12.3.1.170 nvidia-nvjitlink-cu12-12.4.127 omegaconf-2.3.0 optuna-4.3.0 primePy-1.3 pyannote.audio-3.3.2 pyannote.core-5.0.0 pyannote.database-5.1.3 pyannote.metrics-3.2.1 pyannote.pipeline-3.0.1 pydub-0.25.1 pytorch-lightning-2.5.1.post0 pytorch-metric-learning-2.8.1 ruamel.yaml-0.18.10 ruamel.yaml.clib-0.2.12 semver-3.0.4 speechbrain-1.0.3 tensorboardX-2.6.2.2 torch-audiomentations-0.12.0 torch-pitch-shift-1.2.5 torchmetrics-1.7.1\n"
          ]
        },
        {
          "output_type": "display_data",
          "data": {
            "application/vnd.colab-display-data+json": {
              "pip_warning": {
                "packages": [
                  "pydevd_plugins"
                ]
              },
              "id": "57a24900f35846ab92af5621830a0c47"
            }
          },
          "metadata": {}
        }
      ],
      "source": [
        "!pip install pydub pyannote.audio"
      ]
    },
    {
      "cell_type": "code",
      "source": [
        "from huggingface_hub import notebook_login\n",
        "notebook_login()"
      ],
      "metadata": {
        "colab": {
          "base_uri": "https://localhost:8080/",
          "height": 17,
          "referenced_widgets": [
            "0f3d83ca42da488bb05bca309bc926f0",
            "564f3599139c4d8eb797c58baff78932",
            "2fc1a4ed00ea48c5b14c4eb91e091d72",
            "4ba1b7f9a1834f8597a8cb174c1bda14",
            "98eb117dfea04227889253ec2b3c4aa4",
            "9300aa368e6645b494b5e1cd4bc9153e",
            "fb5830089867437a8251a2357e97c741",
            "c90804648bc246bca58e8d8e4feef3be",
            "538ea5ccd4d344e89227ecfaffdb051a",
            "945067090cfb4fda8569458383c9251b",
            "9442137e73224b16883fd24ab4e9fdfb",
            "cc883988307c411c9b563df3487ac700",
            "0c1e84c373324777aeb3dc4b9a484702",
            "e55f826a578546519f34b70da474ca01",
            "db8e4e83180e4f1db7899f18a18ea2f6",
            "19892ed821604631ae07591287d8f087",
            "4cd2e148562c4dff880daa912edb4de4",
            "240f1968c3644fa2a797f174ff17c159",
            "c08606e2d863466eb6dd1450e270798b",
            "ebcf2359cdcc45589b6a27a313e0a01c"
          ]
        },
        "collapsed": true,
        "id": "TieXIuMnPN1O",
        "outputId": "5d5dde8b-5dc8-44c1-b1b6-832f64061b65"
      },
      "execution_count": 1,
      "outputs": [
        {
          "output_type": "display_data",
          "data": {
            "text/plain": [
              "VBox(children=(HTML(value='<center> <img\\nsrc=https://huggingface.co/front/assets/huggingface_logo-noborder.sv…"
            ],
            "application/vnd.jupyter.widget-view+json": {
              "version_major": 2,
              "version_minor": 0,
              "model_id": "0f3d83ca42da488bb05bca309bc926f0"
            }
          },
          "metadata": {}
        }
      ]
    },
    {
      "cell_type": "code",
      "source": [
        "import torch"
      ],
      "metadata": {
        "id": "eZG4-9q0RcRS"
      },
      "execution_count": 2,
      "outputs": []
    },
    {
      "cell_type": "code",
      "source": [
        "from pyannote.audio import Pipeline"
      ],
      "metadata": {
        "id": "mhlW5B2QNPVB"
      },
      "execution_count": 3,
      "outputs": []
    },
    {
      "cell_type": "code",
      "source": [
        "diarization_pipeline = Pipeline.from_pretrained(\"pyannote/speaker-diarization-3.1\", use_auth_token=True)"
      ],
      "metadata": {
        "colab": {
          "base_uri": "https://localhost:8080/",
          "height": 405,
          "referenced_widgets": [
            "65129c61620647bcb5ab8f545bf127c5",
            "4d768ce143ca4afc852e31f7ccf0988d",
            "959dfe5c48714dd3bdc722c79fbb8038",
            "12c60d7fb6d74362acc57c759536d7fe",
            "2038086db140430bb37de40f245cda6d",
            "b0be3311a48449398b64ca7d94c2f613",
            "5cd2034132f14c71a45c70e453037304",
            "894b9711f2d54e2c8770ebecb8817646",
            "1da2873093994fd9a3f073b89f184141",
            "d2015d57d59f42cab8bd333a3199326e",
            "65c4bc69c80548fb8eca89383d02868c",
            "dc0d1fb5b0bb4a3cac58e7a3e4acb779",
            "f1efe685c3d84e4988e33cbbf8e8cdbb",
            "cae8c86c5e604ec18dc97bb979d0b836",
            "99af074656944391b475e7acab3fc309",
            "bb2264f345aa4c8ba5d99a6aa5c96cf4",
            "e3ecdc9a1b1342e28e1fc9f138ced249",
            "6136ee3731494c0e9f236b6f2c9bd962",
            "ae993f7ae6c74e1c808bef5122ac0091",
            "7a1c8b18ce574fc9974381c5007aa7e2",
            "49bf3672b3704c3ea72e7af62f078756",
            "9151ccdf20e74c1db1a309b709230529",
            "47a18aae46b3424ebae1a5cbda3d48e0",
            "e886b8931d9c4637a6f7241312baba7e",
            "0f85db40106f4fc195a855f57146f13c",
            "3c8467346b154ae789e22eae88d46970",
            "6a624f3d24f34e49be44ec450c868248",
            "55936c58dec942d3bc1912c03cb5e00e",
            "695871c748ea401697e275f3c0795c0b",
            "115a0966a1034f9aad21edef5e3d5c0f",
            "ce3708bbe901456588855c5ed78cbfa5",
            "e980d09911d741c4af1c93289d301f52",
            "7f15984b8a8c4ddaad44a4b45ca62aca",
            "a1e0902906624cf5aa65c713d3b22ebc",
            "39064d544d794e3096bb90d00d8aa11f",
            "2d10b4d8fb0345df8687a22ace8a48a8",
            "13ae85b3f0e3430d93c11fa0a733968d",
            "55a0c1b746e649cf904b5bb823a8e85f",
            "d0d278985b38497aaccaa88ddd622c54",
            "d7ecdcca529b4634bb6b1225cd9a75b3",
            "e0bf977d989c44e8be7a40d50c3e5022",
            "7a502b961a3b48a9a3da26cc6f3810b1",
            "fef4e4e109e14a128eae646044ed70d1",
            "b9b3918d6b3b4e0482bb58306a5b09ba",
            "d231e18bf59d4b9b809e96af6fbe11f0",
            "e658b4efb94f43ca8c459162f514a779",
            "3a9726d9292d429ea156bd4bdd987c4b",
            "2947dc2956c04167a0f0a76353cd715c",
            "731fe85b0e0a4a7ca128229484053a58",
            "b60300f5758e47caa4f7b581ca9bb3c2",
            "acf0cf6e5ea4495693dddb6bcbf4c7e5",
            "91b5ac391e1b4a7fb8544b52db774d00",
            "ba37a3be0c0045e98ceb2a1d276831d1",
            "6452b8fb12624031b9a8d7fffeea060e",
            "dcdb699b3d3347d5a08d1d575486b2ae"
          ]
        },
        "collapsed": true,
        "id": "lTdIXZsYOnYN",
        "outputId": "5e772fbc-3cd7-414e-9c37-c3649de1f620"
      },
      "execution_count": 4,
      "outputs": [
        {
          "output_type": "stream",
          "name": "stderr",
          "text": [
            "/usr/local/lib/python3.11/dist-packages/huggingface_hub/utils/_auth.py:94: UserWarning: \n",
            "The secret `HF_TOKEN` does not exist in your Colab secrets.\n",
            "To authenticate with the Hugging Face Hub, create a token in your settings tab (https://huggingface.co/settings/tokens), set it as secret in your Google Colab and restart your session.\n",
            "You will be able to reuse this secret in all of your notebooks.\n",
            "Please note that authentication is recommended but still optional to access public models or datasets.\n",
            "  warnings.warn(\n"
          ]
        },
        {
          "output_type": "display_data",
          "data": {
            "text/plain": [
              "config.yaml:   0%|          | 0.00/469 [00:00<?, ?B/s]"
            ],
            "application/vnd.jupyter.widget-view+json": {
              "version_major": 2,
              "version_minor": 0,
              "model_id": "65129c61620647bcb5ab8f545bf127c5"
            }
          },
          "metadata": {}
        },
        {
          "output_type": "stream",
          "name": "stderr",
          "text": [
            "DEBUG:speechbrain.utils.checkpoints:Registered checkpoint save hook for _speechbrain_save\n",
            "DEBUG:speechbrain.utils.checkpoints:Registered checkpoint load hook for _speechbrain_load\n",
            "DEBUG:speechbrain.utils.checkpoints:Registered checkpoint save hook for save\n",
            "DEBUG:speechbrain.utils.checkpoints:Registered checkpoint load hook for load\n",
            "DEBUG:speechbrain.utils.checkpoints:Registered checkpoint save hook for _save\n",
            "DEBUG:speechbrain.utils.checkpoints:Registered checkpoint load hook for _recover\n"
          ]
        },
        {
          "output_type": "display_data",
          "data": {
            "text/plain": [
              "pytorch_model.bin:   0%|          | 0.00/5.91M [00:00<?, ?B/s]"
            ],
            "application/vnd.jupyter.widget-view+json": {
              "version_major": 2,
              "version_minor": 0,
              "model_id": "dc0d1fb5b0bb4a3cac58e7a3e4acb779"
            }
          },
          "metadata": {}
        },
        {
          "output_type": "display_data",
          "data": {
            "text/plain": [
              "config.yaml:   0%|          | 0.00/399 [00:00<?, ?B/s]"
            ],
            "application/vnd.jupyter.widget-view+json": {
              "version_major": 2,
              "version_minor": 0,
              "model_id": "47a18aae46b3424ebae1a5cbda3d48e0"
            }
          },
          "metadata": {}
        },
        {
          "output_type": "display_data",
          "data": {
            "text/plain": [
              "pytorch_model.bin:   0%|          | 0.00/26.6M [00:00<?, ?B/s]"
            ],
            "application/vnd.jupyter.widget-view+json": {
              "version_major": 2,
              "version_minor": 0,
              "model_id": "a1e0902906624cf5aa65c713d3b22ebc"
            }
          },
          "metadata": {}
        },
        {
          "output_type": "display_data",
          "data": {
            "text/plain": [
              "config.yaml:   0%|          | 0.00/221 [00:00<?, ?B/s]"
            ],
            "application/vnd.jupyter.widget-view+json": {
              "version_major": 2,
              "version_minor": 0,
              "model_id": "d231e18bf59d4b9b809e96af6fbe11f0"
            }
          },
          "metadata": {}
        }
      ]
    },
    {
      "cell_type": "code",
      "source": [
        "diarization_pipeline.to(torch.device(\"cuda\"))"
      ],
      "metadata": {
        "colab": {
          "base_uri": "https://localhost:8080/"
        },
        "id": "ij6uW_EeRnxk",
        "outputId": "cae2c247-00d7-468a-96bd-369da7f79d8d"
      },
      "execution_count": 5,
      "outputs": [
        {
          "output_type": "execute_result",
          "data": {
            "text/plain": [
              "<pyannote.audio.pipelines.speaker_diarization.SpeakerDiarization at 0x7f56cc326910>"
            ]
          },
          "metadata": {},
          "execution_count": 5
        }
      ]
    },
    {
      "cell_type": "code",
      "source": [
        "from pyannote.audio.pipelines.utils.hook import ProgressHook"
      ],
      "metadata": {
        "id": "ObFsgCXsO6iM"
      },
      "execution_count": 6,
      "outputs": []
    },
    {
      "cell_type": "code",
      "source": [
        "with ProgressHook() as hook:\n",
        "  diarization = diarization_pipeline(\"/content/downloads/welcome_script.mp3\", hook=hook)"
      ],
      "metadata": {
        "colab": {
          "base_uri": "https://localhost:8080/",
          "height": 1000,
          "referenced_widgets": [
            "fa5f4fe7613443d4b962dbd07d5fd5e3",
            "7cd75fbc88434ca886d2e52e1e1f07c4"
          ]
        },
        "collapsed": true,
        "id": "Y47cP0AQQUpy",
        "outputId": "610e1434-3b45-46f4-935b-ba2176270403"
      },
      "execution_count": 7,
      "outputs": [
        {
          "output_type": "display_data",
          "data": {
            "text/plain": [
              "Output()"
            ],
            "application/vnd.jupyter.widget-view+json": {
              "version_major": 2,
              "version_minor": 0,
              "model_id": "fa5f4fe7613443d4b962dbd07d5fd5e3"
            }
          },
          "metadata": {}
        },
        {
          "output_type": "display_data",
          "data": {
            "text/plain": [
              "/usr/local/lib/python3.11/dist-packages/pyannote/audio/utils/reproducibility.py:74: ReproducibilityWarning: \n",
              "TensorFloat-32 (TF32) has been disabled as it might lead to reproducibility issues and lower accuracy.\n",
              "It can be re-enabled by calling\n",
              "   >>> import torch\n",
              "   >>> torch.backends.cuda.matmul.allow_tf32 = True\n",
              "   >>> torch.backends.cudnn.allow_tf32 = True\n",
              "See https://github.com/pyannote/pyannote-audio/issues/1370 for more details.\n",
              "\n",
              "  warnings.warn(\n"
            ],
            "text/html": [
              "<pre style=\"white-space:pre;overflow-x:auto;line-height:normal;font-family:Menlo,'DejaVu Sans Mono',consolas,'Courier New',monospace\">/usr/local/lib/python3.11/dist-packages/pyannote/audio/utils/reproducibility.py:74: ReproducibilityWarning: \n",
              "TensorFloat-32 (TF32) has been disabled as it might lead to reproducibility issues and lower accuracy.\n",
              "It can be re-enabled by calling\n",
              "   &gt;&gt;&gt; import torch\n",
              "   &gt;&gt;&gt; torch.backends.cuda.matmul.allow_tf32 = True\n",
              "   &gt;&gt;&gt; torch.backends.cudnn.allow_tf32 = True\n",
              "See https://github.com/pyannote/pyannote-audio/issues/1370 for more details.\n",
              "\n",
              "  warnings.warn(\n",
              "</pre>\n"
            ]
          },
          "metadata": {}
        },
        {
          "output_type": "display_data",
          "data": {
            "text/plain": [
              "/usr/local/lib/python3.11/dist-packages/pyannote/audio/models/blocks/pooling.py:104: UserWarning: std(): degrees of\n",
              "freedom is <= 0. Correction should be strictly less than the reduction factor (input numel divided by output \n",
              "numel). (Triggered internally at /pytorch/aten/src/ATen/native/ReduceOps.cpp:1831.)\n",
              "  std = sequences.std(dim=-1, correction=1)\n"
            ],
            "text/html": [
              "<pre style=\"white-space:pre;overflow-x:auto;line-height:normal;font-family:Menlo,'DejaVu Sans Mono',consolas,'Courier New',monospace\">/usr/local/lib/python3.11/dist-packages/pyannote/audio/models/blocks/pooling.py:104: UserWarning: std(): degrees of\n",
              "freedom is &lt;= 0. Correction should be strictly less than the reduction factor (input numel divided by output \n",
              "numel). (Triggered internally at /pytorch/aten/src/ATen/native/ReduceOps.cpp:1831.)\n",
              "  std = sequences.std(dim=-1, correction=1)\n",
              "</pre>\n"
            ]
          },
          "metadata": {}
        },
        {
          "output_type": "display_data",
          "data": {
            "text/plain": [
              "/usr/local/lib/python3.11/dist-packages/torchaudio/_backend/soundfile_backend.py:71: UserWarning: The \n",
              "MPEG_LAYER_III subtype is unknown to TorchAudio. As a result, the bits_per_sample attribute will be set to 0. If \n",
              "you are seeing this warning, please report by opening an issue on github (after checking for existing/closed ones).\n",
              "You may otherwise ignore this warning.\n",
              "  warnings.warn(\n"
            ],
            "text/html": [
              "<pre style=\"white-space:pre;overflow-x:auto;line-height:normal;font-family:Menlo,'DejaVu Sans Mono',consolas,'Courier New',monospace\">/usr/local/lib/python3.11/dist-packages/torchaudio/_backend/soundfile_backend.py:71: UserWarning: The \n",
              "MPEG_LAYER_III subtype is unknown to TorchAudio. As a result, the bits_per_sample attribute will be set to 0. If \n",
              "you are seeing this warning, please report by opening an issue on github (after checking for existing/closed ones).\n",
              "You may otherwise ignore this warning.\n",
              "  warnings.warn(\n",
              "</pre>\n"
            ]
          },
          "metadata": {}
        },
        {
          "output_type": "display_data",
          "data": {
            "text/plain": [
              "/usr/local/lib/python3.11/dist-packages/torchaudio/_backend/soundfile_backend.py:71: UserWarning: The \n",
              "MPEG_LAYER_III subtype is unknown to TorchAudio. As a result, the bits_per_sample attribute will be set to 0. If \n",
              "you are seeing this warning, please report by opening an issue on github (after checking for existing/closed ones).\n",
              "You may otherwise ignore this warning.\n",
              "  warnings.warn(\n"
            ],
            "text/html": [
              "<pre style=\"white-space:pre;overflow-x:auto;line-height:normal;font-family:Menlo,'DejaVu Sans Mono',consolas,'Courier New',monospace\">/usr/local/lib/python3.11/dist-packages/torchaudio/_backend/soundfile_backend.py:71: UserWarning: The \n",
              "MPEG_LAYER_III subtype is unknown to TorchAudio. As a result, the bits_per_sample attribute will be set to 0. If \n",
              "you are seeing this warning, please report by opening an issue on github (after checking for existing/closed ones).\n",
              "You may otherwise ignore this warning.\n",
              "  warnings.warn(\n",
              "</pre>\n"
            ]
          },
          "metadata": {}
        },
        {
          "output_type": "display_data",
          "data": {
            "text/plain": [
              "/usr/local/lib/python3.11/dist-packages/torchaudio/_backend/soundfile_backend.py:71: UserWarning: The \n",
              "MPEG_LAYER_III subtype is unknown to TorchAudio. As a result, the bits_per_sample attribute will be set to 0. If \n",
              "you are seeing this warning, please report by opening an issue on github (after checking for existing/closed ones).\n",
              "You may otherwise ignore this warning.\n",
              "  warnings.warn(\n"
            ],
            "text/html": [
              "<pre style=\"white-space:pre;overflow-x:auto;line-height:normal;font-family:Menlo,'DejaVu Sans Mono',consolas,'Courier New',monospace\">/usr/local/lib/python3.11/dist-packages/torchaudio/_backend/soundfile_backend.py:71: UserWarning: The \n",
              "MPEG_LAYER_III subtype is unknown to TorchAudio. As a result, the bits_per_sample attribute will be set to 0. If \n",
              "you are seeing this warning, please report by opening an issue on github (after checking for existing/closed ones).\n",
              "You may otherwise ignore this warning.\n",
              "  warnings.warn(\n",
              "</pre>\n"
            ]
          },
          "metadata": {}
        },
        {
          "output_type": "display_data",
          "data": {
            "text/plain": [
              "/usr/local/lib/python3.11/dist-packages/torchaudio/_backend/soundfile_backend.py:71: UserWarning: The \n",
              "MPEG_LAYER_III subtype is unknown to TorchAudio. As a result, the bits_per_sample attribute will be set to 0. If \n",
              "you are seeing this warning, please report by opening an issue on github (after checking for existing/closed ones).\n",
              "You may otherwise ignore this warning.\n",
              "  warnings.warn(\n"
            ],
            "text/html": [
              "<pre style=\"white-space:pre;overflow-x:auto;line-height:normal;font-family:Menlo,'DejaVu Sans Mono',consolas,'Courier New',monospace\">/usr/local/lib/python3.11/dist-packages/torchaudio/_backend/soundfile_backend.py:71: UserWarning: The \n",
              "MPEG_LAYER_III subtype is unknown to TorchAudio. As a result, the bits_per_sample attribute will be set to 0. If \n",
              "you are seeing this warning, please report by opening an issue on github (after checking for existing/closed ones).\n",
              "You may otherwise ignore this warning.\n",
              "  warnings.warn(\n",
              "</pre>\n"
            ]
          },
          "metadata": {}
        },
        {
          "output_type": "display_data",
          "data": {
            "text/plain": [
              "/usr/local/lib/python3.11/dist-packages/torchaudio/_backend/soundfile_backend.py:71: UserWarning: The \n",
              "MPEG_LAYER_III subtype is unknown to TorchAudio. As a result, the bits_per_sample attribute will be set to 0. If \n",
              "you are seeing this warning, please report by opening an issue on github (after checking for existing/closed ones).\n",
              "You may otherwise ignore this warning.\n",
              "  warnings.warn(\n"
            ],
            "text/html": [
              "<pre style=\"white-space:pre;overflow-x:auto;line-height:normal;font-family:Menlo,'DejaVu Sans Mono',consolas,'Courier New',monospace\">/usr/local/lib/python3.11/dist-packages/torchaudio/_backend/soundfile_backend.py:71: UserWarning: The \n",
              "MPEG_LAYER_III subtype is unknown to TorchAudio. As a result, the bits_per_sample attribute will be set to 0. If \n",
              "you are seeing this warning, please report by opening an issue on github (after checking for existing/closed ones).\n",
              "You may otherwise ignore this warning.\n",
              "  warnings.warn(\n",
              "</pre>\n"
            ]
          },
          "metadata": {}
        },
        {
          "output_type": "display_data",
          "data": {
            "text/plain": [
              "/usr/local/lib/python3.11/dist-packages/torchaudio/_backend/soundfile_backend.py:71: UserWarning: The \n",
              "MPEG_LAYER_III subtype is unknown to TorchAudio. As a result, the bits_per_sample attribute will be set to 0. If \n",
              "you are seeing this warning, please report by opening an issue on github (after checking for existing/closed ones).\n",
              "You may otherwise ignore this warning.\n",
              "  warnings.warn(\n"
            ],
            "text/html": [
              "<pre style=\"white-space:pre;overflow-x:auto;line-height:normal;font-family:Menlo,'DejaVu Sans Mono',consolas,'Courier New',monospace\">/usr/local/lib/python3.11/dist-packages/torchaudio/_backend/soundfile_backend.py:71: UserWarning: The \n",
              "MPEG_LAYER_III subtype is unknown to TorchAudio. As a result, the bits_per_sample attribute will be set to 0. If \n",
              "you are seeing this warning, please report by opening an issue on github (after checking for existing/closed ones).\n",
              "You may otherwise ignore this warning.\n",
              "  warnings.warn(\n",
              "</pre>\n"
            ]
          },
          "metadata": {}
        },
        {
          "output_type": "display_data",
          "data": {
            "text/plain": [
              "/usr/local/lib/python3.11/dist-packages/torchaudio/_backend/soundfile_backend.py:71: UserWarning: The \n",
              "MPEG_LAYER_III subtype is unknown to TorchAudio. As a result, the bits_per_sample attribute will be set to 0. If \n",
              "you are seeing this warning, please report by opening an issue on github (after checking for existing/closed ones).\n",
              "You may otherwise ignore this warning.\n",
              "  warnings.warn(\n"
            ],
            "text/html": [
              "<pre style=\"white-space:pre;overflow-x:auto;line-height:normal;font-family:Menlo,'DejaVu Sans Mono',consolas,'Courier New',monospace\">/usr/local/lib/python3.11/dist-packages/torchaudio/_backend/soundfile_backend.py:71: UserWarning: The \n",
              "MPEG_LAYER_III subtype is unknown to TorchAudio. As a result, the bits_per_sample attribute will be set to 0. If \n",
              "you are seeing this warning, please report by opening an issue on github (after checking for existing/closed ones).\n",
              "You may otherwise ignore this warning.\n",
              "  warnings.warn(\n",
              "</pre>\n"
            ]
          },
          "metadata": {}
        },
        {
          "output_type": "display_data",
          "data": {
            "text/plain": [
              "/usr/local/lib/python3.11/dist-packages/torchaudio/_backend/soundfile_backend.py:71: UserWarning: The \n",
              "MPEG_LAYER_III subtype is unknown to TorchAudio. As a result, the bits_per_sample attribute will be set to 0. If \n",
              "you are seeing this warning, please report by opening an issue on github (after checking for existing/closed ones).\n",
              "You may otherwise ignore this warning.\n",
              "  warnings.warn(\n"
            ],
            "text/html": [
              "<pre style=\"white-space:pre;overflow-x:auto;line-height:normal;font-family:Menlo,'DejaVu Sans Mono',consolas,'Courier New',monospace\">/usr/local/lib/python3.11/dist-packages/torchaudio/_backend/soundfile_backend.py:71: UserWarning: The \n",
              "MPEG_LAYER_III subtype is unknown to TorchAudio. As a result, the bits_per_sample attribute will be set to 0. If \n",
              "you are seeing this warning, please report by opening an issue on github (after checking for existing/closed ones).\n",
              "You may otherwise ignore this warning.\n",
              "  warnings.warn(\n",
              "</pre>\n"
            ]
          },
          "metadata": {}
        },
        {
          "output_type": "display_data",
          "data": {
            "text/plain": [
              "/usr/local/lib/python3.11/dist-packages/torchaudio/_backend/soundfile_backend.py:71: UserWarning: The \n",
              "MPEG_LAYER_III subtype is unknown to TorchAudio. As a result, the bits_per_sample attribute will be set to 0. If \n",
              "you are seeing this warning, please report by opening an issue on github (after checking for existing/closed ones).\n",
              "You may otherwise ignore this warning.\n",
              "  warnings.warn(\n"
            ],
            "text/html": [
              "<pre style=\"white-space:pre;overflow-x:auto;line-height:normal;font-family:Menlo,'DejaVu Sans Mono',consolas,'Courier New',monospace\">/usr/local/lib/python3.11/dist-packages/torchaudio/_backend/soundfile_backend.py:71: UserWarning: The \n",
              "MPEG_LAYER_III subtype is unknown to TorchAudio. As a result, the bits_per_sample attribute will be set to 0. If \n",
              "you are seeing this warning, please report by opening an issue on github (after checking for existing/closed ones).\n",
              "You may otherwise ignore this warning.\n",
              "  warnings.warn(\n",
              "</pre>\n"
            ]
          },
          "metadata": {}
        },
        {
          "output_type": "display_data",
          "data": {
            "text/plain": [
              "/usr/local/lib/python3.11/dist-packages/torchaudio/_backend/soundfile_backend.py:71: UserWarning: The \n",
              "MPEG_LAYER_III subtype is unknown to TorchAudio. As a result, the bits_per_sample attribute will be set to 0. If \n",
              "you are seeing this warning, please report by opening an issue on github (after checking for existing/closed ones).\n",
              "You may otherwise ignore this warning.\n",
              "  warnings.warn(\n"
            ],
            "text/html": [
              "<pre style=\"white-space:pre;overflow-x:auto;line-height:normal;font-family:Menlo,'DejaVu Sans Mono',consolas,'Courier New',monospace\">/usr/local/lib/python3.11/dist-packages/torchaudio/_backend/soundfile_backend.py:71: UserWarning: The \n",
              "MPEG_LAYER_III subtype is unknown to TorchAudio. As a result, the bits_per_sample attribute will be set to 0. If \n",
              "you are seeing this warning, please report by opening an issue on github (after checking for existing/closed ones).\n",
              "You may otherwise ignore this warning.\n",
              "  warnings.warn(\n",
              "</pre>\n"
            ]
          },
          "metadata": {}
        },
        {
          "output_type": "display_data",
          "data": {
            "text/plain": [
              "/usr/local/lib/python3.11/dist-packages/torchaudio/_backend/soundfile_backend.py:71: UserWarning: The \n",
              "MPEG_LAYER_III subtype is unknown to TorchAudio. As a result, the bits_per_sample attribute will be set to 0. If \n",
              "you are seeing this warning, please report by opening an issue on github (after checking for existing/closed ones).\n",
              "You may otherwise ignore this warning.\n",
              "  warnings.warn(\n"
            ],
            "text/html": [
              "<pre style=\"white-space:pre;overflow-x:auto;line-height:normal;font-family:Menlo,'DejaVu Sans Mono',consolas,'Courier New',monospace\">/usr/local/lib/python3.11/dist-packages/torchaudio/_backend/soundfile_backend.py:71: UserWarning: The \n",
              "MPEG_LAYER_III subtype is unknown to TorchAudio. As a result, the bits_per_sample attribute will be set to 0. If \n",
              "you are seeing this warning, please report by opening an issue on github (after checking for existing/closed ones).\n",
              "You may otherwise ignore this warning.\n",
              "  warnings.warn(\n",
              "</pre>\n"
            ]
          },
          "metadata": {}
        },
        {
          "output_type": "display_data",
          "data": {
            "text/plain": [
              "/usr/local/lib/python3.11/dist-packages/torchaudio/_backend/soundfile_backend.py:71: UserWarning: The \n",
              "MPEG_LAYER_III subtype is unknown to TorchAudio. As a result, the bits_per_sample attribute will be set to 0. If \n",
              "you are seeing this warning, please report by opening an issue on github (after checking for existing/closed ones).\n",
              "You may otherwise ignore this warning.\n",
              "  warnings.warn(\n"
            ],
            "text/html": [
              "<pre style=\"white-space:pre;overflow-x:auto;line-height:normal;font-family:Menlo,'DejaVu Sans Mono',consolas,'Courier New',monospace\">/usr/local/lib/python3.11/dist-packages/torchaudio/_backend/soundfile_backend.py:71: UserWarning: The \n",
              "MPEG_LAYER_III subtype is unknown to TorchAudio. As a result, the bits_per_sample attribute will be set to 0. If \n",
              "you are seeing this warning, please report by opening an issue on github (after checking for existing/closed ones).\n",
              "You may otherwise ignore this warning.\n",
              "  warnings.warn(\n",
              "</pre>\n"
            ]
          },
          "metadata": {}
        },
        {
          "output_type": "display_data",
          "data": {
            "text/plain": [
              "/usr/local/lib/python3.11/dist-packages/torchaudio/_backend/soundfile_backend.py:71: UserWarning: The \n",
              "MPEG_LAYER_III subtype is unknown to TorchAudio. As a result, the bits_per_sample attribute will be set to 0. If \n",
              "you are seeing this warning, please report by opening an issue on github (after checking for existing/closed ones).\n",
              "You may otherwise ignore this warning.\n",
              "  warnings.warn(\n"
            ],
            "text/html": [
              "<pre style=\"white-space:pre;overflow-x:auto;line-height:normal;font-family:Menlo,'DejaVu Sans Mono',consolas,'Courier New',monospace\">/usr/local/lib/python3.11/dist-packages/torchaudio/_backend/soundfile_backend.py:71: UserWarning: The \n",
              "MPEG_LAYER_III subtype is unknown to TorchAudio. As a result, the bits_per_sample attribute will be set to 0. If \n",
              "you are seeing this warning, please report by opening an issue on github (after checking for existing/closed ones).\n",
              "You may otherwise ignore this warning.\n",
              "  warnings.warn(\n",
              "</pre>\n"
            ]
          },
          "metadata": {}
        },
        {
          "output_type": "display_data",
          "data": {
            "text/plain": [
              "/usr/local/lib/python3.11/dist-packages/torchaudio/_backend/soundfile_backend.py:71: UserWarning: The \n",
              "MPEG_LAYER_III subtype is unknown to TorchAudio. As a result, the bits_per_sample attribute will be set to 0. If \n",
              "you are seeing this warning, please report by opening an issue on github (after checking for existing/closed ones).\n",
              "You may otherwise ignore this warning.\n",
              "  warnings.warn(\n"
            ],
            "text/html": [
              "<pre style=\"white-space:pre;overflow-x:auto;line-height:normal;font-family:Menlo,'DejaVu Sans Mono',consolas,'Courier New',monospace\">/usr/local/lib/python3.11/dist-packages/torchaudio/_backend/soundfile_backend.py:71: UserWarning: The \n",
              "MPEG_LAYER_III subtype is unknown to TorchAudio. As a result, the bits_per_sample attribute will be set to 0. If \n",
              "you are seeing this warning, please report by opening an issue on github (after checking for existing/closed ones).\n",
              "You may otherwise ignore this warning.\n",
              "  warnings.warn(\n",
              "</pre>\n"
            ]
          },
          "metadata": {}
        },
        {
          "output_type": "display_data",
          "data": {
            "text/plain": [
              "/usr/local/lib/python3.11/dist-packages/torchaudio/_backend/soundfile_backend.py:71: UserWarning: The \n",
              "MPEG_LAYER_III subtype is unknown to TorchAudio. As a result, the bits_per_sample attribute will be set to 0. If \n",
              "you are seeing this warning, please report by opening an issue on github (after checking for existing/closed ones).\n",
              "You may otherwise ignore this warning.\n",
              "  warnings.warn(\n"
            ],
            "text/html": [
              "<pre style=\"white-space:pre;overflow-x:auto;line-height:normal;font-family:Menlo,'DejaVu Sans Mono',consolas,'Courier New',monospace\">/usr/local/lib/python3.11/dist-packages/torchaudio/_backend/soundfile_backend.py:71: UserWarning: The \n",
              "MPEG_LAYER_III subtype is unknown to TorchAudio. As a result, the bits_per_sample attribute will be set to 0. If \n",
              "you are seeing this warning, please report by opening an issue on github (after checking for existing/closed ones).\n",
              "You may otherwise ignore this warning.\n",
              "  warnings.warn(\n",
              "</pre>\n"
            ]
          },
          "metadata": {}
        },
        {
          "output_type": "display_data",
          "data": {
            "text/plain": [
              "/usr/local/lib/python3.11/dist-packages/torchaudio/_backend/soundfile_backend.py:71: UserWarning: The \n",
              "MPEG_LAYER_III subtype is unknown to TorchAudio. As a result, the bits_per_sample attribute will be set to 0. If \n",
              "you are seeing this warning, please report by opening an issue on github (after checking for existing/closed ones).\n",
              "You may otherwise ignore this warning.\n",
              "  warnings.warn(\n"
            ],
            "text/html": [
              "<pre style=\"white-space:pre;overflow-x:auto;line-height:normal;font-family:Menlo,'DejaVu Sans Mono',consolas,'Courier New',monospace\">/usr/local/lib/python3.11/dist-packages/torchaudio/_backend/soundfile_backend.py:71: UserWarning: The \n",
              "MPEG_LAYER_III subtype is unknown to TorchAudio. As a result, the bits_per_sample attribute will be set to 0. If \n",
              "you are seeing this warning, please report by opening an issue on github (after checking for existing/closed ones).\n",
              "You may otherwise ignore this warning.\n",
              "  warnings.warn(\n",
              "</pre>\n"
            ]
          },
          "metadata": {}
        },
        {
          "output_type": "display_data",
          "data": {
            "text/plain": [
              "/usr/local/lib/python3.11/dist-packages/torchaudio/_backend/soundfile_backend.py:71: UserWarning: The \n",
              "MPEG_LAYER_III subtype is unknown to TorchAudio. As a result, the bits_per_sample attribute will be set to 0. If \n",
              "you are seeing this warning, please report by opening an issue on github (after checking for existing/closed ones).\n",
              "You may otherwise ignore this warning.\n",
              "  warnings.warn(\n"
            ],
            "text/html": [
              "<pre style=\"white-space:pre;overflow-x:auto;line-height:normal;font-family:Menlo,'DejaVu Sans Mono',consolas,'Courier New',monospace\">/usr/local/lib/python3.11/dist-packages/torchaudio/_backend/soundfile_backend.py:71: UserWarning: The \n",
              "MPEG_LAYER_III subtype is unknown to TorchAudio. As a result, the bits_per_sample attribute will be set to 0. If \n",
              "you are seeing this warning, please report by opening an issue on github (after checking for existing/closed ones).\n",
              "You may otherwise ignore this warning.\n",
              "  warnings.warn(\n",
              "</pre>\n"
            ]
          },
          "metadata": {}
        },
        {
          "output_type": "display_data",
          "data": {
            "text/plain": [
              "/usr/local/lib/python3.11/dist-packages/torchaudio/_backend/soundfile_backend.py:71: UserWarning: The \n",
              "MPEG_LAYER_III subtype is unknown to TorchAudio. As a result, the bits_per_sample attribute will be set to 0. If \n",
              "you are seeing this warning, please report by opening an issue on github (after checking for existing/closed ones).\n",
              "You may otherwise ignore this warning.\n",
              "  warnings.warn(\n"
            ],
            "text/html": [
              "<pre style=\"white-space:pre;overflow-x:auto;line-height:normal;font-family:Menlo,'DejaVu Sans Mono',consolas,'Courier New',monospace\">/usr/local/lib/python3.11/dist-packages/torchaudio/_backend/soundfile_backend.py:71: UserWarning: The \n",
              "MPEG_LAYER_III subtype is unknown to TorchAudio. As a result, the bits_per_sample attribute will be set to 0. If \n",
              "you are seeing this warning, please report by opening an issue on github (after checking for existing/closed ones).\n",
              "You may otherwise ignore this warning.\n",
              "  warnings.warn(\n",
              "</pre>\n"
            ]
          },
          "metadata": {}
        },
        {
          "output_type": "display_data",
          "data": {
            "text/plain": [
              "/usr/local/lib/python3.11/dist-packages/torchaudio/_backend/soundfile_backend.py:71: UserWarning: The \n",
              "MPEG_LAYER_III subtype is unknown to TorchAudio. As a result, the bits_per_sample attribute will be set to 0. If \n",
              "you are seeing this warning, please report by opening an issue on github (after checking for existing/closed ones).\n",
              "You may otherwise ignore this warning.\n",
              "  warnings.warn(\n"
            ],
            "text/html": [
              "<pre style=\"white-space:pre;overflow-x:auto;line-height:normal;font-family:Menlo,'DejaVu Sans Mono',consolas,'Courier New',monospace\">/usr/local/lib/python3.11/dist-packages/torchaudio/_backend/soundfile_backend.py:71: UserWarning: The \n",
              "MPEG_LAYER_III subtype is unknown to TorchAudio. As a result, the bits_per_sample attribute will be set to 0. If \n",
              "you are seeing this warning, please report by opening an issue on github (after checking for existing/closed ones).\n",
              "You may otherwise ignore this warning.\n",
              "  warnings.warn(\n",
              "</pre>\n"
            ]
          },
          "metadata": {}
        },
        {
          "output_type": "display_data",
          "data": {
            "text/plain": [
              "/usr/local/lib/python3.11/dist-packages/torchaudio/_backend/soundfile_backend.py:71: UserWarning: The \n",
              "MPEG_LAYER_III subtype is unknown to TorchAudio. As a result, the bits_per_sample attribute will be set to 0. If \n",
              "you are seeing this warning, please report by opening an issue on github (after checking for existing/closed ones).\n",
              "You may otherwise ignore this warning.\n",
              "  warnings.warn(\n"
            ],
            "text/html": [
              "<pre style=\"white-space:pre;overflow-x:auto;line-height:normal;font-family:Menlo,'DejaVu Sans Mono',consolas,'Courier New',monospace\">/usr/local/lib/python3.11/dist-packages/torchaudio/_backend/soundfile_backend.py:71: UserWarning: The \n",
              "MPEG_LAYER_III subtype is unknown to TorchAudio. As a result, the bits_per_sample attribute will be set to 0. If \n",
              "you are seeing this warning, please report by opening an issue on github (after checking for existing/closed ones).\n",
              "You may otherwise ignore this warning.\n",
              "  warnings.warn(\n",
              "</pre>\n"
            ]
          },
          "metadata": {}
        },
        {
          "output_type": "display_data",
          "data": {
            "text/plain": [
              "/usr/local/lib/python3.11/dist-packages/torchaudio/_backend/soundfile_backend.py:71: UserWarning: The \n",
              "MPEG_LAYER_III subtype is unknown to TorchAudio. As a result, the bits_per_sample attribute will be set to 0. If \n",
              "you are seeing this warning, please report by opening an issue on github (after checking for existing/closed ones).\n",
              "You may otherwise ignore this warning.\n",
              "  warnings.warn(\n"
            ],
            "text/html": [
              "<pre style=\"white-space:pre;overflow-x:auto;line-height:normal;font-family:Menlo,'DejaVu Sans Mono',consolas,'Courier New',monospace\">/usr/local/lib/python3.11/dist-packages/torchaudio/_backend/soundfile_backend.py:71: UserWarning: The \n",
              "MPEG_LAYER_III subtype is unknown to TorchAudio. As a result, the bits_per_sample attribute will be set to 0. If \n",
              "you are seeing this warning, please report by opening an issue on github (after checking for existing/closed ones).\n",
              "You may otherwise ignore this warning.\n",
              "  warnings.warn(\n",
              "</pre>\n"
            ]
          },
          "metadata": {}
        },
        {
          "output_type": "display_data",
          "data": {
            "text/plain": [
              "/usr/local/lib/python3.11/dist-packages/torchaudio/_backend/soundfile_backend.py:71: UserWarning: The \n",
              "MPEG_LAYER_III subtype is unknown to TorchAudio. As a result, the bits_per_sample attribute will be set to 0. If \n",
              "you are seeing this warning, please report by opening an issue on github (after checking for existing/closed ones).\n",
              "You may otherwise ignore this warning.\n",
              "  warnings.warn(\n"
            ],
            "text/html": [
              "<pre style=\"white-space:pre;overflow-x:auto;line-height:normal;font-family:Menlo,'DejaVu Sans Mono',consolas,'Courier New',monospace\">/usr/local/lib/python3.11/dist-packages/torchaudio/_backend/soundfile_backend.py:71: UserWarning: The \n",
              "MPEG_LAYER_III subtype is unknown to TorchAudio. As a result, the bits_per_sample attribute will be set to 0. If \n",
              "you are seeing this warning, please report by opening an issue on github (after checking for existing/closed ones).\n",
              "You may otherwise ignore this warning.\n",
              "  warnings.warn(\n",
              "</pre>\n"
            ]
          },
          "metadata": {}
        },
        {
          "output_type": "display_data",
          "data": {
            "text/plain": [
              "/usr/local/lib/python3.11/dist-packages/torchaudio/_backend/soundfile_backend.py:71: UserWarning: The \n",
              "MPEG_LAYER_III subtype is unknown to TorchAudio. As a result, the bits_per_sample attribute will be set to 0. If \n",
              "you are seeing this warning, please report by opening an issue on github (after checking for existing/closed ones).\n",
              "You may otherwise ignore this warning.\n",
              "  warnings.warn(\n"
            ],
            "text/html": [
              "<pre style=\"white-space:pre;overflow-x:auto;line-height:normal;font-family:Menlo,'DejaVu Sans Mono',consolas,'Courier New',monospace\">/usr/local/lib/python3.11/dist-packages/torchaudio/_backend/soundfile_backend.py:71: UserWarning: The \n",
              "MPEG_LAYER_III subtype is unknown to TorchAudio. As a result, the bits_per_sample attribute will be set to 0. If \n",
              "you are seeing this warning, please report by opening an issue on github (after checking for existing/closed ones).\n",
              "You may otherwise ignore this warning.\n",
              "  warnings.warn(\n",
              "</pre>\n"
            ]
          },
          "metadata": {}
        },
        {
          "output_type": "display_data",
          "data": {
            "text/plain": [
              "/usr/local/lib/python3.11/dist-packages/torchaudio/_backend/soundfile_backend.py:71: UserWarning: The \n",
              "MPEG_LAYER_III subtype is unknown to TorchAudio. As a result, the bits_per_sample attribute will be set to 0. If \n",
              "you are seeing this warning, please report by opening an issue on github (after checking for existing/closed ones).\n",
              "You may otherwise ignore this warning.\n",
              "  warnings.warn(\n"
            ],
            "text/html": [
              "<pre style=\"white-space:pre;overflow-x:auto;line-height:normal;font-family:Menlo,'DejaVu Sans Mono',consolas,'Courier New',monospace\">/usr/local/lib/python3.11/dist-packages/torchaudio/_backend/soundfile_backend.py:71: UserWarning: The \n",
              "MPEG_LAYER_III subtype is unknown to TorchAudio. As a result, the bits_per_sample attribute will be set to 0. If \n",
              "you are seeing this warning, please report by opening an issue on github (after checking for existing/closed ones).\n",
              "You may otherwise ignore this warning.\n",
              "  warnings.warn(\n",
              "</pre>\n"
            ]
          },
          "metadata": {}
        },
        {
          "output_type": "display_data",
          "data": {
            "text/plain": [
              "/usr/local/lib/python3.11/dist-packages/torchaudio/_backend/soundfile_backend.py:71: UserWarning: The \n",
              "MPEG_LAYER_III subtype is unknown to TorchAudio. As a result, the bits_per_sample attribute will be set to 0. If \n",
              "you are seeing this warning, please report by opening an issue on github (after checking for existing/closed ones).\n",
              "You may otherwise ignore this warning.\n",
              "  warnings.warn(\n"
            ],
            "text/html": [
              "<pre style=\"white-space:pre;overflow-x:auto;line-height:normal;font-family:Menlo,'DejaVu Sans Mono',consolas,'Courier New',monospace\">/usr/local/lib/python3.11/dist-packages/torchaudio/_backend/soundfile_backend.py:71: UserWarning: The \n",
              "MPEG_LAYER_III subtype is unknown to TorchAudio. As a result, the bits_per_sample attribute will be set to 0. If \n",
              "you are seeing this warning, please report by opening an issue on github (after checking for existing/closed ones).\n",
              "You may otherwise ignore this warning.\n",
              "  warnings.warn(\n",
              "</pre>\n"
            ]
          },
          "metadata": {}
        },
        {
          "output_type": "display_data",
          "data": {
            "text/plain": [
              "/usr/local/lib/python3.11/dist-packages/torchaudio/_backend/soundfile_backend.py:71: UserWarning: The \n",
              "MPEG_LAYER_III subtype is unknown to TorchAudio. As a result, the bits_per_sample attribute will be set to 0. If \n",
              "you are seeing this warning, please report by opening an issue on github (after checking for existing/closed ones).\n",
              "You may otherwise ignore this warning.\n",
              "  warnings.warn(\n"
            ],
            "text/html": [
              "<pre style=\"white-space:pre;overflow-x:auto;line-height:normal;font-family:Menlo,'DejaVu Sans Mono',consolas,'Courier New',monospace\">/usr/local/lib/python3.11/dist-packages/torchaudio/_backend/soundfile_backend.py:71: UserWarning: The \n",
              "MPEG_LAYER_III subtype is unknown to TorchAudio. As a result, the bits_per_sample attribute will be set to 0. If \n",
              "you are seeing this warning, please report by opening an issue on github (after checking for existing/closed ones).\n",
              "You may otherwise ignore this warning.\n",
              "  warnings.warn(\n",
              "</pre>\n"
            ]
          },
          "metadata": {}
        },
        {
          "output_type": "display_data",
          "data": {
            "text/plain": [
              "/usr/local/lib/python3.11/dist-packages/torchaudio/_backend/soundfile_backend.py:71: UserWarning: The \n",
              "MPEG_LAYER_III subtype is unknown to TorchAudio. As a result, the bits_per_sample attribute will be set to 0. If \n",
              "you are seeing this warning, please report by opening an issue on github (after checking for existing/closed ones).\n",
              "You may otherwise ignore this warning.\n",
              "  warnings.warn(\n"
            ],
            "text/html": [
              "<pre style=\"white-space:pre;overflow-x:auto;line-height:normal;font-family:Menlo,'DejaVu Sans Mono',consolas,'Courier New',monospace\">/usr/local/lib/python3.11/dist-packages/torchaudio/_backend/soundfile_backend.py:71: UserWarning: The \n",
              "MPEG_LAYER_III subtype is unknown to TorchAudio. As a result, the bits_per_sample attribute will be set to 0. If \n",
              "you are seeing this warning, please report by opening an issue on github (after checking for existing/closed ones).\n",
              "You may otherwise ignore this warning.\n",
              "  warnings.warn(\n",
              "</pre>\n"
            ]
          },
          "metadata": {}
        },
        {
          "output_type": "display_data",
          "data": {
            "text/plain": [
              "/usr/local/lib/python3.11/dist-packages/torchaudio/_backend/soundfile_backend.py:71: UserWarning: The \n",
              "MPEG_LAYER_III subtype is unknown to TorchAudio. As a result, the bits_per_sample attribute will be set to 0. If \n",
              "you are seeing this warning, please report by opening an issue on github (after checking for existing/closed ones).\n",
              "You may otherwise ignore this warning.\n",
              "  warnings.warn(\n"
            ],
            "text/html": [
              "<pre style=\"white-space:pre;overflow-x:auto;line-height:normal;font-family:Menlo,'DejaVu Sans Mono',consolas,'Courier New',monospace\">/usr/local/lib/python3.11/dist-packages/torchaudio/_backend/soundfile_backend.py:71: UserWarning: The \n",
              "MPEG_LAYER_III subtype is unknown to TorchAudio. As a result, the bits_per_sample attribute will be set to 0. If \n",
              "you are seeing this warning, please report by opening an issue on github (after checking for existing/closed ones).\n",
              "You may otherwise ignore this warning.\n",
              "  warnings.warn(\n",
              "</pre>\n"
            ]
          },
          "metadata": {}
        },
        {
          "output_type": "display_data",
          "data": {
            "text/plain": [
              "/usr/local/lib/python3.11/dist-packages/torchaudio/_backend/soundfile_backend.py:71: UserWarning: The \n",
              "MPEG_LAYER_III subtype is unknown to TorchAudio. As a result, the bits_per_sample attribute will be set to 0. If \n",
              "you are seeing this warning, please report by opening an issue on github (after checking for existing/closed ones).\n",
              "You may otherwise ignore this warning.\n",
              "  warnings.warn(\n"
            ],
            "text/html": [
              "<pre style=\"white-space:pre;overflow-x:auto;line-height:normal;font-family:Menlo,'DejaVu Sans Mono',consolas,'Courier New',monospace\">/usr/local/lib/python3.11/dist-packages/torchaudio/_backend/soundfile_backend.py:71: UserWarning: The \n",
              "MPEG_LAYER_III subtype is unknown to TorchAudio. As a result, the bits_per_sample attribute will be set to 0. If \n",
              "you are seeing this warning, please report by opening an issue on github (after checking for existing/closed ones).\n",
              "You may otherwise ignore this warning.\n",
              "  warnings.warn(\n",
              "</pre>\n"
            ]
          },
          "metadata": {}
        },
        {
          "output_type": "display_data",
          "data": {
            "text/plain": [
              "/usr/local/lib/python3.11/dist-packages/torchaudio/_backend/soundfile_backend.py:71: UserWarning: The \n",
              "MPEG_LAYER_III subtype is unknown to TorchAudio. As a result, the bits_per_sample attribute will be set to 0. If \n",
              "you are seeing this warning, please report by opening an issue on github (after checking for existing/closed ones).\n",
              "You may otherwise ignore this warning.\n",
              "  warnings.warn(\n"
            ],
            "text/html": [
              "<pre style=\"white-space:pre;overflow-x:auto;line-height:normal;font-family:Menlo,'DejaVu Sans Mono',consolas,'Courier New',monospace\">/usr/local/lib/python3.11/dist-packages/torchaudio/_backend/soundfile_backend.py:71: UserWarning: The \n",
              "MPEG_LAYER_III subtype is unknown to TorchAudio. As a result, the bits_per_sample attribute will be set to 0. If \n",
              "you are seeing this warning, please report by opening an issue on github (after checking for existing/closed ones).\n",
              "You may otherwise ignore this warning.\n",
              "  warnings.warn(\n",
              "</pre>\n"
            ]
          },
          "metadata": {}
        },
        {
          "output_type": "display_data",
          "data": {
            "text/plain": [
              "/usr/local/lib/python3.11/dist-packages/torchaudio/_backend/soundfile_backend.py:71: UserWarning: The \n",
              "MPEG_LAYER_III subtype is unknown to TorchAudio. As a result, the bits_per_sample attribute will be set to 0. If \n",
              "you are seeing this warning, please report by opening an issue on github (after checking for existing/closed ones).\n",
              "You may otherwise ignore this warning.\n",
              "  warnings.warn(\n"
            ],
            "text/html": [
              "<pre style=\"white-space:pre;overflow-x:auto;line-height:normal;font-family:Menlo,'DejaVu Sans Mono',consolas,'Courier New',monospace\">/usr/local/lib/python3.11/dist-packages/torchaudio/_backend/soundfile_backend.py:71: UserWarning: The \n",
              "MPEG_LAYER_III subtype is unknown to TorchAudio. As a result, the bits_per_sample attribute will be set to 0. If \n",
              "you are seeing this warning, please report by opening an issue on github (after checking for existing/closed ones).\n",
              "You may otherwise ignore this warning.\n",
              "  warnings.warn(\n",
              "</pre>\n"
            ]
          },
          "metadata": {}
        },
        {
          "output_type": "display_data",
          "data": {
            "text/plain": [
              "/usr/local/lib/python3.11/dist-packages/torchaudio/_backend/soundfile_backend.py:71: UserWarning: The \n",
              "MPEG_LAYER_III subtype is unknown to TorchAudio. As a result, the bits_per_sample attribute will be set to 0. If \n",
              "you are seeing this warning, please report by opening an issue on github (after checking for existing/closed ones).\n",
              "You may otherwise ignore this warning.\n",
              "  warnings.warn(\n"
            ],
            "text/html": [
              "<pre style=\"white-space:pre;overflow-x:auto;line-height:normal;font-family:Menlo,'DejaVu Sans Mono',consolas,'Courier New',monospace\">/usr/local/lib/python3.11/dist-packages/torchaudio/_backend/soundfile_backend.py:71: UserWarning: The \n",
              "MPEG_LAYER_III subtype is unknown to TorchAudio. As a result, the bits_per_sample attribute will be set to 0. If \n",
              "you are seeing this warning, please report by opening an issue on github (after checking for existing/closed ones).\n",
              "You may otherwise ignore this warning.\n",
              "  warnings.warn(\n",
              "</pre>\n"
            ]
          },
          "metadata": {}
        },
        {
          "output_type": "display_data",
          "data": {
            "text/plain": [
              "/usr/local/lib/python3.11/dist-packages/torchaudio/_backend/soundfile_backend.py:71: UserWarning: The \n",
              "MPEG_LAYER_III subtype is unknown to TorchAudio. As a result, the bits_per_sample attribute will be set to 0. If \n",
              "you are seeing this warning, please report by opening an issue on github (after checking for existing/closed ones).\n",
              "You may otherwise ignore this warning.\n",
              "  warnings.warn(\n"
            ],
            "text/html": [
              "<pre style=\"white-space:pre;overflow-x:auto;line-height:normal;font-family:Menlo,'DejaVu Sans Mono',consolas,'Courier New',monospace\">/usr/local/lib/python3.11/dist-packages/torchaudio/_backend/soundfile_backend.py:71: UserWarning: The \n",
              "MPEG_LAYER_III subtype is unknown to TorchAudio. As a result, the bits_per_sample attribute will be set to 0. If \n",
              "you are seeing this warning, please report by opening an issue on github (after checking for existing/closed ones).\n",
              "You may otherwise ignore this warning.\n",
              "  warnings.warn(\n",
              "</pre>\n"
            ]
          },
          "metadata": {}
        },
        {
          "output_type": "display_data",
          "data": {
            "text/plain": [
              "/usr/local/lib/python3.11/dist-packages/torchaudio/_backend/soundfile_backend.py:71: UserWarning: The \n",
              "MPEG_LAYER_III subtype is unknown to TorchAudio. As a result, the bits_per_sample attribute will be set to 0. If \n",
              "you are seeing this warning, please report by opening an issue on github (after checking for existing/closed ones).\n",
              "You may otherwise ignore this warning.\n",
              "  warnings.warn(\n"
            ],
            "text/html": [
              "<pre style=\"white-space:pre;overflow-x:auto;line-height:normal;font-family:Menlo,'DejaVu Sans Mono',consolas,'Courier New',monospace\">/usr/local/lib/python3.11/dist-packages/torchaudio/_backend/soundfile_backend.py:71: UserWarning: The \n",
              "MPEG_LAYER_III subtype is unknown to TorchAudio. As a result, the bits_per_sample attribute will be set to 0. If \n",
              "you are seeing this warning, please report by opening an issue on github (after checking for existing/closed ones).\n",
              "You may otherwise ignore this warning.\n",
              "  warnings.warn(\n",
              "</pre>\n"
            ]
          },
          "metadata": {}
        },
        {
          "output_type": "display_data",
          "data": {
            "text/plain": [
              "/usr/local/lib/python3.11/dist-packages/torchaudio/_backend/soundfile_backend.py:71: UserWarning: The \n",
              "MPEG_LAYER_III subtype is unknown to TorchAudio. As a result, the bits_per_sample attribute will be set to 0. If \n",
              "you are seeing this warning, please report by opening an issue on github (after checking for existing/closed ones).\n",
              "You may otherwise ignore this warning.\n",
              "  warnings.warn(\n"
            ],
            "text/html": [
              "<pre style=\"white-space:pre;overflow-x:auto;line-height:normal;font-family:Menlo,'DejaVu Sans Mono',consolas,'Courier New',monospace\">/usr/local/lib/python3.11/dist-packages/torchaudio/_backend/soundfile_backend.py:71: UserWarning: The \n",
              "MPEG_LAYER_III subtype is unknown to TorchAudio. As a result, the bits_per_sample attribute will be set to 0. If \n",
              "you are seeing this warning, please report by opening an issue on github (after checking for existing/closed ones).\n",
              "You may otherwise ignore this warning.\n",
              "  warnings.warn(\n",
              "</pre>\n"
            ]
          },
          "metadata": {}
        },
        {
          "output_type": "display_data",
          "data": {
            "text/plain": [
              "/usr/local/lib/python3.11/dist-packages/torchaudio/_backend/soundfile_backend.py:71: UserWarning: The \n",
              "MPEG_LAYER_III subtype is unknown to TorchAudio. As a result, the bits_per_sample attribute will be set to 0. If \n",
              "you are seeing this warning, please report by opening an issue on github (after checking for existing/closed ones).\n",
              "You may otherwise ignore this warning.\n",
              "  warnings.warn(\n"
            ],
            "text/html": [
              "<pre style=\"white-space:pre;overflow-x:auto;line-height:normal;font-family:Menlo,'DejaVu Sans Mono',consolas,'Courier New',monospace\">/usr/local/lib/python3.11/dist-packages/torchaudio/_backend/soundfile_backend.py:71: UserWarning: The \n",
              "MPEG_LAYER_III subtype is unknown to TorchAudio. As a result, the bits_per_sample attribute will be set to 0. If \n",
              "you are seeing this warning, please report by opening an issue on github (after checking for existing/closed ones).\n",
              "You may otherwise ignore this warning.\n",
              "  warnings.warn(\n",
              "</pre>\n"
            ]
          },
          "metadata": {}
        },
        {
          "output_type": "display_data",
          "data": {
            "text/plain": [
              "/usr/local/lib/python3.11/dist-packages/torchaudio/_backend/soundfile_backend.py:71: UserWarning: The \n",
              "MPEG_LAYER_III subtype is unknown to TorchAudio. As a result, the bits_per_sample attribute will be set to 0. If \n",
              "you are seeing this warning, please report by opening an issue on github (after checking for existing/closed ones).\n",
              "You may otherwise ignore this warning.\n",
              "  warnings.warn(\n"
            ],
            "text/html": [
              "<pre style=\"white-space:pre;overflow-x:auto;line-height:normal;font-family:Menlo,'DejaVu Sans Mono',consolas,'Courier New',monospace\">/usr/local/lib/python3.11/dist-packages/torchaudio/_backend/soundfile_backend.py:71: UserWarning: The \n",
              "MPEG_LAYER_III subtype is unknown to TorchAudio. As a result, the bits_per_sample attribute will be set to 0. If \n",
              "you are seeing this warning, please report by opening an issue on github (after checking for existing/closed ones).\n",
              "You may otherwise ignore this warning.\n",
              "  warnings.warn(\n",
              "</pre>\n"
            ]
          },
          "metadata": {}
        },
        {
          "output_type": "display_data",
          "data": {
            "text/plain": [
              "/usr/local/lib/python3.11/dist-packages/torchaudio/_backend/soundfile_backend.py:71: UserWarning: The \n",
              "MPEG_LAYER_III subtype is unknown to TorchAudio. As a result, the bits_per_sample attribute will be set to 0. If \n",
              "you are seeing this warning, please report by opening an issue on github (after checking for existing/closed ones).\n",
              "You may otherwise ignore this warning.\n",
              "  warnings.warn(\n"
            ],
            "text/html": [
              "<pre style=\"white-space:pre;overflow-x:auto;line-height:normal;font-family:Menlo,'DejaVu Sans Mono',consolas,'Courier New',monospace\">/usr/local/lib/python3.11/dist-packages/torchaudio/_backend/soundfile_backend.py:71: UserWarning: The \n",
              "MPEG_LAYER_III subtype is unknown to TorchAudio. As a result, the bits_per_sample attribute will be set to 0. If \n",
              "you are seeing this warning, please report by opening an issue on github (after checking for existing/closed ones).\n",
              "You may otherwise ignore this warning.\n",
              "  warnings.warn(\n",
              "</pre>\n"
            ]
          },
          "metadata": {}
        },
        {
          "output_type": "display_data",
          "data": {
            "text/plain": [
              "/usr/local/lib/python3.11/dist-packages/torchaudio/_backend/soundfile_backend.py:71: UserWarning: The \n",
              "MPEG_LAYER_III subtype is unknown to TorchAudio. As a result, the bits_per_sample attribute will be set to 0. If \n",
              "you are seeing this warning, please report by opening an issue on github (after checking for existing/closed ones).\n",
              "You may otherwise ignore this warning.\n",
              "  warnings.warn(\n"
            ],
            "text/html": [
              "<pre style=\"white-space:pre;overflow-x:auto;line-height:normal;font-family:Menlo,'DejaVu Sans Mono',consolas,'Courier New',monospace\">/usr/local/lib/python3.11/dist-packages/torchaudio/_backend/soundfile_backend.py:71: UserWarning: The \n",
              "MPEG_LAYER_III subtype is unknown to TorchAudio. As a result, the bits_per_sample attribute will be set to 0. If \n",
              "you are seeing this warning, please report by opening an issue on github (after checking for existing/closed ones).\n",
              "You may otherwise ignore this warning.\n",
              "  warnings.warn(\n",
              "</pre>\n"
            ]
          },
          "metadata": {}
        },
        {
          "output_type": "display_data",
          "data": {
            "text/plain": [
              "/usr/local/lib/python3.11/dist-packages/torchaudio/_backend/soundfile_backend.py:71: UserWarning: The \n",
              "MPEG_LAYER_III subtype is unknown to TorchAudio. As a result, the bits_per_sample attribute will be set to 0. If \n",
              "you are seeing this warning, please report by opening an issue on github (after checking for existing/closed ones).\n",
              "You may otherwise ignore this warning.\n",
              "  warnings.warn(\n"
            ],
            "text/html": [
              "<pre style=\"white-space:pre;overflow-x:auto;line-height:normal;font-family:Menlo,'DejaVu Sans Mono',consolas,'Courier New',monospace\">/usr/local/lib/python3.11/dist-packages/torchaudio/_backend/soundfile_backend.py:71: UserWarning: The \n",
              "MPEG_LAYER_III subtype is unknown to TorchAudio. As a result, the bits_per_sample attribute will be set to 0. If \n",
              "you are seeing this warning, please report by opening an issue on github (after checking for existing/closed ones).\n",
              "You may otherwise ignore this warning.\n",
              "  warnings.warn(\n",
              "</pre>\n"
            ]
          },
          "metadata": {}
        },
        {
          "output_type": "display_data",
          "data": {
            "text/plain": [
              "/usr/local/lib/python3.11/dist-packages/torchaudio/_backend/soundfile_backend.py:71: UserWarning: The \n",
              "MPEG_LAYER_III subtype is unknown to TorchAudio. As a result, the bits_per_sample attribute will be set to 0. If \n",
              "you are seeing this warning, please report by opening an issue on github (after checking for existing/closed ones).\n",
              "You may otherwise ignore this warning.\n",
              "  warnings.warn(\n"
            ],
            "text/html": [
              "<pre style=\"white-space:pre;overflow-x:auto;line-height:normal;font-family:Menlo,'DejaVu Sans Mono',consolas,'Courier New',monospace\">/usr/local/lib/python3.11/dist-packages/torchaudio/_backend/soundfile_backend.py:71: UserWarning: The \n",
              "MPEG_LAYER_III subtype is unknown to TorchAudio. As a result, the bits_per_sample attribute will be set to 0. If \n",
              "you are seeing this warning, please report by opening an issue on github (after checking for existing/closed ones).\n",
              "You may otherwise ignore this warning.\n",
              "  warnings.warn(\n",
              "</pre>\n"
            ]
          },
          "metadata": {}
        },
        {
          "output_type": "display_data",
          "data": {
            "text/plain": [
              "/usr/local/lib/python3.11/dist-packages/torchaudio/_backend/soundfile_backend.py:71: UserWarning: The \n",
              "MPEG_LAYER_III subtype is unknown to TorchAudio. As a result, the bits_per_sample attribute will be set to 0. If \n",
              "you are seeing this warning, please report by opening an issue on github (after checking for existing/closed ones).\n",
              "You may otherwise ignore this warning.\n",
              "  warnings.warn(\n"
            ],
            "text/html": [
              "<pre style=\"white-space:pre;overflow-x:auto;line-height:normal;font-family:Menlo,'DejaVu Sans Mono',consolas,'Courier New',monospace\">/usr/local/lib/python3.11/dist-packages/torchaudio/_backend/soundfile_backend.py:71: UserWarning: The \n",
              "MPEG_LAYER_III subtype is unknown to TorchAudio. As a result, the bits_per_sample attribute will be set to 0. If \n",
              "you are seeing this warning, please report by opening an issue on github (after checking for existing/closed ones).\n",
              "You may otherwise ignore this warning.\n",
              "  warnings.warn(\n",
              "</pre>\n"
            ]
          },
          "metadata": {}
        },
        {
          "output_type": "display_data",
          "data": {
            "text/plain": [
              "/usr/local/lib/python3.11/dist-packages/torchaudio/_backend/soundfile_backend.py:71: UserWarning: The \n",
              "MPEG_LAYER_III subtype is unknown to TorchAudio. As a result, the bits_per_sample attribute will be set to 0. If \n",
              "you are seeing this warning, please report by opening an issue on github (after checking for existing/closed ones).\n",
              "You may otherwise ignore this warning.\n",
              "  warnings.warn(\n"
            ],
            "text/html": [
              "<pre style=\"white-space:pre;overflow-x:auto;line-height:normal;font-family:Menlo,'DejaVu Sans Mono',consolas,'Courier New',monospace\">/usr/local/lib/python3.11/dist-packages/torchaudio/_backend/soundfile_backend.py:71: UserWarning: The \n",
              "MPEG_LAYER_III subtype is unknown to TorchAudio. As a result, the bits_per_sample attribute will be set to 0. If \n",
              "you are seeing this warning, please report by opening an issue on github (after checking for existing/closed ones).\n",
              "You may otherwise ignore this warning.\n",
              "  warnings.warn(\n",
              "</pre>\n"
            ]
          },
          "metadata": {}
        },
        {
          "output_type": "display_data",
          "data": {
            "text/plain": [
              "/usr/local/lib/python3.11/dist-packages/torchaudio/_backend/soundfile_backend.py:71: UserWarning: The \n",
              "MPEG_LAYER_III subtype is unknown to TorchAudio. As a result, the bits_per_sample attribute will be set to 0. If \n",
              "you are seeing this warning, please report by opening an issue on github (after checking for existing/closed ones).\n",
              "You may otherwise ignore this warning.\n",
              "  warnings.warn(\n"
            ],
            "text/html": [
              "<pre style=\"white-space:pre;overflow-x:auto;line-height:normal;font-family:Menlo,'DejaVu Sans Mono',consolas,'Courier New',monospace\">/usr/local/lib/python3.11/dist-packages/torchaudio/_backend/soundfile_backend.py:71: UserWarning: The \n",
              "MPEG_LAYER_III subtype is unknown to TorchAudio. As a result, the bits_per_sample attribute will be set to 0. If \n",
              "you are seeing this warning, please report by opening an issue on github (after checking for existing/closed ones).\n",
              "You may otherwise ignore this warning.\n",
              "  warnings.warn(\n",
              "</pre>\n"
            ]
          },
          "metadata": {}
        },
        {
          "output_type": "display_data",
          "data": {
            "text/plain": [
              "/usr/local/lib/python3.11/dist-packages/torchaudio/_backend/soundfile_backend.py:71: UserWarning: The \n",
              "MPEG_LAYER_III subtype is unknown to TorchAudio. As a result, the bits_per_sample attribute will be set to 0. If \n",
              "you are seeing this warning, please report by opening an issue on github (after checking for existing/closed ones).\n",
              "You may otherwise ignore this warning.\n",
              "  warnings.warn(\n"
            ],
            "text/html": [
              "<pre style=\"white-space:pre;overflow-x:auto;line-height:normal;font-family:Menlo,'DejaVu Sans Mono',consolas,'Courier New',monospace\">/usr/local/lib/python3.11/dist-packages/torchaudio/_backend/soundfile_backend.py:71: UserWarning: The \n",
              "MPEG_LAYER_III subtype is unknown to TorchAudio. As a result, the bits_per_sample attribute will be set to 0. If \n",
              "you are seeing this warning, please report by opening an issue on github (after checking for existing/closed ones).\n",
              "You may otherwise ignore this warning.\n",
              "  warnings.warn(\n",
              "</pre>\n"
            ]
          },
          "metadata": {}
        },
        {
          "output_type": "display_data",
          "data": {
            "text/plain": [
              "/usr/local/lib/python3.11/dist-packages/torchaudio/_backend/soundfile_backend.py:71: UserWarning: The \n",
              "MPEG_LAYER_III subtype is unknown to TorchAudio. As a result, the bits_per_sample attribute will be set to 0. If \n",
              "you are seeing this warning, please report by opening an issue on github (after checking for existing/closed ones).\n",
              "You may otherwise ignore this warning.\n",
              "  warnings.warn(\n"
            ],
            "text/html": [
              "<pre style=\"white-space:pre;overflow-x:auto;line-height:normal;font-family:Menlo,'DejaVu Sans Mono',consolas,'Courier New',monospace\">/usr/local/lib/python3.11/dist-packages/torchaudio/_backend/soundfile_backend.py:71: UserWarning: The \n",
              "MPEG_LAYER_III subtype is unknown to TorchAudio. As a result, the bits_per_sample attribute will be set to 0. If \n",
              "you are seeing this warning, please report by opening an issue on github (after checking for existing/closed ones).\n",
              "You may otherwise ignore this warning.\n",
              "  warnings.warn(\n",
              "</pre>\n"
            ]
          },
          "metadata": {}
        },
        {
          "output_type": "display_data",
          "data": {
            "text/plain": [
              "/usr/local/lib/python3.11/dist-packages/torchaudio/_backend/soundfile_backend.py:71: UserWarning: The \n",
              "MPEG_LAYER_III subtype is unknown to TorchAudio. As a result, the bits_per_sample attribute will be set to 0. If \n",
              "you are seeing this warning, please report by opening an issue on github (after checking for existing/closed ones).\n",
              "You may otherwise ignore this warning.\n",
              "  warnings.warn(\n"
            ],
            "text/html": [
              "<pre style=\"white-space:pre;overflow-x:auto;line-height:normal;font-family:Menlo,'DejaVu Sans Mono',consolas,'Courier New',monospace\">/usr/local/lib/python3.11/dist-packages/torchaudio/_backend/soundfile_backend.py:71: UserWarning: The \n",
              "MPEG_LAYER_III subtype is unknown to TorchAudio. As a result, the bits_per_sample attribute will be set to 0. If \n",
              "you are seeing this warning, please report by opening an issue on github (after checking for existing/closed ones).\n",
              "You may otherwise ignore this warning.\n",
              "  warnings.warn(\n",
              "</pre>\n"
            ]
          },
          "metadata": {}
        },
        {
          "output_type": "display_data",
          "data": {
            "text/plain": [
              "/usr/local/lib/python3.11/dist-packages/torchaudio/_backend/soundfile_backend.py:71: UserWarning: The \n",
              "MPEG_LAYER_III subtype is unknown to TorchAudio. As a result, the bits_per_sample attribute will be set to 0. If \n",
              "you are seeing this warning, please report by opening an issue on github (after checking for existing/closed ones).\n",
              "You may otherwise ignore this warning.\n",
              "  warnings.warn(\n"
            ],
            "text/html": [
              "<pre style=\"white-space:pre;overflow-x:auto;line-height:normal;font-family:Menlo,'DejaVu Sans Mono',consolas,'Courier New',monospace\">/usr/local/lib/python3.11/dist-packages/torchaudio/_backend/soundfile_backend.py:71: UserWarning: The \n",
              "MPEG_LAYER_III subtype is unknown to TorchAudio. As a result, the bits_per_sample attribute will be set to 0. If \n",
              "you are seeing this warning, please report by opening an issue on github (after checking for existing/closed ones).\n",
              "You may otherwise ignore this warning.\n",
              "  warnings.warn(\n",
              "</pre>\n"
            ]
          },
          "metadata": {}
        },
        {
          "output_type": "display_data",
          "data": {
            "text/plain": [
              "/usr/local/lib/python3.11/dist-packages/torchaudio/_backend/soundfile_backend.py:71: UserWarning: The \n",
              "MPEG_LAYER_III subtype is unknown to TorchAudio. As a result, the bits_per_sample attribute will be set to 0. If \n",
              "you are seeing this warning, please report by opening an issue on github (after checking for existing/closed ones).\n",
              "You may otherwise ignore this warning.\n",
              "  warnings.warn(\n"
            ],
            "text/html": [
              "<pre style=\"white-space:pre;overflow-x:auto;line-height:normal;font-family:Menlo,'DejaVu Sans Mono',consolas,'Courier New',monospace\">/usr/local/lib/python3.11/dist-packages/torchaudio/_backend/soundfile_backend.py:71: UserWarning: The \n",
              "MPEG_LAYER_III subtype is unknown to TorchAudio. As a result, the bits_per_sample attribute will be set to 0. If \n",
              "you are seeing this warning, please report by opening an issue on github (after checking for existing/closed ones).\n",
              "You may otherwise ignore this warning.\n",
              "  warnings.warn(\n",
              "</pre>\n"
            ]
          },
          "metadata": {}
        },
        {
          "output_type": "display_data",
          "data": {
            "text/plain": [
              "/usr/local/lib/python3.11/dist-packages/torchaudio/_backend/soundfile_backend.py:71: UserWarning: The \n",
              "MPEG_LAYER_III subtype is unknown to TorchAudio. As a result, the bits_per_sample attribute will be set to 0. If \n",
              "you are seeing this warning, please report by opening an issue on github (after checking for existing/closed ones).\n",
              "You may otherwise ignore this warning.\n",
              "  warnings.warn(\n"
            ],
            "text/html": [
              "<pre style=\"white-space:pre;overflow-x:auto;line-height:normal;font-family:Menlo,'DejaVu Sans Mono',consolas,'Courier New',monospace\">/usr/local/lib/python3.11/dist-packages/torchaudio/_backend/soundfile_backend.py:71: UserWarning: The \n",
              "MPEG_LAYER_III subtype is unknown to TorchAudio. As a result, the bits_per_sample attribute will be set to 0. If \n",
              "you are seeing this warning, please report by opening an issue on github (after checking for existing/closed ones).\n",
              "You may otherwise ignore this warning.\n",
              "  warnings.warn(\n",
              "</pre>\n"
            ]
          },
          "metadata": {}
        },
        {
          "output_type": "display_data",
          "data": {
            "text/plain": [
              "/usr/local/lib/python3.11/dist-packages/torchaudio/_backend/soundfile_backend.py:71: UserWarning: The \n",
              "MPEG_LAYER_III subtype is unknown to TorchAudio. As a result, the bits_per_sample attribute will be set to 0. If \n",
              "you are seeing this warning, please report by opening an issue on github (after checking for existing/closed ones).\n",
              "You may otherwise ignore this warning.\n",
              "  warnings.warn(\n"
            ],
            "text/html": [
              "<pre style=\"white-space:pre;overflow-x:auto;line-height:normal;font-family:Menlo,'DejaVu Sans Mono',consolas,'Courier New',monospace\">/usr/local/lib/python3.11/dist-packages/torchaudio/_backend/soundfile_backend.py:71: UserWarning: The \n",
              "MPEG_LAYER_III subtype is unknown to TorchAudio. As a result, the bits_per_sample attribute will be set to 0. If \n",
              "you are seeing this warning, please report by opening an issue on github (after checking for existing/closed ones).\n",
              "You may otherwise ignore this warning.\n",
              "  warnings.warn(\n",
              "</pre>\n"
            ]
          },
          "metadata": {}
        },
        {
          "output_type": "display_data",
          "data": {
            "text/plain": [
              "/usr/local/lib/python3.11/dist-packages/torchaudio/_backend/soundfile_backend.py:71: UserWarning: The \n",
              "MPEG_LAYER_III subtype is unknown to TorchAudio. As a result, the bits_per_sample attribute will be set to 0. If \n",
              "you are seeing this warning, please report by opening an issue on github (after checking for existing/closed ones).\n",
              "You may otherwise ignore this warning.\n",
              "  warnings.warn(\n"
            ],
            "text/html": [
              "<pre style=\"white-space:pre;overflow-x:auto;line-height:normal;font-family:Menlo,'DejaVu Sans Mono',consolas,'Courier New',monospace\">/usr/local/lib/python3.11/dist-packages/torchaudio/_backend/soundfile_backend.py:71: UserWarning: The \n",
              "MPEG_LAYER_III subtype is unknown to TorchAudio. As a result, the bits_per_sample attribute will be set to 0. If \n",
              "you are seeing this warning, please report by opening an issue on github (after checking for existing/closed ones).\n",
              "You may otherwise ignore this warning.\n",
              "  warnings.warn(\n",
              "</pre>\n"
            ]
          },
          "metadata": {}
        },
        {
          "output_type": "display_data",
          "data": {
            "text/plain": [
              "/usr/local/lib/python3.11/dist-packages/torchaudio/_backend/soundfile_backend.py:71: UserWarning: The \n",
              "MPEG_LAYER_III subtype is unknown to TorchAudio. As a result, the bits_per_sample attribute will be set to 0. If \n",
              "you are seeing this warning, please report by opening an issue on github (after checking for existing/closed ones).\n",
              "You may otherwise ignore this warning.\n",
              "  warnings.warn(\n"
            ],
            "text/html": [
              "<pre style=\"white-space:pre;overflow-x:auto;line-height:normal;font-family:Menlo,'DejaVu Sans Mono',consolas,'Courier New',monospace\">/usr/local/lib/python3.11/dist-packages/torchaudio/_backend/soundfile_backend.py:71: UserWarning: The \n",
              "MPEG_LAYER_III subtype is unknown to TorchAudio. As a result, the bits_per_sample attribute will be set to 0. If \n",
              "you are seeing this warning, please report by opening an issue on github (after checking for existing/closed ones).\n",
              "You may otherwise ignore this warning.\n",
              "  warnings.warn(\n",
              "</pre>\n"
            ]
          },
          "metadata": {}
        },
        {
          "output_type": "display_data",
          "data": {
            "text/plain": [
              "/usr/local/lib/python3.11/dist-packages/torchaudio/_backend/soundfile_backend.py:71: UserWarning: The \n",
              "MPEG_LAYER_III subtype is unknown to TorchAudio. As a result, the bits_per_sample attribute will be set to 0. If \n",
              "you are seeing this warning, please report by opening an issue on github (after checking for existing/closed ones).\n",
              "You may otherwise ignore this warning.\n",
              "  warnings.warn(\n"
            ],
            "text/html": [
              "<pre style=\"white-space:pre;overflow-x:auto;line-height:normal;font-family:Menlo,'DejaVu Sans Mono',consolas,'Courier New',monospace\">/usr/local/lib/python3.11/dist-packages/torchaudio/_backend/soundfile_backend.py:71: UserWarning: The \n",
              "MPEG_LAYER_III subtype is unknown to TorchAudio. As a result, the bits_per_sample attribute will be set to 0. If \n",
              "you are seeing this warning, please report by opening an issue on github (after checking for existing/closed ones).\n",
              "You may otherwise ignore this warning.\n",
              "  warnings.warn(\n",
              "</pre>\n"
            ]
          },
          "metadata": {}
        },
        {
          "output_type": "display_data",
          "data": {
            "text/plain": [
              "/usr/local/lib/python3.11/dist-packages/torchaudio/_backend/soundfile_backend.py:71: UserWarning: The \n",
              "MPEG_LAYER_III subtype is unknown to TorchAudio. As a result, the bits_per_sample attribute will be set to 0. If \n",
              "you are seeing this warning, please report by opening an issue on github (after checking for existing/closed ones).\n",
              "You may otherwise ignore this warning.\n",
              "  warnings.warn(\n"
            ],
            "text/html": [
              "<pre style=\"white-space:pre;overflow-x:auto;line-height:normal;font-family:Menlo,'DejaVu Sans Mono',consolas,'Courier New',monospace\">/usr/local/lib/python3.11/dist-packages/torchaudio/_backend/soundfile_backend.py:71: UserWarning: The \n",
              "MPEG_LAYER_III subtype is unknown to TorchAudio. As a result, the bits_per_sample attribute will be set to 0. If \n",
              "you are seeing this warning, please report by opening an issue on github (after checking for existing/closed ones).\n",
              "You may otherwise ignore this warning.\n",
              "  warnings.warn(\n",
              "</pre>\n"
            ]
          },
          "metadata": {}
        },
        {
          "output_type": "display_data",
          "data": {
            "text/plain": [
              "/usr/local/lib/python3.11/dist-packages/torchaudio/_backend/soundfile_backend.py:71: UserWarning: The \n",
              "MPEG_LAYER_III subtype is unknown to TorchAudio. As a result, the bits_per_sample attribute will be set to 0. If \n",
              "you are seeing this warning, please report by opening an issue on github (after checking for existing/closed ones).\n",
              "You may otherwise ignore this warning.\n",
              "  warnings.warn(\n"
            ],
            "text/html": [
              "<pre style=\"white-space:pre;overflow-x:auto;line-height:normal;font-family:Menlo,'DejaVu Sans Mono',consolas,'Courier New',monospace\">/usr/local/lib/python3.11/dist-packages/torchaudio/_backend/soundfile_backend.py:71: UserWarning: The \n",
              "MPEG_LAYER_III subtype is unknown to TorchAudio. As a result, the bits_per_sample attribute will be set to 0. If \n",
              "you are seeing this warning, please report by opening an issue on github (after checking for existing/closed ones).\n",
              "You may otherwise ignore this warning.\n",
              "  warnings.warn(\n",
              "</pre>\n"
            ]
          },
          "metadata": {}
        },
        {
          "output_type": "display_data",
          "data": {
            "text/plain": [
              "/usr/local/lib/python3.11/dist-packages/torchaudio/_backend/soundfile_backend.py:71: UserWarning: The \n",
              "MPEG_LAYER_III subtype is unknown to TorchAudio. As a result, the bits_per_sample attribute will be set to 0. If \n",
              "you are seeing this warning, please report by opening an issue on github (after checking for existing/closed ones).\n",
              "You may otherwise ignore this warning.\n",
              "  warnings.warn(\n"
            ],
            "text/html": [
              "<pre style=\"white-space:pre;overflow-x:auto;line-height:normal;font-family:Menlo,'DejaVu Sans Mono',consolas,'Courier New',monospace\">/usr/local/lib/python3.11/dist-packages/torchaudio/_backend/soundfile_backend.py:71: UserWarning: The \n",
              "MPEG_LAYER_III subtype is unknown to TorchAudio. As a result, the bits_per_sample attribute will be set to 0. If \n",
              "you are seeing this warning, please report by opening an issue on github (after checking for existing/closed ones).\n",
              "You may otherwise ignore this warning.\n",
              "  warnings.warn(\n",
              "</pre>\n"
            ]
          },
          "metadata": {}
        },
        {
          "output_type": "display_data",
          "data": {
            "text/plain": [
              "/usr/local/lib/python3.11/dist-packages/torchaudio/_backend/soundfile_backend.py:71: UserWarning: The \n",
              "MPEG_LAYER_III subtype is unknown to TorchAudio. As a result, the bits_per_sample attribute will be set to 0. If \n",
              "you are seeing this warning, please report by opening an issue on github (after checking for existing/closed ones).\n",
              "You may otherwise ignore this warning.\n",
              "  warnings.warn(\n"
            ],
            "text/html": [
              "<pre style=\"white-space:pre;overflow-x:auto;line-height:normal;font-family:Menlo,'DejaVu Sans Mono',consolas,'Courier New',monospace\">/usr/local/lib/python3.11/dist-packages/torchaudio/_backend/soundfile_backend.py:71: UserWarning: The \n",
              "MPEG_LAYER_III subtype is unknown to TorchAudio. As a result, the bits_per_sample attribute will be set to 0. If \n",
              "you are seeing this warning, please report by opening an issue on github (after checking for existing/closed ones).\n",
              "You may otherwise ignore this warning.\n",
              "  warnings.warn(\n",
              "</pre>\n"
            ]
          },
          "metadata": {}
        },
        {
          "output_type": "display_data",
          "data": {
            "text/plain": [
              "/usr/local/lib/python3.11/dist-packages/torchaudio/_backend/soundfile_backend.py:71: UserWarning: The \n",
              "MPEG_LAYER_III subtype is unknown to TorchAudio. As a result, the bits_per_sample attribute will be set to 0. If \n",
              "you are seeing this warning, please report by opening an issue on github (after checking for existing/closed ones).\n",
              "You may otherwise ignore this warning.\n",
              "  warnings.warn(\n"
            ],
            "text/html": [
              "<pre style=\"white-space:pre;overflow-x:auto;line-height:normal;font-family:Menlo,'DejaVu Sans Mono',consolas,'Courier New',monospace\">/usr/local/lib/python3.11/dist-packages/torchaudio/_backend/soundfile_backend.py:71: UserWarning: The \n",
              "MPEG_LAYER_III subtype is unknown to TorchAudio. As a result, the bits_per_sample attribute will be set to 0. If \n",
              "you are seeing this warning, please report by opening an issue on github (after checking for existing/closed ones).\n",
              "You may otherwise ignore this warning.\n",
              "  warnings.warn(\n",
              "</pre>\n"
            ]
          },
          "metadata": {}
        },
        {
          "output_type": "display_data",
          "data": {
            "text/plain": [
              "/usr/local/lib/python3.11/dist-packages/torchaudio/_backend/soundfile_backend.py:71: UserWarning: The \n",
              "MPEG_LAYER_III subtype is unknown to TorchAudio. As a result, the bits_per_sample attribute will be set to 0. If \n",
              "you are seeing this warning, please report by opening an issue on github (after checking for existing/closed ones).\n",
              "You may otherwise ignore this warning.\n",
              "  warnings.warn(\n"
            ],
            "text/html": [
              "<pre style=\"white-space:pre;overflow-x:auto;line-height:normal;font-family:Menlo,'DejaVu Sans Mono',consolas,'Courier New',monospace\">/usr/local/lib/python3.11/dist-packages/torchaudio/_backend/soundfile_backend.py:71: UserWarning: The \n",
              "MPEG_LAYER_III subtype is unknown to TorchAudio. As a result, the bits_per_sample attribute will be set to 0. If \n",
              "you are seeing this warning, please report by opening an issue on github (after checking for existing/closed ones).\n",
              "You may otherwise ignore this warning.\n",
              "  warnings.warn(\n",
              "</pre>\n"
            ]
          },
          "metadata": {}
        },
        {
          "output_type": "display_data",
          "data": {
            "text/plain": [
              "/usr/local/lib/python3.11/dist-packages/torchaudio/_backend/soundfile_backend.py:71: UserWarning: The \n",
              "MPEG_LAYER_III subtype is unknown to TorchAudio. As a result, the bits_per_sample attribute will be set to 0. If \n",
              "you are seeing this warning, please report by opening an issue on github (after checking for existing/closed ones).\n",
              "You may otherwise ignore this warning.\n",
              "  warnings.warn(\n"
            ],
            "text/html": [
              "<pre style=\"white-space:pre;overflow-x:auto;line-height:normal;font-family:Menlo,'DejaVu Sans Mono',consolas,'Courier New',monospace\">/usr/local/lib/python3.11/dist-packages/torchaudio/_backend/soundfile_backend.py:71: UserWarning: The \n",
              "MPEG_LAYER_III subtype is unknown to TorchAudio. As a result, the bits_per_sample attribute will be set to 0. If \n",
              "you are seeing this warning, please report by opening an issue on github (after checking for existing/closed ones).\n",
              "You may otherwise ignore this warning.\n",
              "  warnings.warn(\n",
              "</pre>\n"
            ]
          },
          "metadata": {}
        },
        {
          "output_type": "display_data",
          "data": {
            "text/plain": [
              "/usr/local/lib/python3.11/dist-packages/torchaudio/_backend/soundfile_backend.py:71: UserWarning: The \n",
              "MPEG_LAYER_III subtype is unknown to TorchAudio. As a result, the bits_per_sample attribute will be set to 0. If \n",
              "you are seeing this warning, please report by opening an issue on github (after checking for existing/closed ones).\n",
              "You may otherwise ignore this warning.\n",
              "  warnings.warn(\n"
            ],
            "text/html": [
              "<pre style=\"white-space:pre;overflow-x:auto;line-height:normal;font-family:Menlo,'DejaVu Sans Mono',consolas,'Courier New',monospace\">/usr/local/lib/python3.11/dist-packages/torchaudio/_backend/soundfile_backend.py:71: UserWarning: The \n",
              "MPEG_LAYER_III subtype is unknown to TorchAudio. As a result, the bits_per_sample attribute will be set to 0. If \n",
              "you are seeing this warning, please report by opening an issue on github (after checking for existing/closed ones).\n",
              "You may otherwise ignore this warning.\n",
              "  warnings.warn(\n",
              "</pre>\n"
            ]
          },
          "metadata": {}
        },
        {
          "output_type": "display_data",
          "data": {
            "text/plain": [
              "/usr/local/lib/python3.11/dist-packages/torchaudio/_backend/soundfile_backend.py:71: UserWarning: The \n",
              "MPEG_LAYER_III subtype is unknown to TorchAudio. As a result, the bits_per_sample attribute will be set to 0. If \n",
              "you are seeing this warning, please report by opening an issue on github (after checking for existing/closed ones).\n",
              "You may otherwise ignore this warning.\n",
              "  warnings.warn(\n"
            ],
            "text/html": [
              "<pre style=\"white-space:pre;overflow-x:auto;line-height:normal;font-family:Menlo,'DejaVu Sans Mono',consolas,'Courier New',monospace\">/usr/local/lib/python3.11/dist-packages/torchaudio/_backend/soundfile_backend.py:71: UserWarning: The \n",
              "MPEG_LAYER_III subtype is unknown to TorchAudio. As a result, the bits_per_sample attribute will be set to 0. If \n",
              "you are seeing this warning, please report by opening an issue on github (after checking for existing/closed ones).\n",
              "You may otherwise ignore this warning.\n",
              "  warnings.warn(\n",
              "</pre>\n"
            ]
          },
          "metadata": {}
        },
        {
          "output_type": "display_data",
          "data": {
            "text/plain": [
              "/usr/local/lib/python3.11/dist-packages/torchaudio/_backend/soundfile_backend.py:71: UserWarning: The \n",
              "MPEG_LAYER_III subtype is unknown to TorchAudio. As a result, the bits_per_sample attribute will be set to 0. If \n",
              "you are seeing this warning, please report by opening an issue on github (after checking for existing/closed ones).\n",
              "You may otherwise ignore this warning.\n",
              "  warnings.warn(\n"
            ],
            "text/html": [
              "<pre style=\"white-space:pre;overflow-x:auto;line-height:normal;font-family:Menlo,'DejaVu Sans Mono',consolas,'Courier New',monospace\">/usr/local/lib/python3.11/dist-packages/torchaudio/_backend/soundfile_backend.py:71: UserWarning: The \n",
              "MPEG_LAYER_III subtype is unknown to TorchAudio. As a result, the bits_per_sample attribute will be set to 0. If \n",
              "you are seeing this warning, please report by opening an issue on github (after checking for existing/closed ones).\n",
              "You may otherwise ignore this warning.\n",
              "  warnings.warn(\n",
              "</pre>\n"
            ]
          },
          "metadata": {}
        },
        {
          "output_type": "display_data",
          "data": {
            "text/plain": [
              "/usr/local/lib/python3.11/dist-packages/torchaudio/_backend/soundfile_backend.py:71: UserWarning: The \n",
              "MPEG_LAYER_III subtype is unknown to TorchAudio. As a result, the bits_per_sample attribute will be set to 0. If \n",
              "you are seeing this warning, please report by opening an issue on github (after checking for existing/closed ones).\n",
              "You may otherwise ignore this warning.\n",
              "  warnings.warn(\n"
            ],
            "text/html": [
              "<pre style=\"white-space:pre;overflow-x:auto;line-height:normal;font-family:Menlo,'DejaVu Sans Mono',consolas,'Courier New',monospace\">/usr/local/lib/python3.11/dist-packages/torchaudio/_backend/soundfile_backend.py:71: UserWarning: The \n",
              "MPEG_LAYER_III subtype is unknown to TorchAudio. As a result, the bits_per_sample attribute will be set to 0. If \n",
              "you are seeing this warning, please report by opening an issue on github (after checking for existing/closed ones).\n",
              "You may otherwise ignore this warning.\n",
              "  warnings.warn(\n",
              "</pre>\n"
            ]
          },
          "metadata": {}
        },
        {
          "output_type": "display_data",
          "data": {
            "text/plain": [
              "/usr/local/lib/python3.11/dist-packages/torchaudio/_backend/soundfile_backend.py:71: UserWarning: The \n",
              "MPEG_LAYER_III subtype is unknown to TorchAudio. As a result, the bits_per_sample attribute will be set to 0. If \n",
              "you are seeing this warning, please report by opening an issue on github (after checking for existing/closed ones).\n",
              "You may otherwise ignore this warning.\n",
              "  warnings.warn(\n"
            ],
            "text/html": [
              "<pre style=\"white-space:pre;overflow-x:auto;line-height:normal;font-family:Menlo,'DejaVu Sans Mono',consolas,'Courier New',monospace\">/usr/local/lib/python3.11/dist-packages/torchaudio/_backend/soundfile_backend.py:71: UserWarning: The \n",
              "MPEG_LAYER_III subtype is unknown to TorchAudio. As a result, the bits_per_sample attribute will be set to 0. If \n",
              "you are seeing this warning, please report by opening an issue on github (after checking for existing/closed ones).\n",
              "You may otherwise ignore this warning.\n",
              "  warnings.warn(\n",
              "</pre>\n"
            ]
          },
          "metadata": {}
        },
        {
          "output_type": "display_data",
          "data": {
            "text/plain": [
              "/usr/local/lib/python3.11/dist-packages/torchaudio/_backend/soundfile_backend.py:71: UserWarning: The \n",
              "MPEG_LAYER_III subtype is unknown to TorchAudio. As a result, the bits_per_sample attribute will be set to 0. If \n",
              "you are seeing this warning, please report by opening an issue on github (after checking for existing/closed ones).\n",
              "You may otherwise ignore this warning.\n",
              "  warnings.warn(\n"
            ],
            "text/html": [
              "<pre style=\"white-space:pre;overflow-x:auto;line-height:normal;font-family:Menlo,'DejaVu Sans Mono',consolas,'Courier New',monospace\">/usr/local/lib/python3.11/dist-packages/torchaudio/_backend/soundfile_backend.py:71: UserWarning: The \n",
              "MPEG_LAYER_III subtype is unknown to TorchAudio. As a result, the bits_per_sample attribute will be set to 0. If \n",
              "you are seeing this warning, please report by opening an issue on github (after checking for existing/closed ones).\n",
              "You may otherwise ignore this warning.\n",
              "  warnings.warn(\n",
              "</pre>\n"
            ]
          },
          "metadata": {}
        },
        {
          "output_type": "display_data",
          "data": {
            "text/plain": [
              "/usr/local/lib/python3.11/dist-packages/torchaudio/_backend/soundfile_backend.py:71: UserWarning: The \n",
              "MPEG_LAYER_III subtype is unknown to TorchAudio. As a result, the bits_per_sample attribute will be set to 0. If \n",
              "you are seeing this warning, please report by opening an issue on github (after checking for existing/closed ones).\n",
              "You may otherwise ignore this warning.\n",
              "  warnings.warn(\n"
            ],
            "text/html": [
              "<pre style=\"white-space:pre;overflow-x:auto;line-height:normal;font-family:Menlo,'DejaVu Sans Mono',consolas,'Courier New',monospace\">/usr/local/lib/python3.11/dist-packages/torchaudio/_backend/soundfile_backend.py:71: UserWarning: The \n",
              "MPEG_LAYER_III subtype is unknown to TorchAudio. As a result, the bits_per_sample attribute will be set to 0. If \n",
              "you are seeing this warning, please report by opening an issue on github (after checking for existing/closed ones).\n",
              "You may otherwise ignore this warning.\n",
              "  warnings.warn(\n",
              "</pre>\n"
            ]
          },
          "metadata": {}
        },
        {
          "output_type": "display_data",
          "data": {
            "text/plain": [
              "/usr/local/lib/python3.11/dist-packages/torchaudio/_backend/soundfile_backend.py:71: UserWarning: The \n",
              "MPEG_LAYER_III subtype is unknown to TorchAudio. As a result, the bits_per_sample attribute will be set to 0. If \n",
              "you are seeing this warning, please report by opening an issue on github (after checking for existing/closed ones).\n",
              "You may otherwise ignore this warning.\n",
              "  warnings.warn(\n"
            ],
            "text/html": [
              "<pre style=\"white-space:pre;overflow-x:auto;line-height:normal;font-family:Menlo,'DejaVu Sans Mono',consolas,'Courier New',monospace\">/usr/local/lib/python3.11/dist-packages/torchaudio/_backend/soundfile_backend.py:71: UserWarning: The \n",
              "MPEG_LAYER_III subtype is unknown to TorchAudio. As a result, the bits_per_sample attribute will be set to 0. If \n",
              "you are seeing this warning, please report by opening an issue on github (after checking for existing/closed ones).\n",
              "You may otherwise ignore this warning.\n",
              "  warnings.warn(\n",
              "</pre>\n"
            ]
          },
          "metadata": {}
        },
        {
          "output_type": "display_data",
          "data": {
            "text/plain": [
              "/usr/local/lib/python3.11/dist-packages/torchaudio/_backend/soundfile_backend.py:71: UserWarning: The \n",
              "MPEG_LAYER_III subtype is unknown to TorchAudio. As a result, the bits_per_sample attribute will be set to 0. If \n",
              "you are seeing this warning, please report by opening an issue on github (after checking for existing/closed ones).\n",
              "You may otherwise ignore this warning.\n",
              "  warnings.warn(\n"
            ],
            "text/html": [
              "<pre style=\"white-space:pre;overflow-x:auto;line-height:normal;font-family:Menlo,'DejaVu Sans Mono',consolas,'Courier New',monospace\">/usr/local/lib/python3.11/dist-packages/torchaudio/_backend/soundfile_backend.py:71: UserWarning: The \n",
              "MPEG_LAYER_III subtype is unknown to TorchAudio. As a result, the bits_per_sample attribute will be set to 0. If \n",
              "you are seeing this warning, please report by opening an issue on github (after checking for existing/closed ones).\n",
              "You may otherwise ignore this warning.\n",
              "  warnings.warn(\n",
              "</pre>\n"
            ]
          },
          "metadata": {}
        },
        {
          "output_type": "display_data",
          "data": {
            "text/plain": [
              "/usr/local/lib/python3.11/dist-packages/torchaudio/_backend/soundfile_backend.py:71: UserWarning: The \n",
              "MPEG_LAYER_III subtype is unknown to TorchAudio. As a result, the bits_per_sample attribute will be set to 0. If \n",
              "you are seeing this warning, please report by opening an issue on github (after checking for existing/closed ones).\n",
              "You may otherwise ignore this warning.\n",
              "  warnings.warn(\n"
            ],
            "text/html": [
              "<pre style=\"white-space:pre;overflow-x:auto;line-height:normal;font-family:Menlo,'DejaVu Sans Mono',consolas,'Courier New',monospace\">/usr/local/lib/python3.11/dist-packages/torchaudio/_backend/soundfile_backend.py:71: UserWarning: The \n",
              "MPEG_LAYER_III subtype is unknown to TorchAudio. As a result, the bits_per_sample attribute will be set to 0. If \n",
              "you are seeing this warning, please report by opening an issue on github (after checking for existing/closed ones).\n",
              "You may otherwise ignore this warning.\n",
              "  warnings.warn(\n",
              "</pre>\n"
            ]
          },
          "metadata": {}
        },
        {
          "output_type": "display_data",
          "data": {
            "text/plain": [
              "/usr/local/lib/python3.11/dist-packages/torchaudio/_backend/soundfile_backend.py:71: UserWarning: The \n",
              "MPEG_LAYER_III subtype is unknown to TorchAudio. As a result, the bits_per_sample attribute will be set to 0. If \n",
              "you are seeing this warning, please report by opening an issue on github (after checking for existing/closed ones).\n",
              "You may otherwise ignore this warning.\n",
              "  warnings.warn(\n"
            ],
            "text/html": [
              "<pre style=\"white-space:pre;overflow-x:auto;line-height:normal;font-family:Menlo,'DejaVu Sans Mono',consolas,'Courier New',monospace\">/usr/local/lib/python3.11/dist-packages/torchaudio/_backend/soundfile_backend.py:71: UserWarning: The \n",
              "MPEG_LAYER_III subtype is unknown to TorchAudio. As a result, the bits_per_sample attribute will be set to 0. If \n",
              "you are seeing this warning, please report by opening an issue on github (after checking for existing/closed ones).\n",
              "You may otherwise ignore this warning.\n",
              "  warnings.warn(\n",
              "</pre>\n"
            ]
          },
          "metadata": {}
        },
        {
          "output_type": "display_data",
          "data": {
            "text/plain": [
              "/usr/local/lib/python3.11/dist-packages/torchaudio/_backend/soundfile_backend.py:71: UserWarning: The \n",
              "MPEG_LAYER_III subtype is unknown to TorchAudio. As a result, the bits_per_sample attribute will be set to 0. If \n",
              "you are seeing this warning, please report by opening an issue on github (after checking for existing/closed ones).\n",
              "You may otherwise ignore this warning.\n",
              "  warnings.warn(\n"
            ],
            "text/html": [
              "<pre style=\"white-space:pre;overflow-x:auto;line-height:normal;font-family:Menlo,'DejaVu Sans Mono',consolas,'Courier New',monospace\">/usr/local/lib/python3.11/dist-packages/torchaudio/_backend/soundfile_backend.py:71: UserWarning: The \n",
              "MPEG_LAYER_III subtype is unknown to TorchAudio. As a result, the bits_per_sample attribute will be set to 0. If \n",
              "you are seeing this warning, please report by opening an issue on github (after checking for existing/closed ones).\n",
              "You may otherwise ignore this warning.\n",
              "  warnings.warn(\n",
              "</pre>\n"
            ]
          },
          "metadata": {}
        },
        {
          "output_type": "display_data",
          "data": {
            "text/plain": [
              "/usr/local/lib/python3.11/dist-packages/torchaudio/_backend/soundfile_backend.py:71: UserWarning: The \n",
              "MPEG_LAYER_III subtype is unknown to TorchAudio. As a result, the bits_per_sample attribute will be set to 0. If \n",
              "you are seeing this warning, please report by opening an issue on github (after checking for existing/closed ones).\n",
              "You may otherwise ignore this warning.\n",
              "  warnings.warn(\n"
            ],
            "text/html": [
              "<pre style=\"white-space:pre;overflow-x:auto;line-height:normal;font-family:Menlo,'DejaVu Sans Mono',consolas,'Courier New',monospace\">/usr/local/lib/python3.11/dist-packages/torchaudio/_backend/soundfile_backend.py:71: UserWarning: The \n",
              "MPEG_LAYER_III subtype is unknown to TorchAudio. As a result, the bits_per_sample attribute will be set to 0. If \n",
              "you are seeing this warning, please report by opening an issue on github (after checking for existing/closed ones).\n",
              "You may otherwise ignore this warning.\n",
              "  warnings.warn(\n",
              "</pre>\n"
            ]
          },
          "metadata": {}
        },
        {
          "output_type": "display_data",
          "data": {
            "text/plain": [
              "/usr/local/lib/python3.11/dist-packages/torchaudio/_backend/soundfile_backend.py:71: UserWarning: The \n",
              "MPEG_LAYER_III subtype is unknown to TorchAudio. As a result, the bits_per_sample attribute will be set to 0. If \n",
              "you are seeing this warning, please report by opening an issue on github (after checking for existing/closed ones).\n",
              "You may otherwise ignore this warning.\n",
              "  warnings.warn(\n"
            ],
            "text/html": [
              "<pre style=\"white-space:pre;overflow-x:auto;line-height:normal;font-family:Menlo,'DejaVu Sans Mono',consolas,'Courier New',monospace\">/usr/local/lib/python3.11/dist-packages/torchaudio/_backend/soundfile_backend.py:71: UserWarning: The \n",
              "MPEG_LAYER_III subtype is unknown to TorchAudio. As a result, the bits_per_sample attribute will be set to 0. If \n",
              "you are seeing this warning, please report by opening an issue on github (after checking for existing/closed ones).\n",
              "You may otherwise ignore this warning.\n",
              "  warnings.warn(\n",
              "</pre>\n"
            ]
          },
          "metadata": {}
        },
        {
          "output_type": "display_data",
          "data": {
            "text/plain": [
              "/usr/local/lib/python3.11/dist-packages/torchaudio/_backend/soundfile_backend.py:71: UserWarning: The \n",
              "MPEG_LAYER_III subtype is unknown to TorchAudio. As a result, the bits_per_sample attribute will be set to 0. If \n",
              "you are seeing this warning, please report by opening an issue on github (after checking for existing/closed ones).\n",
              "You may otherwise ignore this warning.\n",
              "  warnings.warn(\n"
            ],
            "text/html": [
              "<pre style=\"white-space:pre;overflow-x:auto;line-height:normal;font-family:Menlo,'DejaVu Sans Mono',consolas,'Courier New',monospace\">/usr/local/lib/python3.11/dist-packages/torchaudio/_backend/soundfile_backend.py:71: UserWarning: The \n",
              "MPEG_LAYER_III subtype is unknown to TorchAudio. As a result, the bits_per_sample attribute will be set to 0. If \n",
              "you are seeing this warning, please report by opening an issue on github (after checking for existing/closed ones).\n",
              "You may otherwise ignore this warning.\n",
              "  warnings.warn(\n",
              "</pre>\n"
            ]
          },
          "metadata": {}
        },
        {
          "output_type": "display_data",
          "data": {
            "text/plain": [
              "/usr/local/lib/python3.11/dist-packages/torchaudio/_backend/soundfile_backend.py:71: UserWarning: The \n",
              "MPEG_LAYER_III subtype is unknown to TorchAudio. As a result, the bits_per_sample attribute will be set to 0. If \n",
              "you are seeing this warning, please report by opening an issue on github (after checking for existing/closed ones).\n",
              "You may otherwise ignore this warning.\n",
              "  warnings.warn(\n"
            ],
            "text/html": [
              "<pre style=\"white-space:pre;overflow-x:auto;line-height:normal;font-family:Menlo,'DejaVu Sans Mono',consolas,'Courier New',monospace\">/usr/local/lib/python3.11/dist-packages/torchaudio/_backend/soundfile_backend.py:71: UserWarning: The \n",
              "MPEG_LAYER_III subtype is unknown to TorchAudio. As a result, the bits_per_sample attribute will be set to 0. If \n",
              "you are seeing this warning, please report by opening an issue on github (after checking for existing/closed ones).\n",
              "You may otherwise ignore this warning.\n",
              "  warnings.warn(\n",
              "</pre>\n"
            ]
          },
          "metadata": {}
        },
        {
          "output_type": "display_data",
          "data": {
            "text/plain": [
              "/usr/local/lib/python3.11/dist-packages/torchaudio/_backend/soundfile_backend.py:71: UserWarning: The \n",
              "MPEG_LAYER_III subtype is unknown to TorchAudio. As a result, the bits_per_sample attribute will be set to 0. If \n",
              "you are seeing this warning, please report by opening an issue on github (after checking for existing/closed ones).\n",
              "You may otherwise ignore this warning.\n",
              "  warnings.warn(\n"
            ],
            "text/html": [
              "<pre style=\"white-space:pre;overflow-x:auto;line-height:normal;font-family:Menlo,'DejaVu Sans Mono',consolas,'Courier New',monospace\">/usr/local/lib/python3.11/dist-packages/torchaudio/_backend/soundfile_backend.py:71: UserWarning: The \n",
              "MPEG_LAYER_III subtype is unknown to TorchAudio. As a result, the bits_per_sample attribute will be set to 0. If \n",
              "you are seeing this warning, please report by opening an issue on github (after checking for existing/closed ones).\n",
              "You may otherwise ignore this warning.\n",
              "  warnings.warn(\n",
              "</pre>\n"
            ]
          },
          "metadata": {}
        },
        {
          "output_type": "display_data",
          "data": {
            "text/plain": [
              "/usr/local/lib/python3.11/dist-packages/torchaudio/_backend/soundfile_backend.py:71: UserWarning: The \n",
              "MPEG_LAYER_III subtype is unknown to TorchAudio. As a result, the bits_per_sample attribute will be set to 0. If \n",
              "you are seeing this warning, please report by opening an issue on github (after checking for existing/closed ones).\n",
              "You may otherwise ignore this warning.\n",
              "  warnings.warn(\n"
            ],
            "text/html": [
              "<pre style=\"white-space:pre;overflow-x:auto;line-height:normal;font-family:Menlo,'DejaVu Sans Mono',consolas,'Courier New',monospace\">/usr/local/lib/python3.11/dist-packages/torchaudio/_backend/soundfile_backend.py:71: UserWarning: The \n",
              "MPEG_LAYER_III subtype is unknown to TorchAudio. As a result, the bits_per_sample attribute will be set to 0. If \n",
              "you are seeing this warning, please report by opening an issue on github (after checking for existing/closed ones).\n",
              "You may otherwise ignore this warning.\n",
              "  warnings.warn(\n",
              "</pre>\n"
            ]
          },
          "metadata": {}
        },
        {
          "output_type": "display_data",
          "data": {
            "text/plain": [
              "/usr/local/lib/python3.11/dist-packages/torchaudio/_backend/soundfile_backend.py:71: UserWarning: The \n",
              "MPEG_LAYER_III subtype is unknown to TorchAudio. As a result, the bits_per_sample attribute will be set to 0. If \n",
              "you are seeing this warning, please report by opening an issue on github (after checking for existing/closed ones).\n",
              "You may otherwise ignore this warning.\n",
              "  warnings.warn(\n"
            ],
            "text/html": [
              "<pre style=\"white-space:pre;overflow-x:auto;line-height:normal;font-family:Menlo,'DejaVu Sans Mono',consolas,'Courier New',monospace\">/usr/local/lib/python3.11/dist-packages/torchaudio/_backend/soundfile_backend.py:71: UserWarning: The \n",
              "MPEG_LAYER_III subtype is unknown to TorchAudio. As a result, the bits_per_sample attribute will be set to 0. If \n",
              "you are seeing this warning, please report by opening an issue on github (after checking for existing/closed ones).\n",
              "You may otherwise ignore this warning.\n",
              "  warnings.warn(\n",
              "</pre>\n"
            ]
          },
          "metadata": {}
        },
        {
          "output_type": "display_data",
          "data": {
            "text/plain": [
              "/usr/local/lib/python3.11/dist-packages/torchaudio/_backend/soundfile_backend.py:71: UserWarning: The \n",
              "MPEG_LAYER_III subtype is unknown to TorchAudio. As a result, the bits_per_sample attribute will be set to 0. If \n",
              "you are seeing this warning, please report by opening an issue on github (after checking for existing/closed ones).\n",
              "You may otherwise ignore this warning.\n",
              "  warnings.warn(\n"
            ],
            "text/html": [
              "<pre style=\"white-space:pre;overflow-x:auto;line-height:normal;font-family:Menlo,'DejaVu Sans Mono',consolas,'Courier New',monospace\">/usr/local/lib/python3.11/dist-packages/torchaudio/_backend/soundfile_backend.py:71: UserWarning: The \n",
              "MPEG_LAYER_III subtype is unknown to TorchAudio. As a result, the bits_per_sample attribute will be set to 0. If \n",
              "you are seeing this warning, please report by opening an issue on github (after checking for existing/closed ones).\n",
              "You may otherwise ignore this warning.\n",
              "  warnings.warn(\n",
              "</pre>\n"
            ]
          },
          "metadata": {}
        },
        {
          "output_type": "display_data",
          "data": {
            "text/plain": [
              "/usr/local/lib/python3.11/dist-packages/torchaudio/_backend/soundfile_backend.py:71: UserWarning: The \n",
              "MPEG_LAYER_III subtype is unknown to TorchAudio. As a result, the bits_per_sample attribute will be set to 0. If \n",
              "you are seeing this warning, please report by opening an issue on github (after checking for existing/closed ones).\n",
              "You may otherwise ignore this warning.\n",
              "  warnings.warn(\n"
            ],
            "text/html": [
              "<pre style=\"white-space:pre;overflow-x:auto;line-height:normal;font-family:Menlo,'DejaVu Sans Mono',consolas,'Courier New',monospace\">/usr/local/lib/python3.11/dist-packages/torchaudio/_backend/soundfile_backend.py:71: UserWarning: The \n",
              "MPEG_LAYER_III subtype is unknown to TorchAudio. As a result, the bits_per_sample attribute will be set to 0. If \n",
              "you are seeing this warning, please report by opening an issue on github (after checking for existing/closed ones).\n",
              "You may otherwise ignore this warning.\n",
              "  warnings.warn(\n",
              "</pre>\n"
            ]
          },
          "metadata": {}
        },
        {
          "output_type": "display_data",
          "data": {
            "text/plain": [
              "/usr/local/lib/python3.11/dist-packages/torchaudio/_backend/soundfile_backend.py:71: UserWarning: The \n",
              "MPEG_LAYER_III subtype is unknown to TorchAudio. As a result, the bits_per_sample attribute will be set to 0. If \n",
              "you are seeing this warning, please report by opening an issue on github (after checking for existing/closed ones).\n",
              "You may otherwise ignore this warning.\n",
              "  warnings.warn(\n"
            ],
            "text/html": [
              "<pre style=\"white-space:pre;overflow-x:auto;line-height:normal;font-family:Menlo,'DejaVu Sans Mono',consolas,'Courier New',monospace\">/usr/local/lib/python3.11/dist-packages/torchaudio/_backend/soundfile_backend.py:71: UserWarning: The \n",
              "MPEG_LAYER_III subtype is unknown to TorchAudio. As a result, the bits_per_sample attribute will be set to 0. If \n",
              "you are seeing this warning, please report by opening an issue on github (after checking for existing/closed ones).\n",
              "You may otherwise ignore this warning.\n",
              "  warnings.warn(\n",
              "</pre>\n"
            ]
          },
          "metadata": {}
        },
        {
          "output_type": "display_data",
          "data": {
            "text/plain": [
              "/usr/local/lib/python3.11/dist-packages/torchaudio/_backend/soundfile_backend.py:71: UserWarning: The \n",
              "MPEG_LAYER_III subtype is unknown to TorchAudio. As a result, the bits_per_sample attribute will be set to 0. If \n",
              "you are seeing this warning, please report by opening an issue on github (after checking for existing/closed ones).\n",
              "You may otherwise ignore this warning.\n",
              "  warnings.warn(\n"
            ],
            "text/html": [
              "<pre style=\"white-space:pre;overflow-x:auto;line-height:normal;font-family:Menlo,'DejaVu Sans Mono',consolas,'Courier New',monospace\">/usr/local/lib/python3.11/dist-packages/torchaudio/_backend/soundfile_backend.py:71: UserWarning: The \n",
              "MPEG_LAYER_III subtype is unknown to TorchAudio. As a result, the bits_per_sample attribute will be set to 0. If \n",
              "you are seeing this warning, please report by opening an issue on github (after checking for existing/closed ones).\n",
              "You may otherwise ignore this warning.\n",
              "  warnings.warn(\n",
              "</pre>\n"
            ]
          },
          "metadata": {}
        },
        {
          "output_type": "display_data",
          "data": {
            "text/plain": [
              "/usr/local/lib/python3.11/dist-packages/torchaudio/_backend/soundfile_backend.py:71: UserWarning: The \n",
              "MPEG_LAYER_III subtype is unknown to TorchAudio. As a result, the bits_per_sample attribute will be set to 0. If \n",
              "you are seeing this warning, please report by opening an issue on github (after checking for existing/closed ones).\n",
              "You may otherwise ignore this warning.\n",
              "  warnings.warn(\n"
            ],
            "text/html": [
              "<pre style=\"white-space:pre;overflow-x:auto;line-height:normal;font-family:Menlo,'DejaVu Sans Mono',consolas,'Courier New',monospace\">/usr/local/lib/python3.11/dist-packages/torchaudio/_backend/soundfile_backend.py:71: UserWarning: The \n",
              "MPEG_LAYER_III subtype is unknown to TorchAudio. As a result, the bits_per_sample attribute will be set to 0. If \n",
              "you are seeing this warning, please report by opening an issue on github (after checking for existing/closed ones).\n",
              "You may otherwise ignore this warning.\n",
              "  warnings.warn(\n",
              "</pre>\n"
            ]
          },
          "metadata": {}
        },
        {
          "output_type": "display_data",
          "data": {
            "text/plain": [
              "/usr/local/lib/python3.11/dist-packages/torchaudio/_backend/soundfile_backend.py:71: UserWarning: The \n",
              "MPEG_LAYER_III subtype is unknown to TorchAudio. As a result, the bits_per_sample attribute will be set to 0. If \n",
              "you are seeing this warning, please report by opening an issue on github (after checking for existing/closed ones).\n",
              "You may otherwise ignore this warning.\n",
              "  warnings.warn(\n"
            ],
            "text/html": [
              "<pre style=\"white-space:pre;overflow-x:auto;line-height:normal;font-family:Menlo,'DejaVu Sans Mono',consolas,'Courier New',monospace\">/usr/local/lib/python3.11/dist-packages/torchaudio/_backend/soundfile_backend.py:71: UserWarning: The \n",
              "MPEG_LAYER_III subtype is unknown to TorchAudio. As a result, the bits_per_sample attribute will be set to 0. If \n",
              "you are seeing this warning, please report by opening an issue on github (after checking for existing/closed ones).\n",
              "You may otherwise ignore this warning.\n",
              "  warnings.warn(\n",
              "</pre>\n"
            ]
          },
          "metadata": {}
        },
        {
          "output_type": "display_data",
          "data": {
            "text/plain": [
              "/usr/local/lib/python3.11/dist-packages/torchaudio/_backend/soundfile_backend.py:71: UserWarning: The \n",
              "MPEG_LAYER_III subtype is unknown to TorchAudio. As a result, the bits_per_sample attribute will be set to 0. If \n",
              "you are seeing this warning, please report by opening an issue on github (after checking for existing/closed ones).\n",
              "You may otherwise ignore this warning.\n",
              "  warnings.warn(\n"
            ],
            "text/html": [
              "<pre style=\"white-space:pre;overflow-x:auto;line-height:normal;font-family:Menlo,'DejaVu Sans Mono',consolas,'Courier New',monospace\">/usr/local/lib/python3.11/dist-packages/torchaudio/_backend/soundfile_backend.py:71: UserWarning: The \n",
              "MPEG_LAYER_III subtype is unknown to TorchAudio. As a result, the bits_per_sample attribute will be set to 0. If \n",
              "you are seeing this warning, please report by opening an issue on github (after checking for existing/closed ones).\n",
              "You may otherwise ignore this warning.\n",
              "  warnings.warn(\n",
              "</pre>\n"
            ]
          },
          "metadata": {}
        },
        {
          "output_type": "display_data",
          "data": {
            "text/plain": [
              "/usr/local/lib/python3.11/dist-packages/torchaudio/_backend/soundfile_backend.py:71: UserWarning: The \n",
              "MPEG_LAYER_III subtype is unknown to TorchAudio. As a result, the bits_per_sample attribute will be set to 0. If \n",
              "you are seeing this warning, please report by opening an issue on github (after checking for existing/closed ones).\n",
              "You may otherwise ignore this warning.\n",
              "  warnings.warn(\n"
            ],
            "text/html": [
              "<pre style=\"white-space:pre;overflow-x:auto;line-height:normal;font-family:Menlo,'DejaVu Sans Mono',consolas,'Courier New',monospace\">/usr/local/lib/python3.11/dist-packages/torchaudio/_backend/soundfile_backend.py:71: UserWarning: The \n",
              "MPEG_LAYER_III subtype is unknown to TorchAudio. As a result, the bits_per_sample attribute will be set to 0. If \n",
              "you are seeing this warning, please report by opening an issue on github (after checking for existing/closed ones).\n",
              "You may otherwise ignore this warning.\n",
              "  warnings.warn(\n",
              "</pre>\n"
            ]
          },
          "metadata": {}
        },
        {
          "output_type": "display_data",
          "data": {
            "text/plain": [
              "/usr/local/lib/python3.11/dist-packages/torchaudio/_backend/soundfile_backend.py:71: UserWarning: The \n",
              "MPEG_LAYER_III subtype is unknown to TorchAudio. As a result, the bits_per_sample attribute will be set to 0. If \n",
              "you are seeing this warning, please report by opening an issue on github (after checking for existing/closed ones).\n",
              "You may otherwise ignore this warning.\n",
              "  warnings.warn(\n"
            ],
            "text/html": [
              "<pre style=\"white-space:pre;overflow-x:auto;line-height:normal;font-family:Menlo,'DejaVu Sans Mono',consolas,'Courier New',monospace\">/usr/local/lib/python3.11/dist-packages/torchaudio/_backend/soundfile_backend.py:71: UserWarning: The \n",
              "MPEG_LAYER_III subtype is unknown to TorchAudio. As a result, the bits_per_sample attribute will be set to 0. If \n",
              "you are seeing this warning, please report by opening an issue on github (after checking for existing/closed ones).\n",
              "You may otherwise ignore this warning.\n",
              "  warnings.warn(\n",
              "</pre>\n"
            ]
          },
          "metadata": {}
        },
        {
          "output_type": "display_data",
          "data": {
            "text/plain": [
              "/usr/local/lib/python3.11/dist-packages/torchaudio/_backend/soundfile_backend.py:71: UserWarning: The \n",
              "MPEG_LAYER_III subtype is unknown to TorchAudio. As a result, the bits_per_sample attribute will be set to 0. If \n",
              "you are seeing this warning, please report by opening an issue on github (after checking for existing/closed ones).\n",
              "You may otherwise ignore this warning.\n",
              "  warnings.warn(\n"
            ],
            "text/html": [
              "<pre style=\"white-space:pre;overflow-x:auto;line-height:normal;font-family:Menlo,'DejaVu Sans Mono',consolas,'Courier New',monospace\">/usr/local/lib/python3.11/dist-packages/torchaudio/_backend/soundfile_backend.py:71: UserWarning: The \n",
              "MPEG_LAYER_III subtype is unknown to TorchAudio. As a result, the bits_per_sample attribute will be set to 0. If \n",
              "you are seeing this warning, please report by opening an issue on github (after checking for existing/closed ones).\n",
              "You may otherwise ignore this warning.\n",
              "  warnings.warn(\n",
              "</pre>\n"
            ]
          },
          "metadata": {}
        },
        {
          "output_type": "display_data",
          "data": {
            "text/plain": [
              "/usr/local/lib/python3.11/dist-packages/torchaudio/_backend/soundfile_backend.py:71: UserWarning: The \n",
              "MPEG_LAYER_III subtype is unknown to TorchAudio. As a result, the bits_per_sample attribute will be set to 0. If \n",
              "you are seeing this warning, please report by opening an issue on github (after checking for existing/closed ones).\n",
              "You may otherwise ignore this warning.\n",
              "  warnings.warn(\n"
            ],
            "text/html": [
              "<pre style=\"white-space:pre;overflow-x:auto;line-height:normal;font-family:Menlo,'DejaVu Sans Mono',consolas,'Courier New',monospace\">/usr/local/lib/python3.11/dist-packages/torchaudio/_backend/soundfile_backend.py:71: UserWarning: The \n",
              "MPEG_LAYER_III subtype is unknown to TorchAudio. As a result, the bits_per_sample attribute will be set to 0. If \n",
              "you are seeing this warning, please report by opening an issue on github (after checking for existing/closed ones).\n",
              "You may otherwise ignore this warning.\n",
              "  warnings.warn(\n",
              "</pre>\n"
            ]
          },
          "metadata": {}
        },
        {
          "output_type": "display_data",
          "data": {
            "text/plain": [
              "/usr/local/lib/python3.11/dist-packages/torchaudio/_backend/soundfile_backend.py:71: UserWarning: The \n",
              "MPEG_LAYER_III subtype is unknown to TorchAudio. As a result, the bits_per_sample attribute will be set to 0. If \n",
              "you are seeing this warning, please report by opening an issue on github (after checking for existing/closed ones).\n",
              "You may otherwise ignore this warning.\n",
              "  warnings.warn(\n"
            ],
            "text/html": [
              "<pre style=\"white-space:pre;overflow-x:auto;line-height:normal;font-family:Menlo,'DejaVu Sans Mono',consolas,'Courier New',monospace\">/usr/local/lib/python3.11/dist-packages/torchaudio/_backend/soundfile_backend.py:71: UserWarning: The \n",
              "MPEG_LAYER_III subtype is unknown to TorchAudio. As a result, the bits_per_sample attribute will be set to 0. If \n",
              "you are seeing this warning, please report by opening an issue on github (after checking for existing/closed ones).\n",
              "You may otherwise ignore this warning.\n",
              "  warnings.warn(\n",
              "</pre>\n"
            ]
          },
          "metadata": {}
        },
        {
          "output_type": "display_data",
          "data": {
            "text/plain": [
              "/usr/local/lib/python3.11/dist-packages/torchaudio/_backend/soundfile_backend.py:71: UserWarning: The \n",
              "MPEG_LAYER_III subtype is unknown to TorchAudio. As a result, the bits_per_sample attribute will be set to 0. If \n",
              "you are seeing this warning, please report by opening an issue on github (after checking for existing/closed ones).\n",
              "You may otherwise ignore this warning.\n",
              "  warnings.warn(\n"
            ],
            "text/html": [
              "<pre style=\"white-space:pre;overflow-x:auto;line-height:normal;font-family:Menlo,'DejaVu Sans Mono',consolas,'Courier New',monospace\">/usr/local/lib/python3.11/dist-packages/torchaudio/_backend/soundfile_backend.py:71: UserWarning: The \n",
              "MPEG_LAYER_III subtype is unknown to TorchAudio. As a result, the bits_per_sample attribute will be set to 0. If \n",
              "you are seeing this warning, please report by opening an issue on github (after checking for existing/closed ones).\n",
              "You may otherwise ignore this warning.\n",
              "  warnings.warn(\n",
              "</pre>\n"
            ]
          },
          "metadata": {}
        },
        {
          "output_type": "display_data",
          "data": {
            "text/plain": [
              "/usr/local/lib/python3.11/dist-packages/torchaudio/_backend/soundfile_backend.py:71: UserWarning: The \n",
              "MPEG_LAYER_III subtype is unknown to TorchAudio. As a result, the bits_per_sample attribute will be set to 0. If \n",
              "you are seeing this warning, please report by opening an issue on github (after checking for existing/closed ones).\n",
              "You may otherwise ignore this warning.\n",
              "  warnings.warn(\n"
            ],
            "text/html": [
              "<pre style=\"white-space:pre;overflow-x:auto;line-height:normal;font-family:Menlo,'DejaVu Sans Mono',consolas,'Courier New',monospace\">/usr/local/lib/python3.11/dist-packages/torchaudio/_backend/soundfile_backend.py:71: UserWarning: The \n",
              "MPEG_LAYER_III subtype is unknown to TorchAudio. As a result, the bits_per_sample attribute will be set to 0. If \n",
              "you are seeing this warning, please report by opening an issue on github (after checking for existing/closed ones).\n",
              "You may otherwise ignore this warning.\n",
              "  warnings.warn(\n",
              "</pre>\n"
            ]
          },
          "metadata": {}
        },
        {
          "output_type": "display_data",
          "data": {
            "text/plain": [
              "/usr/local/lib/python3.11/dist-packages/torchaudio/_backend/soundfile_backend.py:71: UserWarning: The \n",
              "MPEG_LAYER_III subtype is unknown to TorchAudio. As a result, the bits_per_sample attribute will be set to 0. If \n",
              "you are seeing this warning, please report by opening an issue on github (after checking for existing/closed ones).\n",
              "You may otherwise ignore this warning.\n",
              "  warnings.warn(\n"
            ],
            "text/html": [
              "<pre style=\"white-space:pre;overflow-x:auto;line-height:normal;font-family:Menlo,'DejaVu Sans Mono',consolas,'Courier New',monospace\">/usr/local/lib/python3.11/dist-packages/torchaudio/_backend/soundfile_backend.py:71: UserWarning: The \n",
              "MPEG_LAYER_III subtype is unknown to TorchAudio. As a result, the bits_per_sample attribute will be set to 0. If \n",
              "you are seeing this warning, please report by opening an issue on github (after checking for existing/closed ones).\n",
              "You may otherwise ignore this warning.\n",
              "  warnings.warn(\n",
              "</pre>\n"
            ]
          },
          "metadata": {}
        },
        {
          "output_type": "display_data",
          "data": {
            "text/plain": [
              "/usr/local/lib/python3.11/dist-packages/torchaudio/_backend/soundfile_backend.py:71: UserWarning: The \n",
              "MPEG_LAYER_III subtype is unknown to TorchAudio. As a result, the bits_per_sample attribute will be set to 0. If \n",
              "you are seeing this warning, please report by opening an issue on github (after checking for existing/closed ones).\n",
              "You may otherwise ignore this warning.\n",
              "  warnings.warn(\n"
            ],
            "text/html": [
              "<pre style=\"white-space:pre;overflow-x:auto;line-height:normal;font-family:Menlo,'DejaVu Sans Mono',consolas,'Courier New',monospace\">/usr/local/lib/python3.11/dist-packages/torchaudio/_backend/soundfile_backend.py:71: UserWarning: The \n",
              "MPEG_LAYER_III subtype is unknown to TorchAudio. As a result, the bits_per_sample attribute will be set to 0. If \n",
              "you are seeing this warning, please report by opening an issue on github (after checking for existing/closed ones).\n",
              "You may otherwise ignore this warning.\n",
              "  warnings.warn(\n",
              "</pre>\n"
            ]
          },
          "metadata": {}
        },
        {
          "output_type": "display_data",
          "data": {
            "text/plain": [
              "/usr/local/lib/python3.11/dist-packages/torchaudio/_backend/soundfile_backend.py:71: UserWarning: The \n",
              "MPEG_LAYER_III subtype is unknown to TorchAudio. As a result, the bits_per_sample attribute will be set to 0. If \n",
              "you are seeing this warning, please report by opening an issue on github (after checking for existing/closed ones).\n",
              "You may otherwise ignore this warning.\n",
              "  warnings.warn(\n"
            ],
            "text/html": [
              "<pre style=\"white-space:pre;overflow-x:auto;line-height:normal;font-family:Menlo,'DejaVu Sans Mono',consolas,'Courier New',monospace\">/usr/local/lib/python3.11/dist-packages/torchaudio/_backend/soundfile_backend.py:71: UserWarning: The \n",
              "MPEG_LAYER_III subtype is unknown to TorchAudio. As a result, the bits_per_sample attribute will be set to 0. If \n",
              "you are seeing this warning, please report by opening an issue on github (after checking for existing/closed ones).\n",
              "You may otherwise ignore this warning.\n",
              "  warnings.warn(\n",
              "</pre>\n"
            ]
          },
          "metadata": {}
        },
        {
          "output_type": "display_data",
          "data": {
            "text/plain": [
              "/usr/local/lib/python3.11/dist-packages/torchaudio/_backend/soundfile_backend.py:71: UserWarning: The \n",
              "MPEG_LAYER_III subtype is unknown to TorchAudio. As a result, the bits_per_sample attribute will be set to 0. If \n",
              "you are seeing this warning, please report by opening an issue on github (after checking for existing/closed ones).\n",
              "You may otherwise ignore this warning.\n",
              "  warnings.warn(\n"
            ],
            "text/html": [
              "<pre style=\"white-space:pre;overflow-x:auto;line-height:normal;font-family:Menlo,'DejaVu Sans Mono',consolas,'Courier New',monospace\">/usr/local/lib/python3.11/dist-packages/torchaudio/_backend/soundfile_backend.py:71: UserWarning: The \n",
              "MPEG_LAYER_III subtype is unknown to TorchAudio. As a result, the bits_per_sample attribute will be set to 0. If \n",
              "you are seeing this warning, please report by opening an issue on github (after checking for existing/closed ones).\n",
              "You may otherwise ignore this warning.\n",
              "  warnings.warn(\n",
              "</pre>\n"
            ]
          },
          "metadata": {}
        },
        {
          "output_type": "display_data",
          "data": {
            "text/plain": [
              "/usr/local/lib/python3.11/dist-packages/torchaudio/_backend/soundfile_backend.py:71: UserWarning: The \n",
              "MPEG_LAYER_III subtype is unknown to TorchAudio. As a result, the bits_per_sample attribute will be set to 0. If \n",
              "you are seeing this warning, please report by opening an issue on github (after checking for existing/closed ones).\n",
              "You may otherwise ignore this warning.\n",
              "  warnings.warn(\n"
            ],
            "text/html": [
              "<pre style=\"white-space:pre;overflow-x:auto;line-height:normal;font-family:Menlo,'DejaVu Sans Mono',consolas,'Courier New',monospace\">/usr/local/lib/python3.11/dist-packages/torchaudio/_backend/soundfile_backend.py:71: UserWarning: The \n",
              "MPEG_LAYER_III subtype is unknown to TorchAudio. As a result, the bits_per_sample attribute will be set to 0. If \n",
              "you are seeing this warning, please report by opening an issue on github (after checking for existing/closed ones).\n",
              "You may otherwise ignore this warning.\n",
              "  warnings.warn(\n",
              "</pre>\n"
            ]
          },
          "metadata": {}
        },
        {
          "output_type": "display_data",
          "data": {
            "text/plain": [
              "/usr/local/lib/python3.11/dist-packages/torchaudio/_backend/soundfile_backend.py:71: UserWarning: The \n",
              "MPEG_LAYER_III subtype is unknown to TorchAudio. As a result, the bits_per_sample attribute will be set to 0. If \n",
              "you are seeing this warning, please report by opening an issue on github (after checking for existing/closed ones).\n",
              "You may otherwise ignore this warning.\n",
              "  warnings.warn(\n"
            ],
            "text/html": [
              "<pre style=\"white-space:pre;overflow-x:auto;line-height:normal;font-family:Menlo,'DejaVu Sans Mono',consolas,'Courier New',monospace\">/usr/local/lib/python3.11/dist-packages/torchaudio/_backend/soundfile_backend.py:71: UserWarning: The \n",
              "MPEG_LAYER_III subtype is unknown to TorchAudio. As a result, the bits_per_sample attribute will be set to 0. If \n",
              "you are seeing this warning, please report by opening an issue on github (after checking for existing/closed ones).\n",
              "You may otherwise ignore this warning.\n",
              "  warnings.warn(\n",
              "</pre>\n"
            ]
          },
          "metadata": {}
        },
        {
          "output_type": "display_data",
          "data": {
            "text/plain": [
              "/usr/local/lib/python3.11/dist-packages/torchaudio/_backend/soundfile_backend.py:71: UserWarning: The \n",
              "MPEG_LAYER_III subtype is unknown to TorchAudio. As a result, the bits_per_sample attribute will be set to 0. If \n",
              "you are seeing this warning, please report by opening an issue on github (after checking for existing/closed ones).\n",
              "You may otherwise ignore this warning.\n",
              "  warnings.warn(\n"
            ],
            "text/html": [
              "<pre style=\"white-space:pre;overflow-x:auto;line-height:normal;font-family:Menlo,'DejaVu Sans Mono',consolas,'Courier New',monospace\">/usr/local/lib/python3.11/dist-packages/torchaudio/_backend/soundfile_backend.py:71: UserWarning: The \n",
              "MPEG_LAYER_III subtype is unknown to TorchAudio. As a result, the bits_per_sample attribute will be set to 0. If \n",
              "you are seeing this warning, please report by opening an issue on github (after checking for existing/closed ones).\n",
              "You may otherwise ignore this warning.\n",
              "  warnings.warn(\n",
              "</pre>\n"
            ]
          },
          "metadata": {}
        },
        {
          "output_type": "display_data",
          "data": {
            "text/plain": [
              "/usr/local/lib/python3.11/dist-packages/torchaudio/_backend/soundfile_backend.py:71: UserWarning: The \n",
              "MPEG_LAYER_III subtype is unknown to TorchAudio. As a result, the bits_per_sample attribute will be set to 0. If \n",
              "you are seeing this warning, please report by opening an issue on github (after checking for existing/closed ones).\n",
              "You may otherwise ignore this warning.\n",
              "  warnings.warn(\n"
            ],
            "text/html": [
              "<pre style=\"white-space:pre;overflow-x:auto;line-height:normal;font-family:Menlo,'DejaVu Sans Mono',consolas,'Courier New',monospace\">/usr/local/lib/python3.11/dist-packages/torchaudio/_backend/soundfile_backend.py:71: UserWarning: The \n",
              "MPEG_LAYER_III subtype is unknown to TorchAudio. As a result, the bits_per_sample attribute will be set to 0. If \n",
              "you are seeing this warning, please report by opening an issue on github (after checking for existing/closed ones).\n",
              "You may otherwise ignore this warning.\n",
              "  warnings.warn(\n",
              "</pre>\n"
            ]
          },
          "metadata": {}
        },
        {
          "output_type": "display_data",
          "data": {
            "text/plain": [
              "/usr/local/lib/python3.11/dist-packages/torchaudio/_backend/soundfile_backend.py:71: UserWarning: The \n",
              "MPEG_LAYER_III subtype is unknown to TorchAudio. As a result, the bits_per_sample attribute will be set to 0. If \n",
              "you are seeing this warning, please report by opening an issue on github (after checking for existing/closed ones).\n",
              "You may otherwise ignore this warning.\n",
              "  warnings.warn(\n"
            ],
            "text/html": [
              "<pre style=\"white-space:pre;overflow-x:auto;line-height:normal;font-family:Menlo,'DejaVu Sans Mono',consolas,'Courier New',monospace\">/usr/local/lib/python3.11/dist-packages/torchaudio/_backend/soundfile_backend.py:71: UserWarning: The \n",
              "MPEG_LAYER_III subtype is unknown to TorchAudio. As a result, the bits_per_sample attribute will be set to 0. If \n",
              "you are seeing this warning, please report by opening an issue on github (after checking for existing/closed ones).\n",
              "You may otherwise ignore this warning.\n",
              "  warnings.warn(\n",
              "</pre>\n"
            ]
          },
          "metadata": {}
        },
        {
          "output_type": "display_data",
          "data": {
            "text/plain": [
              "/usr/local/lib/python3.11/dist-packages/torchaudio/_backend/soundfile_backend.py:71: UserWarning: The \n",
              "MPEG_LAYER_III subtype is unknown to TorchAudio. As a result, the bits_per_sample attribute will be set to 0. If \n",
              "you are seeing this warning, please report by opening an issue on github (after checking for existing/closed ones).\n",
              "You may otherwise ignore this warning.\n",
              "  warnings.warn(\n"
            ],
            "text/html": [
              "<pre style=\"white-space:pre;overflow-x:auto;line-height:normal;font-family:Menlo,'DejaVu Sans Mono',consolas,'Courier New',monospace\">/usr/local/lib/python3.11/dist-packages/torchaudio/_backend/soundfile_backend.py:71: UserWarning: The \n",
              "MPEG_LAYER_III subtype is unknown to TorchAudio. As a result, the bits_per_sample attribute will be set to 0. If \n",
              "you are seeing this warning, please report by opening an issue on github (after checking for existing/closed ones).\n",
              "You may otherwise ignore this warning.\n",
              "  warnings.warn(\n",
              "</pre>\n"
            ]
          },
          "metadata": {}
        },
        {
          "output_type": "display_data",
          "data": {
            "text/plain": [
              "/usr/local/lib/python3.11/dist-packages/torchaudio/_backend/soundfile_backend.py:71: UserWarning: The \n",
              "MPEG_LAYER_III subtype is unknown to TorchAudio. As a result, the bits_per_sample attribute will be set to 0. If \n",
              "you are seeing this warning, please report by opening an issue on github (after checking for existing/closed ones).\n",
              "You may otherwise ignore this warning.\n",
              "  warnings.warn(\n"
            ],
            "text/html": [
              "<pre style=\"white-space:pre;overflow-x:auto;line-height:normal;font-family:Menlo,'DejaVu Sans Mono',consolas,'Courier New',monospace\">/usr/local/lib/python3.11/dist-packages/torchaudio/_backend/soundfile_backend.py:71: UserWarning: The \n",
              "MPEG_LAYER_III subtype is unknown to TorchAudio. As a result, the bits_per_sample attribute will be set to 0. If \n",
              "you are seeing this warning, please report by opening an issue on github (after checking for existing/closed ones).\n",
              "You may otherwise ignore this warning.\n",
              "  warnings.warn(\n",
              "</pre>\n"
            ]
          },
          "metadata": {}
        },
        {
          "output_type": "display_data",
          "data": {
            "text/plain": [
              "/usr/local/lib/python3.11/dist-packages/torchaudio/_backend/soundfile_backend.py:71: UserWarning: The \n",
              "MPEG_LAYER_III subtype is unknown to TorchAudio. As a result, the bits_per_sample attribute will be set to 0. If \n",
              "you are seeing this warning, please report by opening an issue on github (after checking for existing/closed ones).\n",
              "You may otherwise ignore this warning.\n",
              "  warnings.warn(\n"
            ],
            "text/html": [
              "<pre style=\"white-space:pre;overflow-x:auto;line-height:normal;font-family:Menlo,'DejaVu Sans Mono',consolas,'Courier New',monospace\">/usr/local/lib/python3.11/dist-packages/torchaudio/_backend/soundfile_backend.py:71: UserWarning: The \n",
              "MPEG_LAYER_III subtype is unknown to TorchAudio. As a result, the bits_per_sample attribute will be set to 0. If \n",
              "you are seeing this warning, please report by opening an issue on github (after checking for existing/closed ones).\n",
              "You may otherwise ignore this warning.\n",
              "  warnings.warn(\n",
              "</pre>\n"
            ]
          },
          "metadata": {}
        },
        {
          "output_type": "display_data",
          "data": {
            "text/plain": [
              "/usr/local/lib/python3.11/dist-packages/torchaudio/_backend/soundfile_backend.py:71: UserWarning: The \n",
              "MPEG_LAYER_III subtype is unknown to TorchAudio. As a result, the bits_per_sample attribute will be set to 0. If \n",
              "you are seeing this warning, please report by opening an issue on github (after checking for existing/closed ones).\n",
              "You may otherwise ignore this warning.\n",
              "  warnings.warn(\n"
            ],
            "text/html": [
              "<pre style=\"white-space:pre;overflow-x:auto;line-height:normal;font-family:Menlo,'DejaVu Sans Mono',consolas,'Courier New',monospace\">/usr/local/lib/python3.11/dist-packages/torchaudio/_backend/soundfile_backend.py:71: UserWarning: The \n",
              "MPEG_LAYER_III subtype is unknown to TorchAudio. As a result, the bits_per_sample attribute will be set to 0. If \n",
              "you are seeing this warning, please report by opening an issue on github (after checking for existing/closed ones).\n",
              "You may otherwise ignore this warning.\n",
              "  warnings.warn(\n",
              "</pre>\n"
            ]
          },
          "metadata": {}
        },
        {
          "output_type": "display_data",
          "data": {
            "text/plain": [
              "/usr/local/lib/python3.11/dist-packages/torchaudio/_backend/soundfile_backend.py:71: UserWarning: The \n",
              "MPEG_LAYER_III subtype is unknown to TorchAudio. As a result, the bits_per_sample attribute will be set to 0. If \n",
              "you are seeing this warning, please report by opening an issue on github (after checking for existing/closed ones).\n",
              "You may otherwise ignore this warning.\n",
              "  warnings.warn(\n"
            ],
            "text/html": [
              "<pre style=\"white-space:pre;overflow-x:auto;line-height:normal;font-family:Menlo,'DejaVu Sans Mono',consolas,'Courier New',monospace\">/usr/local/lib/python3.11/dist-packages/torchaudio/_backend/soundfile_backend.py:71: UserWarning: The \n",
              "MPEG_LAYER_III subtype is unknown to TorchAudio. As a result, the bits_per_sample attribute will be set to 0. If \n",
              "you are seeing this warning, please report by opening an issue on github (after checking for existing/closed ones).\n",
              "You may otherwise ignore this warning.\n",
              "  warnings.warn(\n",
              "</pre>\n"
            ]
          },
          "metadata": {}
        },
        {
          "output_type": "display_data",
          "data": {
            "text/plain": [
              "/usr/local/lib/python3.11/dist-packages/torchaudio/_backend/soundfile_backend.py:71: UserWarning: The \n",
              "MPEG_LAYER_III subtype is unknown to TorchAudio. As a result, the bits_per_sample attribute will be set to 0. If \n",
              "you are seeing this warning, please report by opening an issue on github (after checking for existing/closed ones).\n",
              "You may otherwise ignore this warning.\n",
              "  warnings.warn(\n"
            ],
            "text/html": [
              "<pre style=\"white-space:pre;overflow-x:auto;line-height:normal;font-family:Menlo,'DejaVu Sans Mono',consolas,'Courier New',monospace\">/usr/local/lib/python3.11/dist-packages/torchaudio/_backend/soundfile_backend.py:71: UserWarning: The \n",
              "MPEG_LAYER_III subtype is unknown to TorchAudio. As a result, the bits_per_sample attribute will be set to 0. If \n",
              "you are seeing this warning, please report by opening an issue on github (after checking for existing/closed ones).\n",
              "You may otherwise ignore this warning.\n",
              "  warnings.warn(\n",
              "</pre>\n"
            ]
          },
          "metadata": {}
        },
        {
          "output_type": "display_data",
          "data": {
            "text/plain": [
              "/usr/local/lib/python3.11/dist-packages/torchaudio/_backend/soundfile_backend.py:71: UserWarning: The \n",
              "MPEG_LAYER_III subtype is unknown to TorchAudio. As a result, the bits_per_sample attribute will be set to 0. If \n",
              "you are seeing this warning, please report by opening an issue on github (after checking for existing/closed ones).\n",
              "You may otherwise ignore this warning.\n",
              "  warnings.warn(\n"
            ],
            "text/html": [
              "<pre style=\"white-space:pre;overflow-x:auto;line-height:normal;font-family:Menlo,'DejaVu Sans Mono',consolas,'Courier New',monospace\">/usr/local/lib/python3.11/dist-packages/torchaudio/_backend/soundfile_backend.py:71: UserWarning: The \n",
              "MPEG_LAYER_III subtype is unknown to TorchAudio. As a result, the bits_per_sample attribute will be set to 0. If \n",
              "you are seeing this warning, please report by opening an issue on github (after checking for existing/closed ones).\n",
              "You may otherwise ignore this warning.\n",
              "  warnings.warn(\n",
              "</pre>\n"
            ]
          },
          "metadata": {}
        },
        {
          "output_type": "display_data",
          "data": {
            "text/plain": [
              "/usr/local/lib/python3.11/dist-packages/torchaudio/_backend/soundfile_backend.py:71: UserWarning: The \n",
              "MPEG_LAYER_III subtype is unknown to TorchAudio. As a result, the bits_per_sample attribute will be set to 0. If \n",
              "you are seeing this warning, please report by opening an issue on github (after checking for existing/closed ones).\n",
              "You may otherwise ignore this warning.\n",
              "  warnings.warn(\n"
            ],
            "text/html": [
              "<pre style=\"white-space:pre;overflow-x:auto;line-height:normal;font-family:Menlo,'DejaVu Sans Mono',consolas,'Courier New',monospace\">/usr/local/lib/python3.11/dist-packages/torchaudio/_backend/soundfile_backend.py:71: UserWarning: The \n",
              "MPEG_LAYER_III subtype is unknown to TorchAudio. As a result, the bits_per_sample attribute will be set to 0. If \n",
              "you are seeing this warning, please report by opening an issue on github (after checking for existing/closed ones).\n",
              "You may otherwise ignore this warning.\n",
              "  warnings.warn(\n",
              "</pre>\n"
            ]
          },
          "metadata": {}
        },
        {
          "output_type": "display_data",
          "data": {
            "text/plain": [
              "/usr/local/lib/python3.11/dist-packages/torchaudio/_backend/soundfile_backend.py:71: UserWarning: The \n",
              "MPEG_LAYER_III subtype is unknown to TorchAudio. As a result, the bits_per_sample attribute will be set to 0. If \n",
              "you are seeing this warning, please report by opening an issue on github (after checking for existing/closed ones).\n",
              "You may otherwise ignore this warning.\n",
              "  warnings.warn(\n"
            ],
            "text/html": [
              "<pre style=\"white-space:pre;overflow-x:auto;line-height:normal;font-family:Menlo,'DejaVu Sans Mono',consolas,'Courier New',monospace\">/usr/local/lib/python3.11/dist-packages/torchaudio/_backend/soundfile_backend.py:71: UserWarning: The \n",
              "MPEG_LAYER_III subtype is unknown to TorchAudio. As a result, the bits_per_sample attribute will be set to 0. If \n",
              "you are seeing this warning, please report by opening an issue on github (after checking for existing/closed ones).\n",
              "You may otherwise ignore this warning.\n",
              "  warnings.warn(\n",
              "</pre>\n"
            ]
          },
          "metadata": {}
        },
        {
          "output_type": "display_data",
          "data": {
            "text/plain": [
              "/usr/local/lib/python3.11/dist-packages/torchaudio/_backend/soundfile_backend.py:71: UserWarning: The \n",
              "MPEG_LAYER_III subtype is unknown to TorchAudio. As a result, the bits_per_sample attribute will be set to 0. If \n",
              "you are seeing this warning, please report by opening an issue on github (after checking for existing/closed ones).\n",
              "You may otherwise ignore this warning.\n",
              "  warnings.warn(\n"
            ],
            "text/html": [
              "<pre style=\"white-space:pre;overflow-x:auto;line-height:normal;font-family:Menlo,'DejaVu Sans Mono',consolas,'Courier New',monospace\">/usr/local/lib/python3.11/dist-packages/torchaudio/_backend/soundfile_backend.py:71: UserWarning: The \n",
              "MPEG_LAYER_III subtype is unknown to TorchAudio. As a result, the bits_per_sample attribute will be set to 0. If \n",
              "you are seeing this warning, please report by opening an issue on github (after checking for existing/closed ones).\n",
              "You may otherwise ignore this warning.\n",
              "  warnings.warn(\n",
              "</pre>\n"
            ]
          },
          "metadata": {}
        },
        {
          "output_type": "display_data",
          "data": {
            "text/plain": [
              "/usr/local/lib/python3.11/dist-packages/torchaudio/_backend/soundfile_backend.py:71: UserWarning: The \n",
              "MPEG_LAYER_III subtype is unknown to TorchAudio. As a result, the bits_per_sample attribute will be set to 0. If \n",
              "you are seeing this warning, please report by opening an issue on github (after checking for existing/closed ones).\n",
              "You may otherwise ignore this warning.\n",
              "  warnings.warn(\n"
            ],
            "text/html": [
              "<pre style=\"white-space:pre;overflow-x:auto;line-height:normal;font-family:Menlo,'DejaVu Sans Mono',consolas,'Courier New',monospace\">/usr/local/lib/python3.11/dist-packages/torchaudio/_backend/soundfile_backend.py:71: UserWarning: The \n",
              "MPEG_LAYER_III subtype is unknown to TorchAudio. As a result, the bits_per_sample attribute will be set to 0. If \n",
              "you are seeing this warning, please report by opening an issue on github (after checking for existing/closed ones).\n",
              "You may otherwise ignore this warning.\n",
              "  warnings.warn(\n",
              "</pre>\n"
            ]
          },
          "metadata": {}
        },
        {
          "output_type": "display_data",
          "data": {
            "text/plain": [
              "/usr/local/lib/python3.11/dist-packages/torchaudio/_backend/soundfile_backend.py:71: UserWarning: The \n",
              "MPEG_LAYER_III subtype is unknown to TorchAudio. As a result, the bits_per_sample attribute will be set to 0. If \n",
              "you are seeing this warning, please report by opening an issue on github (after checking for existing/closed ones).\n",
              "You may otherwise ignore this warning.\n",
              "  warnings.warn(\n"
            ],
            "text/html": [
              "<pre style=\"white-space:pre;overflow-x:auto;line-height:normal;font-family:Menlo,'DejaVu Sans Mono',consolas,'Courier New',monospace\">/usr/local/lib/python3.11/dist-packages/torchaudio/_backend/soundfile_backend.py:71: UserWarning: The \n",
              "MPEG_LAYER_III subtype is unknown to TorchAudio. As a result, the bits_per_sample attribute will be set to 0. If \n",
              "you are seeing this warning, please report by opening an issue on github (after checking for existing/closed ones).\n",
              "You may otherwise ignore this warning.\n",
              "  warnings.warn(\n",
              "</pre>\n"
            ]
          },
          "metadata": {}
        },
        {
          "output_type": "display_data",
          "data": {
            "text/plain": [
              "/usr/local/lib/python3.11/dist-packages/torchaudio/_backend/soundfile_backend.py:71: UserWarning: The \n",
              "MPEG_LAYER_III subtype is unknown to TorchAudio. As a result, the bits_per_sample attribute will be set to 0. If \n",
              "you are seeing this warning, please report by opening an issue on github (after checking for existing/closed ones).\n",
              "You may otherwise ignore this warning.\n",
              "  warnings.warn(\n"
            ],
            "text/html": [
              "<pre style=\"white-space:pre;overflow-x:auto;line-height:normal;font-family:Menlo,'DejaVu Sans Mono',consolas,'Courier New',monospace\">/usr/local/lib/python3.11/dist-packages/torchaudio/_backend/soundfile_backend.py:71: UserWarning: The \n",
              "MPEG_LAYER_III subtype is unknown to TorchAudio. As a result, the bits_per_sample attribute will be set to 0. If \n",
              "you are seeing this warning, please report by opening an issue on github (after checking for existing/closed ones).\n",
              "You may otherwise ignore this warning.\n",
              "  warnings.warn(\n",
              "</pre>\n"
            ]
          },
          "metadata": {}
        },
        {
          "output_type": "display_data",
          "data": {
            "text/plain": [
              "/usr/local/lib/python3.11/dist-packages/torchaudio/_backend/soundfile_backend.py:71: UserWarning: The \n",
              "MPEG_LAYER_III subtype is unknown to TorchAudio. As a result, the bits_per_sample attribute will be set to 0. If \n",
              "you are seeing this warning, please report by opening an issue on github (after checking for existing/closed ones).\n",
              "You may otherwise ignore this warning.\n",
              "  warnings.warn(\n"
            ],
            "text/html": [
              "<pre style=\"white-space:pre;overflow-x:auto;line-height:normal;font-family:Menlo,'DejaVu Sans Mono',consolas,'Courier New',monospace\">/usr/local/lib/python3.11/dist-packages/torchaudio/_backend/soundfile_backend.py:71: UserWarning: The \n",
              "MPEG_LAYER_III subtype is unknown to TorchAudio. As a result, the bits_per_sample attribute will be set to 0. If \n",
              "you are seeing this warning, please report by opening an issue on github (after checking for existing/closed ones).\n",
              "You may otherwise ignore this warning.\n",
              "  warnings.warn(\n",
              "</pre>\n"
            ]
          },
          "metadata": {}
        },
        {
          "output_type": "display_data",
          "data": {
            "text/plain": [
              "/usr/local/lib/python3.11/dist-packages/torchaudio/_backend/soundfile_backend.py:71: UserWarning: The \n",
              "MPEG_LAYER_III subtype is unknown to TorchAudio. As a result, the bits_per_sample attribute will be set to 0. If \n",
              "you are seeing this warning, please report by opening an issue on github (after checking for existing/closed ones).\n",
              "You may otherwise ignore this warning.\n",
              "  warnings.warn(\n"
            ],
            "text/html": [
              "<pre style=\"white-space:pre;overflow-x:auto;line-height:normal;font-family:Menlo,'DejaVu Sans Mono',consolas,'Courier New',monospace\">/usr/local/lib/python3.11/dist-packages/torchaudio/_backend/soundfile_backend.py:71: UserWarning: The \n",
              "MPEG_LAYER_III subtype is unknown to TorchAudio. As a result, the bits_per_sample attribute will be set to 0. If \n",
              "you are seeing this warning, please report by opening an issue on github (after checking for existing/closed ones).\n",
              "You may otherwise ignore this warning.\n",
              "  warnings.warn(\n",
              "</pre>\n"
            ]
          },
          "metadata": {}
        },
        {
          "output_type": "display_data",
          "data": {
            "text/plain": [
              "/usr/local/lib/python3.11/dist-packages/torchaudio/_backend/soundfile_backend.py:71: UserWarning: The \n",
              "MPEG_LAYER_III subtype is unknown to TorchAudio. As a result, the bits_per_sample attribute will be set to 0. If \n",
              "you are seeing this warning, please report by opening an issue on github (after checking for existing/closed ones).\n",
              "You may otherwise ignore this warning.\n",
              "  warnings.warn(\n"
            ],
            "text/html": [
              "<pre style=\"white-space:pre;overflow-x:auto;line-height:normal;font-family:Menlo,'DejaVu Sans Mono',consolas,'Courier New',monospace\">/usr/local/lib/python3.11/dist-packages/torchaudio/_backend/soundfile_backend.py:71: UserWarning: The \n",
              "MPEG_LAYER_III subtype is unknown to TorchAudio. As a result, the bits_per_sample attribute will be set to 0. If \n",
              "you are seeing this warning, please report by opening an issue on github (after checking for existing/closed ones).\n",
              "You may otherwise ignore this warning.\n",
              "  warnings.warn(\n",
              "</pre>\n"
            ]
          },
          "metadata": {}
        },
        {
          "output_type": "display_data",
          "data": {
            "text/plain": [
              "/usr/local/lib/python3.11/dist-packages/torchaudio/_backend/soundfile_backend.py:71: UserWarning: The \n",
              "MPEG_LAYER_III subtype is unknown to TorchAudio. As a result, the bits_per_sample attribute will be set to 0. If \n",
              "you are seeing this warning, please report by opening an issue on github (after checking for existing/closed ones).\n",
              "You may otherwise ignore this warning.\n",
              "  warnings.warn(\n"
            ],
            "text/html": [
              "<pre style=\"white-space:pre;overflow-x:auto;line-height:normal;font-family:Menlo,'DejaVu Sans Mono',consolas,'Courier New',monospace\">/usr/local/lib/python3.11/dist-packages/torchaudio/_backend/soundfile_backend.py:71: UserWarning: The \n",
              "MPEG_LAYER_III subtype is unknown to TorchAudio. As a result, the bits_per_sample attribute will be set to 0. If \n",
              "you are seeing this warning, please report by opening an issue on github (after checking for existing/closed ones).\n",
              "You may otherwise ignore this warning.\n",
              "  warnings.warn(\n",
              "</pre>\n"
            ]
          },
          "metadata": {}
        },
        {
          "output_type": "display_data",
          "data": {
            "text/plain": [
              "/usr/local/lib/python3.11/dist-packages/torchaudio/_backend/soundfile_backend.py:71: UserWarning: The \n",
              "MPEG_LAYER_III subtype is unknown to TorchAudio. As a result, the bits_per_sample attribute will be set to 0. If \n",
              "you are seeing this warning, please report by opening an issue on github (after checking for existing/closed ones).\n",
              "You may otherwise ignore this warning.\n",
              "  warnings.warn(\n"
            ],
            "text/html": [
              "<pre style=\"white-space:pre;overflow-x:auto;line-height:normal;font-family:Menlo,'DejaVu Sans Mono',consolas,'Courier New',monospace\">/usr/local/lib/python3.11/dist-packages/torchaudio/_backend/soundfile_backend.py:71: UserWarning: The \n",
              "MPEG_LAYER_III subtype is unknown to TorchAudio. As a result, the bits_per_sample attribute will be set to 0. If \n",
              "you are seeing this warning, please report by opening an issue on github (after checking for existing/closed ones).\n",
              "You may otherwise ignore this warning.\n",
              "  warnings.warn(\n",
              "</pre>\n"
            ]
          },
          "metadata": {}
        },
        {
          "output_type": "display_data",
          "data": {
            "text/plain": [
              "/usr/local/lib/python3.11/dist-packages/torchaudio/_backend/soundfile_backend.py:71: UserWarning: The \n",
              "MPEG_LAYER_III subtype is unknown to TorchAudio. As a result, the bits_per_sample attribute will be set to 0. If \n",
              "you are seeing this warning, please report by opening an issue on github (after checking for existing/closed ones).\n",
              "You may otherwise ignore this warning.\n",
              "  warnings.warn(\n"
            ],
            "text/html": [
              "<pre style=\"white-space:pre;overflow-x:auto;line-height:normal;font-family:Menlo,'DejaVu Sans Mono',consolas,'Courier New',monospace\">/usr/local/lib/python3.11/dist-packages/torchaudio/_backend/soundfile_backend.py:71: UserWarning: The \n",
              "MPEG_LAYER_III subtype is unknown to TorchAudio. As a result, the bits_per_sample attribute will be set to 0. If \n",
              "you are seeing this warning, please report by opening an issue on github (after checking for existing/closed ones).\n",
              "You may otherwise ignore this warning.\n",
              "  warnings.warn(\n",
              "</pre>\n"
            ]
          },
          "metadata": {}
        },
        {
          "output_type": "display_data",
          "data": {
            "text/plain": [
              "/usr/local/lib/python3.11/dist-packages/torchaudio/_backend/soundfile_backend.py:71: UserWarning: The \n",
              "MPEG_LAYER_III subtype is unknown to TorchAudio. As a result, the bits_per_sample attribute will be set to 0. If \n",
              "you are seeing this warning, please report by opening an issue on github (after checking for existing/closed ones).\n",
              "You may otherwise ignore this warning.\n",
              "  warnings.warn(\n"
            ],
            "text/html": [
              "<pre style=\"white-space:pre;overflow-x:auto;line-height:normal;font-family:Menlo,'DejaVu Sans Mono',consolas,'Courier New',monospace\">/usr/local/lib/python3.11/dist-packages/torchaudio/_backend/soundfile_backend.py:71: UserWarning: The \n",
              "MPEG_LAYER_III subtype is unknown to TorchAudio. As a result, the bits_per_sample attribute will be set to 0. If \n",
              "you are seeing this warning, please report by opening an issue on github (after checking for existing/closed ones).\n",
              "You may otherwise ignore this warning.\n",
              "  warnings.warn(\n",
              "</pre>\n"
            ]
          },
          "metadata": {}
        },
        {
          "output_type": "display_data",
          "data": {
            "text/plain": [
              "/usr/local/lib/python3.11/dist-packages/torchaudio/_backend/soundfile_backend.py:71: UserWarning: The \n",
              "MPEG_LAYER_III subtype is unknown to TorchAudio. As a result, the bits_per_sample attribute will be set to 0. If \n",
              "you are seeing this warning, please report by opening an issue on github (after checking for existing/closed ones).\n",
              "You may otherwise ignore this warning.\n",
              "  warnings.warn(\n"
            ],
            "text/html": [
              "<pre style=\"white-space:pre;overflow-x:auto;line-height:normal;font-family:Menlo,'DejaVu Sans Mono',consolas,'Courier New',monospace\">/usr/local/lib/python3.11/dist-packages/torchaudio/_backend/soundfile_backend.py:71: UserWarning: The \n",
              "MPEG_LAYER_III subtype is unknown to TorchAudio. As a result, the bits_per_sample attribute will be set to 0. If \n",
              "you are seeing this warning, please report by opening an issue on github (after checking for existing/closed ones).\n",
              "You may otherwise ignore this warning.\n",
              "  warnings.warn(\n",
              "</pre>\n"
            ]
          },
          "metadata": {}
        },
        {
          "output_type": "display_data",
          "data": {
            "text/plain": [
              "/usr/local/lib/python3.11/dist-packages/torchaudio/_backend/soundfile_backend.py:71: UserWarning: The \n",
              "MPEG_LAYER_III subtype is unknown to TorchAudio. As a result, the bits_per_sample attribute will be set to 0. If \n",
              "you are seeing this warning, please report by opening an issue on github (after checking for existing/closed ones).\n",
              "You may otherwise ignore this warning.\n",
              "  warnings.warn(\n"
            ],
            "text/html": [
              "<pre style=\"white-space:pre;overflow-x:auto;line-height:normal;font-family:Menlo,'DejaVu Sans Mono',consolas,'Courier New',monospace\">/usr/local/lib/python3.11/dist-packages/torchaudio/_backend/soundfile_backend.py:71: UserWarning: The \n",
              "MPEG_LAYER_III subtype is unknown to TorchAudio. As a result, the bits_per_sample attribute will be set to 0. If \n",
              "you are seeing this warning, please report by opening an issue on github (after checking for existing/closed ones).\n",
              "You may otherwise ignore this warning.\n",
              "  warnings.warn(\n",
              "</pre>\n"
            ]
          },
          "metadata": {}
        },
        {
          "output_type": "display_data",
          "data": {
            "text/plain": [
              "/usr/local/lib/python3.11/dist-packages/torchaudio/_backend/soundfile_backend.py:71: UserWarning: The \n",
              "MPEG_LAYER_III subtype is unknown to TorchAudio. As a result, the bits_per_sample attribute will be set to 0. If \n",
              "you are seeing this warning, please report by opening an issue on github (after checking for existing/closed ones).\n",
              "You may otherwise ignore this warning.\n",
              "  warnings.warn(\n"
            ],
            "text/html": [
              "<pre style=\"white-space:pre;overflow-x:auto;line-height:normal;font-family:Menlo,'DejaVu Sans Mono',consolas,'Courier New',monospace\">/usr/local/lib/python3.11/dist-packages/torchaudio/_backend/soundfile_backend.py:71: UserWarning: The \n",
              "MPEG_LAYER_III subtype is unknown to TorchAudio. As a result, the bits_per_sample attribute will be set to 0. If \n",
              "you are seeing this warning, please report by opening an issue on github (after checking for existing/closed ones).\n",
              "You may otherwise ignore this warning.\n",
              "  warnings.warn(\n",
              "</pre>\n"
            ]
          },
          "metadata": {}
        },
        {
          "output_type": "display_data",
          "data": {
            "text/plain": [
              "/usr/local/lib/python3.11/dist-packages/torchaudio/_backend/soundfile_backend.py:71: UserWarning: The \n",
              "MPEG_LAYER_III subtype is unknown to TorchAudio. As a result, the bits_per_sample attribute will be set to 0. If \n",
              "you are seeing this warning, please report by opening an issue on github (after checking for existing/closed ones).\n",
              "You may otherwise ignore this warning.\n",
              "  warnings.warn(\n"
            ],
            "text/html": [
              "<pre style=\"white-space:pre;overflow-x:auto;line-height:normal;font-family:Menlo,'DejaVu Sans Mono',consolas,'Courier New',monospace\">/usr/local/lib/python3.11/dist-packages/torchaudio/_backend/soundfile_backend.py:71: UserWarning: The \n",
              "MPEG_LAYER_III subtype is unknown to TorchAudio. As a result, the bits_per_sample attribute will be set to 0. If \n",
              "you are seeing this warning, please report by opening an issue on github (after checking for existing/closed ones).\n",
              "You may otherwise ignore this warning.\n",
              "  warnings.warn(\n",
              "</pre>\n"
            ]
          },
          "metadata": {}
        },
        {
          "output_type": "display_data",
          "data": {
            "text/plain": [
              "/usr/local/lib/python3.11/dist-packages/torchaudio/_backend/soundfile_backend.py:71: UserWarning: The \n",
              "MPEG_LAYER_III subtype is unknown to TorchAudio. As a result, the bits_per_sample attribute will be set to 0. If \n",
              "you are seeing this warning, please report by opening an issue on github (after checking for existing/closed ones).\n",
              "You may otherwise ignore this warning.\n",
              "  warnings.warn(\n"
            ],
            "text/html": [
              "<pre style=\"white-space:pre;overflow-x:auto;line-height:normal;font-family:Menlo,'DejaVu Sans Mono',consolas,'Courier New',monospace\">/usr/local/lib/python3.11/dist-packages/torchaudio/_backend/soundfile_backend.py:71: UserWarning: The \n",
              "MPEG_LAYER_III subtype is unknown to TorchAudio. As a result, the bits_per_sample attribute will be set to 0. If \n",
              "you are seeing this warning, please report by opening an issue on github (after checking for existing/closed ones).\n",
              "You may otherwise ignore this warning.\n",
              "  warnings.warn(\n",
              "</pre>\n"
            ]
          },
          "metadata": {}
        },
        {
          "output_type": "display_data",
          "data": {
            "text/plain": [
              "/usr/local/lib/python3.11/dist-packages/torchaudio/_backend/soundfile_backend.py:71: UserWarning: The \n",
              "MPEG_LAYER_III subtype is unknown to TorchAudio. As a result, the bits_per_sample attribute will be set to 0. If \n",
              "you are seeing this warning, please report by opening an issue on github (after checking for existing/closed ones).\n",
              "You may otherwise ignore this warning.\n",
              "  warnings.warn(\n"
            ],
            "text/html": [
              "<pre style=\"white-space:pre;overflow-x:auto;line-height:normal;font-family:Menlo,'DejaVu Sans Mono',consolas,'Courier New',monospace\">/usr/local/lib/python3.11/dist-packages/torchaudio/_backend/soundfile_backend.py:71: UserWarning: The \n",
              "MPEG_LAYER_III subtype is unknown to TorchAudio. As a result, the bits_per_sample attribute will be set to 0. If \n",
              "you are seeing this warning, please report by opening an issue on github (after checking for existing/closed ones).\n",
              "You may otherwise ignore this warning.\n",
              "  warnings.warn(\n",
              "</pre>\n"
            ]
          },
          "metadata": {}
        },
        {
          "output_type": "display_data",
          "data": {
            "text/plain": [
              "/usr/local/lib/python3.11/dist-packages/torchaudio/_backend/soundfile_backend.py:71: UserWarning: The \n",
              "MPEG_LAYER_III subtype is unknown to TorchAudio. As a result, the bits_per_sample attribute will be set to 0. If \n",
              "you are seeing this warning, please report by opening an issue on github (after checking for existing/closed ones).\n",
              "You may otherwise ignore this warning.\n",
              "  warnings.warn(\n"
            ],
            "text/html": [
              "<pre style=\"white-space:pre;overflow-x:auto;line-height:normal;font-family:Menlo,'DejaVu Sans Mono',consolas,'Courier New',monospace\">/usr/local/lib/python3.11/dist-packages/torchaudio/_backend/soundfile_backend.py:71: UserWarning: The \n",
              "MPEG_LAYER_III subtype is unknown to TorchAudio. As a result, the bits_per_sample attribute will be set to 0. If \n",
              "you are seeing this warning, please report by opening an issue on github (after checking for existing/closed ones).\n",
              "You may otherwise ignore this warning.\n",
              "  warnings.warn(\n",
              "</pre>\n"
            ]
          },
          "metadata": {}
        },
        {
          "output_type": "display_data",
          "data": {
            "text/plain": [
              "/usr/local/lib/python3.11/dist-packages/torchaudio/_backend/soundfile_backend.py:71: UserWarning: The \n",
              "MPEG_LAYER_III subtype is unknown to TorchAudio. As a result, the bits_per_sample attribute will be set to 0. If \n",
              "you are seeing this warning, please report by opening an issue on github (after checking for existing/closed ones).\n",
              "You may otherwise ignore this warning.\n",
              "  warnings.warn(\n"
            ],
            "text/html": [
              "<pre style=\"white-space:pre;overflow-x:auto;line-height:normal;font-family:Menlo,'DejaVu Sans Mono',consolas,'Courier New',monospace\">/usr/local/lib/python3.11/dist-packages/torchaudio/_backend/soundfile_backend.py:71: UserWarning: The \n",
              "MPEG_LAYER_III subtype is unknown to TorchAudio. As a result, the bits_per_sample attribute will be set to 0. If \n",
              "you are seeing this warning, please report by opening an issue on github (after checking for existing/closed ones).\n",
              "You may otherwise ignore this warning.\n",
              "  warnings.warn(\n",
              "</pre>\n"
            ]
          },
          "metadata": {}
        },
        {
          "output_type": "display_data",
          "data": {
            "text/plain": [
              "/usr/local/lib/python3.11/dist-packages/torchaudio/_backend/soundfile_backend.py:71: UserWarning: The \n",
              "MPEG_LAYER_III subtype is unknown to TorchAudio. As a result, the bits_per_sample attribute will be set to 0. If \n",
              "you are seeing this warning, please report by opening an issue on github (after checking for existing/closed ones).\n",
              "You may otherwise ignore this warning.\n",
              "  warnings.warn(\n"
            ],
            "text/html": [
              "<pre style=\"white-space:pre;overflow-x:auto;line-height:normal;font-family:Menlo,'DejaVu Sans Mono',consolas,'Courier New',monospace\">/usr/local/lib/python3.11/dist-packages/torchaudio/_backend/soundfile_backend.py:71: UserWarning: The \n",
              "MPEG_LAYER_III subtype is unknown to TorchAudio. As a result, the bits_per_sample attribute will be set to 0. If \n",
              "you are seeing this warning, please report by opening an issue on github (after checking for existing/closed ones).\n",
              "You may otherwise ignore this warning.\n",
              "  warnings.warn(\n",
              "</pre>\n"
            ]
          },
          "metadata": {}
        },
        {
          "output_type": "display_data",
          "data": {
            "text/plain": [
              "/usr/local/lib/python3.11/dist-packages/torchaudio/_backend/soundfile_backend.py:71: UserWarning: The \n",
              "MPEG_LAYER_III subtype is unknown to TorchAudio. As a result, the bits_per_sample attribute will be set to 0. If \n",
              "you are seeing this warning, please report by opening an issue on github (after checking for existing/closed ones).\n",
              "You may otherwise ignore this warning.\n",
              "  warnings.warn(\n"
            ],
            "text/html": [
              "<pre style=\"white-space:pre;overflow-x:auto;line-height:normal;font-family:Menlo,'DejaVu Sans Mono',consolas,'Courier New',monospace\">/usr/local/lib/python3.11/dist-packages/torchaudio/_backend/soundfile_backend.py:71: UserWarning: The \n",
              "MPEG_LAYER_III subtype is unknown to TorchAudio. As a result, the bits_per_sample attribute will be set to 0. If \n",
              "you are seeing this warning, please report by opening an issue on github (after checking for existing/closed ones).\n",
              "You may otherwise ignore this warning.\n",
              "  warnings.warn(\n",
              "</pre>\n"
            ]
          },
          "metadata": {}
        },
        {
          "output_type": "display_data",
          "data": {
            "text/plain": [
              "/usr/local/lib/python3.11/dist-packages/torchaudio/_backend/soundfile_backend.py:71: UserWarning: The \n",
              "MPEG_LAYER_III subtype is unknown to TorchAudio. As a result, the bits_per_sample attribute will be set to 0. If \n",
              "you are seeing this warning, please report by opening an issue on github (after checking for existing/closed ones).\n",
              "You may otherwise ignore this warning.\n",
              "  warnings.warn(\n"
            ],
            "text/html": [
              "<pre style=\"white-space:pre;overflow-x:auto;line-height:normal;font-family:Menlo,'DejaVu Sans Mono',consolas,'Courier New',monospace\">/usr/local/lib/python3.11/dist-packages/torchaudio/_backend/soundfile_backend.py:71: UserWarning: The \n",
              "MPEG_LAYER_III subtype is unknown to TorchAudio. As a result, the bits_per_sample attribute will be set to 0. If \n",
              "you are seeing this warning, please report by opening an issue on github (after checking for existing/closed ones).\n",
              "You may otherwise ignore this warning.\n",
              "  warnings.warn(\n",
              "</pre>\n"
            ]
          },
          "metadata": {}
        },
        {
          "output_type": "display_data",
          "data": {
            "text/plain": [
              "/usr/local/lib/python3.11/dist-packages/torchaudio/_backend/soundfile_backend.py:71: UserWarning: The \n",
              "MPEG_LAYER_III subtype is unknown to TorchAudio. As a result, the bits_per_sample attribute will be set to 0. If \n",
              "you are seeing this warning, please report by opening an issue on github (after checking for existing/closed ones).\n",
              "You may otherwise ignore this warning.\n",
              "  warnings.warn(\n"
            ],
            "text/html": [
              "<pre style=\"white-space:pre;overflow-x:auto;line-height:normal;font-family:Menlo,'DejaVu Sans Mono',consolas,'Courier New',monospace\">/usr/local/lib/python3.11/dist-packages/torchaudio/_backend/soundfile_backend.py:71: UserWarning: The \n",
              "MPEG_LAYER_III subtype is unknown to TorchAudio. As a result, the bits_per_sample attribute will be set to 0. If \n",
              "you are seeing this warning, please report by opening an issue on github (after checking for existing/closed ones).\n",
              "You may otherwise ignore this warning.\n",
              "  warnings.warn(\n",
              "</pre>\n"
            ]
          },
          "metadata": {}
        },
        {
          "output_type": "display_data",
          "data": {
            "text/plain": [
              "/usr/local/lib/python3.11/dist-packages/torchaudio/_backend/soundfile_backend.py:71: UserWarning: The \n",
              "MPEG_LAYER_III subtype is unknown to TorchAudio. As a result, the bits_per_sample attribute will be set to 0. If \n",
              "you are seeing this warning, please report by opening an issue on github (after checking for existing/closed ones).\n",
              "You may otherwise ignore this warning.\n",
              "  warnings.warn(\n"
            ],
            "text/html": [
              "<pre style=\"white-space:pre;overflow-x:auto;line-height:normal;font-family:Menlo,'DejaVu Sans Mono',consolas,'Courier New',monospace\">/usr/local/lib/python3.11/dist-packages/torchaudio/_backend/soundfile_backend.py:71: UserWarning: The \n",
              "MPEG_LAYER_III subtype is unknown to TorchAudio. As a result, the bits_per_sample attribute will be set to 0. If \n",
              "you are seeing this warning, please report by opening an issue on github (after checking for existing/closed ones).\n",
              "You may otherwise ignore this warning.\n",
              "  warnings.warn(\n",
              "</pre>\n"
            ]
          },
          "metadata": {}
        },
        {
          "output_type": "display_data",
          "data": {
            "text/plain": [
              "/usr/local/lib/python3.11/dist-packages/torchaudio/_backend/soundfile_backend.py:71: UserWarning: The \n",
              "MPEG_LAYER_III subtype is unknown to TorchAudio. As a result, the bits_per_sample attribute will be set to 0. If \n",
              "you are seeing this warning, please report by opening an issue on github (after checking for existing/closed ones).\n",
              "You may otherwise ignore this warning.\n",
              "  warnings.warn(\n"
            ],
            "text/html": [
              "<pre style=\"white-space:pre;overflow-x:auto;line-height:normal;font-family:Menlo,'DejaVu Sans Mono',consolas,'Courier New',monospace\">/usr/local/lib/python3.11/dist-packages/torchaudio/_backend/soundfile_backend.py:71: UserWarning: The \n",
              "MPEG_LAYER_III subtype is unknown to TorchAudio. As a result, the bits_per_sample attribute will be set to 0. If \n",
              "you are seeing this warning, please report by opening an issue on github (after checking for existing/closed ones).\n",
              "You may otherwise ignore this warning.\n",
              "  warnings.warn(\n",
              "</pre>\n"
            ]
          },
          "metadata": {}
        },
        {
          "output_type": "display_data",
          "data": {
            "text/plain": [
              "/usr/local/lib/python3.11/dist-packages/torchaudio/_backend/soundfile_backend.py:71: UserWarning: The \n",
              "MPEG_LAYER_III subtype is unknown to TorchAudio. As a result, the bits_per_sample attribute will be set to 0. If \n",
              "you are seeing this warning, please report by opening an issue on github (after checking for existing/closed ones).\n",
              "You may otherwise ignore this warning.\n",
              "  warnings.warn(\n"
            ],
            "text/html": [
              "<pre style=\"white-space:pre;overflow-x:auto;line-height:normal;font-family:Menlo,'DejaVu Sans Mono',consolas,'Courier New',monospace\">/usr/local/lib/python3.11/dist-packages/torchaudio/_backend/soundfile_backend.py:71: UserWarning: The \n",
              "MPEG_LAYER_III subtype is unknown to TorchAudio. As a result, the bits_per_sample attribute will be set to 0. If \n",
              "you are seeing this warning, please report by opening an issue on github (after checking for existing/closed ones).\n",
              "You may otherwise ignore this warning.\n",
              "  warnings.warn(\n",
              "</pre>\n"
            ]
          },
          "metadata": {}
        },
        {
          "output_type": "display_data",
          "data": {
            "text/plain": [
              "/usr/local/lib/python3.11/dist-packages/torchaudio/_backend/soundfile_backend.py:71: UserWarning: The \n",
              "MPEG_LAYER_III subtype is unknown to TorchAudio. As a result, the bits_per_sample attribute will be set to 0. If \n",
              "you are seeing this warning, please report by opening an issue on github (after checking for existing/closed ones).\n",
              "You may otherwise ignore this warning.\n",
              "  warnings.warn(\n"
            ],
            "text/html": [
              "<pre style=\"white-space:pre;overflow-x:auto;line-height:normal;font-family:Menlo,'DejaVu Sans Mono',consolas,'Courier New',monospace\">/usr/local/lib/python3.11/dist-packages/torchaudio/_backend/soundfile_backend.py:71: UserWarning: The \n",
              "MPEG_LAYER_III subtype is unknown to TorchAudio. As a result, the bits_per_sample attribute will be set to 0. If \n",
              "you are seeing this warning, please report by opening an issue on github (after checking for existing/closed ones).\n",
              "You may otherwise ignore this warning.\n",
              "  warnings.warn(\n",
              "</pre>\n"
            ]
          },
          "metadata": {}
        },
        {
          "output_type": "display_data",
          "data": {
            "text/plain": [
              "/usr/local/lib/python3.11/dist-packages/torchaudio/_backend/soundfile_backend.py:71: UserWarning: The \n",
              "MPEG_LAYER_III subtype is unknown to TorchAudio. As a result, the bits_per_sample attribute will be set to 0. If \n",
              "you are seeing this warning, please report by opening an issue on github (after checking for existing/closed ones).\n",
              "You may otherwise ignore this warning.\n",
              "  warnings.warn(\n"
            ],
            "text/html": [
              "<pre style=\"white-space:pre;overflow-x:auto;line-height:normal;font-family:Menlo,'DejaVu Sans Mono',consolas,'Courier New',monospace\">/usr/local/lib/python3.11/dist-packages/torchaudio/_backend/soundfile_backend.py:71: UserWarning: The \n",
              "MPEG_LAYER_III subtype is unknown to TorchAudio. As a result, the bits_per_sample attribute will be set to 0. If \n",
              "you are seeing this warning, please report by opening an issue on github (after checking for existing/closed ones).\n",
              "You may otherwise ignore this warning.\n",
              "  warnings.warn(\n",
              "</pre>\n"
            ]
          },
          "metadata": {}
        },
        {
          "output_type": "display_data",
          "data": {
            "text/plain": [
              "/usr/local/lib/python3.11/dist-packages/torchaudio/_backend/soundfile_backend.py:71: UserWarning: The \n",
              "MPEG_LAYER_III subtype is unknown to TorchAudio. As a result, the bits_per_sample attribute will be set to 0. If \n",
              "you are seeing this warning, please report by opening an issue on github (after checking for existing/closed ones).\n",
              "You may otherwise ignore this warning.\n",
              "  warnings.warn(\n"
            ],
            "text/html": [
              "<pre style=\"white-space:pre;overflow-x:auto;line-height:normal;font-family:Menlo,'DejaVu Sans Mono',consolas,'Courier New',monospace\">/usr/local/lib/python3.11/dist-packages/torchaudio/_backend/soundfile_backend.py:71: UserWarning: The \n",
              "MPEG_LAYER_III subtype is unknown to TorchAudio. As a result, the bits_per_sample attribute will be set to 0. If \n",
              "you are seeing this warning, please report by opening an issue on github (after checking for existing/closed ones).\n",
              "You may otherwise ignore this warning.\n",
              "  warnings.warn(\n",
              "</pre>\n"
            ]
          },
          "metadata": {}
        },
        {
          "output_type": "display_data",
          "data": {
            "text/plain": [
              "/usr/local/lib/python3.11/dist-packages/torchaudio/_backend/soundfile_backend.py:71: UserWarning: The \n",
              "MPEG_LAYER_III subtype is unknown to TorchAudio. As a result, the bits_per_sample attribute will be set to 0. If \n",
              "you are seeing this warning, please report by opening an issue on github (after checking for existing/closed ones).\n",
              "You may otherwise ignore this warning.\n",
              "  warnings.warn(\n"
            ],
            "text/html": [
              "<pre style=\"white-space:pre;overflow-x:auto;line-height:normal;font-family:Menlo,'DejaVu Sans Mono',consolas,'Courier New',monospace\">/usr/local/lib/python3.11/dist-packages/torchaudio/_backend/soundfile_backend.py:71: UserWarning: The \n",
              "MPEG_LAYER_III subtype is unknown to TorchAudio. As a result, the bits_per_sample attribute will be set to 0. If \n",
              "you are seeing this warning, please report by opening an issue on github (after checking for existing/closed ones).\n",
              "You may otherwise ignore this warning.\n",
              "  warnings.warn(\n",
              "</pre>\n"
            ]
          },
          "metadata": {}
        },
        {
          "output_type": "display_data",
          "data": {
            "text/plain": [
              "/usr/local/lib/python3.11/dist-packages/torchaudio/_backend/soundfile_backend.py:71: UserWarning: The \n",
              "MPEG_LAYER_III subtype is unknown to TorchAudio. As a result, the bits_per_sample attribute will be set to 0. If \n",
              "you are seeing this warning, please report by opening an issue on github (after checking for existing/closed ones).\n",
              "You may otherwise ignore this warning.\n",
              "  warnings.warn(\n"
            ],
            "text/html": [
              "<pre style=\"white-space:pre;overflow-x:auto;line-height:normal;font-family:Menlo,'DejaVu Sans Mono',consolas,'Courier New',monospace\">/usr/local/lib/python3.11/dist-packages/torchaudio/_backend/soundfile_backend.py:71: UserWarning: The \n",
              "MPEG_LAYER_III subtype is unknown to TorchAudio. As a result, the bits_per_sample attribute will be set to 0. If \n",
              "you are seeing this warning, please report by opening an issue on github (after checking for existing/closed ones).\n",
              "You may otherwise ignore this warning.\n",
              "  warnings.warn(\n",
              "</pre>\n"
            ]
          },
          "metadata": {}
        },
        {
          "output_type": "display_data",
          "data": {
            "text/plain": [
              "/usr/local/lib/python3.11/dist-packages/torchaudio/_backend/soundfile_backend.py:71: UserWarning: The \n",
              "MPEG_LAYER_III subtype is unknown to TorchAudio. As a result, the bits_per_sample attribute will be set to 0. If \n",
              "you are seeing this warning, please report by opening an issue on github (after checking for existing/closed ones).\n",
              "You may otherwise ignore this warning.\n",
              "  warnings.warn(\n"
            ],
            "text/html": [
              "<pre style=\"white-space:pre;overflow-x:auto;line-height:normal;font-family:Menlo,'DejaVu Sans Mono',consolas,'Courier New',monospace\">/usr/local/lib/python3.11/dist-packages/torchaudio/_backend/soundfile_backend.py:71: UserWarning: The \n",
              "MPEG_LAYER_III subtype is unknown to TorchAudio. As a result, the bits_per_sample attribute will be set to 0. If \n",
              "you are seeing this warning, please report by opening an issue on github (after checking for existing/closed ones).\n",
              "You may otherwise ignore this warning.\n",
              "  warnings.warn(\n",
              "</pre>\n"
            ]
          },
          "metadata": {}
        },
        {
          "output_type": "display_data",
          "data": {
            "text/plain": [
              "/usr/local/lib/python3.11/dist-packages/torchaudio/_backend/soundfile_backend.py:71: UserWarning: The \n",
              "MPEG_LAYER_III subtype is unknown to TorchAudio. As a result, the bits_per_sample attribute will be set to 0. If \n",
              "you are seeing this warning, please report by opening an issue on github (after checking for existing/closed ones).\n",
              "You may otherwise ignore this warning.\n",
              "  warnings.warn(\n"
            ],
            "text/html": [
              "<pre style=\"white-space:pre;overflow-x:auto;line-height:normal;font-family:Menlo,'DejaVu Sans Mono',consolas,'Courier New',monospace\">/usr/local/lib/python3.11/dist-packages/torchaudio/_backend/soundfile_backend.py:71: UserWarning: The \n",
              "MPEG_LAYER_III subtype is unknown to TorchAudio. As a result, the bits_per_sample attribute will be set to 0. If \n",
              "you are seeing this warning, please report by opening an issue on github (after checking for existing/closed ones).\n",
              "You may otherwise ignore this warning.\n",
              "  warnings.warn(\n",
              "</pre>\n"
            ]
          },
          "metadata": {}
        },
        {
          "output_type": "display_data",
          "data": {
            "text/plain": [
              "/usr/local/lib/python3.11/dist-packages/torchaudio/_backend/soundfile_backend.py:71: UserWarning: The \n",
              "MPEG_LAYER_III subtype is unknown to TorchAudio. As a result, the bits_per_sample attribute will be set to 0. If \n",
              "you are seeing this warning, please report by opening an issue on github (after checking for existing/closed ones).\n",
              "You may otherwise ignore this warning.\n",
              "  warnings.warn(\n"
            ],
            "text/html": [
              "<pre style=\"white-space:pre;overflow-x:auto;line-height:normal;font-family:Menlo,'DejaVu Sans Mono',consolas,'Courier New',monospace\">/usr/local/lib/python3.11/dist-packages/torchaudio/_backend/soundfile_backend.py:71: UserWarning: The \n",
              "MPEG_LAYER_III subtype is unknown to TorchAudio. As a result, the bits_per_sample attribute will be set to 0. If \n",
              "you are seeing this warning, please report by opening an issue on github (after checking for existing/closed ones).\n",
              "You may otherwise ignore this warning.\n",
              "  warnings.warn(\n",
              "</pre>\n"
            ]
          },
          "metadata": {}
        },
        {
          "output_type": "display_data",
          "data": {
            "text/plain": [
              "/usr/local/lib/python3.11/dist-packages/torchaudio/_backend/soundfile_backend.py:71: UserWarning: The \n",
              "MPEG_LAYER_III subtype is unknown to TorchAudio. As a result, the bits_per_sample attribute will be set to 0. If \n",
              "you are seeing this warning, please report by opening an issue on github (after checking for existing/closed ones).\n",
              "You may otherwise ignore this warning.\n",
              "  warnings.warn(\n"
            ],
            "text/html": [
              "<pre style=\"white-space:pre;overflow-x:auto;line-height:normal;font-family:Menlo,'DejaVu Sans Mono',consolas,'Courier New',monospace\">/usr/local/lib/python3.11/dist-packages/torchaudio/_backend/soundfile_backend.py:71: UserWarning: The \n",
              "MPEG_LAYER_III subtype is unknown to TorchAudio. As a result, the bits_per_sample attribute will be set to 0. If \n",
              "you are seeing this warning, please report by opening an issue on github (after checking for existing/closed ones).\n",
              "You may otherwise ignore this warning.\n",
              "  warnings.warn(\n",
              "</pre>\n"
            ]
          },
          "metadata": {}
        },
        {
          "output_type": "display_data",
          "data": {
            "text/plain": [
              "/usr/local/lib/python3.11/dist-packages/torchaudio/_backend/soundfile_backend.py:71: UserWarning: The \n",
              "MPEG_LAYER_III subtype is unknown to TorchAudio. As a result, the bits_per_sample attribute will be set to 0. If \n",
              "you are seeing this warning, please report by opening an issue on github (after checking for existing/closed ones).\n",
              "You may otherwise ignore this warning.\n",
              "  warnings.warn(\n"
            ],
            "text/html": [
              "<pre style=\"white-space:pre;overflow-x:auto;line-height:normal;font-family:Menlo,'DejaVu Sans Mono',consolas,'Courier New',monospace\">/usr/local/lib/python3.11/dist-packages/torchaudio/_backend/soundfile_backend.py:71: UserWarning: The \n",
              "MPEG_LAYER_III subtype is unknown to TorchAudio. As a result, the bits_per_sample attribute will be set to 0. If \n",
              "you are seeing this warning, please report by opening an issue on github (after checking for existing/closed ones).\n",
              "You may otherwise ignore this warning.\n",
              "  warnings.warn(\n",
              "</pre>\n"
            ]
          },
          "metadata": {}
        },
        {
          "output_type": "display_data",
          "data": {
            "text/plain": [
              "/usr/local/lib/python3.11/dist-packages/torchaudio/_backend/soundfile_backend.py:71: UserWarning: The \n",
              "MPEG_LAYER_III subtype is unknown to TorchAudio. As a result, the bits_per_sample attribute will be set to 0. If \n",
              "you are seeing this warning, please report by opening an issue on github (after checking for existing/closed ones).\n",
              "You may otherwise ignore this warning.\n",
              "  warnings.warn(\n"
            ],
            "text/html": [
              "<pre style=\"white-space:pre;overflow-x:auto;line-height:normal;font-family:Menlo,'DejaVu Sans Mono',consolas,'Courier New',monospace\">/usr/local/lib/python3.11/dist-packages/torchaudio/_backend/soundfile_backend.py:71: UserWarning: The \n",
              "MPEG_LAYER_III subtype is unknown to TorchAudio. As a result, the bits_per_sample attribute will be set to 0. If \n",
              "you are seeing this warning, please report by opening an issue on github (after checking for existing/closed ones).\n",
              "You may otherwise ignore this warning.\n",
              "  warnings.warn(\n",
              "</pre>\n"
            ]
          },
          "metadata": {}
        },
        {
          "output_type": "display_data",
          "data": {
            "text/plain": [
              "/usr/local/lib/python3.11/dist-packages/torchaudio/_backend/soundfile_backend.py:71: UserWarning: The \n",
              "MPEG_LAYER_III subtype is unknown to TorchAudio. As a result, the bits_per_sample attribute will be set to 0. If \n",
              "you are seeing this warning, please report by opening an issue on github (after checking for existing/closed ones).\n",
              "You may otherwise ignore this warning.\n",
              "  warnings.warn(\n"
            ],
            "text/html": [
              "<pre style=\"white-space:pre;overflow-x:auto;line-height:normal;font-family:Menlo,'DejaVu Sans Mono',consolas,'Courier New',monospace\">/usr/local/lib/python3.11/dist-packages/torchaudio/_backend/soundfile_backend.py:71: UserWarning: The \n",
              "MPEG_LAYER_III subtype is unknown to TorchAudio. As a result, the bits_per_sample attribute will be set to 0. If \n",
              "you are seeing this warning, please report by opening an issue on github (after checking for existing/closed ones).\n",
              "You may otherwise ignore this warning.\n",
              "  warnings.warn(\n",
              "</pre>\n"
            ]
          },
          "metadata": {}
        },
        {
          "output_type": "display_data",
          "data": {
            "text/plain": [
              "/usr/local/lib/python3.11/dist-packages/torchaudio/_backend/soundfile_backend.py:71: UserWarning: The \n",
              "MPEG_LAYER_III subtype is unknown to TorchAudio. As a result, the bits_per_sample attribute will be set to 0. If \n",
              "you are seeing this warning, please report by opening an issue on github (after checking for existing/closed ones).\n",
              "You may otherwise ignore this warning.\n",
              "  warnings.warn(\n"
            ],
            "text/html": [
              "<pre style=\"white-space:pre;overflow-x:auto;line-height:normal;font-family:Menlo,'DejaVu Sans Mono',consolas,'Courier New',monospace\">/usr/local/lib/python3.11/dist-packages/torchaudio/_backend/soundfile_backend.py:71: UserWarning: The \n",
              "MPEG_LAYER_III subtype is unknown to TorchAudio. As a result, the bits_per_sample attribute will be set to 0. If \n",
              "you are seeing this warning, please report by opening an issue on github (after checking for existing/closed ones).\n",
              "You may otherwise ignore this warning.\n",
              "  warnings.warn(\n",
              "</pre>\n"
            ]
          },
          "metadata": {}
        },
        {
          "output_type": "display_data",
          "data": {
            "text/plain": [
              "/usr/local/lib/python3.11/dist-packages/torchaudio/_backend/soundfile_backend.py:71: UserWarning: The \n",
              "MPEG_LAYER_III subtype is unknown to TorchAudio. As a result, the bits_per_sample attribute will be set to 0. If \n",
              "you are seeing this warning, please report by opening an issue on github (after checking for existing/closed ones).\n",
              "You may otherwise ignore this warning.\n",
              "  warnings.warn(\n"
            ],
            "text/html": [
              "<pre style=\"white-space:pre;overflow-x:auto;line-height:normal;font-family:Menlo,'DejaVu Sans Mono',consolas,'Courier New',monospace\">/usr/local/lib/python3.11/dist-packages/torchaudio/_backend/soundfile_backend.py:71: UserWarning: The \n",
              "MPEG_LAYER_III subtype is unknown to TorchAudio. As a result, the bits_per_sample attribute will be set to 0. If \n",
              "you are seeing this warning, please report by opening an issue on github (after checking for existing/closed ones).\n",
              "You may otherwise ignore this warning.\n",
              "  warnings.warn(\n",
              "</pre>\n"
            ]
          },
          "metadata": {}
        },
        {
          "output_type": "display_data",
          "data": {
            "text/plain": [
              "/usr/local/lib/python3.11/dist-packages/torchaudio/_backend/soundfile_backend.py:71: UserWarning: The \n",
              "MPEG_LAYER_III subtype is unknown to TorchAudio. As a result, the bits_per_sample attribute will be set to 0. If \n",
              "you are seeing this warning, please report by opening an issue on github (after checking for existing/closed ones).\n",
              "You may otherwise ignore this warning.\n",
              "  warnings.warn(\n"
            ],
            "text/html": [
              "<pre style=\"white-space:pre;overflow-x:auto;line-height:normal;font-family:Menlo,'DejaVu Sans Mono',consolas,'Courier New',monospace\">/usr/local/lib/python3.11/dist-packages/torchaudio/_backend/soundfile_backend.py:71: UserWarning: The \n",
              "MPEG_LAYER_III subtype is unknown to TorchAudio. As a result, the bits_per_sample attribute will be set to 0. If \n",
              "you are seeing this warning, please report by opening an issue on github (after checking for existing/closed ones).\n",
              "You may otherwise ignore this warning.\n",
              "  warnings.warn(\n",
              "</pre>\n"
            ]
          },
          "metadata": {}
        },
        {
          "output_type": "display_data",
          "data": {
            "text/plain": [
              "/usr/local/lib/python3.11/dist-packages/torchaudio/_backend/soundfile_backend.py:71: UserWarning: The \n",
              "MPEG_LAYER_III subtype is unknown to TorchAudio. As a result, the bits_per_sample attribute will be set to 0. If \n",
              "you are seeing this warning, please report by opening an issue on github (after checking for existing/closed ones).\n",
              "You may otherwise ignore this warning.\n",
              "  warnings.warn(\n"
            ],
            "text/html": [
              "<pre style=\"white-space:pre;overflow-x:auto;line-height:normal;font-family:Menlo,'DejaVu Sans Mono',consolas,'Courier New',monospace\">/usr/local/lib/python3.11/dist-packages/torchaudio/_backend/soundfile_backend.py:71: UserWarning: The \n",
              "MPEG_LAYER_III subtype is unknown to TorchAudio. As a result, the bits_per_sample attribute will be set to 0. If \n",
              "you are seeing this warning, please report by opening an issue on github (after checking for existing/closed ones).\n",
              "You may otherwise ignore this warning.\n",
              "  warnings.warn(\n",
              "</pre>\n"
            ]
          },
          "metadata": {}
        },
        {
          "output_type": "display_data",
          "data": {
            "text/plain": [
              "/usr/local/lib/python3.11/dist-packages/torchaudio/_backend/soundfile_backend.py:71: UserWarning: The \n",
              "MPEG_LAYER_III subtype is unknown to TorchAudio. As a result, the bits_per_sample attribute will be set to 0. If \n",
              "you are seeing this warning, please report by opening an issue on github (after checking for existing/closed ones).\n",
              "You may otherwise ignore this warning.\n",
              "  warnings.warn(\n"
            ],
            "text/html": [
              "<pre style=\"white-space:pre;overflow-x:auto;line-height:normal;font-family:Menlo,'DejaVu Sans Mono',consolas,'Courier New',monospace\">/usr/local/lib/python3.11/dist-packages/torchaudio/_backend/soundfile_backend.py:71: UserWarning: The \n",
              "MPEG_LAYER_III subtype is unknown to TorchAudio. As a result, the bits_per_sample attribute will be set to 0. If \n",
              "you are seeing this warning, please report by opening an issue on github (after checking for existing/closed ones).\n",
              "You may otherwise ignore this warning.\n",
              "  warnings.warn(\n",
              "</pre>\n"
            ]
          },
          "metadata": {}
        },
        {
          "output_type": "display_data",
          "data": {
            "text/plain": [
              "/usr/local/lib/python3.11/dist-packages/torchaudio/_backend/soundfile_backend.py:71: UserWarning: The \n",
              "MPEG_LAYER_III subtype is unknown to TorchAudio. As a result, the bits_per_sample attribute will be set to 0. If \n",
              "you are seeing this warning, please report by opening an issue on github (after checking for existing/closed ones).\n",
              "You may otherwise ignore this warning.\n",
              "  warnings.warn(\n"
            ],
            "text/html": [
              "<pre style=\"white-space:pre;overflow-x:auto;line-height:normal;font-family:Menlo,'DejaVu Sans Mono',consolas,'Courier New',monospace\">/usr/local/lib/python3.11/dist-packages/torchaudio/_backend/soundfile_backend.py:71: UserWarning: The \n",
              "MPEG_LAYER_III subtype is unknown to TorchAudio. As a result, the bits_per_sample attribute will be set to 0. If \n",
              "you are seeing this warning, please report by opening an issue on github (after checking for existing/closed ones).\n",
              "You may otherwise ignore this warning.\n",
              "  warnings.warn(\n",
              "</pre>\n"
            ]
          },
          "metadata": {}
        },
        {
          "output_type": "display_data",
          "data": {
            "text/plain": [
              "/usr/local/lib/python3.11/dist-packages/torchaudio/_backend/soundfile_backend.py:71: UserWarning: The \n",
              "MPEG_LAYER_III subtype is unknown to TorchAudio. As a result, the bits_per_sample attribute will be set to 0. If \n",
              "you are seeing this warning, please report by opening an issue on github (after checking for existing/closed ones).\n",
              "You may otherwise ignore this warning.\n",
              "  warnings.warn(\n"
            ],
            "text/html": [
              "<pre style=\"white-space:pre;overflow-x:auto;line-height:normal;font-family:Menlo,'DejaVu Sans Mono',consolas,'Courier New',monospace\">/usr/local/lib/python3.11/dist-packages/torchaudio/_backend/soundfile_backend.py:71: UserWarning: The \n",
              "MPEG_LAYER_III subtype is unknown to TorchAudio. As a result, the bits_per_sample attribute will be set to 0. If \n",
              "you are seeing this warning, please report by opening an issue on github (after checking for existing/closed ones).\n",
              "You may otherwise ignore this warning.\n",
              "  warnings.warn(\n",
              "</pre>\n"
            ]
          },
          "metadata": {}
        },
        {
          "output_type": "display_data",
          "data": {
            "text/plain": [
              "/usr/local/lib/python3.11/dist-packages/torchaudio/_backend/soundfile_backend.py:71: UserWarning: The \n",
              "MPEG_LAYER_III subtype is unknown to TorchAudio. As a result, the bits_per_sample attribute will be set to 0. If \n",
              "you are seeing this warning, please report by opening an issue on github (after checking for existing/closed ones).\n",
              "You may otherwise ignore this warning.\n",
              "  warnings.warn(\n"
            ],
            "text/html": [
              "<pre style=\"white-space:pre;overflow-x:auto;line-height:normal;font-family:Menlo,'DejaVu Sans Mono',consolas,'Courier New',monospace\">/usr/local/lib/python3.11/dist-packages/torchaudio/_backend/soundfile_backend.py:71: UserWarning: The \n",
              "MPEG_LAYER_III subtype is unknown to TorchAudio. As a result, the bits_per_sample attribute will be set to 0. If \n",
              "you are seeing this warning, please report by opening an issue on github (after checking for existing/closed ones).\n",
              "You may otherwise ignore this warning.\n",
              "  warnings.warn(\n",
              "</pre>\n"
            ]
          },
          "metadata": {}
        },
        {
          "output_type": "display_data",
          "data": {
            "text/plain": [
              "/usr/local/lib/python3.11/dist-packages/torchaudio/_backend/soundfile_backend.py:71: UserWarning: The \n",
              "MPEG_LAYER_III subtype is unknown to TorchAudio. As a result, the bits_per_sample attribute will be set to 0. If \n",
              "you are seeing this warning, please report by opening an issue on github (after checking for existing/closed ones).\n",
              "You may otherwise ignore this warning.\n",
              "  warnings.warn(\n"
            ],
            "text/html": [
              "<pre style=\"white-space:pre;overflow-x:auto;line-height:normal;font-family:Menlo,'DejaVu Sans Mono',consolas,'Courier New',monospace\">/usr/local/lib/python3.11/dist-packages/torchaudio/_backend/soundfile_backend.py:71: UserWarning: The \n",
              "MPEG_LAYER_III subtype is unknown to TorchAudio. As a result, the bits_per_sample attribute will be set to 0. If \n",
              "you are seeing this warning, please report by opening an issue on github (after checking for existing/closed ones).\n",
              "You may otherwise ignore this warning.\n",
              "  warnings.warn(\n",
              "</pre>\n"
            ]
          },
          "metadata": {}
        },
        {
          "output_type": "display_data",
          "data": {
            "text/plain": [
              "/usr/local/lib/python3.11/dist-packages/torchaudio/_backend/soundfile_backend.py:71: UserWarning: The \n",
              "MPEG_LAYER_III subtype is unknown to TorchAudio. As a result, the bits_per_sample attribute will be set to 0. If \n",
              "you are seeing this warning, please report by opening an issue on github (after checking for existing/closed ones).\n",
              "You may otherwise ignore this warning.\n",
              "  warnings.warn(\n"
            ],
            "text/html": [
              "<pre style=\"white-space:pre;overflow-x:auto;line-height:normal;font-family:Menlo,'DejaVu Sans Mono',consolas,'Courier New',monospace\">/usr/local/lib/python3.11/dist-packages/torchaudio/_backend/soundfile_backend.py:71: UserWarning: The \n",
              "MPEG_LAYER_III subtype is unknown to TorchAudio. As a result, the bits_per_sample attribute will be set to 0. If \n",
              "you are seeing this warning, please report by opening an issue on github (after checking for existing/closed ones).\n",
              "You may otherwise ignore this warning.\n",
              "  warnings.warn(\n",
              "</pre>\n"
            ]
          },
          "metadata": {}
        },
        {
          "output_type": "display_data",
          "data": {
            "text/plain": [
              "/usr/local/lib/python3.11/dist-packages/torchaudio/_backend/soundfile_backend.py:71: UserWarning: The \n",
              "MPEG_LAYER_III subtype is unknown to TorchAudio. As a result, the bits_per_sample attribute will be set to 0. If \n",
              "you are seeing this warning, please report by opening an issue on github (after checking for existing/closed ones).\n",
              "You may otherwise ignore this warning.\n",
              "  warnings.warn(\n"
            ],
            "text/html": [
              "<pre style=\"white-space:pre;overflow-x:auto;line-height:normal;font-family:Menlo,'DejaVu Sans Mono',consolas,'Courier New',monospace\">/usr/local/lib/python3.11/dist-packages/torchaudio/_backend/soundfile_backend.py:71: UserWarning: The \n",
              "MPEG_LAYER_III subtype is unknown to TorchAudio. As a result, the bits_per_sample attribute will be set to 0. If \n",
              "you are seeing this warning, please report by opening an issue on github (after checking for existing/closed ones).\n",
              "You may otherwise ignore this warning.\n",
              "  warnings.warn(\n",
              "</pre>\n"
            ]
          },
          "metadata": {}
        },
        {
          "output_type": "display_data",
          "data": {
            "text/plain": [
              "/usr/local/lib/python3.11/dist-packages/torchaudio/_backend/soundfile_backend.py:71: UserWarning: The \n",
              "MPEG_LAYER_III subtype is unknown to TorchAudio. As a result, the bits_per_sample attribute will be set to 0. If \n",
              "you are seeing this warning, please report by opening an issue on github (after checking for existing/closed ones).\n",
              "You may otherwise ignore this warning.\n",
              "  warnings.warn(\n"
            ],
            "text/html": [
              "<pre style=\"white-space:pre;overflow-x:auto;line-height:normal;font-family:Menlo,'DejaVu Sans Mono',consolas,'Courier New',monospace\">/usr/local/lib/python3.11/dist-packages/torchaudio/_backend/soundfile_backend.py:71: UserWarning: The \n",
              "MPEG_LAYER_III subtype is unknown to TorchAudio. As a result, the bits_per_sample attribute will be set to 0. If \n",
              "you are seeing this warning, please report by opening an issue on github (after checking for existing/closed ones).\n",
              "You may otherwise ignore this warning.\n",
              "  warnings.warn(\n",
              "</pre>\n"
            ]
          },
          "metadata": {}
        },
        {
          "output_type": "display_data",
          "data": {
            "text/plain": [
              "/usr/local/lib/python3.11/dist-packages/torchaudio/_backend/soundfile_backend.py:71: UserWarning: The \n",
              "MPEG_LAYER_III subtype is unknown to TorchAudio. As a result, the bits_per_sample attribute will be set to 0. If \n",
              "you are seeing this warning, please report by opening an issue on github (after checking for existing/closed ones).\n",
              "You may otherwise ignore this warning.\n",
              "  warnings.warn(\n"
            ],
            "text/html": [
              "<pre style=\"white-space:pre;overflow-x:auto;line-height:normal;font-family:Menlo,'DejaVu Sans Mono',consolas,'Courier New',monospace\">/usr/local/lib/python3.11/dist-packages/torchaudio/_backend/soundfile_backend.py:71: UserWarning: The \n",
              "MPEG_LAYER_III subtype is unknown to TorchAudio. As a result, the bits_per_sample attribute will be set to 0. If \n",
              "you are seeing this warning, please report by opening an issue on github (after checking for existing/closed ones).\n",
              "You may otherwise ignore this warning.\n",
              "  warnings.warn(\n",
              "</pre>\n"
            ]
          },
          "metadata": {}
        },
        {
          "output_type": "display_data",
          "data": {
            "text/plain": [
              "/usr/local/lib/python3.11/dist-packages/torchaudio/_backend/soundfile_backend.py:71: UserWarning: The \n",
              "MPEG_LAYER_III subtype is unknown to TorchAudio. As a result, the bits_per_sample attribute will be set to 0. If \n",
              "you are seeing this warning, please report by opening an issue on github (after checking for existing/closed ones).\n",
              "You may otherwise ignore this warning.\n",
              "  warnings.warn(\n"
            ],
            "text/html": [
              "<pre style=\"white-space:pre;overflow-x:auto;line-height:normal;font-family:Menlo,'DejaVu Sans Mono',consolas,'Courier New',monospace\">/usr/local/lib/python3.11/dist-packages/torchaudio/_backend/soundfile_backend.py:71: UserWarning: The \n",
              "MPEG_LAYER_III subtype is unknown to TorchAudio. As a result, the bits_per_sample attribute will be set to 0. If \n",
              "you are seeing this warning, please report by opening an issue on github (after checking for existing/closed ones).\n",
              "You may otherwise ignore this warning.\n",
              "  warnings.warn(\n",
              "</pre>\n"
            ]
          },
          "metadata": {}
        },
        {
          "output_type": "display_data",
          "data": {
            "text/plain": [
              "/usr/local/lib/python3.11/dist-packages/torchaudio/_backend/soundfile_backend.py:71: UserWarning: The \n",
              "MPEG_LAYER_III subtype is unknown to TorchAudio. As a result, the bits_per_sample attribute will be set to 0. If \n",
              "you are seeing this warning, please report by opening an issue on github (after checking for existing/closed ones).\n",
              "You may otherwise ignore this warning.\n",
              "  warnings.warn(\n"
            ],
            "text/html": [
              "<pre style=\"white-space:pre;overflow-x:auto;line-height:normal;font-family:Menlo,'DejaVu Sans Mono',consolas,'Courier New',monospace\">/usr/local/lib/python3.11/dist-packages/torchaudio/_backend/soundfile_backend.py:71: UserWarning: The \n",
              "MPEG_LAYER_III subtype is unknown to TorchAudio. As a result, the bits_per_sample attribute will be set to 0. If \n",
              "you are seeing this warning, please report by opening an issue on github (after checking for existing/closed ones).\n",
              "You may otherwise ignore this warning.\n",
              "  warnings.warn(\n",
              "</pre>\n"
            ]
          },
          "metadata": {}
        },
        {
          "output_type": "display_data",
          "data": {
            "text/plain": [
              "/usr/local/lib/python3.11/dist-packages/torchaudio/_backend/soundfile_backend.py:71: UserWarning: The \n",
              "MPEG_LAYER_III subtype is unknown to TorchAudio. As a result, the bits_per_sample attribute will be set to 0. If \n",
              "you are seeing this warning, please report by opening an issue on github (after checking for existing/closed ones).\n",
              "You may otherwise ignore this warning.\n",
              "  warnings.warn(\n"
            ],
            "text/html": [
              "<pre style=\"white-space:pre;overflow-x:auto;line-height:normal;font-family:Menlo,'DejaVu Sans Mono',consolas,'Courier New',monospace\">/usr/local/lib/python3.11/dist-packages/torchaudio/_backend/soundfile_backend.py:71: UserWarning: The \n",
              "MPEG_LAYER_III subtype is unknown to TorchAudio. As a result, the bits_per_sample attribute will be set to 0. If \n",
              "you are seeing this warning, please report by opening an issue on github (after checking for existing/closed ones).\n",
              "You may otherwise ignore this warning.\n",
              "  warnings.warn(\n",
              "</pre>\n"
            ]
          },
          "metadata": {}
        },
        {
          "output_type": "display_data",
          "data": {
            "text/plain": [
              "/usr/local/lib/python3.11/dist-packages/torchaudio/_backend/soundfile_backend.py:71: UserWarning: The \n",
              "MPEG_LAYER_III subtype is unknown to TorchAudio. As a result, the bits_per_sample attribute will be set to 0. If \n",
              "you are seeing this warning, please report by opening an issue on github (after checking for existing/closed ones).\n",
              "You may otherwise ignore this warning.\n",
              "  warnings.warn(\n"
            ],
            "text/html": [
              "<pre style=\"white-space:pre;overflow-x:auto;line-height:normal;font-family:Menlo,'DejaVu Sans Mono',consolas,'Courier New',monospace\">/usr/local/lib/python3.11/dist-packages/torchaudio/_backend/soundfile_backend.py:71: UserWarning: The \n",
              "MPEG_LAYER_III subtype is unknown to TorchAudio. As a result, the bits_per_sample attribute will be set to 0. If \n",
              "you are seeing this warning, please report by opening an issue on github (after checking for existing/closed ones).\n",
              "You may otherwise ignore this warning.\n",
              "  warnings.warn(\n",
              "</pre>\n"
            ]
          },
          "metadata": {}
        },
        {
          "output_type": "display_data",
          "data": {
            "text/plain": [
              "/usr/local/lib/python3.11/dist-packages/torchaudio/_backend/soundfile_backend.py:71: UserWarning: The \n",
              "MPEG_LAYER_III subtype is unknown to TorchAudio. As a result, the bits_per_sample attribute will be set to 0. If \n",
              "you are seeing this warning, please report by opening an issue on github (after checking for existing/closed ones).\n",
              "You may otherwise ignore this warning.\n",
              "  warnings.warn(\n"
            ],
            "text/html": [
              "<pre style=\"white-space:pre;overflow-x:auto;line-height:normal;font-family:Menlo,'DejaVu Sans Mono',consolas,'Courier New',monospace\">/usr/local/lib/python3.11/dist-packages/torchaudio/_backend/soundfile_backend.py:71: UserWarning: The \n",
              "MPEG_LAYER_III subtype is unknown to TorchAudio. As a result, the bits_per_sample attribute will be set to 0. If \n",
              "you are seeing this warning, please report by opening an issue on github (after checking for existing/closed ones).\n",
              "You may otherwise ignore this warning.\n",
              "  warnings.warn(\n",
              "</pre>\n"
            ]
          },
          "metadata": {}
        },
        {
          "output_type": "display_data",
          "data": {
            "text/plain": [
              "/usr/local/lib/python3.11/dist-packages/torchaudio/_backend/soundfile_backend.py:71: UserWarning: The \n",
              "MPEG_LAYER_III subtype is unknown to TorchAudio. As a result, the bits_per_sample attribute will be set to 0. If \n",
              "you are seeing this warning, please report by opening an issue on github (after checking for existing/closed ones).\n",
              "You may otherwise ignore this warning.\n",
              "  warnings.warn(\n"
            ],
            "text/html": [
              "<pre style=\"white-space:pre;overflow-x:auto;line-height:normal;font-family:Menlo,'DejaVu Sans Mono',consolas,'Courier New',monospace\">/usr/local/lib/python3.11/dist-packages/torchaudio/_backend/soundfile_backend.py:71: UserWarning: The \n",
              "MPEG_LAYER_III subtype is unknown to TorchAudio. As a result, the bits_per_sample attribute will be set to 0. If \n",
              "you are seeing this warning, please report by opening an issue on github (after checking for existing/closed ones).\n",
              "You may otherwise ignore this warning.\n",
              "  warnings.warn(\n",
              "</pre>\n"
            ]
          },
          "metadata": {}
        },
        {
          "output_type": "display_data",
          "data": {
            "text/plain": [
              "/usr/local/lib/python3.11/dist-packages/torchaudio/_backend/soundfile_backend.py:71: UserWarning: The \n",
              "MPEG_LAYER_III subtype is unknown to TorchAudio. As a result, the bits_per_sample attribute will be set to 0. If \n",
              "you are seeing this warning, please report by opening an issue on github (after checking for existing/closed ones).\n",
              "You may otherwise ignore this warning.\n",
              "  warnings.warn(\n"
            ],
            "text/html": [
              "<pre style=\"white-space:pre;overflow-x:auto;line-height:normal;font-family:Menlo,'DejaVu Sans Mono',consolas,'Courier New',monospace\">/usr/local/lib/python3.11/dist-packages/torchaudio/_backend/soundfile_backend.py:71: UserWarning: The \n",
              "MPEG_LAYER_III subtype is unknown to TorchAudio. As a result, the bits_per_sample attribute will be set to 0. If \n",
              "you are seeing this warning, please report by opening an issue on github (after checking for existing/closed ones).\n",
              "You may otherwise ignore this warning.\n",
              "  warnings.warn(\n",
              "</pre>\n"
            ]
          },
          "metadata": {}
        },
        {
          "output_type": "display_data",
          "data": {
            "text/plain": [
              "/usr/local/lib/python3.11/dist-packages/torchaudio/_backend/soundfile_backend.py:71: UserWarning: The \n",
              "MPEG_LAYER_III subtype is unknown to TorchAudio. As a result, the bits_per_sample attribute will be set to 0. If \n",
              "you are seeing this warning, please report by opening an issue on github (after checking for existing/closed ones).\n",
              "You may otherwise ignore this warning.\n",
              "  warnings.warn(\n"
            ],
            "text/html": [
              "<pre style=\"white-space:pre;overflow-x:auto;line-height:normal;font-family:Menlo,'DejaVu Sans Mono',consolas,'Courier New',monospace\">/usr/local/lib/python3.11/dist-packages/torchaudio/_backend/soundfile_backend.py:71: UserWarning: The \n",
              "MPEG_LAYER_III subtype is unknown to TorchAudio. As a result, the bits_per_sample attribute will be set to 0. If \n",
              "you are seeing this warning, please report by opening an issue on github (after checking for existing/closed ones).\n",
              "You may otherwise ignore this warning.\n",
              "  warnings.warn(\n",
              "</pre>\n"
            ]
          },
          "metadata": {}
        },
        {
          "output_type": "display_data",
          "data": {
            "text/plain": [
              "/usr/local/lib/python3.11/dist-packages/torchaudio/_backend/soundfile_backend.py:71: UserWarning: The \n",
              "MPEG_LAYER_III subtype is unknown to TorchAudio. As a result, the bits_per_sample attribute will be set to 0. If \n",
              "you are seeing this warning, please report by opening an issue on github (after checking for existing/closed ones).\n",
              "You may otherwise ignore this warning.\n",
              "  warnings.warn(\n"
            ],
            "text/html": [
              "<pre style=\"white-space:pre;overflow-x:auto;line-height:normal;font-family:Menlo,'DejaVu Sans Mono',consolas,'Courier New',monospace\">/usr/local/lib/python3.11/dist-packages/torchaudio/_backend/soundfile_backend.py:71: UserWarning: The \n",
              "MPEG_LAYER_III subtype is unknown to TorchAudio. As a result, the bits_per_sample attribute will be set to 0. If \n",
              "you are seeing this warning, please report by opening an issue on github (after checking for existing/closed ones).\n",
              "You may otherwise ignore this warning.\n",
              "  warnings.warn(\n",
              "</pre>\n"
            ]
          },
          "metadata": {}
        },
        {
          "output_type": "display_data",
          "data": {
            "text/plain": [
              "/usr/local/lib/python3.11/dist-packages/torchaudio/_backend/soundfile_backend.py:71: UserWarning: The \n",
              "MPEG_LAYER_III subtype is unknown to TorchAudio. As a result, the bits_per_sample attribute will be set to 0. If \n",
              "you are seeing this warning, please report by opening an issue on github (after checking for existing/closed ones).\n",
              "You may otherwise ignore this warning.\n",
              "  warnings.warn(\n"
            ],
            "text/html": [
              "<pre style=\"white-space:pre;overflow-x:auto;line-height:normal;font-family:Menlo,'DejaVu Sans Mono',consolas,'Courier New',monospace\">/usr/local/lib/python3.11/dist-packages/torchaudio/_backend/soundfile_backend.py:71: UserWarning: The \n",
              "MPEG_LAYER_III subtype is unknown to TorchAudio. As a result, the bits_per_sample attribute will be set to 0. If \n",
              "you are seeing this warning, please report by opening an issue on github (after checking for existing/closed ones).\n",
              "You may otherwise ignore this warning.\n",
              "  warnings.warn(\n",
              "</pre>\n"
            ]
          },
          "metadata": {}
        },
        {
          "output_type": "display_data",
          "data": {
            "text/plain": [
              "/usr/local/lib/python3.11/dist-packages/torchaudio/_backend/soundfile_backend.py:71: UserWarning: The \n",
              "MPEG_LAYER_III subtype is unknown to TorchAudio. As a result, the bits_per_sample attribute will be set to 0. If \n",
              "you are seeing this warning, please report by opening an issue on github (after checking for existing/closed ones).\n",
              "You may otherwise ignore this warning.\n",
              "  warnings.warn(\n"
            ],
            "text/html": [
              "<pre style=\"white-space:pre;overflow-x:auto;line-height:normal;font-family:Menlo,'DejaVu Sans Mono',consolas,'Courier New',monospace\">/usr/local/lib/python3.11/dist-packages/torchaudio/_backend/soundfile_backend.py:71: UserWarning: The \n",
              "MPEG_LAYER_III subtype is unknown to TorchAudio. As a result, the bits_per_sample attribute will be set to 0. If \n",
              "you are seeing this warning, please report by opening an issue on github (after checking for existing/closed ones).\n",
              "You may otherwise ignore this warning.\n",
              "  warnings.warn(\n",
              "</pre>\n"
            ]
          },
          "metadata": {}
        },
        {
          "output_type": "display_data",
          "data": {
            "text/plain": [
              "/usr/local/lib/python3.11/dist-packages/torchaudio/_backend/soundfile_backend.py:71: UserWarning: The \n",
              "MPEG_LAYER_III subtype is unknown to TorchAudio. As a result, the bits_per_sample attribute will be set to 0. If \n",
              "you are seeing this warning, please report by opening an issue on github (after checking for existing/closed ones).\n",
              "You may otherwise ignore this warning.\n",
              "  warnings.warn(\n"
            ],
            "text/html": [
              "<pre style=\"white-space:pre;overflow-x:auto;line-height:normal;font-family:Menlo,'DejaVu Sans Mono',consolas,'Courier New',monospace\">/usr/local/lib/python3.11/dist-packages/torchaudio/_backend/soundfile_backend.py:71: UserWarning: The \n",
              "MPEG_LAYER_III subtype is unknown to TorchAudio. As a result, the bits_per_sample attribute will be set to 0. If \n",
              "you are seeing this warning, please report by opening an issue on github (after checking for existing/closed ones).\n",
              "You may otherwise ignore this warning.\n",
              "  warnings.warn(\n",
              "</pre>\n"
            ]
          },
          "metadata": {}
        },
        {
          "output_type": "display_data",
          "data": {
            "text/plain": [
              "/usr/local/lib/python3.11/dist-packages/torchaudio/_backend/soundfile_backend.py:71: UserWarning: The \n",
              "MPEG_LAYER_III subtype is unknown to TorchAudio. As a result, the bits_per_sample attribute will be set to 0. If \n",
              "you are seeing this warning, please report by opening an issue on github (after checking for existing/closed ones).\n",
              "You may otherwise ignore this warning.\n",
              "  warnings.warn(\n"
            ],
            "text/html": [
              "<pre style=\"white-space:pre;overflow-x:auto;line-height:normal;font-family:Menlo,'DejaVu Sans Mono',consolas,'Courier New',monospace\">/usr/local/lib/python3.11/dist-packages/torchaudio/_backend/soundfile_backend.py:71: UserWarning: The \n",
              "MPEG_LAYER_III subtype is unknown to TorchAudio. As a result, the bits_per_sample attribute will be set to 0. If \n",
              "you are seeing this warning, please report by opening an issue on github (after checking for existing/closed ones).\n",
              "You may otherwise ignore this warning.\n",
              "  warnings.warn(\n",
              "</pre>\n"
            ]
          },
          "metadata": {}
        },
        {
          "output_type": "display_data",
          "data": {
            "text/plain": [
              "/usr/local/lib/python3.11/dist-packages/torchaudio/_backend/soundfile_backend.py:71: UserWarning: The \n",
              "MPEG_LAYER_III subtype is unknown to TorchAudio. As a result, the bits_per_sample attribute will be set to 0. If \n",
              "you are seeing this warning, please report by opening an issue on github (after checking for existing/closed ones).\n",
              "You may otherwise ignore this warning.\n",
              "  warnings.warn(\n"
            ],
            "text/html": [
              "<pre style=\"white-space:pre;overflow-x:auto;line-height:normal;font-family:Menlo,'DejaVu Sans Mono',consolas,'Courier New',monospace\">/usr/local/lib/python3.11/dist-packages/torchaudio/_backend/soundfile_backend.py:71: UserWarning: The \n",
              "MPEG_LAYER_III subtype is unknown to TorchAudio. As a result, the bits_per_sample attribute will be set to 0. If \n",
              "you are seeing this warning, please report by opening an issue on github (after checking for existing/closed ones).\n",
              "You may otherwise ignore this warning.\n",
              "  warnings.warn(\n",
              "</pre>\n"
            ]
          },
          "metadata": {}
        },
        {
          "output_type": "display_data",
          "data": {
            "text/plain": [],
            "text/html": [
              "<pre style=\"white-space:pre;overflow-x:auto;line-height:normal;font-family:Menlo,'DejaVu Sans Mono',consolas,'Courier New',monospace\"></pre>\n"
            ]
          },
          "metadata": {}
        }
      ]
    },
    {
      "cell_type": "code",
      "source": [
        "diarization"
      ],
      "metadata": {
        "colab": {
          "base_uri": "https://localhost:8080/",
          "height": 185
        },
        "id": "sgwp56GNQniE",
        "outputId": "d99d9bad-5f03-41f9-b77a-32922034bbd6"
      },
      "execution_count": 8,
      "outputs": [
        {
          "output_type": "execute_result",
          "data": {
            "text/plain": [
              "<pyannote.core.annotation.Annotation at 0x7f56c7b4ed90>"
            ],
            "image/png": "[encoded data removed]"
          },
          "metadata": {},
          "execution_count": 8
        }
      ]
    },
    {
      "cell_type": "code",
      "source": [
        "diarization.chart()"
      ],
      "metadata": {
        "colab": {
          "base_uri": "https://localhost:8080/"
        },
        "id": "hfpSKP8bR5Qp",
        "outputId": "dba71cf9-cd5b-4810-cdfd-ef4837aa78c2"
      },
      "execution_count": 9,
      "outputs": [
        {
          "output_type": "execute_result",
          "data": {
            "text/plain": [
              "[('SPEAKER_02', 181.35562499999926),\n",
              " ('SPEAKER_05', 147.09937499999987),\n",
              " ('SPEAKER_06', 93.80812499999907),\n",
              " ('SPEAKER_04', 90.46687500000064),\n",
              " ('SPEAKER_03', 64.36124999999933),\n",
              " ('SPEAKER_19', 49.106250000000784),\n",
              " ('SPEAKER_21', 48.22874999999976),\n",
              " ('SPEAKER_09', 39.75750000000076),\n",
              " ('SPEAKER_11', 36.5512499999998),\n",
              " ('SPEAKER_10', 32.45062499999975),\n",
              " ('SPEAKER_08', 30.510000000000247),\n",
              " ('SPEAKER_14', 27.202499999999446),\n",
              " ('SPEAKER_00', 27.01687500000024),\n",
              " ('SPEAKER_18', 25.953749999999786),\n",
              " ('SPEAKER_13', 21.161249999999654),\n",
              " ('SPEAKER_12', 19.085625000000164),\n",
              " ('SPEAKER_07', 18.073124999999663),\n",
              " ('SPEAKER_15', 17.195625000000007),\n",
              " ('SPEAKER_20', 12.673125000000056),\n",
              " ('SPEAKER_16', 12.16687499999989),\n",
              " ('SPEAKER_17', 11.356874999999945),\n",
              " ('SPEAKER_01', 4.927499999999782)]"
            ]
          },
          "metadata": {},
          "execution_count": 9
        }
      ]
    },
    {
      "cell_type": "code",
      "source": [
        "diarization.discretize()"
      ],
      "metadata": {
        "colab": {
          "base_uri": "https://localhost:8080/",
          "height": 129
        },
        "id": "Z3txszoGSEnh",
        "outputId": "ae2f180c-e125-4431-83f2-ccb02d01d1da"
      },
      "execution_count": 10,
      "outputs": [
        {
          "output_type": "execute_result",
          "data": {
            "text/plain": [
              "<pyannote.core.feature.SlidingWindowFeature at 0x7f56940b9650>"
            ],
            "image/png": "[encoded data removed]"
          },
          "metadata": {},
          "execution_count": 10
        }
      ]
    },
    {
      "cell_type": "code",
      "source": [
        "# print the result\n",
        "for turn, _, speaker in diarization.itertracks(yield_label=True):\n",
        "    print(f\"start={turn.start:.1f}s stop={turn.end:.1f}s speaker_{speaker}\")"
      ],
      "metadata": {
        "colab": {
          "base_uri": "https://localhost:8080/"
        },
        "collapsed": true,
        "id": "Znj62JseSKMg",
        "outputId": "ef8f0da6-46b9-417b-b527-74f887daccbd"
      },
      "execution_count": 11,
      "outputs": [
        {
          "output_type": "stream",
          "name": "stdout",
          "text": [
            "start=2.2s stop=8.1s speaker_SPEAKER_05\n",
            "start=14.1s stop=16.1s speaker_SPEAKER_00\n",
            "start=17.1s stop=20.7s speaker_SPEAKER_06\n",
            "start=21.4s stop=23.2s speaker_SPEAKER_00\n",
            "start=23.8s stop=25.5s speaker_SPEAKER_00\n",
            "start=25.6s stop=26.4s speaker_SPEAKER_00\n",
            "start=26.7s stop=27.7s speaker_SPEAKER_00\n",
            "start=29.0s stop=37.8s speaker_SPEAKER_02\n",
            "start=33.2s stop=33.2s speaker_SPEAKER_00\n",
            "start=33.2s stop=33.7s speaker_SPEAKER_08\n",
            "start=33.7s stop=34.0s speaker_SPEAKER_00\n",
            "start=34.0s stop=34.5s speaker_SPEAKER_08\n",
            "start=35.2s stop=35.5s speaker_SPEAKER_08\n",
            "start=38.5s stop=38.5s speaker_SPEAKER_08\n",
            "start=38.5s stop=38.7s speaker_SPEAKER_02\n",
            "start=38.7s stop=38.8s speaker_SPEAKER_08\n",
            "start=39.0s stop=39.7s speaker_SPEAKER_02\n",
            "start=41.4s stop=42.4s speaker_SPEAKER_02\n",
            "start=45.2s stop=46.2s speaker_SPEAKER_02\n",
            "start=46.8s stop=48.0s speaker_SPEAKER_02\n",
            "start=48.5s stop=49.0s speaker_SPEAKER_02\n",
            "start=49.9s stop=50.3s speaker_SPEAKER_02\n",
            "start=50.3s stop=50.3s speaker_SPEAKER_11\n",
            "start=50.3s stop=50.4s speaker_SPEAKER_02\n",
            "start=50.4s stop=50.5s speaker_SPEAKER_11\n",
            "start=50.5s stop=53.3s speaker_SPEAKER_02\n",
            "start=50.6s stop=51.2s speaker_SPEAKER_11\n",
            "start=54.3s stop=57.1s speaker_SPEAKER_02\n",
            "start=57.5s stop=61.0s speaker_SPEAKER_02\n",
            "start=61.5s stop=62.2s speaker_SPEAKER_02\n",
            "start=62.5s stop=63.6s speaker_SPEAKER_02\n",
            "start=63.9s stop=65.4s speaker_SPEAKER_02\n",
            "start=65.8s stop=67.4s speaker_SPEAKER_02\n",
            "start=66.7s stop=67.1s speaker_SPEAKER_16\n",
            "start=67.5s stop=68.2s speaker_SPEAKER_02\n",
            "start=68.6s stop=71.0s speaker_SPEAKER_02\n",
            "start=71.0s stop=71.2s speaker_SPEAKER_02\n",
            "start=90.0s stop=90.7s speaker_SPEAKER_00\n",
            "start=92.1s stop=93.0s speaker_SPEAKER_00\n",
            "start=102.6s stop=103.9s speaker_SPEAKER_06\n",
            "start=106.4s stop=107.5s speaker_SPEAKER_06\n",
            "start=109.0s stop=109.6s speaker_SPEAKER_06\n",
            "start=113.2s stop=113.8s speaker_SPEAKER_06\n",
            "start=115.1s stop=115.3s speaker_SPEAKER_06\n",
            "start=118.1s stop=119.0s speaker_SPEAKER_00\n",
            "start=119.5s stop=119.5s speaker_SPEAKER_10\n",
            "start=119.5s stop=120.2s speaker_SPEAKER_00\n",
            "start=120.2s stop=120.2s speaker_SPEAKER_10\n",
            "start=123.6s stop=123.7s speaker_SPEAKER_00\n",
            "start=125.2s stop=125.6s speaker_SPEAKER_00\n",
            "start=126.9s stop=127.2s speaker_SPEAKER_04\n",
            "start=129.1s stop=130.4s speaker_SPEAKER_04\n",
            "start=130.4s stop=131.5s speaker_SPEAKER_03\n",
            "start=131.9s stop=133.9s speaker_SPEAKER_03\n",
            "start=136.5s stop=137.2s speaker_SPEAKER_03\n",
            "start=137.3s stop=139.7s speaker_SPEAKER_19\n",
            "start=140.5s stop=140.7s speaker_SPEAKER_19\n",
            "start=141.1s stop=143.2s speaker_SPEAKER_19\n",
            "start=151.7s stop=151.9s speaker_SPEAKER_19\n",
            "start=153.6s stop=155.4s speaker_SPEAKER_19\n",
            "start=157.0s stop=158.3s speaker_SPEAKER_04\n",
            "start=158.5s stop=158.8s speaker_SPEAKER_04\n",
            "start=159.3s stop=159.7s speaker_SPEAKER_06\n",
            "start=159.9s stop=164.0s speaker_SPEAKER_06\n",
            "start=164.4s stop=164.7s speaker_SPEAKER_06\n",
            "start=164.9s stop=165.8s speaker_SPEAKER_06\n",
            "start=166.5s stop=168.9s speaker_SPEAKER_06\n",
            "start=169.8s stop=170.0s speaker_SPEAKER_06\n",
            "start=170.0s stop=170.0s speaker_SPEAKER_19\n",
            "start=170.0s stop=170.2s speaker_SPEAKER_03\n",
            "start=170.2s stop=171.6s speaker_SPEAKER_06\n",
            "start=170.3s stop=170.4s speaker_SPEAKER_19\n",
            "start=170.4s stop=171.4s speaker_SPEAKER_09\n",
            "start=171.6s stop=171.8s speaker_SPEAKER_09\n",
            "start=172.6s stop=173.0s speaker_SPEAKER_03\n",
            "start=173.8s stop=178.3s speaker_SPEAKER_03\n",
            "start=177.9s stop=179.8s speaker_SPEAKER_20\n",
            "start=180.2s stop=181.5s speaker_SPEAKER_20\n",
            "start=181.8s stop=182.8s speaker_SPEAKER_20\n",
            "start=183.1s stop=187.4s speaker_SPEAKER_20\n",
            "start=185.9s stop=186.4s speaker_SPEAKER_04\n",
            "start=187.4s stop=187.5s speaker_SPEAKER_04\n",
            "start=187.5s stop=187.5s speaker_SPEAKER_20\n",
            "start=187.9s stop=187.9s speaker_SPEAKER_20\n",
            "start=187.9s stop=190.2s speaker_SPEAKER_04\n",
            "start=190.6s stop=191.8s speaker_SPEAKER_04\n",
            "start=191.8s stop=191.8s speaker_SPEAKER_02\n",
            "start=192.0s stop=193.3s speaker_SPEAKER_04\n",
            "start=193.3s stop=193.3s speaker_SPEAKER_02\n",
            "start=194.5s stop=194.5s speaker_SPEAKER_19\n",
            "start=194.5s stop=195.0s speaker_SPEAKER_04\n",
            "start=195.0s stop=196.5s speaker_SPEAKER_19\n",
            "start=196.6s stop=201.8s speaker_SPEAKER_21\n",
            "start=202.2s stop=204.4s speaker_SPEAKER_21\n",
            "start=205.1s stop=207.4s speaker_SPEAKER_21\n",
            "start=207.9s stop=211.3s speaker_SPEAKER_14\n",
            "start=212.0s stop=214.7s speaker_SPEAKER_14\n",
            "start=215.1s stop=216.1s speaker_SPEAKER_03\n",
            "start=217.1s stop=218.6s speaker_SPEAKER_03\n",
            "start=219.6s stop=220.1s speaker_SPEAKER_03\n",
            "start=220.6s stop=221.1s speaker_SPEAKER_03\n",
            "start=222.2s stop=223.1s speaker_SPEAKER_14\n",
            "start=223.8s stop=224.0s speaker_SPEAKER_14\n",
            "start=224.2s stop=225.2s speaker_SPEAKER_14\n",
            "start=225.2s stop=227.1s speaker_SPEAKER_20\n",
            "start=227.2s stop=229.5s speaker_SPEAKER_20\n",
            "start=232.6s stop=234.5s speaker_SPEAKER_02\n",
            "start=247.8s stop=248.2s speaker_SPEAKER_05\n",
            "start=248.6s stop=249.0s speaker_SPEAKER_05\n",
            "start=249.7s stop=251.0s speaker_SPEAKER_05\n",
            "start=251.8s stop=253.2s speaker_SPEAKER_05\n",
            "start=254.2s stop=254.3s speaker_SPEAKER_05\n",
            "start=254.3s stop=254.4s speaker_SPEAKER_18\n",
            "start=254.4s stop=254.7s speaker_SPEAKER_05\n",
            "start=254.7s stop=254.8s speaker_SPEAKER_18\n",
            "start=255.0s stop=255.0s speaker_SPEAKER_18\n",
            "start=255.0s stop=255.3s speaker_SPEAKER_05\n",
            "start=256.2s stop=257.0s speaker_SPEAKER_18\n",
            "start=257.7s stop=262.5s speaker_SPEAKER_18\n",
            "start=263.0s stop=263.0s speaker_SPEAKER_10\n",
            "start=268.1s stop=268.1s speaker_SPEAKER_18\n",
            "start=268.2s stop=268.2s speaker_SPEAKER_18\n",
            "start=269.0s stop=269.7s speaker_SPEAKER_09\n",
            "start=271.9s stop=271.9s speaker_SPEAKER_04\n",
            "start=271.9s stop=273.7s speaker_SPEAKER_05\n",
            "start=273.7s stop=274.0s speaker_SPEAKER_10\n",
            "start=274.4s stop=275.7s speaker_SPEAKER_05\n",
            "start=278.3s stop=279.6s speaker_SPEAKER_05\n",
            "start=280.8s stop=282.6s speaker_SPEAKER_05\n",
            "start=287.5s stop=291.6s speaker_SPEAKER_21\n",
            "start=290.3s stop=290.8s speaker_SPEAKER_06\n",
            "start=291.6s stop=291.6s speaker_SPEAKER_06\n",
            "start=292.2s stop=292.2s speaker_SPEAKER_21\n",
            "start=292.2s stop=296.5s speaker_SPEAKER_06\n",
            "start=304.0s stop=305.3s speaker_SPEAKER_11\n",
            "start=305.6s stop=306.3s speaker_SPEAKER_11\n",
            "start=306.9s stop=308.7s speaker_SPEAKER_11\n",
            "start=311.9s stop=316.0s speaker_SPEAKER_19\n",
            "start=315.4s stop=315.4s speaker_SPEAKER_05\n",
            "start=315.7s stop=316.8s speaker_SPEAKER_06\n",
            "start=316.9s stop=317.8s speaker_SPEAKER_19\n",
            "start=322.7s stop=323.1s speaker_SPEAKER_02\n",
            "start=323.3s stop=326.2s speaker_SPEAKER_02\n",
            "start=326.5s stop=327.6s speaker_SPEAKER_02\n",
            "start=327.9s stop=335.8s speaker_SPEAKER_02\n",
            "start=335.9s stop=339.5s speaker_SPEAKER_02\n",
            "start=340.3s stop=340.7s speaker_SPEAKER_02\n",
            "start=343.1s stop=343.6s speaker_SPEAKER_02\n",
            "start=343.7s stop=344.0s speaker_SPEAKER_02\n",
            "start=344.0s stop=344.0s speaker_SPEAKER_05\n",
            "start=344.0s stop=344.4s speaker_SPEAKER_02\n",
            "start=344.4s stop=344.4s speaker_SPEAKER_08\n",
            "start=345.2s stop=345.2s speaker_SPEAKER_08\n",
            "start=345.2s stop=346.1s speaker_SPEAKER_02\n",
            "start=346.1s stop=346.2s speaker_SPEAKER_08\n",
            "start=346.2s stop=347.7s speaker_SPEAKER_05\n",
            "start=347.7s stop=347.8s speaker_SPEAKER_08\n",
            "start=349.3s stop=350.6s speaker_SPEAKER_05\n",
            "start=351.5s stop=353.0s speaker_SPEAKER_05\n",
            "start=353.2s stop=354.0s speaker_SPEAKER_05\n",
            "start=354.3s stop=354.8s speaker_SPEAKER_05\n",
            "start=355.1s stop=355.2s speaker_SPEAKER_05\n",
            "start=355.2s stop=355.9s speaker_SPEAKER_02\n",
            "start=356.0s stop=356.0s speaker_SPEAKER_02\n",
            "start=356.0s stop=357.1s speaker_SPEAKER_02\n",
            "start=357.6s stop=359.0s speaker_SPEAKER_05\n",
            "start=360.8s stop=360.8s speaker_SPEAKER_15\n",
            "start=360.8s stop=361.3s speaker_SPEAKER_05\n",
            "start=361.3s stop=361.3s speaker_SPEAKER_03\n",
            "start=361.3s stop=362.0s speaker_SPEAKER_05\n",
            "start=362.0s stop=362.0s speaker_SPEAKER_03\n",
            "start=362.0s stop=362.1s speaker_SPEAKER_05\n",
            "start=362.4s stop=363.4s speaker_SPEAKER_02\n",
            "start=365.8s stop=366.2s speaker_SPEAKER_02\n",
            "start=366.6s stop=367.5s speaker_SPEAKER_04\n",
            "start=368.1s stop=368.5s speaker_SPEAKER_04\n",
            "start=369.5s stop=371.2s speaker_SPEAKER_04\n",
            "start=375.4s stop=378.7s speaker_SPEAKER_16\n",
            "start=382.6s stop=382.6s speaker_SPEAKER_19\n",
            "start=382.6s stop=383.0s speaker_SPEAKER_04\n",
            "start=383.2s stop=384.7s speaker_SPEAKER_02\n",
            "start=384.7s stop=384.9s speaker_SPEAKER_04\n",
            "start=384.9s stop=385.0s speaker_SPEAKER_02\n",
            "start=385.5s stop=385.7s speaker_SPEAKER_04\n",
            "start=386.6s stop=387.3s speaker_SPEAKER_04\n",
            "start=387.6s stop=391.0s speaker_SPEAKER_04\n",
            "start=391.8s stop=391.8s speaker_SPEAKER_08\n",
            "start=391.8s stop=392.3s speaker_SPEAKER_02\n",
            "start=392.5s stop=392.8s speaker_SPEAKER_02\n",
            "start=393.2s stop=394.0s speaker_SPEAKER_02\n",
            "start=394.5s stop=396.5s speaker_SPEAKER_04\n",
            "start=396.6s stop=398.4s speaker_SPEAKER_02\n",
            "start=402.6s stop=403.2s speaker_SPEAKER_02\n",
            "start=403.4s stop=404.7s speaker_SPEAKER_02\n",
            "start=405.2s stop=409.7s speaker_SPEAKER_02\n",
            "start=410.6s stop=413.1s speaker_SPEAKER_02\n",
            "start=413.4s stop=422.8s speaker_SPEAKER_02\n",
            "start=418.8s stop=419.0s speaker_SPEAKER_09\n",
            "start=419.0s stop=419.4s speaker_SPEAKER_21\n",
            "start=421.7s stop=422.0s speaker_SPEAKER_14\n",
            "start=423.2s stop=424.6s speaker_SPEAKER_14\n",
            "start=425.0s stop=425.3s speaker_SPEAKER_21\n",
            "start=426.5s stop=427.8s speaker_SPEAKER_21\n",
            "start=428.4s stop=429.4s speaker_SPEAKER_14\n",
            "start=429.8s stop=430.4s speaker_SPEAKER_21\n",
            "start=431.3s stop=433.6s speaker_SPEAKER_21\n",
            "start=433.7s stop=434.4s speaker_SPEAKER_14\n",
            "start=434.7s stop=436.1s speaker_SPEAKER_14\n",
            "start=436.5s stop=439.1s speaker_SPEAKER_14\n",
            "start=439.4s stop=439.9s speaker_SPEAKER_14\n",
            "start=440.2s stop=441.5s speaker_SPEAKER_14\n",
            "start=441.8s stop=443.8s speaker_SPEAKER_14\n",
            "start=446.1s stop=446.5s speaker_SPEAKER_21\n",
            "start=447.0s stop=447.3s speaker_SPEAKER_21\n",
            "start=447.4s stop=447.8s speaker_SPEAKER_21\n",
            "start=448.4s stop=449.2s speaker_SPEAKER_21\n",
            "start=449.2s stop=449.4s speaker_SPEAKER_15\n",
            "start=449.4s stop=449.5s speaker_SPEAKER_21\n",
            "start=452.0s stop=454.7s speaker_SPEAKER_15\n",
            "start=455.4s stop=456.4s speaker_SPEAKER_15\n",
            "start=457.0s stop=464.3s speaker_SPEAKER_15\n",
            "start=464.9s stop=467.3s speaker_SPEAKER_15\n",
            "start=468.0s stop=468.3s speaker_SPEAKER_15\n",
            "start=468.4s stop=469.8s speaker_SPEAKER_15\n",
            "start=471.4s stop=471.9s speaker_SPEAKER_15\n",
            "start=473.7s stop=475.1s speaker_SPEAKER_15\n",
            "start=490.0s stop=490.6s speaker_SPEAKER_18\n",
            "start=501.8s stop=502.2s speaker_SPEAKER_05\n",
            "start=504.2s stop=505.7s speaker_SPEAKER_05\n",
            "start=506.2s stop=506.6s speaker_SPEAKER_18\n",
            "start=507.1s stop=509.1s speaker_SPEAKER_18\n",
            "start=509.7s stop=523.0s speaker_SPEAKER_18\n",
            "start=523.0s stop=530.0s speaker_SPEAKER_10\n",
            "start=531.2s stop=531.5s speaker_SPEAKER_10\n",
            "start=531.8s stop=532.0s speaker_SPEAKER_05\n",
            "start=532.1s stop=532.1s speaker_SPEAKER_05\n",
            "start=532.7s stop=533.4s speaker_SPEAKER_00\n",
            "start=534.1s stop=535.1s speaker_SPEAKER_00\n",
            "start=535.2s stop=536.1s speaker_SPEAKER_05\n",
            "start=537.8s stop=538.3s speaker_SPEAKER_14\n",
            "start=538.8s stop=538.8s speaker_SPEAKER_14\n",
            "start=539.1s stop=539.6s speaker_SPEAKER_14\n",
            "start=539.9s stop=541.6s speaker_SPEAKER_14\n",
            "start=542.3s stop=543.2s speaker_SPEAKER_05\n",
            "start=545.1s stop=546.0s speaker_SPEAKER_05\n",
            "start=546.0s stop=546.5s speaker_SPEAKER_04\n",
            "start=546.8s stop=547.4s speaker_SPEAKER_14\n",
            "start=547.6s stop=547.7s speaker_SPEAKER_05\n",
            "start=547.7s stop=548.5s speaker_SPEAKER_04\n",
            "start=548.8s stop=550.8s speaker_SPEAKER_04\n",
            "start=553.2s stop=554.7s speaker_SPEAKER_03\n",
            "start=554.9s stop=556.3s speaker_SPEAKER_03\n",
            "start=568.5s stop=568.6s speaker_SPEAKER_10\n",
            "start=572.1s stop=573.0s speaker_SPEAKER_02\n",
            "start=573.1s stop=573.7s speaker_SPEAKER_02\n",
            "start=575.4s stop=575.7s speaker_SPEAKER_02\n",
            "start=579.3s stop=579.3s speaker_SPEAKER_09\n",
            "start=579.3s stop=579.8s speaker_SPEAKER_02\n",
            "start=579.8s stop=579.9s speaker_SPEAKER_09\n",
            "start=582.7s stop=583.7s speaker_SPEAKER_09\n",
            "start=584.3s stop=584.7s speaker_SPEAKER_04\n",
            "start=586.1s stop=586.8s speaker_SPEAKER_04\n",
            "start=587.3s stop=588.0s speaker_SPEAKER_04\n",
            "start=588.5s stop=590.0s speaker_SPEAKER_04\n",
            "start=590.6s stop=590.6s speaker_SPEAKER_07\n",
            "start=590.6s stop=590.9s speaker_SPEAKER_19\n",
            "start=590.9s stop=591.0s speaker_SPEAKER_04\n",
            "start=591.0s stop=591.2s speaker_SPEAKER_19\n",
            "start=591.2s stop=591.2s speaker_SPEAKER_04\n",
            "start=592.2s stop=592.5s speaker_SPEAKER_19\n",
            "start=594.5s stop=596.0s speaker_SPEAKER_19\n",
            "start=597.6s stop=599.5s speaker_SPEAKER_19\n",
            "start=600.4s stop=600.4s speaker_SPEAKER_19\n",
            "start=600.4s stop=601.5s speaker_SPEAKER_05\n",
            "start=602.5s stop=603.0s speaker_SPEAKER_05\n",
            "start=603.9s stop=604.6s speaker_SPEAKER_05\n",
            "start=604.8s stop=605.6s speaker_SPEAKER_05\n",
            "start=605.9s stop=608.0s speaker_SPEAKER_05\n",
            "start=608.0s stop=608.0s speaker_SPEAKER_03\n",
            "start=608.4s stop=611.4s speaker_SPEAKER_19\n",
            "start=611.7s stop=615.2s speaker_SPEAKER_03\n",
            "start=613.2s stop=613.4s speaker_SPEAKER_19\n",
            "start=613.4s stop=613.4s speaker_SPEAKER_04\n",
            "start=613.4s stop=613.4s speaker_SPEAKER_19\n",
            "start=615.6s stop=616.0s speaker_SPEAKER_03\n",
            "start=616.5s stop=617.5s speaker_SPEAKER_03\n",
            "start=617.8s stop=617.8s speaker_SPEAKER_04\n",
            "start=617.8s stop=619.0s speaker_SPEAKER_03\n",
            "start=619.0s stop=620.1s speaker_SPEAKER_04\n",
            "start=620.2s stop=623.4s speaker_SPEAKER_04\n",
            "start=620.2s stop=620.2s speaker_SPEAKER_10\n",
            "start=620.2s stop=620.4s speaker_SPEAKER_03\n",
            "start=620.4s stop=621.0s speaker_SPEAKER_10\n",
            "start=621.0s stop=621.0s speaker_SPEAKER_03\n",
            "start=621.0s stop=621.5s speaker_SPEAKER_10\n",
            "start=621.5s stop=622.0s speaker_SPEAKER_03\n",
            "start=622.0s stop=623.0s speaker_SPEAKER_10\n",
            "start=624.0s stop=624.1s speaker_SPEAKER_04\n",
            "start=624.4s stop=625.2s speaker_SPEAKER_04\n",
            "start=625.7s stop=633.0s speaker_SPEAKER_04\n",
            "start=625.8s stop=626.1s speaker_SPEAKER_19\n",
            "start=633.2s stop=636.8s speaker_SPEAKER_04\n",
            "start=636.8s stop=638.8s speaker_SPEAKER_19\n",
            "start=640.7s stop=646.1s speaker_SPEAKER_19\n",
            "start=646.5s stop=647.9s speaker_SPEAKER_19\n",
            "start=667.0s stop=667.5s speaker_SPEAKER_05\n",
            "start=668.0s stop=669.0s speaker_SPEAKER_05\n",
            "start=670.1s stop=670.5s speaker_SPEAKER_05\n",
            "start=670.8s stop=672.4s speaker_SPEAKER_05\n",
            "start=673.4s stop=677.7s speaker_SPEAKER_19\n",
            "start=678.6s stop=681.4s speaker_SPEAKER_19\n",
            "start=681.9s stop=682.6s speaker_SPEAKER_19\n",
            "start=684.0s stop=684.2s speaker_SPEAKER_19\n",
            "start=684.9s stop=685.0s speaker_SPEAKER_19\n",
            "start=685.0s stop=686.4s speaker_SPEAKER_06\n",
            "start=688.7s stop=689.8s speaker_SPEAKER_06\n",
            "start=690.4s stop=690.9s speaker_SPEAKER_12\n",
            "start=693.5s stop=693.5s speaker_SPEAKER_12\n",
            "start=693.5s stop=694.0s speaker_SPEAKER_06\n",
            "start=694.0s stop=694.0s speaker_SPEAKER_12\n",
            "start=694.0s stop=694.6s speaker_SPEAKER_06\n",
            "start=694.6s stop=695.1s speaker_SPEAKER_12\n",
            "start=695.1s stop=695.4s speaker_SPEAKER_10\n",
            "start=696.7s stop=696.8s speaker_SPEAKER_10\n",
            "start=696.8s stop=698.2s speaker_SPEAKER_12\n",
            "start=698.2s stop=698.3s speaker_SPEAKER_10\n",
            "start=702.2s stop=704.1s speaker_SPEAKER_12\n",
            "start=704.8s stop=705.8s speaker_SPEAKER_12\n",
            "start=706.6s stop=708.9s speaker_SPEAKER_12\n",
            "start=709.8s stop=711.3s speaker_SPEAKER_12\n",
            "start=712.3s stop=713.6s speaker_SPEAKER_12\n",
            "start=713.9s stop=717.1s speaker_SPEAKER_12\n",
            "start=718.0s stop=721.0s speaker_SPEAKER_12\n",
            "start=721.0s stop=722.6s speaker_SPEAKER_05\n",
            "start=721.1s stop=721.2s speaker_SPEAKER_12\n",
            "start=722.4s stop=724.5s speaker_SPEAKER_12\n",
            "start=724.6s stop=724.8s speaker_SPEAKER_12\n",
            "start=725.4s stop=726.6s speaker_SPEAKER_05\n",
            "start=726.9s stop=728.3s speaker_SPEAKER_05\n",
            "start=728.7s stop=734.5s speaker_SPEAKER_05\n",
            "start=732.5s stop=733.1s speaker_SPEAKER_03\n",
            "start=734.5s stop=736.8s speaker_SPEAKER_03\n",
            "start=736.3s stop=736.7s speaker_SPEAKER_05\n",
            "start=736.8s stop=736.8s speaker_SPEAKER_05\n",
            "start=738.6s stop=739.6s speaker_SPEAKER_03\n",
            "start=739.9s stop=741.2s speaker_SPEAKER_19\n",
            "start=743.6s stop=744.8s speaker_SPEAKER_19\n",
            "start=745.2s stop=746.2s speaker_SPEAKER_19\n",
            "start=746.8s stop=747.6s speaker_SPEAKER_19\n",
            "start=748.2s stop=748.2s speaker_SPEAKER_19\n",
            "start=749.1s stop=750.8s speaker_SPEAKER_19\n",
            "start=751.5s stop=751.9s speaker_SPEAKER_19\n",
            "start=752.5s stop=753.3s speaker_SPEAKER_19\n",
            "start=754.3s stop=755.2s speaker_SPEAKER_19\n",
            "start=755.2s stop=755.2s speaker_SPEAKER_06\n",
            "start=756.1s stop=758.2s speaker_SPEAKER_06\n",
            "start=758.7s stop=760.0s speaker_SPEAKER_06\n",
            "start=760.5s stop=770.9s speaker_SPEAKER_06\n",
            "start=768.3s stop=773.1s speaker_SPEAKER_04\n",
            "start=773.1s stop=773.5s speaker_SPEAKER_06\n",
            "start=773.6s stop=774.0s speaker_SPEAKER_04\n",
            "start=774.2s stop=774.2s speaker_SPEAKER_04\n",
            "start=774.2s stop=774.8s speaker_SPEAKER_06\n",
            "start=774.2s stop=774.7s speaker_SPEAKER_04\n",
            "start=775.0s stop=776.1s speaker_SPEAKER_06\n",
            "start=776.2s stop=782.3s speaker_SPEAKER_06\n",
            "start=778.7s stop=779.3s speaker_SPEAKER_09\n",
            "start=780.6s stop=782.2s speaker_SPEAKER_09\n",
            "start=782.9s stop=783.3s speaker_SPEAKER_06\n",
            "start=783.3s stop=784.8s speaker_SPEAKER_03\n",
            "start=784.8s stop=785.0s speaker_SPEAKER_06\n",
            "start=785.0s stop=787.2s speaker_SPEAKER_03\n",
            "start=787.2s stop=787.4s speaker_SPEAKER_02\n",
            "start=787.7s stop=789.0s speaker_SPEAKER_21\n",
            "start=789.0s stop=789.2s speaker_SPEAKER_02\n",
            "start=789.2s stop=789.2s speaker_SPEAKER_21\n",
            "start=789.2s stop=789.3s speaker_SPEAKER_02\n",
            "start=790.3s stop=790.3s speaker_SPEAKER_04\n",
            "start=790.3s stop=790.8s speaker_SPEAKER_02\n",
            "start=791.2s stop=797.8s speaker_SPEAKER_02\n",
            "start=795.3s stop=795.8s speaker_SPEAKER_16\n",
            "start=797.8s stop=798.1s speaker_SPEAKER_16\n",
            "start=798.5s stop=799.0s speaker_SPEAKER_16\n",
            "start=799.0s stop=799.2s speaker_SPEAKER_09\n",
            "start=799.3s stop=802.0s speaker_SPEAKER_09\n",
            "start=803.0s stop=803.0s speaker_SPEAKER_09\n",
            "start=807.1s stop=807.5s speaker_SPEAKER_21\n",
            "start=814.3s stop=815.0s speaker_SPEAKER_21\n",
            "start=816.1s stop=817.3s speaker_SPEAKER_21\n",
            "start=819.5s stop=821.7s speaker_SPEAKER_21\n",
            "start=822.2s stop=822.9s speaker_SPEAKER_04\n",
            "start=823.2s stop=823.2s speaker_SPEAKER_21\n",
            "start=823.2s stop=823.7s speaker_SPEAKER_04\n",
            "start=823.4s stop=823.4s speaker_SPEAKER_21\n",
            "start=824.6s stop=825.9s speaker_SPEAKER_04\n",
            "start=826.1s stop=827.9s speaker_SPEAKER_04\n",
            "start=829.8s stop=829.8s speaker_SPEAKER_01\n",
            "start=829.8s stop=829.8s speaker_SPEAKER_21\n",
            "start=829.8s stop=829.9s speaker_SPEAKER_01\n",
            "start=831.7s stop=831.8s speaker_SPEAKER_01\n",
            "start=832.7s stop=832.7s speaker_SPEAKER_01\n",
            "start=833.5s stop=833.8s speaker_SPEAKER_21\n",
            "start=835.1s stop=836.2s speaker_SPEAKER_01\n",
            "start=839.7s stop=841.1s speaker_SPEAKER_01\n",
            "start=841.6s stop=842.0s speaker_SPEAKER_01\n",
            "start=842.2s stop=842.2s speaker_SPEAKER_01\n",
            "start=843.0s stop=843.6s speaker_SPEAKER_01\n",
            "start=846.3s stop=847.5s speaker_SPEAKER_05\n",
            "start=850.7s stop=851.2s speaker_SPEAKER_05\n",
            "start=854.2s stop=856.3s speaker_SPEAKER_05\n",
            "start=857.2s stop=857.6s speaker_SPEAKER_13\n",
            "start=858.2s stop=858.3s speaker_SPEAKER_13\n",
            "start=858.3s stop=859.0s speaker_SPEAKER_13\n",
            "start=859.6s stop=859.9s speaker_SPEAKER_05\n",
            "start=859.9s stop=860.2s speaker_SPEAKER_06\n",
            "start=861.6s stop=862.1s speaker_SPEAKER_06\n",
            "start=863.1s stop=866.2s speaker_SPEAKER_06\n",
            "start=866.2s stop=869.2s speaker_SPEAKER_17\n",
            "start=869.2s stop=874.0s speaker_SPEAKER_10\n",
            "start=883.5s stop=883.6s speaker_SPEAKER_08\n",
            "start=883.9s stop=894.0s speaker_SPEAKER_08\n",
            "start=888.6s stop=888.6s speaker_SPEAKER_00\n",
            "start=888.7s stop=889.0s speaker_SPEAKER_00\n",
            "start=894.2s stop=894.3s speaker_SPEAKER_08\n",
            "start=894.3s stop=894.4s speaker_SPEAKER_08\n",
            "start=894.9s stop=895.8s speaker_SPEAKER_08\n",
            "start=895.9s stop=896.1s speaker_SPEAKER_08\n",
            "start=899.9s stop=900.0s speaker_SPEAKER_11\n",
            "start=903.1s stop=904.9s speaker_SPEAKER_05\n",
            "start=905.1s stop=907.9s speaker_SPEAKER_11\n",
            "start=907.9s stop=908.0s speaker_SPEAKER_11\n",
            "start=908.8s stop=910.0s speaker_SPEAKER_11\n",
            "start=910.7s stop=913.9s speaker_SPEAKER_11\n",
            "start=932.1s stop=932.8s speaker_SPEAKER_05\n",
            "start=937.7s stop=939.0s speaker_SPEAKER_05\n",
            "start=939.3s stop=940.0s speaker_SPEAKER_05\n",
            "start=943.4s stop=954.0s speaker_SPEAKER_05\n",
            "start=954.6s stop=958.1s speaker_SPEAKER_05\n",
            "start=958.4s stop=959.5s speaker_SPEAKER_05\n",
            "start=959.5s stop=959.7s speaker_SPEAKER_03\n",
            "start=960.0s stop=960.0s speaker_SPEAKER_05\n",
            "start=960.0s stop=961.6s speaker_SPEAKER_03\n",
            "start=961.7s stop=964.3s speaker_SPEAKER_04\n",
            "start=967.1s stop=967.9s speaker_SPEAKER_04\n",
            "start=967.9s stop=967.9s speaker_SPEAKER_03\n",
            "start=967.9s stop=967.9s speaker_SPEAKER_04\n",
            "start=967.9s stop=967.9s speaker_SPEAKER_03\n",
            "start=967.9s stop=968.3s speaker_SPEAKER_04\n",
            "start=968.3s stop=968.3s speaker_SPEAKER_03\n",
            "start=969.1s stop=970.5s speaker_SPEAKER_04\n",
            "start=977.3s stop=978.2s speaker_SPEAKER_10\n",
            "start=978.7s stop=982.9s speaker_SPEAKER_05\n",
            "start=985.0s stop=987.4s speaker_SPEAKER_06\n",
            "start=988.2s stop=989.7s speaker_SPEAKER_06\n",
            "start=989.9s stop=990.6s speaker_SPEAKER_06\n",
            "start=990.9s stop=993.0s speaker_SPEAKER_05\n",
            "start=994.5s stop=996.9s speaker_SPEAKER_05\n",
            "start=997.3s stop=999.6s speaker_SPEAKER_05\n",
            "start=1000.2s stop=1001.6s speaker_SPEAKER_05\n",
            "start=1002.3s stop=1008.7s speaker_SPEAKER_21\n",
            "start=1008.9s stop=1010.1s speaker_SPEAKER_21\n",
            "start=1010.7s stop=1014.6s speaker_SPEAKER_21\n",
            "start=1014.4s stop=1014.9s speaker_SPEAKER_07\n",
            "start=1014.7s stop=1015.0s speaker_SPEAKER_21\n",
            "start=1015.0s stop=1015.2s speaker_SPEAKER_05\n",
            "start=1015.2s stop=1015.2s speaker_SPEAKER_21\n",
            "start=1015.2s stop=1015.3s speaker_SPEAKER_05\n",
            "start=1015.3s stop=1015.6s speaker_SPEAKER_21\n",
            "start=1015.6s stop=1015.6s speaker_SPEAKER_05\n",
            "start=1015.6s stop=1016.2s speaker_SPEAKER_07\n",
            "start=1016.2s stop=1018.0s speaker_SPEAKER_05\n",
            "start=1018.6s stop=1020.6s speaker_SPEAKER_05\n",
            "start=1020.9s stop=1025.6s speaker_SPEAKER_05\n",
            "start=1026.4s stop=1028.1s speaker_SPEAKER_05\n",
            "start=1028.6s stop=1031.7s speaker_SPEAKER_05\n",
            "start=1036.2s stop=1036.9s speaker_SPEAKER_05\n",
            "start=1036.9s stop=1036.9s speaker_SPEAKER_10\n",
            "start=1036.9s stop=1037.0s speaker_SPEAKER_05\n",
            "start=1038.0s stop=1038.3s speaker_SPEAKER_05\n",
            "start=1038.3s stop=1038.3s speaker_SPEAKER_17\n",
            "start=1038.7s stop=1038.8s speaker_SPEAKER_06\n",
            "start=1038.8s stop=1040.5s speaker_SPEAKER_05\n",
            "start=1042.4s stop=1044.4s speaker_SPEAKER_05\n",
            "start=1045.2s stop=1045.6s speaker_SPEAKER_17\n",
            "start=1046.3s stop=1047.2s speaker_SPEAKER_17\n",
            "start=1047.6s stop=1048.1s speaker_SPEAKER_17\n",
            "start=1048.1s stop=1048.1s speaker_SPEAKER_05\n",
            "start=1048.1s stop=1048.5s speaker_SPEAKER_17\n",
            "start=1049.1s stop=1050.6s speaker_SPEAKER_05\n",
            "start=1052.5s stop=1054.5s speaker_SPEAKER_05\n",
            "start=1056.6s stop=1057.3s speaker_SPEAKER_05\n",
            "start=1058.0s stop=1059.1s speaker_SPEAKER_05\n",
            "start=1078.7s stop=1080.3s speaker_SPEAKER_13\n",
            "start=1080.6s stop=1081.7s speaker_SPEAKER_13\n",
            "start=1082.3s stop=1083.6s speaker_SPEAKER_13\n",
            "start=1083.6s stop=1086.6s speaker_SPEAKER_13\n",
            "start=1087.0s stop=1087.3s speaker_SPEAKER_13\n",
            "start=1087.8s stop=1088.2s speaker_SPEAKER_13\n",
            "start=1088.8s stop=1091.7s speaker_SPEAKER_13\n",
            "start=1092.0s stop=1093.0s speaker_SPEAKER_13\n",
            "start=1093.4s stop=1094.2s speaker_SPEAKER_13\n",
            "start=1094.8s stop=1095.4s speaker_SPEAKER_13\n",
            "start=1095.8s stop=1097.1s speaker_SPEAKER_13\n",
            "start=1097.7s stop=1099.8s speaker_SPEAKER_13\n",
            "start=1144.5s stop=1144.5s speaker_SPEAKER_10\n",
            "start=1144.5s stop=1145.1s speaker_SPEAKER_02\n",
            "start=1145.6s stop=1157.0s speaker_SPEAKER_02\n",
            "start=1157.0s stop=1157.2s speaker_SPEAKER_14\n",
            "start=1157.2s stop=1157.2s speaker_SPEAKER_02\n",
            "start=1157.7s stop=1159.1s speaker_SPEAKER_14\n",
            "start=1159.1s stop=1160.1s speaker_SPEAKER_21\n",
            "start=1160.1s stop=1160.1s speaker_SPEAKER_03\n",
            "start=1160.1s stop=1160.2s speaker_SPEAKER_21\n",
            "start=1160.2s stop=1162.3s speaker_SPEAKER_03\n",
            "start=1162.0s stop=1162.0s speaker_SPEAKER_21\n",
            "start=1162.0s stop=1162.9s speaker_SPEAKER_01\n",
            "start=1162.9s stop=1169.3s speaker_SPEAKER_03\n",
            "start=1169.3s stop=1171.7s speaker_SPEAKER_04\n",
            "start=1172.5s stop=1173.4s speaker_SPEAKER_04\n",
            "start=1173.6s stop=1175.3s speaker_SPEAKER_04\n",
            "start=1175.7s stop=1176.2s speaker_SPEAKER_04\n",
            "start=1176.2s stop=1176.3s speaker_SPEAKER_06\n",
            "start=1176.3s stop=1176.4s speaker_SPEAKER_06\n",
            "start=1176.4s stop=1178.0s speaker_SPEAKER_04\n",
            "start=1178.0s stop=1179.6s speaker_SPEAKER_06\n",
            "start=1179.7s stop=1187.3s speaker_SPEAKER_06\n",
            "start=1187.4s stop=1188.3s speaker_SPEAKER_06\n",
            "start=1188.4s stop=1190.8s speaker_SPEAKER_02\n",
            "start=1193.3s stop=1198.4s speaker_SPEAKER_06\n",
            "start=1199.4s stop=1199.4s speaker_SPEAKER_21\n",
            "start=1199.4s stop=1202.0s speaker_SPEAKER_06\n",
            "start=1202.0s stop=1203.5s speaker_SPEAKER_21\n",
            "start=1204.0s stop=1208.8s speaker_SPEAKER_21\n",
            "start=1209.0s stop=1210.7s speaker_SPEAKER_05\n",
            "start=1213.6s stop=1215.1s speaker_SPEAKER_05\n",
            "start=1217.1s stop=1220.1s speaker_SPEAKER_05\n",
            "start=1222.1s stop=1224.1s speaker_SPEAKER_05\n",
            "start=1227.9s stop=1229.8s speaker_SPEAKER_05\n",
            "start=1230.8s stop=1233.3s speaker_SPEAKER_05\n",
            "start=1254.4s stop=1255.4s speaker_SPEAKER_13\n",
            "start=1255.8s stop=1256.6s speaker_SPEAKER_13\n",
            "start=1257.3s stop=1258.1s speaker_SPEAKER_10\n",
            "start=1258.3s stop=1259.1s speaker_SPEAKER_13\n",
            "start=1260.1s stop=1260.5s speaker_SPEAKER_13\n",
            "start=1264.8s stop=1265.4s speaker_SPEAKER_16\n",
            "start=1267.8s stop=1270.0s speaker_SPEAKER_16\n",
            "start=1270.6s stop=1272.1s speaker_SPEAKER_16\n",
            "start=1272.7s stop=1273.8s speaker_SPEAKER_16\n",
            "start=1273.9s stop=1274.4s speaker_SPEAKER_16\n",
            "start=1275.2s stop=1276.2s speaker_SPEAKER_16\n",
            "start=1276.4s stop=1276.5s speaker_SPEAKER_16\n",
            "start=1278.6s stop=1279.5s speaker_SPEAKER_07\n",
            "start=1285.2s stop=1285.6s speaker_SPEAKER_09\n",
            "start=1285.8s stop=1289.3s speaker_SPEAKER_09\n",
            "start=1290.0s stop=1290.7s speaker_SPEAKER_09\n",
            "start=1292.3s stop=1296.7s speaker_SPEAKER_09\n",
            "start=1297.6s stop=1298.1s speaker_SPEAKER_10\n",
            "start=1298.1s stop=1298.8s speaker_SPEAKER_09\n",
            "start=1298.9s stop=1300.1s speaker_SPEAKER_09\n",
            "start=1304.0s stop=1304.2s speaker_SPEAKER_07\n",
            "start=1304.2s stop=1304.4s speaker_SPEAKER_07\n",
            "start=1306.0s stop=1306.6s speaker_SPEAKER_07\n",
            "start=1308.2s stop=1308.8s speaker_SPEAKER_07\n",
            "start=1309.9s stop=1314.0s speaker_SPEAKER_11\n",
            "start=1323.7s stop=1324.4s speaker_SPEAKER_02\n",
            "start=1324.5s stop=1326.5s speaker_SPEAKER_02\n",
            "start=1328.8s stop=1330.0s speaker_SPEAKER_02\n",
            "start=1330.2s stop=1332.0s speaker_SPEAKER_02\n",
            "start=1332.0s stop=1333.0s speaker_SPEAKER_04\n",
            "start=1333.0s stop=1333.1s speaker_SPEAKER_02\n",
            "start=1334.4s stop=1334.8s speaker_SPEAKER_02\n",
            "start=1335.7s stop=1335.9s speaker_SPEAKER_02\n",
            "start=1336.6s stop=1337.0s speaker_SPEAKER_02\n",
            "start=1337.0s stop=1337.3s speaker_SPEAKER_08\n",
            "start=1337.3s stop=1337.4s speaker_SPEAKER_02\n",
            "start=1337.7s stop=1337.7s speaker_SPEAKER_02\n",
            "start=1337.7s stop=1339.2s speaker_SPEAKER_08\n",
            "start=1340.8s stop=1340.9s speaker_SPEAKER_09\n",
            "start=1342.9s stop=1343.4s speaker_SPEAKER_09\n",
            "start=1344.5s stop=1347.1s speaker_SPEAKER_09\n",
            "start=1348.1s stop=1349.5s speaker_SPEAKER_09\n",
            "start=1355.0s stop=1355.0s speaker_SPEAKER_09\n",
            "start=1356.7s stop=1358.8s speaker_SPEAKER_09\n",
            "start=1361.3s stop=1366.8s speaker_SPEAKER_08\n",
            "start=1369.0s stop=1370.8s speaker_SPEAKER_08\n",
            "start=1371.2s stop=1372.0s speaker_SPEAKER_08\n",
            "start=1372.0s stop=1372.1s speaker_SPEAKER_02\n",
            "start=1372.1s stop=1372.2s speaker_SPEAKER_08\n",
            "start=1372.4s stop=1372.4s speaker_SPEAKER_08\n",
            "start=1372.4s stop=1374.7s speaker_SPEAKER_02\n",
            "start=1375.1s stop=1380.6s speaker_SPEAKER_02\n",
            "start=1381.1s stop=1383.0s speaker_SPEAKER_18\n",
            "start=1382.2s stop=1386.4s speaker_SPEAKER_02\n",
            "start=1386.9s stop=1387.0s speaker_SPEAKER_02\n",
            "start=1387.0s stop=1387.0s speaker_SPEAKER_09\n",
            "start=1390.0s stop=1390.0s speaker_SPEAKER_09\n",
            "start=1390.0s stop=1390.2s speaker_SPEAKER_02\n",
            "start=1390.2s stop=1390.3s speaker_SPEAKER_09\n",
            "start=1390.3s stop=1392.0s speaker_SPEAKER_02\n",
            "start=1391.2s stop=1391.4s speaker_SPEAKER_05\n",
            "start=1391.5s stop=1391.5s speaker_SPEAKER_05\n",
            "start=1391.6s stop=1391.7s speaker_SPEAKER_05\n",
            "start=1392.7s stop=1395.4s speaker_SPEAKER_02\n",
            "start=1395.7s stop=1396.4s speaker_SPEAKER_02\n",
            "start=1396.4s stop=1396.4s speaker_SPEAKER_09\n",
            "start=1396.5s stop=1397.1s speaker_SPEAKER_02\n",
            "start=1397.1s stop=1403.0s speaker_SPEAKER_09\n",
            "start=1403.0s stop=1403.3s speaker_SPEAKER_11\n",
            "start=1405.1s stop=1408.6s speaker_SPEAKER_11\n",
            "start=1408.1s stop=1408.5s speaker_SPEAKER_02\n",
            "start=1414.1s stop=1417.0s speaker_SPEAKER_02\n",
            "start=1417.0s stop=1418.0s speaker_SPEAKER_08\n",
            "start=1435.0s stop=1435.2s speaker_SPEAKER_08\n",
            "start=1436.1s stop=1436.4s speaker_SPEAKER_08\n",
            "start=1436.8s stop=1436.9s speaker_SPEAKER_08\n",
            "start=1437.6s stop=1438.1s speaker_SPEAKER_08\n",
            "start=1438.8s stop=1439.6s speaker_SPEAKER_08\n",
            "start=1440.6s stop=1441.0s speaker_SPEAKER_08\n",
            "start=1441.1s stop=1441.7s speaker_SPEAKER_18\n",
            "start=1465.9s stop=1466.7s speaker_SPEAKER_09\n",
            "start=1469.0s stop=1472.1s speaker_SPEAKER_09\n",
            "start=1474.0s stop=1474.0s speaker_SPEAKER_02\n",
            "start=1474.0s stop=1474.1s speaker_SPEAKER_09\n",
            "start=1474.2s stop=1474.2s speaker_SPEAKER_09\n",
            "start=1474.3s stop=1474.8s speaker_SPEAKER_09\n",
            "start=1475.1s stop=1475.1s speaker_SPEAKER_09\n",
            "start=1475.1s stop=1477.3s speaker_SPEAKER_02\n",
            "start=1477.8s stop=1478.0s speaker_SPEAKER_02\n",
            "start=1483.1s stop=1483.8s speaker_SPEAKER_02\n",
            "start=1484.7s stop=1484.9s speaker_SPEAKER_11\n",
            "start=1487.0s stop=1487.6s speaker_SPEAKER_02\n",
            "start=1489.7s stop=1490.6s speaker_SPEAKER_08\n",
            "start=1490.9s stop=1492.1s speaker_SPEAKER_08\n",
            "start=1492.5s stop=1492.5s speaker_SPEAKER_11\n",
            "start=1492.5s stop=1493.5s speaker_SPEAKER_08\n",
            "start=1493.5s stop=1494.2s speaker_SPEAKER_11\n",
            "start=1494.4s stop=1499.7s speaker_SPEAKER_11\n",
            "start=1500.5s stop=1500.6s speaker_SPEAKER_11\n",
            "start=1500.6s stop=1500.8s speaker_SPEAKER_02\n",
            "start=1501.6s stop=1501.8s speaker_SPEAKER_02\n",
            "start=1501.8s stop=1502.0s speaker_SPEAKER_11\n",
            "start=1502.0s stop=1502.2s speaker_SPEAKER_02\n",
            "start=1502.2s stop=1502.2s speaker_SPEAKER_11\n",
            "start=1502.2s stop=1502.4s speaker_SPEAKER_02\n",
            "start=1503.1s stop=1509.1s speaker_SPEAKER_02\n",
            "start=1517.8s stop=1518.2s speaker_SPEAKER_17\n",
            "start=1519.0s stop=1519.8s speaker_SPEAKER_17\n",
            "start=1519.9s stop=1521.0s speaker_SPEAKER_17\n",
            "start=1521.5s stop=1522.8s speaker_SPEAKER_17\n",
            "start=1523.3s stop=1523.9s speaker_SPEAKER_17\n",
            "start=1524.2s stop=1525.0s speaker_SPEAKER_17\n",
            "start=1525.4s stop=1526.5s speaker_SPEAKER_17\n",
            "start=1526.5s stop=1526.5s speaker_SPEAKER_02\n",
            "start=1528.3s stop=1528.7s speaker_SPEAKER_02\n",
            "start=1529.6s stop=1530.5s speaker_SPEAKER_02\n",
            "start=1530.7s stop=1533.9s speaker_SPEAKER_02\n",
            "start=1534.0s stop=1535.0s speaker_SPEAKER_02\n",
            "start=1535.6s stop=1536.2s speaker_SPEAKER_02\n",
            "start=1537.5s stop=1539.7s speaker_SPEAKER_02\n",
            "start=1540.6s stop=1543.5s speaker_SPEAKER_02\n",
            "start=1543.6s stop=1543.8s speaker_SPEAKER_02\n",
            "start=1547.5s stop=1548.9s speaker_SPEAKER_02\n",
            "start=1549.3s stop=1558.2s speaker_SPEAKER_02\n",
            "start=1551.1s stop=1551.6s speaker_SPEAKER_07\n",
            "start=1551.6s stop=1551.6s speaker_SPEAKER_16\n",
            "start=1552.0s stop=1552.2s speaker_SPEAKER_16\n",
            "start=1558.9s stop=1567.2s speaker_SPEAKER_02\n",
            "start=1561.8s stop=1562.4s speaker_SPEAKER_19\n",
            "start=1566.6s stop=1566.9s speaker_SPEAKER_01\n",
            "start=1567.4s stop=1570.0s speaker_SPEAKER_02\n",
            "start=1570.3s stop=1571.4s speaker_SPEAKER_02\n",
            "start=1571.9s stop=1572.7s speaker_SPEAKER_02\n",
            "start=1584.0s stop=1584.7s speaker_SPEAKER_09\n",
            "start=1585.4s stop=1585.9s speaker_SPEAKER_06\n",
            "start=1587.9s stop=1588.5s speaker_SPEAKER_06\n",
            "start=1589.0s stop=1589.6s speaker_SPEAKER_06\n",
            "start=1591.0s stop=1591.5s speaker_SPEAKER_06\n",
            "start=1593.9s stop=1594.3s speaker_SPEAKER_07\n",
            "start=1594.3s stop=1594.4s speaker_SPEAKER_10\n",
            "start=1600.9s stop=1600.9s speaker_SPEAKER_11\n",
            "start=1601.0s stop=1604.1s speaker_SPEAKER_11\n",
            "start=1604.4s stop=1606.8s speaker_SPEAKER_11\n",
            "start=1607.4s stop=1608.9s speaker_SPEAKER_05\n",
            "start=1608.9s stop=1609.9s speaker_SPEAKER_11\n",
            "start=1610.0s stop=1610.0s speaker_SPEAKER_11\n",
            "start=1610.2s stop=1612.9s speaker_SPEAKER_11\n",
            "start=1613.2s stop=1616.0s speaker_SPEAKER_05\n",
            "start=1615.6s stop=1615.7s speaker_SPEAKER_08\n",
            "start=1615.7s stop=1615.7s speaker_SPEAKER_18\n",
            "start=1615.7s stop=1616.5s speaker_SPEAKER_08\n",
            "start=1616.0s stop=1616.0s speaker_SPEAKER_11\n",
            "start=1616.0s stop=1617.3s speaker_SPEAKER_07\n",
            "start=1616.5s stop=1616.6s speaker_SPEAKER_11\n",
            "start=1618.5s stop=1619.3s speaker_SPEAKER_07\n",
            "start=1621.1s stop=1621.2s speaker_SPEAKER_07\n",
            "start=1622.7s stop=1625.4s speaker_SPEAKER_07\n",
            "start=1626.5s stop=1626.8s speaker_SPEAKER_07\n",
            "start=1629.0s stop=1630.1s speaker_SPEAKER_07\n",
            "start=1630.3s stop=1630.8s speaker_SPEAKER_04\n",
            "start=1631.3s stop=1632.0s speaker_SPEAKER_07\n",
            "start=1636.8s stop=1637.3s speaker_SPEAKER_04\n",
            "start=1638.4s stop=1642.3s speaker_SPEAKER_04\n",
            "start=1642.4s stop=1644.4s speaker_SPEAKER_04\n",
            "start=1645.7s stop=1646.2s speaker_SPEAKER_04\n",
            "start=1646.4s stop=1647.2s speaker_SPEAKER_04\n",
            "start=1669.0s stop=1670.0s speaker_SPEAKER_18\n",
            "start=1670.0s stop=1670.6s speaker_SPEAKER_18\n",
            "start=1673.4s stop=1674.3s speaker_SPEAKER_00\n",
            "start=1675.2s stop=1678.6s speaker_SPEAKER_00\n",
            "start=1679.4s stop=1681.5s speaker_SPEAKER_00\n",
            "start=1681.8s stop=1682.3s speaker_SPEAKER_04\n",
            "start=1682.5s stop=1684.3s speaker_SPEAKER_00\n",
            "start=1685.4s stop=1686.5s speaker_SPEAKER_00\n",
            "start=1687.6s stop=1689.7s speaker_SPEAKER_00\n",
            "start=1690.6s stop=1692.6s speaker_SPEAKER_00\n",
            "start=1697.5s stop=1697.5s speaker_SPEAKER_02\n",
            "start=1697.5s stop=1697.6s speaker_SPEAKER_00\n",
            "start=1697.6s stop=1697.7s speaker_SPEAKER_02\n",
            "start=1697.7s stop=1698.0s speaker_SPEAKER_00\n",
            "start=1698.0s stop=1699.4s speaker_SPEAKER_02\n",
            "start=1700.8s stop=1700.9s speaker_SPEAKER_07\n",
            "start=1700.9s stop=1700.9s speaker_SPEAKER_02\n",
            "start=1700.9s stop=1701.2s speaker_SPEAKER_07\n",
            "start=1703.4s stop=1705.2s speaker_SPEAKER_02\n",
            "start=1705.2s stop=1705.2s speaker_SPEAKER_19\n",
            "start=1711.0s stop=1711.3s speaker_SPEAKER_11\n",
            "start=1711.6s stop=1712.1s speaker_SPEAKER_11\n",
            "start=1719.2s stop=1719.5s speaker_SPEAKER_09\n",
            "start=1721.6s stop=1722.6s speaker_SPEAKER_09\n",
            "start=1723.9s stop=1724.5s speaker_SPEAKER_09\n",
            "start=1725.3s stop=1725.7s speaker_SPEAKER_09\n",
            "start=1726.3s stop=1726.3s speaker_SPEAKER_09\n",
            "start=1726.3s stop=1726.7s speaker_SPEAKER_10\n",
            "start=1733.3s stop=1734.0s speaker_SPEAKER_06\n",
            "start=1735.2s stop=1736.0s speaker_SPEAKER_06\n",
            "start=1738.0s stop=1738.4s speaker_SPEAKER_06\n",
            "start=1738.5s stop=1740.0s speaker_SPEAKER_06\n",
            "start=1740.0s stop=1740.5s speaker_SPEAKER_13\n",
            "start=1740.4s stop=1740.5s speaker_SPEAKER_06\n",
            "start=1740.5s stop=1740.5s speaker_SPEAKER_10\n",
            "start=1740.5s stop=1741.5s speaker_SPEAKER_10\n",
            "start=1750.5s stop=1751.5s speaker_SPEAKER_07\n",
            "start=1752.8s stop=1754.2s speaker_SPEAKER_07\n",
            "start=1754.3s stop=1754.4s speaker_SPEAKER_07\n",
            "start=1754.4s stop=1754.5s speaker_SPEAKER_03\n",
            "start=1754.5s stop=1755.0s speaker_SPEAKER_07\n",
            "start=1755.0s stop=1755.7s speaker_SPEAKER_03\n",
            "start=1755.6s stop=1757.5s speaker_SPEAKER_07\n",
            "start=1757.0s stop=1757.5s speaker_SPEAKER_03\n",
            "start=1757.9s stop=1759.4s speaker_SPEAKER_07\n",
            "start=1759.4s stop=1759.4s speaker_SPEAKER_16\n",
            "start=1759.4s stop=1760.4s speaker_SPEAKER_03\n",
            "start=1760.4s stop=1760.6s speaker_SPEAKER_10\n",
            "start=1760.7s stop=1760.7s speaker_SPEAKER_07\n",
            "start=1760.7s stop=1763.5s speaker_SPEAKER_10\n",
            "start=1764.5s stop=1764.5s speaker_SPEAKER_10\n",
            "start=1772.0s stop=1772.4s speaker_SPEAKER_10\n",
            "start=1772.6s stop=1773.8s speaker_SPEAKER_10\n",
            "start=1774.0s stop=1774.0s speaker_SPEAKER_10\n",
            "start=1774.0s stop=1774.2s speaker_SPEAKER_10\n",
            "start=1775.5s stop=1775.8s speaker_SPEAKER_10\n",
            "start=1779.6s stop=1779.7s speaker_SPEAKER_10\n",
            "start=1780.7s stop=1783.0s speaker_SPEAKER_10\n",
            "start=1783.0s stop=1783.9s speaker_SPEAKER_19\n",
            "start=1784.0s stop=1785.0s speaker_SPEAKER_19\n",
            "start=1787.4s stop=1787.4s speaker_SPEAKER_19\n",
            "start=1787.4s stop=1791.0s speaker_SPEAKER_03\n",
            "start=1788.2s stop=1788.5s speaker_SPEAKER_19\n",
            "start=1791.0s stop=1793.6s speaker_SPEAKER_02\n",
            "start=1794.8s stop=1795.4s speaker_SPEAKER_05\n",
            "start=1797.0s stop=1798.7s speaker_SPEAKER_05\n",
            "start=1799.7s stop=1801.0s speaker_SPEAKER_05\n",
            "start=1801.6s stop=1803.3s speaker_SPEAKER_05\n",
            "start=1803.5s stop=1803.7s speaker_SPEAKER_05\n",
            "start=1803.7s stop=1803.9s speaker_SPEAKER_10\n",
            "start=1803.9s stop=1804.0s speaker_SPEAKER_05\n",
            "start=1804.0s stop=1804.1s speaker_SPEAKER_10\n",
            "start=1805.1s stop=1806.8s speaker_SPEAKER_05\n",
            "start=1807.1s stop=1807.5s speaker_SPEAKER_05\n",
            "start=1808.3s stop=1809.0s speaker_SPEAKER_05\n",
            "start=1809.3s stop=1810.1s speaker_SPEAKER_06\n",
            "start=1810.5s stop=1812.1s speaker_SPEAKER_06\n",
            "start=1812.6s stop=1813.5s speaker_SPEAKER_06\n",
            "start=1814.4s stop=1815.8s speaker_SPEAKER_06\n",
            "start=1816.8s stop=1817.4s speaker_SPEAKER_06\n",
            "start=1817.7s stop=1818.8s speaker_SPEAKER_05\n",
            "start=1819.4s stop=1820.8s speaker_SPEAKER_05\n",
            "start=1821.5s stop=1822.1s speaker_SPEAKER_14\n",
            "start=1823.3s stop=1823.9s speaker_SPEAKER_05\n",
            "start=1825.9s stop=1827.8s speaker_SPEAKER_05\n",
            "start=1828.7s stop=1829.7s speaker_SPEAKER_05\n",
            "start=1832.9s stop=1833.9s speaker_SPEAKER_06\n",
            "start=1837.2s stop=1838.0s speaker_SPEAKER_04\n",
            "start=1838.7s stop=1840.3s speaker_SPEAKER_04\n",
            "start=1840.5s stop=1840.5s speaker_SPEAKER_03\n",
            "start=1840.5s stop=1842.7s speaker_SPEAKER_05\n",
            "start=1842.1s stop=1842.1s speaker_SPEAKER_03\n",
            "start=1842.1s stop=1842.6s speaker_SPEAKER_04\n",
            "start=1842.6s stop=1842.6s speaker_SPEAKER_03\n",
            "start=1842.7s stop=1842.7s speaker_SPEAKER_03\n",
            "start=1842.7s stop=1843.4s speaker_SPEAKER_05\n",
            "start=1843.7s stop=1846.9s speaker_SPEAKER_05\n",
            "start=1850.5s stop=1850.5s speaker_SPEAKER_05\n",
            "start=1850.5s stop=1851.9s speaker_SPEAKER_21\n",
            "start=1853.2s stop=1853.5s speaker_SPEAKER_04\n",
            "start=1854.3s stop=1854.8s speaker_SPEAKER_04\n",
            "start=1855.5s stop=1857.2s speaker_SPEAKER_04\n",
            "start=1857.2s stop=1857.5s speaker_SPEAKER_03\n",
            "start=1857.6s stop=1869.8s speaker_SPEAKER_03\n",
            "start=1861.5s stop=1862.0s speaker_SPEAKER_04\n",
            "start=1864.8s stop=1865.9s speaker_SPEAKER_04\n",
            "start=1870.0s stop=1870.7s speaker_SPEAKER_03\n",
            "start=1870.7s stop=1870.8s speaker_SPEAKER_06\n",
            "start=1870.9s stop=1871.5s speaker_SPEAKER_14\n",
            "start=1872.2s stop=1872.5s speaker_SPEAKER_14\n",
            "start=1872.9s stop=1872.9s speaker_SPEAKER_03\n",
            "start=1872.9s stop=1874.4s speaker_SPEAKER_06\n",
            "start=1874.6s stop=1875.2s speaker_SPEAKER_06\n",
            "start=1875.4s stop=1877.9s speaker_SPEAKER_06\n",
            "start=1878.5s stop=1879.7s speaker_SPEAKER_06\n",
            "start=1880.6s stop=1881.0s speaker_SPEAKER_06\n",
            "start=1881.0s stop=1881.3s speaker_SPEAKER_03\n",
            "start=1881.8s stop=1881.9s speaker_SPEAKER_14\n",
            "start=1882.2s stop=1882.9s speaker_SPEAKER_14\n",
            "start=1884.6s stop=1885.8s speaker_SPEAKER_03\n",
            "start=1886.5s stop=1887.0s speaker_SPEAKER_14\n",
            "start=1887.0s stop=1889.8s speaker_SPEAKER_10\n",
            "start=1890.2s stop=1891.2s speaker_SPEAKER_10\n",
            "start=1892.5s stop=1894.3s speaker_SPEAKER_10\n",
            "start=1894.3s stop=1894.4s speaker_SPEAKER_10\n",
            "start=1896.0s stop=1896.0s speaker_SPEAKER_10\n",
            "start=1896.7s stop=1897.6s speaker_SPEAKER_03\n",
            "start=1897.7s stop=1898.8s speaker_SPEAKER_03\n",
            "start=1899.5s stop=1900.4s speaker_SPEAKER_03\n",
            "start=1900.4s stop=1900.4s speaker_SPEAKER_04\n",
            "start=1900.9s stop=1901.0s speaker_SPEAKER_03\n",
            "start=1901.0s stop=1908.3s speaker_SPEAKER_04\n",
            "start=1909.5s stop=1912.0s speaker_SPEAKER_04\n"
          ]
        }
      ]
    },
    {
      "cell_type": "code",
      "source": [
        "def consolidate_speaker_segments(diarization):\n",
        "    consolidated_segments = []\n",
        "    current_speaker = None\n",
        "    segment_start = None\n",
        "\n",
        "    for turn, _, speaker in diarization.itertracks(yield_label=True):\n",
        "        if speaker != current_speaker:\n",
        "            if current_speaker is not None:\n",
        "                consolidated_segments.append((current_speaker, segment_start, turn.start))\n",
        "            current_speaker = speaker\n",
        "            segment_start = turn.start\n",
        "        segment_end = turn.end\n",
        "\n",
        "    if current_speaker is not None:\n",
        "        consolidated_segments.append((current_speaker, segment_start, segment_end))\n",
        "\n",
        "    return consolidated_segments"
      ],
      "metadata": {
        "id": "NmWnYmnJSSPJ"
      },
      "execution_count": 12,
      "outputs": []
    },
    {
      "cell_type": "code",
      "source": [
        "# Example usage with the provided diarization object:\n",
        "segments = consolidate_speaker_segments(diarization)"
      ],
      "metadata": {
        "id": "MFjVfQukSYMS"
      },
      "execution_count": 13,
      "outputs": []
    },
    {
      "cell_type": "code",
      "source": [
        "segments"
      ],
      "metadata": {
        "colab": {
          "base_uri": "https://localhost:8080/"
        },
        "id": "k5GotXCBSbFu",
        "outputId": "c93df0e6-97fd-4a7b-e224-158b3a23032f"
      },
      "execution_count": 14,
      "outputs": [
        {
          "output_type": "execute_result",
          "data": {
            "text/plain": [
              "[('SPEAKER_05', 2.2415937500000003, 14.05409375),\n",
              " ('SPEAKER_00', 14.05409375, 17.10846875),\n",
              " ('SPEAKER_06', 17.10846875, 21.394718750000003),\n",
              " ('SPEAKER_00', 21.394718750000003, 28.988468750000003),\n",
              " ('SPEAKER_02', 28.988468750000003, 33.15659375),\n",
              " ('SPEAKER_00', 33.15659375, 33.173468750000005),\n",
              " ('SPEAKER_08', 33.173468750000005, 33.67971875),\n",
              " ('SPEAKER_00', 33.67971875, 33.96659375),\n",
              " ('SPEAKER_08', 33.96659375, 38.53971875),\n",
              " ('SPEAKER_02', 38.53971875, 38.72534375),\n",
              " ('SPEAKER_08', 38.72534375, 38.96159375),\n",
              " ('SPEAKER_02', 38.96159375, 50.28471875),\n",
              " ('SPEAKER_11', 50.28471875, 50.30159375),\n",
              " ('SPEAKER_02', 50.30159375, 50.43659375),\n",
              " ('SPEAKER_11', 50.43659375, 50.453468750000006),\n",
              " ('SPEAKER_02', 50.453468750000006, 50.60534375),\n",
              " ('SPEAKER_11', 50.60534375, 54.250343750000006),\n",
              " ('SPEAKER_02', 54.250343750000006, 66.70409375),\n",
              " ('SPEAKER_16', 66.70409375, 67.46346875),\n",
              " ('SPEAKER_02', 67.46346875, 90.02534375),\n",
              " ('SPEAKER_00', 90.02534375, 102.61409375000001),\n",
              " ('SPEAKER_06', 102.61409375000001, 118.07159375),\n",
              " ('SPEAKER_00', 118.07159375, 119.48909375000001),\n",
              " ('SPEAKER_10', 119.48909375000001, 119.52284375),\n",
              " ('SPEAKER_00', 119.52284375, 120.21471875),\n",
              " ('SPEAKER_10', 120.21471875, 123.58971875),\n",
              " ('SPEAKER_00', 123.58971875, 126.86346875000001),\n",
              " ('SPEAKER_04', 126.86346875000001, 130.42409375),\n",
              " ('SPEAKER_03', 130.42409375, 137.32596875000002),\n",
              " ('SPEAKER_19', 137.32596875000002, 157.00221875),\n",
              " ('SPEAKER_04', 157.00221875, 159.26346875000002),\n",
              " ('SPEAKER_06', 159.26346875000002, 169.96221875),\n",
              " ('SPEAKER_19', 169.96221875, 170.02971875),\n",
              " ('SPEAKER_03', 170.02971875, 170.24909375000001),\n",
              " ('SPEAKER_06', 170.24909375000001, 170.29971875),\n",
              " ('SPEAKER_19', 170.29971875, 170.40096875),\n",
              " ('SPEAKER_09', 170.40096875, 172.57784375),\n",
              " ('SPEAKER_03', 172.57784375, 177.92721875),\n",
              " ('SPEAKER_20', 177.92721875, 185.94284375),\n",
              " ('SPEAKER_04', 185.94284375, 187.49534375000002),\n",
              " ('SPEAKER_20', 187.49534375000002, 187.93409375000002),\n",
              " ('SPEAKER_04', 187.93409375000002, 191.78159375),\n",
              " ('SPEAKER_02', 191.78159375, 191.96721875),\n",
              " ('SPEAKER_04', 191.96721875, 193.28346875000003),\n",
              " ('SPEAKER_02', 193.28346875000003, 194.53221875),\n",
              " ('SPEAKER_19', 194.53221875, 194.54909375000003),\n",
              " ('SPEAKER_04', 194.54909375000003, 194.97096875000003),\n",
              " ('SPEAKER_19', 194.97096875000003, 196.55721875),\n",
              " ('SPEAKER_21', 196.55721875, 207.88034375),\n",
              " ('SPEAKER_14', 207.88034375, 215.11971875),\n",
              " ('SPEAKER_03', 215.11971875, 222.24096875),\n",
              " ('SPEAKER_14', 222.24096875, 225.19409375),\n",
              " ('SPEAKER_20', 225.19409375, 232.61909375000002),\n",
              " ('SPEAKER_02', 232.61909375000002, 247.84034375000002),\n",
              " ('SPEAKER_05', 247.84034375000002, 254.32034375),\n",
              " ('SPEAKER_18', 254.32034375, 254.35409375),\n",
              " ('SPEAKER_05', 254.35409375, 254.74221875),\n",
              " ('SPEAKER_18', 254.74221875, 255.04596875000001),\n",
              " ('SPEAKER_05', 255.04596875000001, 256.15971875),\n",
              " ('SPEAKER_18', 256.15971875, 262.97721875),\n",
              " ('SPEAKER_10', 262.97721875, 268.10721875),\n",
              " ('SPEAKER_18', 268.10721875, 269.03534375000004),\n",
              " ('SPEAKER_09', 269.03534375000004, 271.88721875000005),\n",
              " ('SPEAKER_04', 271.88721875000005, 271.90409375),\n",
              " ('SPEAKER_05', 271.90409375, 273.70971875000004),\n",
              " ('SPEAKER_10', 273.70971875000004, 274.36784375),\n",
              " ('SPEAKER_05', 274.36784375, 287.46284375),\n",
              " ('SPEAKER_21', 287.46284375, 290.31471875),\n",
              " ('SPEAKER_06', 290.31471875, 292.17096875000004),\n",
              " ('SPEAKER_21', 292.17096875000004, 292.18784375),\n",
              " ('SPEAKER_06', 292.18784375, 303.96659375),\n",
              " ('SPEAKER_11', 303.96659375, 311.86409375),\n",
              " ('SPEAKER_19', 311.86409375, 315.37409375000004),\n",
              " ('SPEAKER_05', 315.37409375000004, 315.66096875),\n",
              " ('SPEAKER_06', 315.66096875, 316.94346875),\n",
              " ('SPEAKER_19', 316.94346875, 322.66409375),\n",
              " ('SPEAKER_02', 322.66409375, 344.02784375000005),\n",
              " ('SPEAKER_05', 344.02784375000005, 344.04471875),\n",
              " ('SPEAKER_02', 344.04471875, 344.38221875000005),\n",
              " ('SPEAKER_08', 344.38221875000005, 345.20909375),\n",
              " ('SPEAKER_02', 345.20909375, 346.08659375),\n",
              " ('SPEAKER_08', 346.08659375, 346.17096875000004),\n",
              " ('SPEAKER_05', 346.17096875000004, 347.74034375),\n",
              " ('SPEAKER_08', 347.74034375, 349.30971875),\n",
              " ('SPEAKER_05', 349.30971875, 355.21596875),\n",
              " ('SPEAKER_02', 355.21596875, 357.61221875),\n",
              " ('SPEAKER_05', 357.61221875, 360.78471875),\n",
              " ('SPEAKER_15', 360.78471875, 360.80159375),\n",
              " ('SPEAKER_05', 360.80159375, 361.25721875000005),\n",
              " ('SPEAKER_03', 361.25721875000005, 361.27409375),\n",
              " ('SPEAKER_05', 361.27409375, 361.96596875),\n",
              " ('SPEAKER_03', 361.96596875, 362.01659375),\n",
              " ('SPEAKER_05', 362.01659375, 362.37096875000003),\n",
              " ('SPEAKER_02', 362.37096875000003, 366.55596875000003),\n",
              " ('SPEAKER_04', 366.55596875000003, 375.43221875),\n",
              " ('SPEAKER_16', 375.43221875, 382.62096875000003),\n",
              " ('SPEAKER_19', 382.62096875000003, 382.63784375),\n",
              " ('SPEAKER_04', 382.63784375, 383.19471875000005),\n",
              " ('SPEAKER_02', 383.19471875000005, 384.69659375000003),\n",
              " ('SPEAKER_04', 384.69659375000003, 384.91596875000005),\n",
              " ('SPEAKER_02', 384.91596875000005, 385.50659375000004),\n",
              " ('SPEAKER_04', 385.50659375000004, 391.80096875000004),\n",
              " ('SPEAKER_08', 391.80096875000004, 391.81784375),\n",
              " ('SPEAKER_02', 391.81784375, 394.45034375),\n",
              " ('SPEAKER_04', 394.45034375, 396.55971875),\n",
              " ('SPEAKER_02', 396.55971875, 418.78409375),\n",
              " ('SPEAKER_09', 418.78409375, 419.03721875),\n",
              " ('SPEAKER_21', 419.03721875, 421.65284375000005),\n",
              " ('SPEAKER_14', 421.65284375000005, 425.04471875),\n",
              " ('SPEAKER_21', 425.04471875, 428.40284375000005),\n",
              " ('SPEAKER_14', 428.40284375000005, 429.82034375),\n",
              " ('SPEAKER_21', 429.82034375, 433.70159375000003),\n",
              " ('SPEAKER_14', 433.70159375000003, 446.08784375000005),\n",
              " ('SPEAKER_21', 446.08784375000005, 449.19284375),\n",
              " ('SPEAKER_15', 449.19284375, 449.36159375000005),\n",
              " ('SPEAKER_21', 449.36159375000005, 452.01096875),\n",
              " ('SPEAKER_15', 452.01096875, 490.04721875),\n",
              " ('SPEAKER_18', 490.04721875, 501.84284375000004),\n",
              " ('SPEAKER_05', 501.84284375000004, 506.24721875000006),\n",
              " ('SPEAKER_18', 506.24721875000006, 522.97034375),\n",
              " ('SPEAKER_10', 522.97034375, 531.7959687499999),\n",
              " ('SPEAKER_05', 531.7959687499999, 532.7240937500001),\n",
              " ('SPEAKER_00', 532.7240937500001, 535.18784375),\n",
              " ('SPEAKER_05', 535.18784375, 537.8203437500001),\n",
              " ('SPEAKER_14', 537.8203437500001, 542.3090937500001),\n",
              " ('SPEAKER_05', 542.3090937500001, 546.03846875),\n",
              " ('SPEAKER_04', 546.03846875, 546.8315937500001),\n",
              " ('SPEAKER_14', 546.8315937500001, 547.6415937500001),\n",
              " ('SPEAKER_05', 547.6415937500001, 547.6584687500001),\n",
              " ('SPEAKER_04', 547.6584687500001, 553.1597187500001),\n",
              " ('SPEAKER_03', 553.1597187500001, 568.4653437500001),\n",
              " ('SPEAKER_10', 568.4653437500001, 572.1440937500001),\n",
              " ('SPEAKER_02', 572.1440937500001, 579.2990937500001),\n",
              " ('SPEAKER_09', 579.2990937500001, 579.3159687500001),\n",
              " ('SPEAKER_02', 579.3159687500001, 579.8390937500001),\n",
              " ('SPEAKER_09', 579.8390937500001, 584.29409375),\n",
              " ('SPEAKER_04', 584.29409375, 590.62221875),\n",
              " ('SPEAKER_07', 590.62221875, 590.63909375),\n",
              " ('SPEAKER_19', 590.63909375, 590.89221875),\n",
              " ('SPEAKER_04', 590.89221875, 591.02721875),\n",
              " ('SPEAKER_19', 591.02721875, 591.16221875),\n",
              " ('SPEAKER_04', 591.16221875, 592.17471875),\n",
              " ('SPEAKER_19', 592.17471875, 600.3928437500001),\n",
              " ('SPEAKER_05', 600.3928437500001, 607.9865937500001),\n",
              " ('SPEAKER_03', 607.9865937500001, 608.4422187499999),\n",
              " ('SPEAKER_19', 608.4422187499999, 611.6653437500001),\n",
              " ('SPEAKER_03', 611.6653437500001, 613.2009687500001),\n",
              " ('SPEAKER_19', 613.2009687500001, 613.3528437500001),\n",
              " ('SPEAKER_04', 613.3528437500001, 613.36971875),\n",
              " ('SPEAKER_19', 613.36971875, 615.6140937499999),\n",
              " ('SPEAKER_03', 615.6140937499999, 617.77409375),\n",
              " ('SPEAKER_04', 617.77409375, 617.79096875),\n",
              " ('SPEAKER_03', 617.79096875, 619.02284375),\n",
              " ('SPEAKER_04', 619.02284375, 620.2209687500001),\n",
              " ('SPEAKER_10', 620.2209687500001, 620.2378437500001),\n",
              " ('SPEAKER_03', 620.2378437500001, 620.3559687500001),\n",
              " ('SPEAKER_10', 620.3559687500001, 620.98034375),\n",
              " ('SPEAKER_03', 620.98034375, 621.01409375),\n",
              " ('SPEAKER_10', 621.01409375, 621.4697187500001),\n",
              " ('SPEAKER_03', 621.4697187500001, 621.97596875),\n",
              " ('SPEAKER_10', 621.97596875, 623.96721875),\n",
              " ('SPEAKER_04', 623.96721875, 625.80659375),\n",
              " ('SPEAKER_19', 625.80659375, 633.1809687500001),\n",
              " ('SPEAKER_04', 633.1809687500001, 636.8090937500001),\n",
              " ('SPEAKER_19', 636.8090937500001, 667.01534375),\n",
              " ('SPEAKER_05', 667.01534375, 673.3772187500001),\n",
              " ('SPEAKER_19', 673.3772187500001, 684.97034375),\n",
              " ('SPEAKER_06', 684.97034375, 690.35346875),\n",
              " ('SPEAKER_12', 690.35346875, 693.54284375),\n",
              " ('SPEAKER_06', 693.54284375, 693.96471875),\n",
              " ('SPEAKER_12', 693.96471875, 693.99846875),\n",
              " ('SPEAKER_06', 693.99846875, 694.5890937500001),\n",
              " ('SPEAKER_12', 694.5890937500001, 695.11221875),\n",
              " ('SPEAKER_10', 695.11221875, 696.8334687500001),\n",
              " ('SPEAKER_12', 696.8334687500001, 698.21721875),\n",
              " ('SPEAKER_10', 698.21721875, 702.16596875),\n",
              " ('SPEAKER_12', 702.16596875, 721.0322187500001),\n",
              " ('SPEAKER_05', 721.0322187500001, 721.0659687500001),\n",
              " ('SPEAKER_12', 721.0659687500001, 725.4197187500001),\n",
              " ('SPEAKER_05', 725.4197187500001, 732.4565937500001),\n",
              " ('SPEAKER_03', 732.4565937500001, 736.32096875),\n",
              " ('SPEAKER_05', 736.32096875, 738.6328437500001),\n",
              " ('SPEAKER_03', 738.6328437500001, 739.94909375),\n",
              " ('SPEAKER_19', 739.94909375, 755.2209687500001),\n",
              " ('SPEAKER_06', 755.2209687500001, 768.34971875),\n",
              " ('SPEAKER_04', 768.34971875, 773.0747187500001),\n",
              " ('SPEAKER_06', 773.0747187500001, 773.6315937500001),\n",
              " ('SPEAKER_04', 773.6315937500001, 774.2222187500001),\n",
              " ('SPEAKER_06', 774.2222187500001, 774.2390937499999),\n",
              " ('SPEAKER_04', 774.2390937499999, 774.98159375),\n",
              " ('SPEAKER_06', 774.98159375, 778.7109687500001),\n",
              " ('SPEAKER_09', 778.7109687500001, 782.9128437500001),\n",
              " ('SPEAKER_06', 782.9128437500001, 783.26721875),\n",
              " ('SPEAKER_03', 783.26721875, 784.81971875),\n",
              " ('SPEAKER_06', 784.81971875, 784.95471875),\n",
              " ('SPEAKER_03', 784.95471875, 787.21596875),\n",
              " ('SPEAKER_02', 787.21596875, 787.65471875),\n",
              " ('SPEAKER_21', 787.65471875, 789.03846875),\n",
              " ('SPEAKER_02', 789.03846875, 789.15659375),\n",
              " ('SPEAKER_21', 789.15659375, 789.19034375),\n",
              " ('SPEAKER_02', 789.19034375, 790.2703437499999),\n",
              " ('SPEAKER_04', 790.2703437499999, 790.28721875),\n",
              " ('SPEAKER_02', 790.28721875, 795.2822187500001),\n",
              " ('SPEAKER_16', 795.2822187500001, 799.02846875),\n",
              " ('SPEAKER_09', 799.02846875, 807.0947187500001),\n",
              " ('SPEAKER_21', 807.0947187500001, 822.21471875),\n",
              " ('SPEAKER_04', 822.21471875, 823.21034375),\n",
              " ('SPEAKER_21', 823.21034375, 823.22721875),\n",
              " ('SPEAKER_04', 823.22721875, 823.4128437500001),\n",
              " ('SPEAKER_21', 823.4128437500001, 824.59409375),\n",
              " ('SPEAKER_04', 824.59409375, 829.79159375),\n",
              " ('SPEAKER_01', 829.79159375, 829.80846875),\n",
              " ('SPEAKER_21', 829.80846875, 829.84221875),\n",
              " ('SPEAKER_01', 829.84221875, 833.50409375),\n",
              " ('SPEAKER_21', 833.50409375, 835.1240937500002),\n",
              " ('SPEAKER_01', 835.1240937500002, 846.3290937500001),\n",
              " ('SPEAKER_05', 846.3290937500001, 857.23034375),\n",
              " ('SPEAKER_13', 857.23034375, 859.5590937500001),\n",
              " ('SPEAKER_05', 859.5590937500001, 859.93034375),\n",
              " ('SPEAKER_06', 859.93034375, 866.24159375),\n",
              " ('SPEAKER_17', 866.24159375, 869.22846875),\n",
              " ('SPEAKER_10', 869.22846875, 883.4540937500001),\n",
              " ('SPEAKER_08', 883.4540937500001, 888.58409375),\n",
              " ('SPEAKER_00', 888.58409375, 894.20346875),\n",
              " ('SPEAKER_08', 894.20346875, 899.9409687500001),\n",
              " ('SPEAKER_11', 899.9409687500001, 903.09659375),\n",
              " ('SPEAKER_05', 903.09659375, 905.07096875),\n",
              " ('SPEAKER_11', 905.07096875, 932.1215937500001),\n",
              " ('SPEAKER_05', 932.1215937500001, 959.5265937500001),\n",
              " ('SPEAKER_03', 959.5265937500001, 959.9653437500001),\n",
              " ('SPEAKER_05', 959.9653437500001, 959.9822187500001),\n",
              " ('SPEAKER_03', 959.9822187500001, 961.6865937500002),\n",
              " ('SPEAKER_04', 961.6865937500002, 967.8797187500002),\n",
              " ('SPEAKER_03', 967.8797187500002, 967.89659375),\n",
              " ('SPEAKER_04', 967.89659375, 967.91346875),\n",
              " ('SPEAKER_03', 967.91346875, 967.94721875),\n",
              " ('SPEAKER_04', 967.94721875, 968.2678437500001),\n",
              " ('SPEAKER_03', 968.2678437500001, 969.1115937500001),\n",
              " ('SPEAKER_04', 969.1115937500001, 977.34659375),\n",
              " ('SPEAKER_10', 977.34659375, 978.6628437500001),\n",
              " ('SPEAKER_05', 978.6628437500001, 985.0247187500001),\n",
              " ('SPEAKER_06', 985.0247187500001, 990.8972187500001),\n",
              " ('SPEAKER_05', 990.8972187500001, 1002.3215937500001),\n",
              " ('SPEAKER_21', 1002.3215937500001, 1014.4040937500001),\n",
              " ('SPEAKER_07', 1014.4040937500001, 1014.6572187500001),\n",
              " ('SPEAKER_21', 1014.6572187500001, 1015.02846875),\n",
              " ('SPEAKER_05', 1015.02846875, 1015.19721875),\n",
              " ('SPEAKER_21', 1015.19721875, 1015.2478437500001),\n",
              " ('SPEAKER_05', 1015.2478437500001, 1015.33221875),\n",
              " ('SPEAKER_21', 1015.33221875, 1015.58534375),\n",
              " ('SPEAKER_05', 1015.58534375, 1015.60221875),\n",
              " ('SPEAKER_07', 1015.60221875, 1016.2097187500001),\n",
              " ('SPEAKER_05', 1016.2097187500001, 1036.9322187500002),\n",
              " ('SPEAKER_10', 1036.9322187500002, 1036.9490937500002),\n",
              " ('SPEAKER_05', 1036.9490937500002, 1038.28221875),\n",
              " ('SPEAKER_17', 1038.28221875, 1038.7378437500001),\n",
              " ('SPEAKER_06', 1038.7378437500001, 1038.7547187500002),\n",
              " ('SPEAKER_05', 1038.7547187500002, 1045.18409375),\n",
              " ('SPEAKER_17', 1045.18409375, 1048.10346875),\n",
              " ('SPEAKER_05', 1048.10346875, 1048.13721875),\n",
              " ('SPEAKER_17', 1048.13721875, 1049.1497187500001),\n",
              " ('SPEAKER_05', 1049.1497187500001, 1078.7147187500002),\n",
              " ('SPEAKER_13', 1078.7147187500002, 1144.4934687500001),\n",
              " ('SPEAKER_10', 1144.4934687500001, 1144.5103437500002),\n",
              " ('SPEAKER_02', 1144.5103437500002, 1157.0315937500002),\n",
              " ('SPEAKER_14', 1157.0315937500002, 1157.2003437500002),\n",
              " ('SPEAKER_02', 1157.2003437500002, 1157.65596875),\n",
              " ('SPEAKER_14', 1157.65596875, 1159.07346875),\n",
              " ('SPEAKER_21', 1159.07346875, 1160.1028437500001),\n",
              " ('SPEAKER_03', 1160.1028437500001, 1160.1197187500002),\n",
              " ('SPEAKER_21', 1160.1197187500002, 1160.18721875),\n",
              " ('SPEAKER_03', 1160.18721875, 1162.02659375),\n",
              " ('SPEAKER_21', 1162.02659375, 1162.04346875),\n",
              " ('SPEAKER_01', 1162.04346875, 1162.9209687500002),\n",
              " ('SPEAKER_03', 1162.9209687500002, 1169.31659375),\n",
              " ('SPEAKER_04', 1169.31659375, 1176.1847187500002),\n",
              " ('SPEAKER_06', 1176.1847187500002, 1176.4209687500002),\n",
              " ('SPEAKER_04', 1176.4209687500002, 1177.9734687500002),\n",
              " ('SPEAKER_06', 1177.9734687500002, 1188.4022187500002),\n",
              " ('SPEAKER_02', 1188.4022187500002, 1193.2959687500002),\n",
              " ('SPEAKER_06', 1193.2959687500002, 1199.3540937500002),\n",
              " ('SPEAKER_21', 1199.3540937500002, 1199.3709687500002),\n",
              " ('SPEAKER_06', 1199.3709687500002, 1201.96971875),\n",
              " ('SPEAKER_21', 1201.96971875, 1209.0234687500001),\n",
              " ('SPEAKER_05', 1209.0234687500001, 1254.3834687500002),\n",
              " ('SPEAKER_13', 1254.3834687500002, 1257.3028437500002),\n",
              " ('SPEAKER_10', 1257.3028437500002, 1258.2815937500002),\n",
              " ('SPEAKER_13', 1258.2815937500002, 1264.81221875),\n",
              " ('SPEAKER_16', 1264.81221875, 1278.6497187500001),\n",
              " ('SPEAKER_07', 1278.6497187500001, 1285.23096875),\n",
              " ('SPEAKER_09', 1285.23096875, 1297.6172187500001),\n",
              " ('SPEAKER_10', 1297.6172187500001, 1298.14034375),\n",
              " ('SPEAKER_09', 1298.14034375, 1303.9622187500001),\n",
              " ('SPEAKER_07', 1303.9622187500001, 1309.9022187500002),\n",
              " ('SPEAKER_11', 1309.9022187500002, 1323.73971875),\n",
              " ('SPEAKER_02', 1323.73971875, 1332.04221875),\n",
              " ('SPEAKER_04', 1332.04221875, 1332.9703437500002),\n",
              " ('SPEAKER_02', 1332.9703437500002, 1336.96971875),\n",
              " ('SPEAKER_08', 1336.96971875, 1337.3072187500002),\n",
              " ('SPEAKER_02', 1337.3072187500002, 1337.7290937500002),\n",
              " ('SPEAKER_08', 1337.7290937500002, 1340.76659375),\n",
              " ('SPEAKER_09', 1340.76659375, 1361.2528437500002),\n",
              " ('SPEAKER_08', 1361.2528437500002, 1372.0359687500002),\n",
              " ('SPEAKER_02', 1372.0359687500002, 1372.13721875),\n",
              " ('SPEAKER_08', 1372.13721875, 1372.4409687500001),\n",
              " ('SPEAKER_02', 1372.4409687500001, 1381.13159375),\n",
              " ('SPEAKER_18', 1381.13159375, 1382.1609687500002),\n",
              " ('SPEAKER_02', 1382.1609687500002, 1386.9703437500002),\n",
              " ('SPEAKER_09', 1386.9703437500002, 1390.0247187500001),\n",
              " ('SPEAKER_02', 1390.0247187500001, 1390.24409375),\n",
              " ('SPEAKER_09', 1390.24409375, 1390.3284687500002),\n",
              " ('SPEAKER_02', 1390.3284687500002, 1391.1722187500002),\n",
              " ('SPEAKER_05', 1391.1722187500002, 1392.7415937500002),\n",
              " ('SPEAKER_02', 1392.7415937500002, 1396.3865937500002),\n",
              " ('SPEAKER_09', 1396.3865937500002, 1396.5215937500002),\n",
              " ('SPEAKER_02', 1396.5215937500002, 1397.0615937500002),\n",
              " ('SPEAKER_09', 1397.0615937500002, 1402.9678437500002),\n",
              " ('SPEAKER_11', 1402.9678437500002, 1408.09784375),\n",
              " ('SPEAKER_02', 1408.09784375, 1416.95721875),\n",
              " ('SPEAKER_08', 1416.95721875, 1441.1222187500002),\n",
              " ('SPEAKER_18', 1441.1222187500002, 1465.9453437500001),\n",
              " ('SPEAKER_09', 1465.9453437500001, 1474.0284687500002),\n",
              " ('SPEAKER_02', 1474.0284687500002, 1474.0453437500003),\n",
              " ('SPEAKER_09', 1474.0453437500003, 1475.1084687500002),\n",
              " ('SPEAKER_02', 1475.1084687500002, 1484.6765937500002),\n",
              " ('SPEAKER_11', 1484.6765937500002, 1486.9715937500002),\n",
              " ('SPEAKER_02', 1486.9715937500002, 1489.70534375),\n",
              " ('SPEAKER_08', 1489.70534375, 1492.4728437500003),\n",
              " ('SPEAKER_11', 1492.4728437500003, 1492.48971875),\n",
              " ('SPEAKER_08', 1492.48971875, 1493.46846875),\n",
              " ('SPEAKER_11', 1493.46846875, 1500.5559687500001),\n",
              " ('SPEAKER_02', 1500.5559687500001, 1501.7540937500003),\n",
              " ('SPEAKER_11', 1501.7540937500003, 1501.9734687500002),\n",
              " ('SPEAKER_02', 1501.9734687500002, 1502.1590937500002),\n",
              " ('SPEAKER_11', 1502.1590937500002, 1502.1759687500003),\n",
              " ('SPEAKER_02', 1502.1759687500003, 1517.7684687500002),\n",
              " ('SPEAKER_17', 1517.7684687500002, 1526.4590937500002),\n",
              " ('SPEAKER_02', 1526.4590937500002, 1551.1134687500003),\n",
              " ('SPEAKER_07', 1551.1134687500003, 1551.56909375),\n",
              " ('SPEAKER_16', 1551.56909375, 1558.9434687500002),\n",
              " ('SPEAKER_02', 1558.9434687500002, 1561.82909375),\n",
              " ('SPEAKER_19', 1561.82909375, 1566.58784375),\n",
              " ('SPEAKER_01', 1566.58784375, 1567.3809687500002),\n",
              " ('SPEAKER_02', 1567.3809687500002, 1583.9690937500002),\n",
              " ('SPEAKER_09', 1583.9690937500002, 1585.3865937500002),\n",
              " ('SPEAKER_06', 1585.3865937500002, 1593.90846875),\n",
              " ('SPEAKER_07', 1593.90846875, 1594.33034375),\n",
              " ('SPEAKER_10', 1594.33034375, 1600.8609687500002),\n",
              " ('SPEAKER_11', 1600.8609687500002, 1607.39159375),\n",
              " ('SPEAKER_05', 1607.39159375, 1608.8765937500002),\n",
              " ('SPEAKER_11', 1608.8765937500002, 1613.16284375),\n",
              " ('SPEAKER_05', 1613.16284375, 1615.6097187500002),\n",
              " ('SPEAKER_08', 1615.6097187500002, 1615.69409375),\n",
              " ('SPEAKER_18', 1615.69409375, 1615.7447187500002),\n",
              " ('SPEAKER_08', 1615.7447187500002, 1615.96409375),\n",
              " ('SPEAKER_11', 1615.96409375, 1616.0484687500002),\n",
              " ('SPEAKER_07', 1616.0484687500002, 1616.5040937500003),\n",
              " ('SPEAKER_11', 1616.5040937500003, 1618.51221875),\n",
              " ('SPEAKER_07', 1618.51221875, 1630.32471875),\n",
              " ('SPEAKER_04', 1630.32471875, 1631.3203437500001),\n",
              " ('SPEAKER_07', 1631.3203437500001, 1636.7540937500003),\n",
              " ('SPEAKER_04', 1636.7540937500003, 1668.96846875),\n",
              " ('SPEAKER_18', 1668.96846875, 1673.3728437500001),\n",
              " ('SPEAKER_00', 1673.3728437500001, 1681.77659375),\n",
              " ('SPEAKER_04', 1681.77659375, 1682.48534375),\n",
              " ('SPEAKER_00', 1682.48534375, 1697.5040937500003),\n",
              " ('SPEAKER_02', 1697.5040937500003, 1697.52096875),\n",
              " ('SPEAKER_00', 1697.52096875, 1697.6390937500003),\n",
              " ('SPEAKER_02', 1697.6390937500003, 1697.7065937500001),\n",
              " ('SPEAKER_00', 1697.7065937500001, 1697.9765937500001),\n",
              " ('SPEAKER_02', 1697.9765937500001, 1700.8284687500002),\n",
              " ('SPEAKER_07', 1700.8284687500002, 1700.8790937500003),\n",
              " ('SPEAKER_02', 1700.8790937500003, 1700.9465937500001),\n",
              " ('SPEAKER_07', 1700.9465937500001, 1703.42721875),\n",
              " ('SPEAKER_02', 1703.42721875, 1705.1653437500001),\n",
              " ('SPEAKER_19', 1705.1653437500001, 1710.9703437500002),\n",
              " ('SPEAKER_11', 1710.9703437500002, 1719.18846875),\n",
              " ('SPEAKER_09', 1719.18846875, 1726.2928437500002),\n",
              " ('SPEAKER_10', 1726.2928437500002, 1733.26221875),\n",
              " ('SPEAKER_06', 1733.26221875, 1739.9784687500003),\n",
              " ('SPEAKER_13', 1739.9784687500003, 1740.3665937500002),\n",
              " ('SPEAKER_06', 1740.3665937500002, 1740.4678437500002),\n",
              " ('SPEAKER_10', 1740.4678437500002, 1750.4747187500002),\n",
              " ('SPEAKER_07', 1750.4747187500002, 1754.4234687500002),\n",
              " ('SPEAKER_03', 1754.4234687500002, 1754.49096875),\n",
              " ('SPEAKER_07', 1754.49096875, 1755.0309687500003),\n",
              " ('SPEAKER_03', 1755.0309687500003, 1755.5878437500003),\n",
              " ('SPEAKER_07', 1755.5878437500003, 1756.9715937500002),\n",
              " ('SPEAKER_03', 1756.9715937500002, 1757.8997187500001),\n",
              " ('SPEAKER_07', 1757.8997187500001, 1759.41846875),\n",
              " ('SPEAKER_16', 1759.41846875, 1759.4353437500001),\n",
              " ('SPEAKER_03', 1759.4353437500001, 1760.4140937500001),\n",
              " ('SPEAKER_10', 1760.4140937500001, 1760.6503437500003),\n",
              " ('SPEAKER_07', 1760.6503437500003, 1760.66721875),\n",
              " ('SPEAKER_10', 1760.66721875, 1782.9759687500002),\n",
              " ('SPEAKER_19', 1782.9759687500002, 1787.4309687500001),\n",
              " ('SPEAKER_03', 1787.4309687500001, 1788.24096875),\n",
              " ('SPEAKER_19', 1788.24096875, 1791.0253437500003),\n",
              " ('SPEAKER_02', 1791.0253437500003, 1794.8053437500002),\n",
              " ('SPEAKER_05', 1794.8053437500002, 1803.71534375),\n",
              " ('SPEAKER_10', 1803.71534375, 1803.8672187500001),\n",
              " ('SPEAKER_05', 1803.8672187500001, 1803.9684687500003),\n",
              " ('SPEAKER_10', 1803.9684687500003, 1805.1328437500001),\n",
              " ('SPEAKER_05', 1805.1328437500001, 1809.2840937500002),\n",
              " ('SPEAKER_06', 1809.2840937500002, 1817.6878437500002),\n",
              " ('SPEAKER_05', 1817.6878437500002, 1821.4678437500002),\n",
              " ('SPEAKER_14', 1821.4678437500002, 1823.25659375),\n",
              " ('SPEAKER_05', 1823.25659375, 1832.8922187500002),\n",
              " ('SPEAKER_06', 1832.8922187500002, 1837.1953437500001),\n",
              " ('SPEAKER_04', 1837.1953437500001, 1840.4859687500002),\n",
              " ('SPEAKER_03', 1840.4859687500002, 1840.5028437500002),\n",
              " ('SPEAKER_05', 1840.5028437500002, 1842.10596875),\n",
              " ('SPEAKER_03', 1842.10596875, 1842.1228437500001),\n",
              " ('SPEAKER_04', 1842.1228437500001, 1842.6122187500002),\n",
              " ('SPEAKER_03', 1842.6122187500002, 1842.6965937500001),\n",
              " ('SPEAKER_05', 1842.6965937500001, 1850.5097187500003),\n",
              " ('SPEAKER_21', 1850.5097187500003, 1853.1590937500002),\n",
              " ('SPEAKER_04', 1853.1590937500002, 1857.1753437500001),\n",
              " ('SPEAKER_03', 1857.1753437500001, 1861.51221875),\n",
              " ('SPEAKER_04', 1861.51221875, 1870.0003437500002),\n",
              " ('SPEAKER_03', 1870.0003437500002, 1870.7428437500002),\n",
              " ('SPEAKER_06', 1870.7428437500002, 1870.9453437500001),\n",
              " ('SPEAKER_14', 1870.9453437500001, 1872.90284375),\n",
              " ('SPEAKER_03', 1872.90284375, 1872.9197187500001),\n",
              " ('SPEAKER_06', 1872.9197187500001, 1880.9690937500002),\n",
              " ('SPEAKER_03', 1880.9690937500002, 1881.7790937500001),\n",
              " ('SPEAKER_14', 1881.7790937500001, 1884.58034375),\n",
              " ('SPEAKER_03', 1884.58034375, 1886.53784375),\n",
              " ('SPEAKER_14', 1886.53784375, 1886.9765937500001),\n",
              " ('SPEAKER_10', 1886.9765937500001, 1896.66284375),\n",
              " ('SPEAKER_03', 1896.66284375, 1900.3922187500002),\n",
              " ('SPEAKER_04', 1900.3922187500002, 1900.88159375),\n",
              " ('SPEAKER_03', 1900.88159375, 1901.03346875),\n",
              " ('SPEAKER_04', 1901.03346875, 1911.9684687500003)]"
            ]
          },
          "metadata": {},
          "execution_count": 14
        }
      ]
    },
    {
      "cell_type": "code",
      "source": [
        "for speaker, start, end in segments:\n",
        "    print(f\"speaker_{speaker} start={start:.1f}s stop={end:.1f}s\")"
      ],
      "metadata": {
        "colab": {
          "base_uri": "https://localhost:8080/"
        },
        "id": "bMn5tIKiSd15",
        "outputId": "3aedb668-78dc-45de-db26-f7ac2a166502"
      },
      "execution_count": 15,
      "outputs": [
        {
          "output_type": "stream",
          "name": "stdout",
          "text": [
            "speaker_SPEAKER_05 start=2.2s stop=14.1s\n",
            "speaker_SPEAKER_00 start=14.1s stop=17.1s\n",
            "speaker_SPEAKER_06 start=17.1s stop=21.4s\n",
            "speaker_SPEAKER_00 start=21.4s stop=29.0s\n",
            "speaker_SPEAKER_02 start=29.0s stop=33.2s\n",
            "speaker_SPEAKER_00 start=33.2s stop=33.2s\n",
            "speaker_SPEAKER_08 start=33.2s stop=33.7s\n",
            "speaker_SPEAKER_00 start=33.7s stop=34.0s\n",
            "speaker_SPEAKER_08 start=34.0s stop=38.5s\n",
            "speaker_SPEAKER_02 start=38.5s stop=38.7s\n",
            "speaker_SPEAKER_08 start=38.7s stop=39.0s\n",
            "speaker_SPEAKER_02 start=39.0s stop=50.3s\n",
            "speaker_SPEAKER_11 start=50.3s stop=50.3s\n",
            "speaker_SPEAKER_02 start=50.3s stop=50.4s\n",
            "speaker_SPEAKER_11 start=50.4s stop=50.5s\n",
            "speaker_SPEAKER_02 start=50.5s stop=50.6s\n",
            "speaker_SPEAKER_11 start=50.6s stop=54.3s\n",
            "speaker_SPEAKER_02 start=54.3s stop=66.7s\n",
            "speaker_SPEAKER_16 start=66.7s stop=67.5s\n",
            "speaker_SPEAKER_02 start=67.5s stop=90.0s\n",
            "speaker_SPEAKER_00 start=90.0s stop=102.6s\n",
            "speaker_SPEAKER_06 start=102.6s stop=118.1s\n",
            "speaker_SPEAKER_00 start=118.1s stop=119.5s\n",
            "speaker_SPEAKER_10 start=119.5s stop=119.5s\n",
            "speaker_SPEAKER_00 start=119.5s stop=120.2s\n",
            "speaker_SPEAKER_10 start=120.2s stop=123.6s\n",
            "speaker_SPEAKER_00 start=123.6s stop=126.9s\n",
            "speaker_SPEAKER_04 start=126.9s stop=130.4s\n",
            "speaker_SPEAKER_03 start=130.4s stop=137.3s\n",
            "speaker_SPEAKER_19 start=137.3s stop=157.0s\n",
            "speaker_SPEAKER_04 start=157.0s stop=159.3s\n",
            "speaker_SPEAKER_06 start=159.3s stop=170.0s\n",
            "speaker_SPEAKER_19 start=170.0s stop=170.0s\n",
            "speaker_SPEAKER_03 start=170.0s stop=170.2s\n",
            "speaker_SPEAKER_06 start=170.2s stop=170.3s\n",
            "speaker_SPEAKER_19 start=170.3s stop=170.4s\n",
            "speaker_SPEAKER_09 start=170.4s stop=172.6s\n",
            "speaker_SPEAKER_03 start=172.6s stop=177.9s\n",
            "speaker_SPEAKER_20 start=177.9s stop=185.9s\n",
            "speaker_SPEAKER_04 start=185.9s stop=187.5s\n",
            "speaker_SPEAKER_20 start=187.5s stop=187.9s\n",
            "speaker_SPEAKER_04 start=187.9s stop=191.8s\n",
            "speaker_SPEAKER_02 start=191.8s stop=192.0s\n",
            "speaker_SPEAKER_04 start=192.0s stop=193.3s\n",
            "speaker_SPEAKER_02 start=193.3s stop=194.5s\n",
            "speaker_SPEAKER_19 start=194.5s stop=194.5s\n",
            "speaker_SPEAKER_04 start=194.5s stop=195.0s\n",
            "speaker_SPEAKER_19 start=195.0s stop=196.6s\n",
            "speaker_SPEAKER_21 start=196.6s stop=207.9s\n",
            "speaker_SPEAKER_14 start=207.9s stop=215.1s\n",
            "speaker_SPEAKER_03 start=215.1s stop=222.2s\n",
            "speaker_SPEAKER_14 start=222.2s stop=225.2s\n",
            "speaker_SPEAKER_20 start=225.2s stop=232.6s\n",
            "speaker_SPEAKER_02 start=232.6s stop=247.8s\n",
            "speaker_SPEAKER_05 start=247.8s stop=254.3s\n",
            "speaker_SPEAKER_18 start=254.3s stop=254.4s\n",
            "speaker_SPEAKER_05 start=254.4s stop=254.7s\n",
            "speaker_SPEAKER_18 start=254.7s stop=255.0s\n",
            "speaker_SPEAKER_05 start=255.0s stop=256.2s\n",
            "speaker_SPEAKER_18 start=256.2s stop=263.0s\n",
            "speaker_SPEAKER_10 start=263.0s stop=268.1s\n",
            "speaker_SPEAKER_18 start=268.1s stop=269.0s\n",
            "speaker_SPEAKER_09 start=269.0s stop=271.9s\n",
            "speaker_SPEAKER_04 start=271.9s stop=271.9s\n",
            "speaker_SPEAKER_05 start=271.9s stop=273.7s\n",
            "speaker_SPEAKER_10 start=273.7s stop=274.4s\n",
            "speaker_SPEAKER_05 start=274.4s stop=287.5s\n",
            "speaker_SPEAKER_21 start=287.5s stop=290.3s\n",
            "speaker_SPEAKER_06 start=290.3s stop=292.2s\n",
            "speaker_SPEAKER_21 start=292.2s stop=292.2s\n",
            "speaker_SPEAKER_06 start=292.2s stop=304.0s\n",
            "speaker_SPEAKER_11 start=304.0s stop=311.9s\n",
            "speaker_SPEAKER_19 start=311.9s stop=315.4s\n",
            "speaker_SPEAKER_05 start=315.4s stop=315.7s\n",
            "speaker_SPEAKER_06 start=315.7s stop=316.9s\n",
            "speaker_SPEAKER_19 start=316.9s stop=322.7s\n",
            "speaker_SPEAKER_02 start=322.7s stop=344.0s\n",
            "speaker_SPEAKER_05 start=344.0s stop=344.0s\n",
            "speaker_SPEAKER_02 start=344.0s stop=344.4s\n",
            "speaker_SPEAKER_08 start=344.4s stop=345.2s\n",
            "speaker_SPEAKER_02 start=345.2s stop=346.1s\n",
            "speaker_SPEAKER_08 start=346.1s stop=346.2s\n",
            "speaker_SPEAKER_05 start=346.2s stop=347.7s\n",
            "speaker_SPEAKER_08 start=347.7s stop=349.3s\n",
            "speaker_SPEAKER_05 start=349.3s stop=355.2s\n",
            "speaker_SPEAKER_02 start=355.2s stop=357.6s\n",
            "speaker_SPEAKER_05 start=357.6s stop=360.8s\n",
            "speaker_SPEAKER_15 start=360.8s stop=360.8s\n",
            "speaker_SPEAKER_05 start=360.8s stop=361.3s\n",
            "speaker_SPEAKER_03 start=361.3s stop=361.3s\n",
            "speaker_SPEAKER_05 start=361.3s stop=362.0s\n",
            "speaker_SPEAKER_03 start=362.0s stop=362.0s\n",
            "speaker_SPEAKER_05 start=362.0s stop=362.4s\n",
            "speaker_SPEAKER_02 start=362.4s stop=366.6s\n",
            "speaker_SPEAKER_04 start=366.6s stop=375.4s\n",
            "speaker_SPEAKER_16 start=375.4s stop=382.6s\n",
            "speaker_SPEAKER_19 start=382.6s stop=382.6s\n",
            "speaker_SPEAKER_04 start=382.6s stop=383.2s\n",
            "speaker_SPEAKER_02 start=383.2s stop=384.7s\n",
            "speaker_SPEAKER_04 start=384.7s stop=384.9s\n",
            "speaker_SPEAKER_02 start=384.9s stop=385.5s\n",
            "speaker_SPEAKER_04 start=385.5s stop=391.8s\n",
            "speaker_SPEAKER_08 start=391.8s stop=391.8s\n",
            "speaker_SPEAKER_02 start=391.8s stop=394.5s\n",
            "speaker_SPEAKER_04 start=394.5s stop=396.6s\n",
            "speaker_SPEAKER_02 start=396.6s stop=418.8s\n",
            "speaker_SPEAKER_09 start=418.8s stop=419.0s\n",
            "speaker_SPEAKER_21 start=419.0s stop=421.7s\n",
            "speaker_SPEAKER_14 start=421.7s stop=425.0s\n",
            "speaker_SPEAKER_21 start=425.0s stop=428.4s\n",
            "speaker_SPEAKER_14 start=428.4s stop=429.8s\n",
            "speaker_SPEAKER_21 start=429.8s stop=433.7s\n",
            "speaker_SPEAKER_14 start=433.7s stop=446.1s\n",
            "speaker_SPEAKER_21 start=446.1s stop=449.2s\n",
            "speaker_SPEAKER_15 start=449.2s stop=449.4s\n",
            "speaker_SPEAKER_21 start=449.4s stop=452.0s\n",
            "speaker_SPEAKER_15 start=452.0s stop=490.0s\n",
            "speaker_SPEAKER_18 start=490.0s stop=501.8s\n",
            "speaker_SPEAKER_05 start=501.8s stop=506.2s\n",
            "speaker_SPEAKER_18 start=506.2s stop=523.0s\n",
            "speaker_SPEAKER_10 start=523.0s stop=531.8s\n",
            "speaker_SPEAKER_05 start=531.8s stop=532.7s\n",
            "speaker_SPEAKER_00 start=532.7s stop=535.2s\n",
            "speaker_SPEAKER_05 start=535.2s stop=537.8s\n",
            "speaker_SPEAKER_14 start=537.8s stop=542.3s\n",
            "speaker_SPEAKER_05 start=542.3s stop=546.0s\n",
            "speaker_SPEAKER_04 start=546.0s stop=546.8s\n",
            "speaker_SPEAKER_14 start=546.8s stop=547.6s\n",
            "speaker_SPEAKER_05 start=547.6s stop=547.7s\n",
            "speaker_SPEAKER_04 start=547.7s stop=553.2s\n",
            "speaker_SPEAKER_03 start=553.2s stop=568.5s\n",
            "speaker_SPEAKER_10 start=568.5s stop=572.1s\n",
            "speaker_SPEAKER_02 start=572.1s stop=579.3s\n",
            "speaker_SPEAKER_09 start=579.3s stop=579.3s\n",
            "speaker_SPEAKER_02 start=579.3s stop=579.8s\n",
            "speaker_SPEAKER_09 start=579.8s stop=584.3s\n",
            "speaker_SPEAKER_04 start=584.3s stop=590.6s\n",
            "speaker_SPEAKER_07 start=590.6s stop=590.6s\n",
            "speaker_SPEAKER_19 start=590.6s stop=590.9s\n",
            "speaker_SPEAKER_04 start=590.9s stop=591.0s\n",
            "speaker_SPEAKER_19 start=591.0s stop=591.2s\n",
            "speaker_SPEAKER_04 start=591.2s stop=592.2s\n",
            "speaker_SPEAKER_19 start=592.2s stop=600.4s\n",
            "speaker_SPEAKER_05 start=600.4s stop=608.0s\n",
            "speaker_SPEAKER_03 start=608.0s stop=608.4s\n",
            "speaker_SPEAKER_19 start=608.4s stop=611.7s\n",
            "speaker_SPEAKER_03 start=611.7s stop=613.2s\n",
            "speaker_SPEAKER_19 start=613.2s stop=613.4s\n",
            "speaker_SPEAKER_04 start=613.4s stop=613.4s\n",
            "speaker_SPEAKER_19 start=613.4s stop=615.6s\n",
            "speaker_SPEAKER_03 start=615.6s stop=617.8s\n",
            "speaker_SPEAKER_04 start=617.8s stop=617.8s\n",
            "speaker_SPEAKER_03 start=617.8s stop=619.0s\n",
            "speaker_SPEAKER_04 start=619.0s stop=620.2s\n",
            "speaker_SPEAKER_10 start=620.2s stop=620.2s\n",
            "speaker_SPEAKER_03 start=620.2s stop=620.4s\n",
            "speaker_SPEAKER_10 start=620.4s stop=621.0s\n",
            "speaker_SPEAKER_03 start=621.0s stop=621.0s\n",
            "speaker_SPEAKER_10 start=621.0s stop=621.5s\n",
            "speaker_SPEAKER_03 start=621.5s stop=622.0s\n",
            "speaker_SPEAKER_10 start=622.0s stop=624.0s\n",
            "speaker_SPEAKER_04 start=624.0s stop=625.8s\n",
            "speaker_SPEAKER_19 start=625.8s stop=633.2s\n",
            "speaker_SPEAKER_04 start=633.2s stop=636.8s\n",
            "speaker_SPEAKER_19 start=636.8s stop=667.0s\n",
            "speaker_SPEAKER_05 start=667.0s stop=673.4s\n",
            "speaker_SPEAKER_19 start=673.4s stop=685.0s\n",
            "speaker_SPEAKER_06 start=685.0s stop=690.4s\n",
            "speaker_SPEAKER_12 start=690.4s stop=693.5s\n",
            "speaker_SPEAKER_06 start=693.5s stop=694.0s\n",
            "speaker_SPEAKER_12 start=694.0s stop=694.0s\n",
            "speaker_SPEAKER_06 start=694.0s stop=694.6s\n",
            "speaker_SPEAKER_12 start=694.6s stop=695.1s\n",
            "speaker_SPEAKER_10 start=695.1s stop=696.8s\n",
            "speaker_SPEAKER_12 start=696.8s stop=698.2s\n",
            "speaker_SPEAKER_10 start=698.2s stop=702.2s\n",
            "speaker_SPEAKER_12 start=702.2s stop=721.0s\n",
            "speaker_SPEAKER_05 start=721.0s stop=721.1s\n",
            "speaker_SPEAKER_12 start=721.1s stop=725.4s\n",
            "speaker_SPEAKER_05 start=725.4s stop=732.5s\n",
            "speaker_SPEAKER_03 start=732.5s stop=736.3s\n",
            "speaker_SPEAKER_05 start=736.3s stop=738.6s\n",
            "speaker_SPEAKER_03 start=738.6s stop=739.9s\n",
            "speaker_SPEAKER_19 start=739.9s stop=755.2s\n",
            "speaker_SPEAKER_06 start=755.2s stop=768.3s\n",
            "speaker_SPEAKER_04 start=768.3s stop=773.1s\n",
            "speaker_SPEAKER_06 start=773.1s stop=773.6s\n",
            "speaker_SPEAKER_04 start=773.6s stop=774.2s\n",
            "speaker_SPEAKER_06 start=774.2s stop=774.2s\n",
            "speaker_SPEAKER_04 start=774.2s stop=775.0s\n",
            "speaker_SPEAKER_06 start=775.0s stop=778.7s\n",
            "speaker_SPEAKER_09 start=778.7s stop=782.9s\n",
            "speaker_SPEAKER_06 start=782.9s stop=783.3s\n",
            "speaker_SPEAKER_03 start=783.3s stop=784.8s\n",
            "speaker_SPEAKER_06 start=784.8s stop=785.0s\n",
            "speaker_SPEAKER_03 start=785.0s stop=787.2s\n",
            "speaker_SPEAKER_02 start=787.2s stop=787.7s\n",
            "speaker_SPEAKER_21 start=787.7s stop=789.0s\n",
            "speaker_SPEAKER_02 start=789.0s stop=789.2s\n",
            "speaker_SPEAKER_21 start=789.2s stop=789.2s\n",
            "speaker_SPEAKER_02 start=789.2s stop=790.3s\n",
            "speaker_SPEAKER_04 start=790.3s stop=790.3s\n",
            "speaker_SPEAKER_02 start=790.3s stop=795.3s\n",
            "speaker_SPEAKER_16 start=795.3s stop=799.0s\n",
            "speaker_SPEAKER_09 start=799.0s stop=807.1s\n",
            "speaker_SPEAKER_21 start=807.1s stop=822.2s\n",
            "speaker_SPEAKER_04 start=822.2s stop=823.2s\n",
            "speaker_SPEAKER_21 start=823.2s stop=823.2s\n",
            "speaker_SPEAKER_04 start=823.2s stop=823.4s\n",
            "speaker_SPEAKER_21 start=823.4s stop=824.6s\n",
            "speaker_SPEAKER_04 start=824.6s stop=829.8s\n",
            "speaker_SPEAKER_01 start=829.8s stop=829.8s\n",
            "speaker_SPEAKER_21 start=829.8s stop=829.8s\n",
            "speaker_SPEAKER_01 start=829.8s stop=833.5s\n",
            "speaker_SPEAKER_21 start=833.5s stop=835.1s\n",
            "speaker_SPEAKER_01 start=835.1s stop=846.3s\n",
            "speaker_SPEAKER_05 start=846.3s stop=857.2s\n",
            "speaker_SPEAKER_13 start=857.2s stop=859.6s\n",
            "speaker_SPEAKER_05 start=859.6s stop=859.9s\n",
            "speaker_SPEAKER_06 start=859.9s stop=866.2s\n",
            "speaker_SPEAKER_17 start=866.2s stop=869.2s\n",
            "speaker_SPEAKER_10 start=869.2s stop=883.5s\n",
            "speaker_SPEAKER_08 start=883.5s stop=888.6s\n",
            "speaker_SPEAKER_00 start=888.6s stop=894.2s\n",
            "speaker_SPEAKER_08 start=894.2s stop=899.9s\n",
            "speaker_SPEAKER_11 start=899.9s stop=903.1s\n",
            "speaker_SPEAKER_05 start=903.1s stop=905.1s\n",
            "speaker_SPEAKER_11 start=905.1s stop=932.1s\n",
            "speaker_SPEAKER_05 start=932.1s stop=959.5s\n",
            "speaker_SPEAKER_03 start=959.5s stop=960.0s\n",
            "speaker_SPEAKER_05 start=960.0s stop=960.0s\n",
            "speaker_SPEAKER_03 start=960.0s stop=961.7s\n",
            "speaker_SPEAKER_04 start=961.7s stop=967.9s\n",
            "speaker_SPEAKER_03 start=967.9s stop=967.9s\n",
            "speaker_SPEAKER_04 start=967.9s stop=967.9s\n",
            "speaker_SPEAKER_03 start=967.9s stop=967.9s\n",
            "speaker_SPEAKER_04 start=967.9s stop=968.3s\n",
            "speaker_SPEAKER_03 start=968.3s stop=969.1s\n",
            "speaker_SPEAKER_04 start=969.1s stop=977.3s\n",
            "speaker_SPEAKER_10 start=977.3s stop=978.7s\n",
            "speaker_SPEAKER_05 start=978.7s stop=985.0s\n",
            "speaker_SPEAKER_06 start=985.0s stop=990.9s\n",
            "speaker_SPEAKER_05 start=990.9s stop=1002.3s\n",
            "speaker_SPEAKER_21 start=1002.3s stop=1014.4s\n",
            "speaker_SPEAKER_07 start=1014.4s stop=1014.7s\n",
            "speaker_SPEAKER_21 start=1014.7s stop=1015.0s\n",
            "speaker_SPEAKER_05 start=1015.0s stop=1015.2s\n",
            "speaker_SPEAKER_21 start=1015.2s stop=1015.2s\n",
            "speaker_SPEAKER_05 start=1015.2s stop=1015.3s\n",
            "speaker_SPEAKER_21 start=1015.3s stop=1015.6s\n",
            "speaker_SPEAKER_05 start=1015.6s stop=1015.6s\n",
            "speaker_SPEAKER_07 start=1015.6s stop=1016.2s\n",
            "speaker_SPEAKER_05 start=1016.2s stop=1036.9s\n",
            "speaker_SPEAKER_10 start=1036.9s stop=1036.9s\n",
            "speaker_SPEAKER_05 start=1036.9s stop=1038.3s\n",
            "speaker_SPEAKER_17 start=1038.3s stop=1038.7s\n",
            "speaker_SPEAKER_06 start=1038.7s stop=1038.8s\n",
            "speaker_SPEAKER_05 start=1038.8s stop=1045.2s\n",
            "speaker_SPEAKER_17 start=1045.2s stop=1048.1s\n",
            "speaker_SPEAKER_05 start=1048.1s stop=1048.1s\n",
            "speaker_SPEAKER_17 start=1048.1s stop=1049.1s\n",
            "speaker_SPEAKER_05 start=1049.1s stop=1078.7s\n",
            "speaker_SPEAKER_13 start=1078.7s stop=1144.5s\n",
            "speaker_SPEAKER_10 start=1144.5s stop=1144.5s\n",
            "speaker_SPEAKER_02 start=1144.5s stop=1157.0s\n",
            "speaker_SPEAKER_14 start=1157.0s stop=1157.2s\n",
            "speaker_SPEAKER_02 start=1157.2s stop=1157.7s\n",
            "speaker_SPEAKER_14 start=1157.7s stop=1159.1s\n",
            "speaker_SPEAKER_21 start=1159.1s stop=1160.1s\n",
            "speaker_SPEAKER_03 start=1160.1s stop=1160.1s\n",
            "speaker_SPEAKER_21 start=1160.1s stop=1160.2s\n",
            "speaker_SPEAKER_03 start=1160.2s stop=1162.0s\n",
            "speaker_SPEAKER_21 start=1162.0s stop=1162.0s\n",
            "speaker_SPEAKER_01 start=1162.0s stop=1162.9s\n",
            "speaker_SPEAKER_03 start=1162.9s stop=1169.3s\n",
            "speaker_SPEAKER_04 start=1169.3s stop=1176.2s\n",
            "speaker_SPEAKER_06 start=1176.2s stop=1176.4s\n",
            "speaker_SPEAKER_04 start=1176.4s stop=1178.0s\n",
            "speaker_SPEAKER_06 start=1178.0s stop=1188.4s\n",
            "speaker_SPEAKER_02 start=1188.4s stop=1193.3s\n",
            "speaker_SPEAKER_06 start=1193.3s stop=1199.4s\n",
            "speaker_SPEAKER_21 start=1199.4s stop=1199.4s\n",
            "speaker_SPEAKER_06 start=1199.4s stop=1202.0s\n",
            "speaker_SPEAKER_21 start=1202.0s stop=1209.0s\n",
            "speaker_SPEAKER_05 start=1209.0s stop=1254.4s\n",
            "speaker_SPEAKER_13 start=1254.4s stop=1257.3s\n",
            "speaker_SPEAKER_10 start=1257.3s stop=1258.3s\n",
            "speaker_SPEAKER_13 start=1258.3s stop=1264.8s\n",
            "speaker_SPEAKER_16 start=1264.8s stop=1278.6s\n",
            "speaker_SPEAKER_07 start=1278.6s stop=1285.2s\n",
            "speaker_SPEAKER_09 start=1285.2s stop=1297.6s\n",
            "speaker_SPEAKER_10 start=1297.6s stop=1298.1s\n",
            "speaker_SPEAKER_09 start=1298.1s stop=1304.0s\n",
            "speaker_SPEAKER_07 start=1304.0s stop=1309.9s\n",
            "speaker_SPEAKER_11 start=1309.9s stop=1323.7s\n",
            "speaker_SPEAKER_02 start=1323.7s stop=1332.0s\n",
            "speaker_SPEAKER_04 start=1332.0s stop=1333.0s\n",
            "speaker_SPEAKER_02 start=1333.0s stop=1337.0s\n",
            "speaker_SPEAKER_08 start=1337.0s stop=1337.3s\n",
            "speaker_SPEAKER_02 start=1337.3s stop=1337.7s\n",
            "speaker_SPEAKER_08 start=1337.7s stop=1340.8s\n",
            "speaker_SPEAKER_09 start=1340.8s stop=1361.3s\n",
            "speaker_SPEAKER_08 start=1361.3s stop=1372.0s\n",
            "speaker_SPEAKER_02 start=1372.0s stop=1372.1s\n",
            "speaker_SPEAKER_08 start=1372.1s stop=1372.4s\n",
            "speaker_SPEAKER_02 start=1372.4s stop=1381.1s\n",
            "speaker_SPEAKER_18 start=1381.1s stop=1382.2s\n",
            "speaker_SPEAKER_02 start=1382.2s stop=1387.0s\n",
            "speaker_SPEAKER_09 start=1387.0s stop=1390.0s\n",
            "speaker_SPEAKER_02 start=1390.0s stop=1390.2s\n",
            "speaker_SPEAKER_09 start=1390.2s stop=1390.3s\n",
            "speaker_SPEAKER_02 start=1390.3s stop=1391.2s\n",
            "speaker_SPEAKER_05 start=1391.2s stop=1392.7s\n",
            "speaker_SPEAKER_02 start=1392.7s stop=1396.4s\n",
            "speaker_SPEAKER_09 start=1396.4s stop=1396.5s\n",
            "speaker_SPEAKER_02 start=1396.5s stop=1397.1s\n",
            "speaker_SPEAKER_09 start=1397.1s stop=1403.0s\n",
            "speaker_SPEAKER_11 start=1403.0s stop=1408.1s\n",
            "speaker_SPEAKER_02 start=1408.1s stop=1417.0s\n",
            "speaker_SPEAKER_08 start=1417.0s stop=1441.1s\n",
            "speaker_SPEAKER_18 start=1441.1s stop=1465.9s\n",
            "speaker_SPEAKER_09 start=1465.9s stop=1474.0s\n",
            "speaker_SPEAKER_02 start=1474.0s stop=1474.0s\n",
            "speaker_SPEAKER_09 start=1474.0s stop=1475.1s\n",
            "speaker_SPEAKER_02 start=1475.1s stop=1484.7s\n",
            "speaker_SPEAKER_11 start=1484.7s stop=1487.0s\n",
            "speaker_SPEAKER_02 start=1487.0s stop=1489.7s\n",
            "speaker_SPEAKER_08 start=1489.7s stop=1492.5s\n",
            "speaker_SPEAKER_11 start=1492.5s stop=1492.5s\n",
            "speaker_SPEAKER_08 start=1492.5s stop=1493.5s\n",
            "speaker_SPEAKER_11 start=1493.5s stop=1500.6s\n",
            "speaker_SPEAKER_02 start=1500.6s stop=1501.8s\n",
            "speaker_SPEAKER_11 start=1501.8s stop=1502.0s\n",
            "speaker_SPEAKER_02 start=1502.0s stop=1502.2s\n",
            "speaker_SPEAKER_11 start=1502.2s stop=1502.2s\n",
            "speaker_SPEAKER_02 start=1502.2s stop=1517.8s\n",
            "speaker_SPEAKER_17 start=1517.8s stop=1526.5s\n",
            "speaker_SPEAKER_02 start=1526.5s stop=1551.1s\n",
            "speaker_SPEAKER_07 start=1551.1s stop=1551.6s\n",
            "speaker_SPEAKER_16 start=1551.6s stop=1558.9s\n",
            "speaker_SPEAKER_02 start=1558.9s stop=1561.8s\n",
            "speaker_SPEAKER_19 start=1561.8s stop=1566.6s\n",
            "speaker_SPEAKER_01 start=1566.6s stop=1567.4s\n",
            "speaker_SPEAKER_02 start=1567.4s stop=1584.0s\n",
            "speaker_SPEAKER_09 start=1584.0s stop=1585.4s\n",
            "speaker_SPEAKER_06 start=1585.4s stop=1593.9s\n",
            "speaker_SPEAKER_07 start=1593.9s stop=1594.3s\n",
            "speaker_SPEAKER_10 start=1594.3s stop=1600.9s\n",
            "speaker_SPEAKER_11 start=1600.9s stop=1607.4s\n",
            "speaker_SPEAKER_05 start=1607.4s stop=1608.9s\n",
            "speaker_SPEAKER_11 start=1608.9s stop=1613.2s\n",
            "speaker_SPEAKER_05 start=1613.2s stop=1615.6s\n",
            "speaker_SPEAKER_08 start=1615.6s stop=1615.7s\n",
            "speaker_SPEAKER_18 start=1615.7s stop=1615.7s\n",
            "speaker_SPEAKER_08 start=1615.7s stop=1616.0s\n",
            "speaker_SPEAKER_11 start=1616.0s stop=1616.0s\n",
            "speaker_SPEAKER_07 start=1616.0s stop=1616.5s\n",
            "speaker_SPEAKER_11 start=1616.5s stop=1618.5s\n",
            "speaker_SPEAKER_07 start=1618.5s stop=1630.3s\n",
            "speaker_SPEAKER_04 start=1630.3s stop=1631.3s\n",
            "speaker_SPEAKER_07 start=1631.3s stop=1636.8s\n",
            "speaker_SPEAKER_04 start=1636.8s stop=1669.0s\n",
            "speaker_SPEAKER_18 start=1669.0s stop=1673.4s\n",
            "speaker_SPEAKER_00 start=1673.4s stop=1681.8s\n",
            "speaker_SPEAKER_04 start=1681.8s stop=1682.5s\n",
            "speaker_SPEAKER_00 start=1682.5s stop=1697.5s\n",
            "speaker_SPEAKER_02 start=1697.5s stop=1697.5s\n",
            "speaker_SPEAKER_00 start=1697.5s stop=1697.6s\n",
            "speaker_SPEAKER_02 start=1697.6s stop=1697.7s\n",
            "speaker_SPEAKER_00 start=1697.7s stop=1698.0s\n",
            "speaker_SPEAKER_02 start=1698.0s stop=1700.8s\n",
            "speaker_SPEAKER_07 start=1700.8s stop=1700.9s\n",
            "speaker_SPEAKER_02 start=1700.9s stop=1700.9s\n",
            "speaker_SPEAKER_07 start=1700.9s stop=1703.4s\n",
            "speaker_SPEAKER_02 start=1703.4s stop=1705.2s\n",
            "speaker_SPEAKER_19 start=1705.2s stop=1711.0s\n",
            "speaker_SPEAKER_11 start=1711.0s stop=1719.2s\n",
            "speaker_SPEAKER_09 start=1719.2s stop=1726.3s\n",
            "speaker_SPEAKER_10 start=1726.3s stop=1733.3s\n",
            "speaker_SPEAKER_06 start=1733.3s stop=1740.0s\n",
            "speaker_SPEAKER_13 start=1740.0s stop=1740.4s\n",
            "speaker_SPEAKER_06 start=1740.4s stop=1740.5s\n",
            "speaker_SPEAKER_10 start=1740.5s stop=1750.5s\n",
            "speaker_SPEAKER_07 start=1750.5s stop=1754.4s\n",
            "speaker_SPEAKER_03 start=1754.4s stop=1754.5s\n",
            "speaker_SPEAKER_07 start=1754.5s stop=1755.0s\n",
            "speaker_SPEAKER_03 start=1755.0s stop=1755.6s\n",
            "speaker_SPEAKER_07 start=1755.6s stop=1757.0s\n",
            "speaker_SPEAKER_03 start=1757.0s stop=1757.9s\n",
            "speaker_SPEAKER_07 start=1757.9s stop=1759.4s\n",
            "speaker_SPEAKER_16 start=1759.4s stop=1759.4s\n",
            "speaker_SPEAKER_03 start=1759.4s stop=1760.4s\n",
            "speaker_SPEAKER_10 start=1760.4s stop=1760.7s\n",
            "speaker_SPEAKER_07 start=1760.7s stop=1760.7s\n",
            "speaker_SPEAKER_10 start=1760.7s stop=1783.0s\n",
            "speaker_SPEAKER_19 start=1783.0s stop=1787.4s\n",
            "speaker_SPEAKER_03 start=1787.4s stop=1788.2s\n",
            "speaker_SPEAKER_19 start=1788.2s stop=1791.0s\n",
            "speaker_SPEAKER_02 start=1791.0s stop=1794.8s\n",
            "speaker_SPEAKER_05 start=1794.8s stop=1803.7s\n",
            "speaker_SPEAKER_10 start=1803.7s stop=1803.9s\n",
            "speaker_SPEAKER_05 start=1803.9s stop=1804.0s\n",
            "speaker_SPEAKER_10 start=1804.0s stop=1805.1s\n",
            "speaker_SPEAKER_05 start=1805.1s stop=1809.3s\n",
            "speaker_SPEAKER_06 start=1809.3s stop=1817.7s\n",
            "speaker_SPEAKER_05 start=1817.7s stop=1821.5s\n",
            "speaker_SPEAKER_14 start=1821.5s stop=1823.3s\n",
            "speaker_SPEAKER_05 start=1823.3s stop=1832.9s\n",
            "speaker_SPEAKER_06 start=1832.9s stop=1837.2s\n",
            "speaker_SPEAKER_04 start=1837.2s stop=1840.5s\n",
            "speaker_SPEAKER_03 start=1840.5s stop=1840.5s\n",
            "speaker_SPEAKER_05 start=1840.5s stop=1842.1s\n",
            "speaker_SPEAKER_03 start=1842.1s stop=1842.1s\n",
            "speaker_SPEAKER_04 start=1842.1s stop=1842.6s\n",
            "speaker_SPEAKER_03 start=1842.6s stop=1842.7s\n",
            "speaker_SPEAKER_05 start=1842.7s stop=1850.5s\n",
            "speaker_SPEAKER_21 start=1850.5s stop=1853.2s\n",
            "speaker_SPEAKER_04 start=1853.2s stop=1857.2s\n",
            "speaker_SPEAKER_03 start=1857.2s stop=1861.5s\n",
            "speaker_SPEAKER_04 start=1861.5s stop=1870.0s\n",
            "speaker_SPEAKER_03 start=1870.0s stop=1870.7s\n",
            "speaker_SPEAKER_06 start=1870.7s stop=1870.9s\n",
            "speaker_SPEAKER_14 start=1870.9s stop=1872.9s\n",
            "speaker_SPEAKER_03 start=1872.9s stop=1872.9s\n",
            "speaker_SPEAKER_06 start=1872.9s stop=1881.0s\n",
            "speaker_SPEAKER_03 start=1881.0s stop=1881.8s\n",
            "speaker_SPEAKER_14 start=1881.8s stop=1884.6s\n",
            "speaker_SPEAKER_03 start=1884.6s stop=1886.5s\n",
            "speaker_SPEAKER_14 start=1886.5s stop=1887.0s\n",
            "speaker_SPEAKER_10 start=1887.0s stop=1896.7s\n",
            "speaker_SPEAKER_03 start=1896.7s stop=1900.4s\n",
            "speaker_SPEAKER_04 start=1900.4s stop=1900.9s\n",
            "speaker_SPEAKER_03 start=1900.9s stop=1901.0s\n",
            "speaker_SPEAKER_04 start=1901.0s stop=1912.0s\n"
          ]
        }
      ]
    },
    {
      "cell_type": "code",
      "source": [
        "from pydub import AudioSegment\n",
        "import os\n",
        "\n",
        "def split_audio_segments(audio_file, segments, output_dir='segmented_audio'):\n",
        "    # Ensure the output directory exists\n",
        "    os.makedirs(output_dir, exist_ok=True)\n",
        "\n",
        "    # Load the audio file\n",
        "    audio = AudioSegment.from_file(audio_file)\n",
        "\n",
        "    # Iterate over the segments and export each one\n",
        "    for idx, (speaker, start, end) in enumerate(segments):\n",
        "        # Calculate start and end in milliseconds\n",
        "        start_ms = start * 1000\n",
        "        end_ms = end * 1000\n",
        "\n",
        "        # Extract the segment\n",
        "        segment = audio[start_ms:end_ms]\n",
        "\n",
        "        # Create the output file name\n",
        "        speaker_label = speaker.split('_')[-1]  # Get speaker identifier\n",
        "        output_file = os.path.join(output_dir, f\"{idx:02d}_SPEAKER{speaker_label}_START{start:.0f}_STOP{end:.0f}.mp3\")\n",
        "\n",
        "        # Export the segment\n",
        "        segment.export(output_file, format=\"mp3\")\n",
        "        print(f\"Exported {output_file}\")"
      ],
      "metadata": {
        "id": "lK38Gr2jSiLI"
      },
      "execution_count": 16,
      "outputs": []
    },
    {
      "cell_type": "code",
      "source": [
        "split_audio_segments('/content/downloads/welcome_script.mp3',segments)"
      ],
      "metadata": {
        "colab": {
          "base_uri": "https://localhost:8080/"
        },
        "collapsed": true,
        "id": "-qi0YuS_SqkT",
        "outputId": "764e278b-501b-4240-9b34-6733ec0e21f7"
      },
      "execution_count": 18,
      "outputs": [
        {
          "output_type": "stream",
          "name": "stdout",
          "text": [
            "Exported segmented_audio/00_SPEAKER05_START2_STOP14.mp3\n",
            "Exported segmented_audio/01_SPEAKER00_START14_STOP17.mp3\n",
            "Exported segmented_audio/02_SPEAKER06_START17_STOP21.mp3\n",
            "Exported segmented_audio/03_SPEAKER00_START21_STOP29.mp3\n",
            "Exported segmented_audio/04_SPEAKER02_START29_STOP33.mp3\n",
            "Exported segmented_audio/05_SPEAKER00_START33_STOP33.mp3\n",
            "Exported segmented_audio/06_SPEAKER08_START33_STOP34.mp3\n",
            "Exported segmented_audio/07_SPEAKER00_START34_STOP34.mp3\n",
            "Exported segmented_audio/08_SPEAKER08_START34_STOP39.mp3\n",
            "Exported segmented_audio/09_SPEAKER02_START39_STOP39.mp3\n",
            "Exported segmented_audio/10_SPEAKER08_START39_STOP39.mp3\n",
            "Exported segmented_audio/11_SPEAKER02_START39_STOP50.mp3\n",
            "Exported segmented_audio/12_SPEAKER11_START50_STOP50.mp3\n",
            "Exported segmented_audio/13_SPEAKER02_START50_STOP50.mp3\n",
            "Exported segmented_audio/14_SPEAKER11_START50_STOP50.mp3\n",
            "Exported segmented_audio/15_SPEAKER02_START50_STOP51.mp3\n",
            "Exported segmented_audio/16_SPEAKER11_START51_STOP54.mp3\n",
            "Exported segmented_audio/17_SPEAKER02_START54_STOP67.mp3\n",
            "Exported segmented_audio/18_SPEAKER16_START67_STOP67.mp3\n",
            "Exported segmented_audio/19_SPEAKER02_START67_STOP90.mp3\n",
            "Exported segmented_audio/20_SPEAKER00_START90_STOP103.mp3\n",
            "Exported segmented_audio/21_SPEAKER06_START103_STOP118.mp3\n",
            "Exported segmented_audio/22_SPEAKER00_START118_STOP119.mp3\n",
            "Exported segmented_audio/23_SPEAKER10_START119_STOP120.mp3\n",
            "Exported segmented_audio/24_SPEAKER00_START120_STOP120.mp3\n",
            "Exported segmented_audio/25_SPEAKER10_START120_STOP124.mp3\n",
            "Exported segmented_audio/26_SPEAKER00_START124_STOP127.mp3\n",
            "Exported segmented_audio/27_SPEAKER04_START127_STOP130.mp3\n",
            "Exported segmented_audio/28_SPEAKER03_START130_STOP137.mp3\n",
            "Exported segmented_audio/29_SPEAKER19_START137_STOP157.mp3\n",
            "Exported segmented_audio/30_SPEAKER04_START157_STOP159.mp3\n",
            "Exported segmented_audio/31_SPEAKER06_START159_STOP170.mp3\n",
            "Exported segmented_audio/32_SPEAKER19_START170_STOP170.mp3\n",
            "Exported segmented_audio/33_SPEAKER03_START170_STOP170.mp3\n",
            "Exported segmented_audio/34_SPEAKER06_START170_STOP170.mp3\n",
            "Exported segmented_audio/35_SPEAKER19_START170_STOP170.mp3\n",
            "Exported segmented_audio/36_SPEAKER09_START170_STOP173.mp3\n",
            "Exported segmented_audio/37_SPEAKER03_START173_STOP178.mp3\n",
            "Exported segmented_audio/38_SPEAKER20_START178_STOP186.mp3\n",
            "Exported segmented_audio/39_SPEAKER04_START186_STOP187.mp3\n",
            "Exported segmented_audio/40_SPEAKER20_START187_STOP188.mp3\n",
            "Exported segmented_audio/41_SPEAKER04_START188_STOP192.mp3\n",
            "Exported segmented_audio/42_SPEAKER02_START192_STOP192.mp3\n",
            "Exported segmented_audio/43_SPEAKER04_START192_STOP193.mp3\n",
            "Exported segmented_audio/44_SPEAKER02_START193_STOP195.mp3\n",
            "Exported segmented_audio/45_SPEAKER19_START195_STOP195.mp3\n",
            "Exported segmented_audio/46_SPEAKER04_START195_STOP195.mp3\n",
            "Exported segmented_audio/47_SPEAKER19_START195_STOP197.mp3\n",
            "Exported segmented_audio/48_SPEAKER21_START197_STOP208.mp3\n",
            "Exported segmented_audio/49_SPEAKER14_START208_STOP215.mp3\n",
            "Exported segmented_audio/50_SPEAKER03_START215_STOP222.mp3\n",
            "Exported segmented_audio/51_SPEAKER14_START222_STOP225.mp3\n",
            "Exported segmented_audio/52_SPEAKER20_START225_STOP233.mp3\n",
            "Exported segmented_audio/53_SPEAKER02_START233_STOP248.mp3\n",
            "Exported segmented_audio/54_SPEAKER05_START248_STOP254.mp3\n",
            "Exported segmented_audio/55_SPEAKER18_START254_STOP254.mp3\n",
            "Exported segmented_audio/56_SPEAKER05_START254_STOP255.mp3\n",
            "Exported segmented_audio/57_SPEAKER18_START255_STOP255.mp3\n",
            "Exported segmented_audio/58_SPEAKER05_START255_STOP256.mp3\n",
            "Exported segmented_audio/59_SPEAKER18_START256_STOP263.mp3\n",
            "Exported segmented_audio/60_SPEAKER10_START263_STOP268.mp3\n",
            "Exported segmented_audio/61_SPEAKER18_START268_STOP269.mp3\n",
            "Exported segmented_audio/62_SPEAKER09_START269_STOP272.mp3\n",
            "Exported segmented_audio/63_SPEAKER04_START272_STOP272.mp3\n",
            "Exported segmented_audio/64_SPEAKER05_START272_STOP274.mp3\n",
            "Exported segmented_audio/65_SPEAKER10_START274_STOP274.mp3\n",
            "Exported segmented_audio/66_SPEAKER05_START274_STOP287.mp3\n",
            "Exported segmented_audio/67_SPEAKER21_START287_STOP290.mp3\n",
            "Exported segmented_audio/68_SPEAKER06_START290_STOP292.mp3\n",
            "Exported segmented_audio/69_SPEAKER21_START292_STOP292.mp3\n",
            "Exported segmented_audio/70_SPEAKER06_START292_STOP304.mp3\n",
            "Exported segmented_audio/71_SPEAKER11_START304_STOP312.mp3\n",
            "Exported segmented_audio/72_SPEAKER19_START312_STOP315.mp3\n",
            "Exported segmented_audio/73_SPEAKER05_START315_STOP316.mp3\n",
            "Exported segmented_audio/74_SPEAKER06_START316_STOP317.mp3\n",
            "Exported segmented_audio/75_SPEAKER19_START317_STOP323.mp3\n",
            "Exported segmented_audio/76_SPEAKER02_START323_STOP344.mp3\n",
            "Exported segmented_audio/77_SPEAKER05_START344_STOP344.mp3\n",
            "Exported segmented_audio/78_SPEAKER02_START344_STOP344.mp3\n",
            "Exported segmented_audio/79_SPEAKER08_START344_STOP345.mp3\n",
            "Exported segmented_audio/80_SPEAKER02_START345_STOP346.mp3\n",
            "Exported segmented_audio/81_SPEAKER08_START346_STOP346.mp3\n",
            "Exported segmented_audio/82_SPEAKER05_START346_STOP348.mp3\n",
            "Exported segmented_audio/83_SPEAKER08_START348_STOP349.mp3\n",
            "Exported segmented_audio/84_SPEAKER05_START349_STOP355.mp3\n",
            "Exported segmented_audio/85_SPEAKER02_START355_STOP358.mp3\n",
            "Exported segmented_audio/86_SPEAKER05_START358_STOP361.mp3\n",
            "Exported segmented_audio/87_SPEAKER15_START361_STOP361.mp3\n",
            "Exported segmented_audio/88_SPEAKER05_START361_STOP361.mp3\n",
            "Exported segmented_audio/89_SPEAKER03_START361_STOP361.mp3\n",
            "Exported segmented_audio/90_SPEAKER05_START361_STOP362.mp3\n",
            "Exported segmented_audio/91_SPEAKER03_START362_STOP362.mp3\n",
            "Exported segmented_audio/92_SPEAKER05_START362_STOP362.mp3\n",
            "Exported segmented_audio/93_SPEAKER02_START362_STOP367.mp3\n",
            "Exported segmented_audio/94_SPEAKER04_START367_STOP375.mp3\n",
            "Exported segmented_audio/95_SPEAKER16_START375_STOP383.mp3\n",
            "Exported segmented_audio/96_SPEAKER19_START383_STOP383.mp3\n",
            "Exported segmented_audio/97_SPEAKER04_START383_STOP383.mp3\n",
            "Exported segmented_audio/98_SPEAKER02_START383_STOP385.mp3\n",
            "Exported segmented_audio/99_SPEAKER04_START385_STOP385.mp3\n",
            "Exported segmented_audio/100_SPEAKER02_START385_STOP386.mp3\n",
            "Exported segmented_audio/101_SPEAKER04_START386_STOP392.mp3\n",
            "Exported segmented_audio/102_SPEAKER08_START392_STOP392.mp3\n",
            "Exported segmented_audio/103_SPEAKER02_START392_STOP394.mp3\n",
            "Exported segmented_audio/104_SPEAKER04_START394_STOP397.mp3\n",
            "Exported segmented_audio/105_SPEAKER02_START397_STOP419.mp3\n",
            "Exported segmented_audio/106_SPEAKER09_START419_STOP419.mp3\n",
            "Exported segmented_audio/107_SPEAKER21_START419_STOP422.mp3\n",
            "Exported segmented_audio/108_SPEAKER14_START422_STOP425.mp3\n",
            "Exported segmented_audio/109_SPEAKER21_START425_STOP428.mp3\n",
            "Exported segmented_audio/110_SPEAKER14_START428_STOP430.mp3\n",
            "Exported segmented_audio/111_SPEAKER21_START430_STOP434.mp3\n",
            "Exported segmented_audio/112_SPEAKER14_START434_STOP446.mp3\n",
            "Exported segmented_audio/113_SPEAKER21_START446_STOP449.mp3\n",
            "Exported segmented_audio/114_SPEAKER15_START449_STOP449.mp3\n",
            "Exported segmented_audio/115_SPEAKER21_START449_STOP452.mp3\n",
            "Exported segmented_audio/116_SPEAKER15_START452_STOP490.mp3\n",
            "Exported segmented_audio/117_SPEAKER18_START490_STOP502.mp3\n",
            "Exported segmented_audio/118_SPEAKER05_START502_STOP506.mp3\n",
            "Exported segmented_audio/119_SPEAKER18_START506_STOP523.mp3\n",
            "Exported segmented_audio/120_SPEAKER10_START523_STOP532.mp3\n",
            "Exported segmented_audio/121_SPEAKER05_START532_STOP533.mp3\n",
            "Exported segmented_audio/122_SPEAKER00_START533_STOP535.mp3\n",
            "Exported segmented_audio/123_SPEAKER05_START535_STOP538.mp3\n",
            "Exported segmented_audio/124_SPEAKER14_START538_STOP542.mp3\n",
            "Exported segmented_audio/125_SPEAKER05_START542_STOP546.mp3\n",
            "Exported segmented_audio/126_SPEAKER04_START546_STOP547.mp3\n",
            "Exported segmented_audio/127_SPEAKER14_START547_STOP548.mp3\n",
            "Exported segmented_audio/128_SPEAKER05_START548_STOP548.mp3\n",
            "Exported segmented_audio/129_SPEAKER04_START548_STOP553.mp3\n",
            "Exported segmented_audio/130_SPEAKER03_START553_STOP568.mp3\n",
            "Exported segmented_audio/131_SPEAKER10_START568_STOP572.mp3\n",
            "Exported segmented_audio/132_SPEAKER02_START572_STOP579.mp3\n",
            "Exported segmented_audio/133_SPEAKER09_START579_STOP579.mp3\n",
            "Exported segmented_audio/134_SPEAKER02_START579_STOP580.mp3\n",
            "Exported segmented_audio/135_SPEAKER09_START580_STOP584.mp3\n",
            "Exported segmented_audio/136_SPEAKER04_START584_STOP591.mp3\n",
            "Exported segmented_audio/137_SPEAKER07_START591_STOP591.mp3\n",
            "Exported segmented_audio/138_SPEAKER19_START591_STOP591.mp3\n",
            "Exported segmented_audio/139_SPEAKER04_START591_STOP591.mp3\n",
            "Exported segmented_audio/140_SPEAKER19_START591_STOP591.mp3\n",
            "Exported segmented_audio/141_SPEAKER04_START591_STOP592.mp3\n",
            "Exported segmented_audio/142_SPEAKER19_START592_STOP600.mp3\n",
            "Exported segmented_audio/143_SPEAKER05_START600_STOP608.mp3\n",
            "Exported segmented_audio/144_SPEAKER03_START608_STOP608.mp3\n",
            "Exported segmented_audio/145_SPEAKER19_START608_STOP612.mp3\n",
            "Exported segmented_audio/146_SPEAKER03_START612_STOP613.mp3\n",
            "Exported segmented_audio/147_SPEAKER19_START613_STOP613.mp3\n",
            "Exported segmented_audio/148_SPEAKER04_START613_STOP613.mp3\n",
            "Exported segmented_audio/149_SPEAKER19_START613_STOP616.mp3\n",
            "Exported segmented_audio/150_SPEAKER03_START616_STOP618.mp3\n",
            "Exported segmented_audio/151_SPEAKER04_START618_STOP618.mp3\n",
            "Exported segmented_audio/152_SPEAKER03_START618_STOP619.mp3\n",
            "Exported segmented_audio/153_SPEAKER04_START619_STOP620.mp3\n",
            "Exported segmented_audio/154_SPEAKER10_START620_STOP620.mp3\n",
            "Exported segmented_audio/155_SPEAKER03_START620_STOP620.mp3\n",
            "Exported segmented_audio/156_SPEAKER10_START620_STOP621.mp3\n",
            "Exported segmented_audio/157_SPEAKER03_START621_STOP621.mp3\n",
            "Exported segmented_audio/158_SPEAKER10_START621_STOP621.mp3\n",
            "Exported segmented_audio/159_SPEAKER03_START621_STOP622.mp3\n",
            "Exported segmented_audio/160_SPEAKER10_START622_STOP624.mp3\n",
            "Exported segmented_audio/161_SPEAKER04_START624_STOP626.mp3\n",
            "Exported segmented_audio/162_SPEAKER19_START626_STOP633.mp3\n",
            "Exported segmented_audio/163_SPEAKER04_START633_STOP637.mp3\n",
            "Exported segmented_audio/164_SPEAKER19_START637_STOP667.mp3\n",
            "Exported segmented_audio/165_SPEAKER05_START667_STOP673.mp3\n",
            "Exported segmented_audio/166_SPEAKER19_START673_STOP685.mp3\n",
            "Exported segmented_audio/167_SPEAKER06_START685_STOP690.mp3\n",
            "Exported segmented_audio/168_SPEAKER12_START690_STOP694.mp3\n",
            "Exported segmented_audio/169_SPEAKER06_START694_STOP694.mp3\n",
            "Exported segmented_audio/170_SPEAKER12_START694_STOP694.mp3\n",
            "Exported segmented_audio/171_SPEAKER06_START694_STOP695.mp3\n",
            "Exported segmented_audio/172_SPEAKER12_START695_STOP695.mp3\n",
            "Exported segmented_audio/173_SPEAKER10_START695_STOP697.mp3\n",
            "Exported segmented_audio/174_SPEAKER12_START697_STOP698.mp3\n",
            "Exported segmented_audio/175_SPEAKER10_START698_STOP702.mp3\n",
            "Exported segmented_audio/176_SPEAKER12_START702_STOP721.mp3\n",
            "Exported segmented_audio/177_SPEAKER05_START721_STOP721.mp3\n",
            "Exported segmented_audio/178_SPEAKER12_START721_STOP725.mp3\n",
            "Exported segmented_audio/179_SPEAKER05_START725_STOP732.mp3\n",
            "Exported segmented_audio/180_SPEAKER03_START732_STOP736.mp3\n",
            "Exported segmented_audio/181_SPEAKER05_START736_STOP739.mp3\n",
            "Exported segmented_audio/182_SPEAKER03_START739_STOP740.mp3\n",
            "Exported segmented_audio/183_SPEAKER19_START740_STOP755.mp3\n",
            "Exported segmented_audio/184_SPEAKER06_START755_STOP768.mp3\n",
            "Exported segmented_audio/185_SPEAKER04_START768_STOP773.mp3\n",
            "Exported segmented_audio/186_SPEAKER06_START773_STOP774.mp3\n",
            "Exported segmented_audio/187_SPEAKER04_START774_STOP774.mp3\n",
            "Exported segmented_audio/188_SPEAKER06_START774_STOP774.mp3\n",
            "Exported segmented_audio/189_SPEAKER04_START774_STOP775.mp3\n",
            "Exported segmented_audio/190_SPEAKER06_START775_STOP779.mp3\n",
            "Exported segmented_audio/191_SPEAKER09_START779_STOP783.mp3\n",
            "Exported segmented_audio/192_SPEAKER06_START783_STOP783.mp3\n",
            "Exported segmented_audio/193_SPEAKER03_START783_STOP785.mp3\n",
            "Exported segmented_audio/194_SPEAKER06_START785_STOP785.mp3\n",
            "Exported segmented_audio/195_SPEAKER03_START785_STOP787.mp3\n",
            "Exported segmented_audio/196_SPEAKER02_START787_STOP788.mp3\n",
            "Exported segmented_audio/197_SPEAKER21_START788_STOP789.mp3\n",
            "Exported segmented_audio/198_SPEAKER02_START789_STOP789.mp3\n",
            "Exported segmented_audio/199_SPEAKER21_START789_STOP789.mp3\n",
            "Exported segmented_audio/200_SPEAKER02_START789_STOP790.mp3\n",
            "Exported segmented_audio/201_SPEAKER04_START790_STOP790.mp3\n",
            "Exported segmented_audio/202_SPEAKER02_START790_STOP795.mp3\n",
            "Exported segmented_audio/203_SPEAKER16_START795_STOP799.mp3\n",
            "Exported segmented_audio/204_SPEAKER09_START799_STOP807.mp3\n",
            "Exported segmented_audio/205_SPEAKER21_START807_STOP822.mp3\n",
            "Exported segmented_audio/206_SPEAKER04_START822_STOP823.mp3\n",
            "Exported segmented_audio/207_SPEAKER21_START823_STOP823.mp3\n",
            "Exported segmented_audio/208_SPEAKER04_START823_STOP823.mp3\n",
            "Exported segmented_audio/209_SPEAKER21_START823_STOP825.mp3\n",
            "Exported segmented_audio/210_SPEAKER04_START825_STOP830.mp3\n",
            "Exported segmented_audio/211_SPEAKER01_START830_STOP830.mp3\n",
            "Exported segmented_audio/212_SPEAKER21_START830_STOP830.mp3\n",
            "Exported segmented_audio/213_SPEAKER01_START830_STOP834.mp3\n",
            "Exported segmented_audio/214_SPEAKER21_START834_STOP835.mp3\n",
            "Exported segmented_audio/215_SPEAKER01_START835_STOP846.mp3\n",
            "Exported segmented_audio/216_SPEAKER05_START846_STOP857.mp3\n",
            "Exported segmented_audio/217_SPEAKER13_START857_STOP860.mp3\n",
            "Exported segmented_audio/218_SPEAKER05_START860_STOP860.mp3\n",
            "Exported segmented_audio/219_SPEAKER06_START860_STOP866.mp3\n",
            "Exported segmented_audio/220_SPEAKER17_START866_STOP869.mp3\n",
            "Exported segmented_audio/221_SPEAKER10_START869_STOP883.mp3\n",
            "Exported segmented_audio/222_SPEAKER08_START883_STOP889.mp3\n",
            "Exported segmented_audio/223_SPEAKER00_START889_STOP894.mp3\n",
            "Exported segmented_audio/224_SPEAKER08_START894_STOP900.mp3\n",
            "Exported segmented_audio/225_SPEAKER11_START900_STOP903.mp3\n",
            "Exported segmented_audio/226_SPEAKER05_START903_STOP905.mp3\n",
            "Exported segmented_audio/227_SPEAKER11_START905_STOP932.mp3\n",
            "Exported segmented_audio/228_SPEAKER05_START932_STOP960.mp3\n",
            "Exported segmented_audio/229_SPEAKER03_START960_STOP960.mp3\n",
            "Exported segmented_audio/230_SPEAKER05_START960_STOP960.mp3\n",
            "Exported segmented_audio/231_SPEAKER03_START960_STOP962.mp3\n",
            "Exported segmented_audio/232_SPEAKER04_START962_STOP968.mp3\n",
            "Exported segmented_audio/233_SPEAKER03_START968_STOP968.mp3\n",
            "Exported segmented_audio/234_SPEAKER04_START968_STOP968.mp3\n",
            "Exported segmented_audio/235_SPEAKER03_START968_STOP968.mp3\n",
            "Exported segmented_audio/236_SPEAKER04_START968_STOP968.mp3\n",
            "Exported segmented_audio/237_SPEAKER03_START968_STOP969.mp3\n",
            "Exported segmented_audio/238_SPEAKER04_START969_STOP977.mp3\n",
            "Exported segmented_audio/239_SPEAKER10_START977_STOP979.mp3\n",
            "Exported segmented_audio/240_SPEAKER05_START979_STOP985.mp3\n",
            "Exported segmented_audio/241_SPEAKER06_START985_STOP991.mp3\n",
            "Exported segmented_audio/242_SPEAKER05_START991_STOP1002.mp3\n",
            "Exported segmented_audio/243_SPEAKER21_START1002_STOP1014.mp3\n",
            "Exported segmented_audio/244_SPEAKER07_START1014_STOP1015.mp3\n",
            "Exported segmented_audio/245_SPEAKER21_START1015_STOP1015.mp3\n",
            "Exported segmented_audio/246_SPEAKER05_START1015_STOP1015.mp3\n",
            "Exported segmented_audio/247_SPEAKER21_START1015_STOP1015.mp3\n",
            "Exported segmented_audio/248_SPEAKER05_START1015_STOP1015.mp3\n",
            "Exported segmented_audio/249_SPEAKER21_START1015_STOP1016.mp3\n",
            "Exported segmented_audio/250_SPEAKER05_START1016_STOP1016.mp3\n",
            "Exported segmented_audio/251_SPEAKER07_START1016_STOP1016.mp3\n",
            "Exported segmented_audio/252_SPEAKER05_START1016_STOP1037.mp3\n",
            "Exported segmented_audio/253_SPEAKER10_START1037_STOP1037.mp3\n",
            "Exported segmented_audio/254_SPEAKER05_START1037_STOP1038.mp3\n",
            "Exported segmented_audio/255_SPEAKER17_START1038_STOP1039.mp3\n",
            "Exported segmented_audio/256_SPEAKER06_START1039_STOP1039.mp3\n",
            "Exported segmented_audio/257_SPEAKER05_START1039_STOP1045.mp3\n",
            "Exported segmented_audio/258_SPEAKER17_START1045_STOP1048.mp3\n",
            "Exported segmented_audio/259_SPEAKER05_START1048_STOP1048.mp3\n",
            "Exported segmented_audio/260_SPEAKER17_START1048_STOP1049.mp3\n",
            "Exported segmented_audio/261_SPEAKER05_START1049_STOP1079.mp3\n",
            "Exported segmented_audio/262_SPEAKER13_START1079_STOP1144.mp3\n",
            "Exported segmented_audio/263_SPEAKER10_START1144_STOP1145.mp3\n",
            "Exported segmented_audio/264_SPEAKER02_START1145_STOP1157.mp3\n",
            "Exported segmented_audio/265_SPEAKER14_START1157_STOP1157.mp3\n",
            "Exported segmented_audio/266_SPEAKER02_START1157_STOP1158.mp3\n",
            "Exported segmented_audio/267_SPEAKER14_START1158_STOP1159.mp3\n",
            "Exported segmented_audio/268_SPEAKER21_START1159_STOP1160.mp3\n",
            "Exported segmented_audio/269_SPEAKER03_START1160_STOP1160.mp3\n",
            "Exported segmented_audio/270_SPEAKER21_START1160_STOP1160.mp3\n",
            "Exported segmented_audio/271_SPEAKER03_START1160_STOP1162.mp3\n",
            "Exported segmented_audio/272_SPEAKER21_START1162_STOP1162.mp3\n",
            "Exported segmented_audio/273_SPEAKER01_START1162_STOP1163.mp3\n",
            "Exported segmented_audio/274_SPEAKER03_START1163_STOP1169.mp3\n",
            "Exported segmented_audio/275_SPEAKER04_START1169_STOP1176.mp3\n",
            "Exported segmented_audio/276_SPEAKER06_START1176_STOP1176.mp3\n",
            "Exported segmented_audio/277_SPEAKER04_START1176_STOP1178.mp3\n",
            "Exported segmented_audio/278_SPEAKER06_START1178_STOP1188.mp3\n",
            "Exported segmented_audio/279_SPEAKER02_START1188_STOP1193.mp3\n",
            "Exported segmented_audio/280_SPEAKER06_START1193_STOP1199.mp3\n",
            "Exported segmented_audio/281_SPEAKER21_START1199_STOP1199.mp3\n",
            "Exported segmented_audio/282_SPEAKER06_START1199_STOP1202.mp3\n",
            "Exported segmented_audio/283_SPEAKER21_START1202_STOP1209.mp3\n",
            "Exported segmented_audio/284_SPEAKER05_START1209_STOP1254.mp3\n",
            "Exported segmented_audio/285_SPEAKER13_START1254_STOP1257.mp3\n",
            "Exported segmented_audio/286_SPEAKER10_START1257_STOP1258.mp3\n",
            "Exported segmented_audio/287_SPEAKER13_START1258_STOP1265.mp3\n",
            "Exported segmented_audio/288_SPEAKER16_START1265_STOP1279.mp3\n",
            "Exported segmented_audio/289_SPEAKER07_START1279_STOP1285.mp3\n",
            "Exported segmented_audio/290_SPEAKER09_START1285_STOP1298.mp3\n",
            "Exported segmented_audio/291_SPEAKER10_START1298_STOP1298.mp3\n",
            "Exported segmented_audio/292_SPEAKER09_START1298_STOP1304.mp3\n",
            "Exported segmented_audio/293_SPEAKER07_START1304_STOP1310.mp3\n",
            "Exported segmented_audio/294_SPEAKER11_START1310_STOP1324.mp3\n",
            "Exported segmented_audio/295_SPEAKER02_START1324_STOP1332.mp3\n",
            "Exported segmented_audio/296_SPEAKER04_START1332_STOP1333.mp3\n",
            "Exported segmented_audio/297_SPEAKER02_START1333_STOP1337.mp3\n",
            "Exported segmented_audio/298_SPEAKER08_START1337_STOP1337.mp3\n",
            "Exported segmented_audio/299_SPEAKER02_START1337_STOP1338.mp3\n",
            "Exported segmented_audio/300_SPEAKER08_START1338_STOP1341.mp3\n",
            "Exported segmented_audio/301_SPEAKER09_START1341_STOP1361.mp3\n",
            "Exported segmented_audio/302_SPEAKER08_START1361_STOP1372.mp3\n",
            "Exported segmented_audio/303_SPEAKER02_START1372_STOP1372.mp3\n",
            "Exported segmented_audio/304_SPEAKER08_START1372_STOP1372.mp3\n",
            "Exported segmented_audio/305_SPEAKER02_START1372_STOP1381.mp3\n",
            "Exported segmented_audio/306_SPEAKER18_START1381_STOP1382.mp3\n",
            "Exported segmented_audio/307_SPEAKER02_START1382_STOP1387.mp3\n",
            "Exported segmented_audio/308_SPEAKER09_START1387_STOP1390.mp3\n",
            "Exported segmented_audio/309_SPEAKER02_START1390_STOP1390.mp3\n",
            "Exported segmented_audio/310_SPEAKER09_START1390_STOP1390.mp3\n",
            "Exported segmented_audio/311_SPEAKER02_START1390_STOP1391.mp3\n",
            "Exported segmented_audio/312_SPEAKER05_START1391_STOP1393.mp3\n",
            "Exported segmented_audio/313_SPEAKER02_START1393_STOP1396.mp3\n",
            "Exported segmented_audio/314_SPEAKER09_START1396_STOP1397.mp3\n",
            "Exported segmented_audio/315_SPEAKER02_START1397_STOP1397.mp3\n",
            "Exported segmented_audio/316_SPEAKER09_START1397_STOP1403.mp3\n",
            "Exported segmented_audio/317_SPEAKER11_START1403_STOP1408.mp3\n",
            "Exported segmented_audio/318_SPEAKER02_START1408_STOP1417.mp3\n",
            "Exported segmented_audio/319_SPEAKER08_START1417_STOP1441.mp3\n",
            "Exported segmented_audio/320_SPEAKER18_START1441_STOP1466.mp3\n",
            "Exported segmented_audio/321_SPEAKER09_START1466_STOP1474.mp3\n",
            "Exported segmented_audio/322_SPEAKER02_START1474_STOP1474.mp3\n",
            "Exported segmented_audio/323_SPEAKER09_START1474_STOP1475.mp3\n",
            "Exported segmented_audio/324_SPEAKER02_START1475_STOP1485.mp3\n",
            "Exported segmented_audio/325_SPEAKER11_START1485_STOP1487.mp3\n",
            "Exported segmented_audio/326_SPEAKER02_START1487_STOP1490.mp3\n",
            "Exported segmented_audio/327_SPEAKER08_START1490_STOP1492.mp3\n",
            "Exported segmented_audio/328_SPEAKER11_START1492_STOP1492.mp3\n",
            "Exported segmented_audio/329_SPEAKER08_START1492_STOP1493.mp3\n",
            "Exported segmented_audio/330_SPEAKER11_START1493_STOP1501.mp3\n",
            "Exported segmented_audio/331_SPEAKER02_START1501_STOP1502.mp3\n",
            "Exported segmented_audio/332_SPEAKER11_START1502_STOP1502.mp3\n",
            "Exported segmented_audio/333_SPEAKER02_START1502_STOP1502.mp3\n",
            "Exported segmented_audio/334_SPEAKER11_START1502_STOP1502.mp3\n",
            "Exported segmented_audio/335_SPEAKER02_START1502_STOP1518.mp3\n",
            "Exported segmented_audio/336_SPEAKER17_START1518_STOP1526.mp3\n",
            "Exported segmented_audio/337_SPEAKER02_START1526_STOP1551.mp3\n",
            "Exported segmented_audio/338_SPEAKER07_START1551_STOP1552.mp3\n",
            "Exported segmented_audio/339_SPEAKER16_START1552_STOP1559.mp3\n",
            "Exported segmented_audio/340_SPEAKER02_START1559_STOP1562.mp3\n",
            "Exported segmented_audio/341_SPEAKER19_START1562_STOP1567.mp3\n",
            "Exported segmented_audio/342_SPEAKER01_START1567_STOP1567.mp3\n",
            "Exported segmented_audio/343_SPEAKER02_START1567_STOP1584.mp3\n",
            "Exported segmented_audio/344_SPEAKER09_START1584_STOP1585.mp3\n",
            "Exported segmented_audio/345_SPEAKER06_START1585_STOP1594.mp3\n",
            "Exported segmented_audio/346_SPEAKER07_START1594_STOP1594.mp3\n",
            "Exported segmented_audio/347_SPEAKER10_START1594_STOP1601.mp3\n",
            "Exported segmented_audio/348_SPEAKER11_START1601_STOP1607.mp3\n",
            "Exported segmented_audio/349_SPEAKER05_START1607_STOP1609.mp3\n",
            "Exported segmented_audio/350_SPEAKER11_START1609_STOP1613.mp3\n",
            "Exported segmented_audio/351_SPEAKER05_START1613_STOP1616.mp3\n",
            "Exported segmented_audio/352_SPEAKER08_START1616_STOP1616.mp3\n",
            "Exported segmented_audio/353_SPEAKER18_START1616_STOP1616.mp3\n",
            "Exported segmented_audio/354_SPEAKER08_START1616_STOP1616.mp3\n",
            "Exported segmented_audio/355_SPEAKER11_START1616_STOP1616.mp3\n",
            "Exported segmented_audio/356_SPEAKER07_START1616_STOP1617.mp3\n",
            "Exported segmented_audio/357_SPEAKER11_START1617_STOP1619.mp3\n",
            "Exported segmented_audio/358_SPEAKER07_START1619_STOP1630.mp3\n",
            "Exported segmented_audio/359_SPEAKER04_START1630_STOP1631.mp3\n",
            "Exported segmented_audio/360_SPEAKER07_START1631_STOP1637.mp3\n",
            "Exported segmented_audio/361_SPEAKER04_START1637_STOP1669.mp3\n",
            "Exported segmented_audio/362_SPEAKER18_START1669_STOP1673.mp3\n",
            "Exported segmented_audio/363_SPEAKER00_START1673_STOP1682.mp3\n",
            "Exported segmented_audio/364_SPEAKER04_START1682_STOP1682.mp3\n",
            "Exported segmented_audio/365_SPEAKER00_START1682_STOP1698.mp3\n",
            "Exported segmented_audio/366_SPEAKER02_START1698_STOP1698.mp3\n",
            "Exported segmented_audio/367_SPEAKER00_START1698_STOP1698.mp3\n",
            "Exported segmented_audio/368_SPEAKER02_START1698_STOP1698.mp3\n",
            "Exported segmented_audio/369_SPEAKER00_START1698_STOP1698.mp3\n",
            "Exported segmented_audio/370_SPEAKER02_START1698_STOP1701.mp3\n",
            "Exported segmented_audio/371_SPEAKER07_START1701_STOP1701.mp3\n",
            "Exported segmented_audio/372_SPEAKER02_START1701_STOP1701.mp3\n",
            "Exported segmented_audio/373_SPEAKER07_START1701_STOP1703.mp3\n",
            "Exported segmented_audio/374_SPEAKER02_START1703_STOP1705.mp3\n",
            "Exported segmented_audio/375_SPEAKER19_START1705_STOP1711.mp3\n",
            "Exported segmented_audio/376_SPEAKER11_START1711_STOP1719.mp3\n",
            "Exported segmented_audio/377_SPEAKER09_START1719_STOP1726.mp3\n",
            "Exported segmented_audio/378_SPEAKER10_START1726_STOP1733.mp3\n",
            "Exported segmented_audio/379_SPEAKER06_START1733_STOP1740.mp3\n",
            "Exported segmented_audio/380_SPEAKER13_START1740_STOP1740.mp3\n",
            "Exported segmented_audio/381_SPEAKER06_START1740_STOP1740.mp3\n",
            "Exported segmented_audio/382_SPEAKER10_START1740_STOP1750.mp3\n",
            "Exported segmented_audio/383_SPEAKER07_START1750_STOP1754.mp3\n",
            "Exported segmented_audio/384_SPEAKER03_START1754_STOP1754.mp3\n",
            "Exported segmented_audio/385_SPEAKER07_START1754_STOP1755.mp3\n",
            "Exported segmented_audio/386_SPEAKER03_START1755_STOP1756.mp3\n",
            "Exported segmented_audio/387_SPEAKER07_START1756_STOP1757.mp3\n",
            "Exported segmented_audio/388_SPEAKER03_START1757_STOP1758.mp3\n",
            "Exported segmented_audio/389_SPEAKER07_START1758_STOP1759.mp3\n",
            "Exported segmented_audio/390_SPEAKER16_START1759_STOP1759.mp3\n",
            "Exported segmented_audio/391_SPEAKER03_START1759_STOP1760.mp3\n",
            "Exported segmented_audio/392_SPEAKER10_START1760_STOP1761.mp3\n",
            "Exported segmented_audio/393_SPEAKER07_START1761_STOP1761.mp3\n",
            "Exported segmented_audio/394_SPEAKER10_START1761_STOP1783.mp3\n",
            "Exported segmented_audio/395_SPEAKER19_START1783_STOP1787.mp3\n",
            "Exported segmented_audio/396_SPEAKER03_START1787_STOP1788.mp3\n",
            "Exported segmented_audio/397_SPEAKER19_START1788_STOP1791.mp3\n",
            "Exported segmented_audio/398_SPEAKER02_START1791_STOP1795.mp3\n",
            "Exported segmented_audio/399_SPEAKER05_START1795_STOP1804.mp3\n",
            "Exported segmented_audio/400_SPEAKER10_START1804_STOP1804.mp3\n",
            "Exported segmented_audio/401_SPEAKER05_START1804_STOP1804.mp3\n",
            "Exported segmented_audio/402_SPEAKER10_START1804_STOP1805.mp3\n",
            "Exported segmented_audio/403_SPEAKER05_START1805_STOP1809.mp3\n",
            "Exported segmented_audio/404_SPEAKER06_START1809_STOP1818.mp3\n",
            "Exported segmented_audio/405_SPEAKER05_START1818_STOP1821.mp3\n",
            "Exported segmented_audio/406_SPEAKER14_START1821_STOP1823.mp3\n",
            "Exported segmented_audio/407_SPEAKER05_START1823_STOP1833.mp3\n",
            "Exported segmented_audio/408_SPEAKER06_START1833_STOP1837.mp3\n",
            "Exported segmented_audio/409_SPEAKER04_START1837_STOP1840.mp3\n",
            "Exported segmented_audio/410_SPEAKER03_START1840_STOP1841.mp3\n",
            "Exported segmented_audio/411_SPEAKER05_START1841_STOP1842.mp3\n",
            "Exported segmented_audio/412_SPEAKER03_START1842_STOP1842.mp3\n",
            "Exported segmented_audio/413_SPEAKER04_START1842_STOP1843.mp3\n",
            "Exported segmented_audio/414_SPEAKER03_START1843_STOP1843.mp3\n",
            "Exported segmented_audio/415_SPEAKER05_START1843_STOP1851.mp3\n",
            "Exported segmented_audio/416_SPEAKER21_START1851_STOP1853.mp3\n",
            "Exported segmented_audio/417_SPEAKER04_START1853_STOP1857.mp3\n",
            "Exported segmented_audio/418_SPEAKER03_START1857_STOP1862.mp3\n",
            "Exported segmented_audio/419_SPEAKER04_START1862_STOP1870.mp3\n",
            "Exported segmented_audio/420_SPEAKER03_START1870_STOP1871.mp3\n",
            "Exported segmented_audio/421_SPEAKER06_START1871_STOP1871.mp3\n",
            "Exported segmented_audio/422_SPEAKER14_START1871_STOP1873.mp3\n",
            "Exported segmented_audio/423_SPEAKER03_START1873_STOP1873.mp3\n",
            "Exported segmented_audio/424_SPEAKER06_START1873_STOP1881.mp3\n",
            "Exported segmented_audio/425_SPEAKER03_START1881_STOP1882.mp3\n",
            "Exported segmented_audio/426_SPEAKER14_START1882_STOP1885.mp3\n",
            "Exported segmented_audio/427_SPEAKER03_START1885_STOP1887.mp3\n",
            "Exported segmented_audio/428_SPEAKER14_START1887_STOP1887.mp3\n",
            "Exported segmented_audio/429_SPEAKER10_START1887_STOP1897.mp3\n",
            "Exported segmented_audio/430_SPEAKER03_START1897_STOP1900.mp3\n",
            "Exported segmented_audio/431_SPEAKER04_START1900_STOP1901.mp3\n",
            "Exported segmented_audio/432_SPEAKER03_START1901_STOP1901.mp3\n",
            "Exported segmented_audio/433_SPEAKER04_START1901_STOP1912.mp3\n"
          ]
        }
      ]
    },
    {
      "cell_type": "code",
      "source": [
        "# Use a pipeline as a high-level helper\n",
        "from transformers import pipeline\n",
        "\n",
        "# model = https://huggingface.co/facebook/wav2vec2-base-960h\n",
        "pipe = pipeline(\"automatic-speech-recognition\", model=\"openai/whisper-large-v3\", device=0)"
      ],
      "metadata": {
        "colab": {
          "base_uri": "https://localhost:8080/",
          "height": 386,
          "referenced_widgets": [
            "dfc39ff26d534df9b8bb3e41a904e67d",
            "54f8e1a1af2c45f88b542a7dae2289fc",
            "5aa9cda7909549878a0d54a4e6f336cc",
            "7773d0a0fe484100ac7502428f01a3af",
            "e3637ec8a89b47b1a581c3ae918c52ca",
            "548c21364b5f4775b27102f3a8c4a535",
            "6b51ebbf7fc048e2b8da106e4fc6a7fe",
            "46b6ff0e5bd14bd4bbdfdf6497f6e7a6",
            "22e3338236bf4055ab693a4539f1e4f9",
            "c642dc693393464dbfb0fd57bc963b3c",
            "701b89aac36a4ba2a95b035b6a5920bd",
            "e19e38f754b841b7bf48c75afe207bd2",
            "82a7256bf1674e3188688818c2de2f36",
            "d65154f7c32c4807965a63b2b3563bf6",
            "d864f7ce99324366b250e542bb753e39",
            "b874db7af32e430a9d6b16a7c06ef649",
            "be9f036b2a3f4b318776201846f2239f",
            "202849791e21461587ee9feea332eb13",
            "2fae9745d8cc4e2e83ac0a59b9fd5a19",
            "6b10f295b0c34f77bfbb78aaf0eb0b9b",
            "8faee0a3a16d4567b5aa15226cb461c5",
            "082804abf61f465ca9f8d189f4348cf7",
            "9749c8bd99d54278837412980ef7fa6f",
            "0d67797b6af44605b67569718d00f757",
            "ada20a73c2df4caabf61c5a2a068d2b9",
            "ccee79cf2c4c4f99b4fabb44962dba7e",
            "0505c98d25564cddae722fec582aadde",
            "09c547644ab9423a85e47a8f54384930",
            "e0d8671513924d528d5117299abd7557",
            "115911a2dc1a4bed863e4a01bf3f48ad",
            "6051afc49b4944f3959b5f7fb7e68f63",
            "faec2724dbe2429dbe850376c49f7490",
            "89b9bfcecdb54cd1a3d4b8bb06bb8389",
            "c219e72facf54c95ae4cd0ddc81899e7",
            "0eb6010240724a51b1384b742cff1351",
            "45e15d8f02b64effb4b866ebff161ec1",
            "dda7a9ac75b2434eb01bb6309e03fb9f",
            "21b32ab777854a2e832a5ec6b4f8bde2",
            "e8f6b824bc3241ecadd479ee9d204c56",
            "b83866ff035c473b89d1abda3fb73058",
            "b69b7470510748a1aa1d9cf447844c06",
            "b28c893baaff4e90a2b361e62779b9e7",
            "c1ef5a4368bc432f9a0ddd4bdc214166",
            "a659f893d33942c9badc34da10d6ba97",
            "122f8d39e618449ea5e6e333f0867689",
            "672f6e23d4364b0396afa720cf5fd9f3",
            "6ac2987445234041b4b2054a5820ce0d",
            "4ddccc64bf5640f99b59b6906f8f4e3a",
            "029b03252e5246e9a2f1947108c5be0d",
            "8b3c2279175543e094bb358ffbb82716",
            "213b13271b614dea964cb8ba11b09d4d",
            "a060a1bb3d3c43d4855747b37e4f3080",
            "9a9cb20fb3654b66b586246f62e5afec",
            "dd1e4a5482cf444596d46e02b4377ca0",
            "dc1cb496889d488a975683cd82f32718",
            "cf8e03789c7f45cd89ee83c6ff4a9a6a",
            "0ccd78dac5404a849f2be7c8c499973f",
            "1cf01c1cb40546e9873788651621ba7f",
            "9acbc2658f83463dab67d33f95daec17",
            "04371446c2d6423ab1d7583cd8977e50",
            "6a248e0609ab4481986f79dd939374db",
            "986d099c7228427c89b277dfe068d429",
            "8e653d8f27bf43c6af7758c6d667d641",
            "e07778f1553d4df690fdff24c77a0f28",
            "c063f64547174fb08201fdb289a9c665",
            "1d7acfa605ab420f8ba0fc124e078407",
            "8769644154cc4c399e56c36d647c4ece",
            "70fc9e8711554e428221e87ef9d95a43",
            "f9aa5d136dc54c5db778b8e5c5d96296",
            "7d8453bcdc5b40b8a78065fcd44fd265",
            "cf661cf12d1b4bbb851c6cf5af599045",
            "77021a53c9c9416bab949d0c26737a83",
            "28a010504acc445894e9b586f1a63618",
            "83dea97b304a490fa1157a79e920f428",
            "c2b46b24bde4466d8509e4d99d1bed90",
            "3504d423fc4c4f5f854e3c817c3da9b3",
            "40022ba90d044596ad4e5a2ba70b5644",
            "27e4b2da2abc44739405ed94048c782a",
            "cd6027ad16194b7db0082e82471e3387",
            "8ca5de070d8c4c45af119b621146d1a7",
            "a1641ea778b2412681205f63c5a57416",
            "d256898185e44aa3aa6d7b21386b08c3",
            "85f8198bb3cb4273b5a3d82a0bf1aa97",
            "09a25bf5558949fcaf09d9f286349ae2",
            "7f33966cdb9a485485753b83302dec0d",
            "d5970ff529de488fb7779440ff149e1a",
            "e67d6fab2160472088a54c50001ea483",
            "68b1a7322eeb40ef91deaa28abd00688",
            "9218b7243686472ea94c01c4cbd03ee9",
            "3b1f268c104347529728ae6b3b3ff688",
            "ef1bbf6a02254eb5a7555054a577b6b1",
            "fb83642b00a04b79a46ccfd288bc19fa",
            "74b46fb75b5d4f25804c30bb173d5ed7",
            "4eb36aa0f961463eaac4e78e27dbfa68",
            "6957766a3aba438ca45e53467b81929b",
            "7b56c7c362864327939b586e38c17f57",
            "4b6086a795004e1a9a6a0737d444b140",
            "c54f819c46cc4de3898d4903f221fcda",
            "4253ac687692416587142f7523bf5cda",
            "1246a94f88a54245a014af9b34840a61",
            "6e71ccf5382349579cd9c4bb6db26f27",
            "f5518f3754644955b26136b90afbff31",
            "4e9f7c70e69641e0b6719cabb50c1719",
            "4024749429384e999f6b111af9f26c7a",
            "2ae0c0475f6944d98dd30192a01dc6ec",
            "30df7dcfd6764aae8d8742f2057b65ca",
            "28b6760410ce4b398a7f1103b122c203",
            "1c8ba032b6ce4173b865b621929b3710",
            "fb870f70a4bd4402958a9ca330e9cf8b",
            "8d5de8cd77964de2a14fd92bf03e6e52",
            "970378f190ab483fbe06c0a5b6044478",
            "b4cf4da0bae44a8f9b182b31afed171d",
            "3c41733966da42548a8d4add0dc62c99",
            "4cb85eb46b0f42e685b725547b18792b",
            "1af0714985b5489a96ff85979870cd2c",
            "7f9702027ecc40429f6c2564ba22bda5",
            "d9fdb974b8a64a4cab64051205fef908",
            "ea7f389ae7034e8e98ba62463f4955d6",
            "51301fb4c8444cfba4e3c46f716296ce",
            "5f8cb90e7008485d920ca3400b22c00a",
            "0084eabd248f440db78f979bae19c9d1"
          ]
        },
        "id": "n8gSkun1SvlZ",
        "outputId": "b2f62f71-7563-4009-9a7e-eea60687a166"
      },
      "execution_count": 28,
      "outputs": [
        {
          "output_type": "display_data",
          "data": {
            "text/plain": [
              "config.json:   0%|          | 0.00/1.27k [00:00<?, ?B/s]"
            ],
            "application/vnd.jupyter.widget-view+json": {
              "version_major": 2,
              "version_minor": 0,
              "model_id": "dfc39ff26d534df9b8bb3e41a904e67d"
            }
          },
          "metadata": {}
        },
        {
          "output_type": "display_data",
          "data": {
            "text/plain": [
              "model.safetensors:   0%|          | 0.00/3.09G [00:00<?, ?B/s]"
            ],
            "application/vnd.jupyter.widget-view+json": {
              "version_major": 2,
              "version_minor": 0,
              "model_id": "e19e38f754b841b7bf48c75afe207bd2"
            }
          },
          "metadata": {}
        },
        {
          "output_type": "display_data",
          "data": {
            "text/plain": [
              "generation_config.json:   0%|          | 0.00/3.90k [00:00<?, ?B/s]"
            ],
            "application/vnd.jupyter.widget-view+json": {
              "version_major": 2,
              "version_minor": 0,
              "model_id": "9749c8bd99d54278837412980ef7fa6f"
            }
          },
          "metadata": {}
        },
        {
          "output_type": "display_data",
          "data": {
            "text/plain": [
              "tokenizer_config.json:   0%|          | 0.00/283k [00:00<?, ?B/s]"
            ],
            "application/vnd.jupyter.widget-view+json": {
              "version_major": 2,
              "version_minor": 0,
              "model_id": "c219e72facf54c95ae4cd0ddc81899e7"
            }
          },
          "metadata": {}
        },
        {
          "output_type": "display_data",
          "data": {
            "text/plain": [
              "vocab.json:   0%|          | 0.00/1.04M [00:00<?, ?B/s]"
            ],
            "application/vnd.jupyter.widget-view+json": {
              "version_major": 2,
              "version_minor": 0,
              "model_id": "122f8d39e618449ea5e6e333f0867689"
            }
          },
          "metadata": {}
        },
        {
          "output_type": "display_data",
          "data": {
            "text/plain": [
              "tokenizer.json:   0%|          | 0.00/2.48M [00:00<?, ?B/s]"
            ],
            "application/vnd.jupyter.widget-view+json": {
              "version_major": 2,
              "version_minor": 0,
              "model_id": "cf8e03789c7f45cd89ee83c6ff4a9a6a"
            }
          },
          "metadata": {}
        },
        {
          "output_type": "display_data",
          "data": {
            "text/plain": [
              "merges.txt:   0%|          | 0.00/494k [00:00<?, ?B/s]"
            ],
            "application/vnd.jupyter.widget-view+json": {
              "version_major": 2,
              "version_minor": 0,
              "model_id": "8769644154cc4c399e56c36d647c4ece"
            }
          },
          "metadata": {}
        },
        {
          "output_type": "display_data",
          "data": {
            "text/plain": [
              "normalizer.json:   0%|          | 0.00/52.7k [00:00<?, ?B/s]"
            ],
            "application/vnd.jupyter.widget-view+json": {
              "version_major": 2,
              "version_minor": 0,
              "model_id": "27e4b2da2abc44739405ed94048c782a"
            }
          },
          "metadata": {}
        },
        {
          "output_type": "display_data",
          "data": {
            "text/plain": [
              "added_tokens.json:   0%|          | 0.00/34.6k [00:00<?, ?B/s]"
            ],
            "application/vnd.jupyter.widget-view+json": {
              "version_major": 2,
              "version_minor": 0,
              "model_id": "9218b7243686472ea94c01c4cbd03ee9"
            }
          },
          "metadata": {}
        },
        {
          "output_type": "display_data",
          "data": {
            "text/plain": [
              "special_tokens_map.json:   0%|          | 0.00/2.07k [00:00<?, ?B/s]"
            ],
            "application/vnd.jupyter.widget-view+json": {
              "version_major": 2,
              "version_minor": 0,
              "model_id": "1246a94f88a54245a014af9b34840a61"
            }
          },
          "metadata": {}
        },
        {
          "output_type": "display_data",
          "data": {
            "text/plain": [
              "preprocessor_config.json:   0%|          | 0.00/340 [00:00<?, ?B/s]"
            ],
            "application/vnd.jupyter.widget-view+json": {
              "version_major": 2,
              "version_minor": 0,
              "model_id": "970378f190ab483fbe06c0a5b6044478"
            }
          },
          "metadata": {}
        },
        {
          "output_type": "stream",
          "name": "stderr",
          "text": [
            "Device set to use cuda:0\n"
          ]
        }
      ]
    },
    {
      "cell_type": "code",
      "source": [
        "import os\n",
        "\n",
        "def process_segmented_files(directory='segmented_audio', output_file='transcription_output.txt'):\n",
        "    # Ensure the directory exists\n",
        "    if not os.path.exists(directory):\n",
        "        raise FileNotFoundError(f\"Directory '{directory}' does not exist.\")\n",
        "\n",
        "    # Create or clear the output file\n",
        "    with open(output_file, 'w', encoding='utf-8') as out:\n",
        "        out.write(\"Transcription Results:\\n\\n\")\n",
        "\n",
        "    # List and sort files (optional, helps with order)\n",
        "    files = sorted(os.listdir(directory))\n",
        "\n",
        "    # Process each file\n",
        "    for file in files:\n",
        "        file_path = os.path.join(directory, file)\n",
        "        if os.path.isfile(file_path):\n",
        "            try:\n",
        "                text = pipe(file_path, return_timestamps=True)['text']\n",
        "                num, speaker, time_start, time_stop = file.split('_')\n",
        "                time_stop = time_stop.replace(\".mp3\", \"\")\n",
        "\n",
        "                output = f\"{speaker} -- {time_start}sec to {time_stop}sec:\\n{text}\\n\\n\"\n",
        "\n",
        "                # Append to the output file\n",
        "                with open(output_file, 'a', encoding='utf-8') as out:\n",
        "                    out.write(output)\n",
        "\n",
        "            except Exception as e:\n",
        "                print(f\"Error processing {file}: {e}\")\n"
      ],
      "metadata": {
        "id": "UnapqJeDS6dl"
      },
      "execution_count": 30,
      "outputs": []
    },
    {
      "cell_type": "code",
      "source": [
        "process_segmented_files()"
      ],
      "metadata": {
        "id": "GWtCkTAQTqji"
      },
      "execution_count": null,
      "outputs": []
    },
    {
      "cell_type": "code",
      "source": [
        "from google.colab import files\n",
        "files.download('transcription_output.txt')\n"
      ],
      "metadata": {
        "colab": {
          "base_uri": "https://localhost:8080/",
          "height": 17
        },
        "id": "_yRrjCuBTu3D",
        "outputId": "62183ba7-3961-4301-c5b6-bb1be7ae1746"
      },
      "execution_count": 32,
      "outputs": [
        {
          "output_type": "display_data",
          "data": {
            "text/plain": [
              "<IPython.core.display.Javascript object>"
            ],
            "application/javascript": [
              "\n",
              "    async function download(id, filename, size) {\n",
              "      if (!google.colab.kernel.accessAllowed) {\n",
              "        return;\n",
              "      }\n",
              "      const div = document.createElement('div');\n",
              "      const label = document.createElement('label');\n",
              "      label.textContent = `Downloading \"${filename}\": `;\n",
              "      div.appendChild(label);\n",
              "      const progress = document.createElement('progress');\n",
              "      progress.max = size;\n",
              "      div.appendChild(progress);\n",
              "      document.body.appendChild(div);\n",
              "\n",
              "      const buffers = [];\n",
              "      let downloaded = 0;\n",
              "\n",
              "      const channel = await google.colab.kernel.comms.open(id);\n",
              "      // Send a message to notify the kernel that we're ready.\n",
              "      channel.send({})\n",
              "\n",
              "      for await (const message of channel.messages) {\n",
              "        // Send a message to notify the kernel that we're ready.\n",
              "        channel.send({})\n",
              "        if (message.buffers) {\n",
              "          for (const buffer of message.buffers) {\n",
              "            buffers.push(buffer);\n",
              "            downloaded += buffer.byteLength;\n",
              "            progress.value = downloaded;\n",
              "          }\n",
              "        }\n",
              "      }\n",
              "      const blob = new Blob(buffers, {type: 'application/binary'});\n",
              "      const a = document.createElement('a');\n",
              "      a.href = window.URL.createObjectURL(blob);\n",
              "      a.download = filename;\n",
              "      div.appendChild(a);\n",
              "      a.click();\n",
              "      div.remove();\n",
              "    }\n",
              "  "
            ]
          },
          "metadata": {}
        },
        {
          "output_type": "display_data",
          "data": {
            "text/plain": [
              "<IPython.core.display.Javascript object>"
            ],
            "application/javascript": [
              "download(\"download_b1b0c692-03c9-4d7e-841e-a0cb650e5bf7\", \"transcription_output.txt\", 63230)"
            ]
          },
          "metadata": {}
        }
      ]
    },
    {
      "cell_type": "code",
      "source": [],
      "metadata": {
        "id": "8Ba-GGZYyegt"
      },
      "execution_count": null,
      "outputs": []
    }
  ]
}