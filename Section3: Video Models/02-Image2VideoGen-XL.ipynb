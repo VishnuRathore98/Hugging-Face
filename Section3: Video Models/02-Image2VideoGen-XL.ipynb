{
 "cells": [
  {
   "cell_type": "code",
   "execution_count": 1,
   "id": "abe417b9-e4af-48f1-91d6-f1e566c31f1d",
   "metadata": {},
   "outputs": [],
   "source": [
    "# !pip install transformers diffusers torch torchvision"
   ]
  },
  {
   "cell_type": "markdown",
   "id": "293a6a5e-6f8d-442e-8114-fdfafd675373",
   "metadata": {},
   "source": [
    "# I2VGen XL Model"
   ]
  },
  {
   "cell_type": "markdown",
   "id": "95c9e10d-a8a3-4932-abeb-adb293e11a7d",
   "metadata": {
    "tags": []
   },
   "source": [
    "### Release CUDA Memory"
   ]
  },
  {
   "cell_type": "code",
   "execution_count": 1,
   "id": "8a37a00c-1ab6-43c7-8d1c-329887b29523",
   "metadata": {
    "tags": []
   },
   "outputs": [],
   "source": [
    "import torch\n",
    "\n",
    "torch.cuda.empty_cache()"
   ]
  },
  {
   "cell_type": "code",
   "execution_count": 9,
   "id": "54da43ef-e159-4a34-8838-0118a01dcb64",
   "metadata": {
    "tags": []
   },
   "outputs": [],
   "source": [
    "import torch\n",
    "from diffusers import I2VGenXLPipeline\n",
    "from diffusers.utils import load_image, export_to_gif, export_to_video  "
   ]
  },
  {
   "cell_type": "code",
   "execution_count": 5,
   "id": "76da6ab6-e490-4284-95b2-ffaeb761f5db",
   "metadata": {
    "tags": []
   },
   "outputs": [
    {
     "name": "stderr",
     "output_type": "stream",
     "text": [
      "/home/studio-lab-user/.conda/envs/default/lib/python3.9/site-packages/huggingface_hub/file_download.py:1132: FutureWarning: `resume_download` is deprecated and will be removed in version 1.0.0. Downloads always resume when possible. If you want to force a new download, use `force_download=True`.\n",
      "  warnings.warn(\n"
     ]
    },
    {
     "data": {
      "application/vnd.jupyter.widget-view+json": {
       "model_id": "f655cbccd5f74dfc947cbacad6729468",
       "version_major": 2,
       "version_minor": 0
      },
      "text/plain": [
       "Loading pipeline components...:   0%|          | 0/7 [00:00<?, ?it/s]"
      ]
     },
     "metadata": {},
     "output_type": "display_data"
    }
   ],
   "source": [
    "repo_id = \"ali-vilab/i2vgen-xl\" \n",
    "pipeline = I2VGenXLPipeline.from_pretrained(repo_id, torch_dtype=torch.float16, variant=\"fp16\")\n",
    "pipeline.enable_model_cpu_offload()"
   ]
  }
 ],
 "metadata": {
  "kernelspec": {
   "display_name": ".venv",
   "language": "python",
   "name": "python3"
  },
  "language_info": {
   "codemirror_mode": {
    "name": "ipython",
    "version": 3
   },
   "file_extension": ".py",
   "mimetype": "text/x-python",
   "name": "python",
   "nbconvert_exporter": "python",
   "pygments_lexer": "ipython3",
   "version": "3.12.3"
  }
 },
 "nbformat": 4,
 "nbformat_minor": 5
}
