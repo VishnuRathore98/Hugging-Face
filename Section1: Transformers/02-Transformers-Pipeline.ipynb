{
 "cells": [
  {
   "cell_type": "markdown",
   "id": "d63a4f70",
   "metadata": {},
   "source": [
    "## Transformes pipeline"
   ]
  },
  {
   "cell_type": "code",
   "execution_count": 3,
   "id": "26425ba6",
   "metadata": {},
   "outputs": [],
   "source": [
    "from transformers import pipeline"
   ]
  },
  {
   "cell_type": "markdown",
   "id": "6d4defbb",
   "metadata": {},
   "source": [
    "### Sentiment Analysis"
   ]
  },
  {
   "cell_type": "code",
   "execution_count": 5,
   "id": "508dc327",
   "metadata": {},
   "outputs": [
    {
     "name": "stderr",
     "output_type": "stream",
     "text": [
      "No model was supplied, defaulted to distilbert/distilbert-base-uncased-finetuned-sst-2-english and revision 714eb0f (https://huggingface.co/distilbert/distilbert-base-uncased-finetuned-sst-2-english).\n",
      "Using a pipeline without specifying a model name and revision in production is not recommended.\n",
      "Device set to use cuda:0\n"
     ]
    },
    {
     "data": {
      "text/plain": [
       "[{'label': 'POSITIVE', 'score': 0.9465906620025635}]"
      ]
     },
     "execution_count": 5,
     "metadata": {},
     "output_type": "execute_result"
    }
   ],
   "source": [
    "classifier = pipeline('sentiment-analysis')\n",
    "classifier(\"Whether is pleasent\")"
   ]
  },
  {
   "cell_type": "markdown",
   "id": "02a5d2d1",
   "metadata": {},
   "source": [
    "### Zero Shot Classification"
   ]
  },
  {
   "cell_type": "code",
   "execution_count": 6,
   "id": "dfae50ff",
   "metadata": {},
   "outputs": [
    {
     "name": "stderr",
     "output_type": "stream",
     "text": [
      "No model was supplied, defaulted to facebook/bart-large-mnli and revision d7645e1 (https://huggingface.co/facebook/bart-large-mnli).\n",
      "Using a pipeline without specifying a model name and revision in production is not recommended.\n",
      "Xet Storage is enabled for this repo, but the 'hf_xet' package is not installed. Falling back to regular HTTP download. For better performance, install the package with: `pip install huggingface_hub[hf_xet]` or `pip install hf_xet`\n",
      "Device set to use cuda:0\n"
     ]
    },
    {
     "data": {
      "text/plain": [
       "{'sequence': 'This course is about transformers.',\n",
       " 'labels': ['education', 'buisiness', 'politics'],\n",
       " 'scores': [0.49820417165756226, 0.3876224458217621, 0.11417336761951447]}"
      ]
     },
     "execution_count": 6,
     "metadata": {},
     "output_type": "execute_result"
    }
   ],
   "source": [
    "zsclassifier = pipeline('zero-shot-classification')\n",
    "zsclassifier('This course is about transformers.', candidate_labels=['education','politics','buisiness'])"
   ]
  },
  {
   "cell_type": "markdown",
   "id": "e459be67",
   "metadata": {},
   "source": [
    "### Text Generation"
   ]
  },
  {
   "cell_type": "code",
   "execution_count": null,
   "id": "9cbdf208",
   "metadata": {},
   "outputs": [],
   "source": [
    "generator = pipeline('text-generation', model='distilgpt2')\n",
    "generator(\"This course is about\")"
   ]
  },
  {
   "cell_type": "markdown",
   "id": "33d64c93",
   "metadata": {},
   "source": [
    "### Text Completion"
   ]
  },
  {
   "cell_type": "code",
   "execution_count": null,
   "id": "fa973038",
   "metadata": {},
   "outputs": [],
   "source": [
    "unmasker = pipeline('fill-mask')\n",
    "unmaskrt(\"This cource will teach us all about <mask> models.\")"
   ]
  },
  {
   "cell_type": "markdown",
   "id": "2efa1ffa",
   "metadata": {},
   "source": [
    "### Names Entity Recognition"
   ]
  },
  {
   "cell_type": "code",
   "execution_count": null,
   "id": "f6ef67c2",
   "metadata": {},
   "outputs": [],
   "source": [
    "ner = pipeline('ner', grouped_entities=True)\n",
    "ner(\"My name is John and I work as google in california\")"
   ]
  },
  {
   "cell_type": "markdown",
   "id": "4a305389",
   "metadata": {},
   "source": [
    "### Question Answering"
   ]
  },
  {
   "cell_type": "code",
   "execution_count": null,
   "id": "b3badf67",
   "metadata": {},
   "outputs": [],
   "source": [
    "qa = pipeline('question-answering')\n",
    "qa(\"My name is John and I work as google in california\")"
   ]
  },
  {
   "cell_type": "markdown",
   "id": "67b7e066",
   "metadata": {},
   "source": [
    "### Summarization"
   ]
  },
  {
   "cell_type": "code",
   "execution_count": null,
   "id": "81db8e37",
   "metadata": {},
   "outputs": [],
   "source": [
    "summarizer = pipeline('summarization')\n",
    "summarizer(\"My name is John and I work as google in california as a Machine learning engineer\")"
   ]
  },
  {
   "cell_type": "markdown",
   "id": "078cfd26",
   "metadata": {},
   "source": [
    "### Translation"
   ]
  },
  {
   "cell_type": "code",
   "execution_count": null,
   "id": "4c8e0f34",
   "metadata": {},
   "outputs": [],
   "source": [
    "translator = pipeline('translation', model='Helsinki-NLP/opus...')\n",
    "translator(\"My name is John and I work as google in california\")"
   ]
  }
 ],
 "metadata": {
  "kernelspec": {
   "display_name": ".venv",
   "language": "python",
   "name": "python3"
  },
  "language_info": {
   "codemirror_mode": {
    "name": "ipython",
    "version": 3
   },
   "file_extension": ".py",
   "mimetype": "text/x-python",
   "name": "python",
   "nbconvert_exporter": "python",
   "pygments_lexer": "ipython3",
   "version": "3.12.3"
  }
 },
 "nbformat": 4,
 "nbformat_minor": 5
}
