{
 "cells": [
  {
   "cell_type": "markdown",
   "id": "509f92c8",
   "metadata": {},
   "source": [
    "# Understanding LLMs"
   ]
  },
  {
   "cell_type": "code",
   "execution_count": 28,
   "id": "0e812fcc",
   "metadata": {},
   "outputs": [],
   "source": [
    "from transformers import AutoTokenizer, AutoModelForCausalLM, TFAutoModelForCausalLM\n",
    "import torch\n",
    "from dotenv import load_dotenv"
   ]
  },
  {
   "cell_type": "code",
   "execution_count": 29,
   "id": "03598ac2",
   "metadata": {},
   "outputs": [
    {
     "data": {
      "text/plain": [
       "True"
      ]
     },
     "execution_count": 29,
     "metadata": {},
     "output_type": "execute_result"
    }
   ],
   "source": [
    "load_dotenv()"
   ]
  },
  {
   "cell_type": "markdown",
   "id": "6663c682",
   "metadata": {},
   "source": [
    "## Tokenizing Text\n",
    "\n",
    "### Why Tokenization?\n",
    "\n",
    "Tokenization transforms text into a format that models can comprehend. There are several methods for tokenizing text, each with its pros and cons:\n",
    "\n",
    "1. **Character-Based Tokenization**:\n",
    "   - **Method**: Splitting the text into individual characters and assigning each a unique numerical ID.\n",
    "   - **Pros**: Works well for languages like Chinese, where each character carries significant information.\n",
    "   - **Cons**: Creates a small vocabulary but requires many tokens to represent a string. This can affect performance and accuracy since individual characters carry minimal information.\n",
    "\n",
    "2. **Word-Based Tokenization**:\n",
    "   - **Method**: Splitting the text into individual words.\n",
    "   - **Pros**: Captures more meaning per token.\n",
    "   - **Cons**: Results in a large vocabulary with many unknown words (e.g., typos, slang) and different word forms (e.g., \"run\", \"runs\", \"running\").\n",
    "\n",
    "### Modern Tokenization Strategies\n",
    "\n",
    "Modern approaches balance character and word tokenization by splitting text into subwords. These methods effectively capture both the structure and meaning of the text while efficiently handling unknown words and different forms of the same word.\n",
    "\n",
    "- **Subword Tokenization**:\n",
    "  - **Method**: Frequently occurring words or subwords are assigned a single token, while complex words are split into multiple tokens, each representing a meaningful part of the word.\n",
    "  - **Example**: \"flabbergasted\" could be split into:\n",
    "              \n",
    "              tensor(781) \t:  fl\n",
    "              tensor(397) \t: ab\n",
    "              tensor(3900) \t: berg\n",
    "              tensor(8992) \t: asted\n",
    "\n",
    "Different models use different tokenizers, each with its unique strategy and vocabulary size. Let's see how the GPT-2 tokenizer handles a sentence.\n",
    "\n",
    "### Example with GPT-2 Tokenizer\n",
    "\n",
    "We'll use the GPT-2 tokenizer to tokenize the sentence shown below. This involves converting the text into tokens and then decoding those tokens back into text."
   ]
  },
  {
   "cell_type": "code",
   "execution_count": 30,
   "id": "ff837966",
   "metadata": {},
   "outputs": [
    {
     "name": "stdout",
     "output_type": "stream",
     "text": [
      "tensor([[37534,  6197,   516,    11,   314,  1101,  1610,   397,  3900,  8992,\n",
      "             0]])\n",
      "tensor(37534) \t: Prep\n",
      "tensor(6197) \t: oster\n",
      "tensor(516) \t: ous\n",
      "tensor(11) \t: ,\n",
      "tensor(314) \t:  I\n",
      "tensor(1101) \t: 'm\n",
      "tensor(1610) \t:  Fl\n",
      "tensor(397) \t: ab\n",
      "tensor(3900) \t: berg\n",
      "tensor(8992) \t: asted\n",
      "tensor(0) \t: !\n"
     ]
    }
   ],
   "source": [
    "# Loading the tokenizer\n",
    "tokenizer = AutoTokenizer.from_pretrained('gpt2')\n",
    "# Getting the token ids\n",
    "input_ids = tokenizer(\"Preposterous, I'm Flabbergasted!\", return_tensors='pt').input_ids\n",
    "print(input_ids)\n",
    "# Decoding the tokens back into text\n",
    "for t in input_ids[0]:\n",
    "    print(t,'\\t:', tokenizer.decode(t))"
   ]
  },
  {
   "cell_type": "code",
   "execution_count": 31,
   "id": "58bbdc43",
   "metadata": {},
   "outputs": [
    {
     "name": "stdout",
     "output_type": "stream",
     "text": [
      "tensor(40) \t: I\n",
      "tensor(14267) \t:  skip\n",
      "tensor(1973) \t:  across\n",
      "tensor(262) \t:  the\n"
     ]
    }
   ],
   "source": [
    "input_ids2 = tokenizer(\"I skip across the\", return_tensors=\"pt\").input_ids\n",
    "for t2 in input_ids2[0]:\n",
    "    print(t2, \"\\t:\", tokenizer.decode(t2))"
   ]
  },
  {
   "cell_type": "markdown",
   "id": "cf751332",
   "metadata": {},
   "source": [
    "As shown, the tokenizer splits the input string into a series of tokens, each assigned a unique ID. Most words are represented by a single token, but longer words (or even shorter ones!) can be split into multiple tokens. Play around with this!\n",
    "\n",
    "### Training Tokenizers vs. Training Models\n",
    "\n",
    "It's important to note that training tokenizers differs from training models. Training a model is a stochastic (non-deterministic) process, while training a tokenizer is deterministic and statistical. The tokenizer learns which subwords to use based on the dataset, a design decision of the tokenization algorithm.\n",
    "\n",
    "Popular subword tokenization approaches include Byte-level BPE (used in GPT-2), WordPiece, and SentencePiece. Each method has its advantages and is chosen based on the specific needs of the model and dataset.\n",
    "\n",
    "By understanding tokenization, we can better appreciate how models process text and generate meaningful outputs."
   ]
  },
  {
   "cell_type": "code",
   "execution_count": null,
   "id": "9e020faf",
   "metadata": {},
   "outputs": [],
   "source": []
  },
  {
   "cell_type": "markdown",
   "id": "6cb27c55",
   "metadata": {},
   "source": [
    "## Predicting Probabilities\n",
    "\n",
    "\n",
    "### Loading the Model\n",
    "\n",
    "First, we need to load the GPT-2 model. Here's how you do it:"
   ]
  },
  {
   "cell_type": "code",
   "execution_count": 32,
   "id": "7b52cda0",
   "metadata": {},
   "outputs": [],
   "source": [
    "gpt2 = AutoModelForCausalLM.from_pretrained('gpt2')"
   ]
  },
  {
   "cell_type": "code",
   "execution_count": 33,
   "id": "8c2e38fd",
   "metadata": {},
   "outputs": [],
   "source": [
    "# tf_gpt2 = TFAutoModelForCausalLM.from_pretrained('gpt2')"
   ]
  },
  {
   "cell_type": "code",
   "execution_count": 34,
   "id": "b8155c23",
   "metadata": {},
   "outputs": [],
   "source": [
    "# tf_gpt2.get_config()"
   ]
  },
  {
   "cell_type": "code",
   "execution_count": 35,
   "id": "48ebc131",
   "metadata": {},
   "outputs": [
    {
     "data": {
      "text/plain": [
       "GPT2LMHeadModel(\n",
       "  (transformer): GPT2Model(\n",
       "    (wte): Embedding(50257, 768)\n",
       "    (wpe): Embedding(1024, 768)\n",
       "    (drop): Dropout(p=0.1, inplace=False)\n",
       "    (h): ModuleList(\n",
       "      (0-11): 12 x GPT2Block(\n",
       "        (ln_1): LayerNorm((768,), eps=1e-05, elementwise_affine=True)\n",
       "        (attn): GPT2Attention(\n",
       "          (c_attn): Conv1D(nf=2304, nx=768)\n",
       "          (c_proj): Conv1D(nf=768, nx=768)\n",
       "          (attn_dropout): Dropout(p=0.1, inplace=False)\n",
       "          (resid_dropout): Dropout(p=0.1, inplace=False)\n",
       "        )\n",
       "        (ln_2): LayerNorm((768,), eps=1e-05, elementwise_affine=True)\n",
       "        (mlp): GPT2MLP(\n",
       "          (c_fc): Conv1D(nf=3072, nx=768)\n",
       "          (c_proj): Conv1D(nf=768, nx=3072)\n",
       "          (act): NewGELUActivation()\n",
       "          (dropout): Dropout(p=0.1, inplace=False)\n",
       "        )\n",
       "      )\n",
       "    )\n",
       "    (ln_f): LayerNorm((768,), eps=1e-05, elementwise_affine=True)\n",
       "  )\n",
       "  (lm_head): Linear(in_features=768, out_features=50257, bias=False)\n",
       ")"
      ]
     },
     "execution_count": 35,
     "metadata": {},
     "output_type": "execute_result"
    }
   ],
   "source": [
    "gpt2"
   ]
  },
  {
   "cell_type": "markdown",
   "id": "730c557e",
   "metadata": {},
   "source": [
    "### Understanding the Tools\n",
    "\n",
    "We used `AutoTokenizer` and `AutoModelForCausalLM` from the `transformers` library. This library supports hundreds of models and their corresponding tokenizers. Instead of memorizing the name of each tokenizer and model class, we use `AutoTokenizer` and `AutoModelFor*`. \n",
    "\n",
    "For example, we use `AutoModelForCausalLM` for the causal language modeling task. The `transformers` library automatically selects the appropriate default classes based on the model's configuration. For GPT-2, this means using `GPT2Tokenizer` and `GPT2LMHeadModel` behind the scenes.\n",
    "\n",
    "### Feeding Input to the Model\n",
    "\n",
    "If we feed the tokenized sentence from the previous section into the model, we get a result back with 50,257 values for each token in the input string. Here’s how we do it:"
   ]
  },
  {
   "cell_type": "code",
   "execution_count": 36,
   "id": "fefd4038",
   "metadata": {},
   "outputs": [],
   "source": [
    "output = gpt2(input_ids2)"
   ]
  },
  {
   "cell_type": "markdown",
   "id": "b02066c5",
   "metadata": {},
   "source": [
    "- **First Dimension**: Number of batches (1 because we only ran a single sequence through the model).\n",
    "- **Second Dimension**: Sequence length (number of tokens in the input sequence, 4 in our case).\n",
    "- **Third Dimension**: Vocabulary size (~50,000).\n",
    "\n",
    "These are the raw model outputs, or logits, corresponding to the tokens in the vocabulary. For each input token, the model predicts the likelihood of each token in the vocabulary continuing the sequence. Higher logits mean the model considers that token a more likely continuation.\n",
    "\n",
    "### Converting Logits to Probabilities\n",
    "\n",
    "Logits are the raw outputs of the model, essentially a list of numbers like [0.1, 0.2, 0.01, ...]. We can use these logits to select the most likely token to continue the sequence. Let's see how we do that.\n",
    "### Finding the Most Likely Next Token\n",
    "\n",
    "To focus on the logits for the entire input sentence and predict the next word, we find the index of the token with the highest value using the `argmax()` method:"
   ]
  },
  {
   "cell_type": "code",
   "execution_count": 37,
   "id": "17c9ac05",
   "metadata": {},
   "outputs": [
    {
     "data": {
      "text/plain": [
       "tensor([-39.3084, -39.0100, -41.8374,  ..., -46.9337, -44.9074, -39.5149],\n",
       "       grad_fn=<SelectBackward0>)"
      ]
     },
     "execution_count": 37,
     "metadata": {},
     "output_type": "execute_result"
    }
   ],
   "source": [
    "output.logits[0][0]"
   ]
  },
  {
   "cell_type": "code",
   "execution_count": 38,
   "id": "e1ee5503",
   "metadata": {},
   "outputs": [],
   "source": [
    "t = torch.topk(output.logits[0][3],10)\n",
    "l=[tokenizer.decode(index) for index in t.indices]"
   ]
  },
  {
   "cell_type": "code",
   "execution_count": 39,
   "id": "0647770f",
   "metadata": {},
   "outputs": [
    {
     "data": {
      "text/plain": [
       "[' line',\n",
       " ' street',\n",
       " ' river',\n",
       " ' room',\n",
       " ' pond',\n",
       " ' bridge',\n",
       " ' border',\n",
       " ' country',\n",
       " ' road',\n",
       " ' board']"
      ]
     },
     "execution_count": 39,
     "metadata": {},
     "output_type": "execute_result"
    }
   ],
   "source": [
    "l"
   ]
  },
  {
   "cell_type": "code",
   "execution_count": 40,
   "id": "6e7ed601",
   "metadata": {},
   "outputs": [
    {
     "data": {
      "text/plain": [
       "torch.Size([1, 4, 50257])"
      ]
     },
     "execution_count": 40,
     "metadata": {},
     "output_type": "execute_result"
    }
   ],
   "source": [
    "output.logits.shape"
   ]
  },
  {
   "cell_type": "code",
   "execution_count": 41,
   "id": "37e2bed4",
   "metadata": {},
   "outputs": [],
   "source": [
    "final_logits=output.logits[0,-1]"
   ]
  },
  {
   "cell_type": "code",
   "execution_count": 42,
   "id": "7331cfbf",
   "metadata": {},
   "outputs": [
    {
     "data": {
      "text/plain": [
       "tensor([-87.5486, -86.0567, -88.3320,  ..., -88.2509, -90.5480, -86.1209],\n",
       "       grad_fn=<SelectBackward0>)"
      ]
     },
     "execution_count": 42,
     "metadata": {},
     "output_type": "execute_result"
    }
   ],
   "source": [
    "final_logits"
   ]
  },
  {
   "cell_type": "code",
   "execution_count": 43,
   "id": "390166e3",
   "metadata": {},
   "outputs": [
    {
     "data": {
      "text/plain": [
       "torch.Size([50257])"
      ]
     },
     "execution_count": 43,
     "metadata": {},
     "output_type": "execute_result"
    }
   ],
   "source": [
    "final_logits.shape"
   ]
  },
  {
   "cell_type": "code",
   "execution_count": 44,
   "id": "71f02bb3",
   "metadata": {},
   "outputs": [
    {
     "data": {
      "text/plain": [
       "tensor(1627)"
      ]
     },
     "execution_count": 44,
     "metadata": {},
     "output_type": "execute_result"
    }
   ],
   "source": [
    "final_logits.argmax()"
   ]
  },
  {
   "cell_type": "code",
   "execution_count": 45,
   "id": "5dbb4be4",
   "metadata": {},
   "outputs": [
    {
     "data": {
      "text/plain": [
       "' line'"
      ]
     },
     "execution_count": 45,
     "metadata": {},
     "output_type": "execute_result"
    }
   ],
   "source": [
    "tokenizer.decode(final_logits.argmax())"
   ]
  },
  {
   "cell_type": "code",
   "execution_count": 46,
   "id": "2fbfebce",
   "metadata": {},
   "outputs": [],
   "source": [
    "topk=torch.topk(final_logits, 10)"
   ]
  },
  {
   "cell_type": "code",
   "execution_count": 47,
   "id": "5a3ebd39",
   "metadata": {},
   "outputs": [
    {
     "data": {
      "text/plain": [
       "torch.return_types.topk(\n",
       "values=tensor([-76.4706, -76.7638, -76.9556, -77.1236, -77.1500, -77.2032, -77.2354,\n",
       "        -77.2451, -77.2814, -77.8106], grad_fn=<TopkBackward0>),\n",
       "indices=tensor([ 1627,  4675,  7850,  2119, 16723,  7696,  4865,  1499,  2975,  3096]))"
      ]
     },
     "execution_count": 47,
     "metadata": {},
     "output_type": "execute_result"
    }
   ],
   "source": [
    "topk"
   ]
  },
  {
   "cell_type": "markdown",
   "id": "82357dbf",
   "metadata": {},
   "source": [
    "Notice how the model begins a new word with a whitespace and an \"street\". This prediction makes sense given the input sentence since it ended and its time to start another sentence. The model learns to pay attention to other tokens using an algorithm called self-attention, the fundamental building block of transformers. Self-attention allows the model to determine the significance of each token in contributing to the overall meaning of the phrase.\n",
    "\n",
    "### Note on Transformer Models\n",
    "\n",
    "Transformer models contain multiple attention layers, each specializing in different aspects of the input. Unlike heuristic systems, these features are learned during training rather than being predefined.\n",
    "\n",
    "By understanding how GPT-2 predicts probabilities and generates text, we can better appreciate the power and intricacy of transformer-based language models.\n",
    "\n",
    "\n",
    "## Exploring Other Token Candidates\n",
    "\n",
    "Now, let's explore which other tokens were potential candidates by selecting the top 10 values. This will give us insight into the model's thought process and the alternatives it considered.\n",
    "\n",
    "First, we'll use PyTorch to get the top 10 logits:"
   ]
  },
  {
   "cell_type": "code",
   "execution_count": 48,
   "id": "2e5eaf6e",
   "metadata": {},
   "outputs": [
    {
     "name": "stdout",
     "output_type": "stream",
     "text": [
      "tensor(1627)  :   line\n",
      "tensor(4675)  :   street\n",
      "tensor(7850)  :   river\n",
      "tensor(2119)  :   room\n",
      "tensor(16723)  :   pond\n",
      "tensor(7696)  :   bridge\n",
      "tensor(4865)  :   border\n",
      "tensor(1499)  :   country\n",
      "tensor(2975)  :   road\n",
      "tensor(3096)  :   board\n"
     ]
    }
   ],
   "source": [
    "for index in topk.indices:\n",
    "    print(index,\" : \",tokenizer.decode(index))"
   ]
  },
  {
   "cell_type": "markdown",
   "id": "a4a04872",
   "metadata": {},
   "source": [
    "### Converting Logits to Probabilities\n",
    "\n",
    "Logits are raw model outputs that don't represent probabilities. To understand the model's confidence in each prediction, we need to convert these logits into probabilities. This is done by comparing each value to all other predicted values and normalizing them so that their sum equals 1. This process is called the `softmax` operation.\n",
    "\n",
    "Here's the code that uses `softmax` to print out the top 10 most likely tokens along with their probabilities:"
   ]
  },
  {
   "cell_type": "code",
   "execution_count": 49,
   "id": "b599f8c5",
   "metadata": {},
   "outputs": [
    {
     "name": "stdout",
     "output_type": "stream",
     "text": [
      " line      3.6%\n",
      " street    2.7%\n",
      " river     2.2%\n",
      " room      1.9%\n",
      " pond      1.8%\n",
      " bridge    1.7%\n",
      " border    1.7%\n",
      " country   1.7%\n",
      " road      1.6%\n",
      " board     0.9%\n"
     ]
    }
   ],
   "source": [
    "topk = torch.topk(final_logits.softmax(dim=0), 10)\n",
    "for index, value in zip(topk.indices, topk.values):\n",
    "    print(f\"{tokenizer.decode(index):<10} {value.item():.1%}\")"
   ]
  },
  {
   "cell_type": "markdown",
   "id": "7713ac56",
   "metadata": {},
   "source": [
    "### Experimenting with Predictions\n",
    "\n",
    "Before diving deeper, it's beneficial to experiment with the code above to understand how the model's predictions vary with different inputs. Here are some ideas to try:\n",
    "\n",
    "1. **Change a Few Words**: Modify the adjectives in the input string, such as \"dark\" and \"stormy\". Observe how the model's predictions change. Does it still predict \"night\"? How do the probabilities for each token shift?\n",
    "\n",
    "2. **Alter the Input String**: Try different input strings altogether. For instance, instead of \"It was a dark and stormy\", use \"It was a sunny and bright\". Do you agree with the model's new predictions? How do they differ?\n",
    "\n",
    "3. **Check Grammar**: Provide an input string that is not grammatically correct. For example, use \"It was a dark stormy and\". How does the model handle it? Look at the probabilities of the top predictions. Do the probabilities still make sense?\n",
    "\n",
    "By experimenting with these changes, you can gain a deeper understanding of how the model processes language and how sensitive it is to different inputs. This hands-on approach will help you appreciate the intricacies of language modeling and the strengths and limitations of transformer models like GPT-2.\n",
    "## Generating Text\n",
    "\n",
    "Now that we understand how the model predicts the next token in a sequence, generating text becomes straightforward. By repeatedly feeding the model's predictions back into itself, we can extend the input text. The `transformers` library makes this easy with the `generate()` method, designed specifically for auto-regressive models like GPT-2. Let's explore how this works with an example.\n",
    "\n",
    "### Basic Text Generation\n",
    "\n",
    "Here’s how to use the `generate()` method to produce text:"
   ]
  },
  {
   "cell_type": "code",
   "execution_count": 50,
   "id": "1d8595ef",
   "metadata": {},
   "outputs": [
    {
     "name": "stderr",
     "output_type": "stream",
     "text": [
      "The attention mask and the pad token id were not set. As a consequence, you may observe unexpected behavior. Please pass your input's `attention_mask` to obtain reliable results.\n",
      "Setting `pad_token_id` to `eos_token_id`:50256 for open-end generation.\n"
     ]
    },
    {
     "name": "stdout",
     "output_type": "stream",
     "text": [
      "Input Ids: tensor([   40, 14267,  1973,   262])\n",
      "Output Ids: tensor([   40, 14267,  1973,   262,  1627,   284,   262,  1306,  2665,    13,\n",
      "          198,   198,   464,   717,  1517,   284,  3465,   318,   326,   262,\n",
      "          717,  1627,   318,   257])\n",
      "Decoded Text: I skip across the line to the next section.\n",
      "\n",
      "The first thing to note is that the first line is a\n"
     ]
    }
   ],
   "source": [
    "# Generating \n",
    "output_ids = gpt2.generate(input_ids2, max_new_tokens=20)\n",
    "decoded_text = tokenizer.decode(output_ids[0])\n",
    "\n",
    "print(f\"Input Ids: {input_ids2[0]}\")\n",
    "print(f\"Output Ids: {output_ids[0]}\")\n",
    "print(f\"Decoded Text: {decoded_text}\")"
   ]
  },
  {
   "cell_type": "code",
   "execution_count": 51,
   "id": "9fe9dc28",
   "metadata": {},
   "outputs": [
    {
     "name": "stdout",
     "output_type": "stream",
     "text": [
      "I skip across the line to the next section.\n",
      "\n",
      "The first thing to note is that the first line is a\n"
     ]
    }
   ],
   "source": [
    "print(decoded_text)"
   ]
  },
  {
   "cell_type": "markdown",
   "id": "56581d0a",
   "metadata": {},
   "source": [
    "When we call the `generate()` method, it abstracts away the details of making multiple forward passes, predicting the next token, and appending it to the input sequence. The result is a sequence of token IDs, including both the input and the new tokens generated by the model. Using the `tokenizer.decode()` method, we can convert these token IDs back into readable text.\n",
    "\n",
    "### Different Strategies for Text Generation\n",
    "\n",
    "While the `generate()` method simplifies text generation, the strategy we use can significantly impact the quality of the generated text. The default approach, known as greedy decoding, always picks the most likely next token. This method is simple but can lead to suboptimal results, especially for longer sequences. Let's look at why and explore other strategies.\n",
    "\n",
    "#### Greedy Decoding\n",
    "\n",
    "Greedy decoding selects the most likely next token at each step:"
   ]
  },
  {
   "cell_type": "code",
   "execution_count": 52,
   "id": "06c2c463",
   "metadata": {},
   "outputs": [
    {
     "name": "stdout",
     "output_type": "stream",
     "text": [
      "tensor(1627)  :   line\n",
      "tensor(4675)  :   street\n",
      "tensor(7850)  :   river\n",
      "tensor(2119)  :   room\n",
      "tensor(16723)  :   pond\n",
      "tensor(7696)  :   bridge\n",
      "tensor(4865)  :   border\n",
      "tensor(1499)  :   country\n",
      "tensor(2975)  :   road\n",
      "tensor(3096)  :   board\n"
     ]
    }
   ],
   "source": [
    "for index in topk.indices:\n",
    "    print(index,\" : \",tokenizer.decode(index))"
   ]
  },
  {
   "cell_type": "markdown",
   "id": "44838be4",
   "metadata": {},
   "source": [
    "While straightforward, this method can miss more coherent sequences because it doesn't consider the overall context of the sentence. For example, given the starting phrase \"Sky,\" it might predict \"blue\" as the next word, missing out on a more contextually rich phrase like \"Sky rockets soar.\"\n",
    "\n",
    "#### Beam Search\n",
    "\n",
    "Beam search keeps track of multiple hypotheses during generation, choosing the most likely overall sequence:"
   ]
  },
  {
   "cell_type": "code",
   "execution_count": null,
   "id": "6d1148ce",
   "metadata": {},
   "outputs": [],
   "source": []
  },
  {
   "cell_type": "code",
   "execution_count": 53,
   "id": "5146800a",
   "metadata": {},
   "outputs": [
    {
     "name": "stderr",
     "output_type": "stream",
     "text": [
      "The attention mask and the pad token id were not set. As a consequence, you may observe unexpected behavior. Please pass your input's `attention_mask` to obtain reliable results.\n",
      "Setting `pad_token_id` to `eos_token_id`:50256 for open-end generation.\n"
     ]
    },
    {
     "name": "stdout",
     "output_type": "stream",
     "text": [
      "I skip across the line to the other side of the room.\n",
      "\n",
      "\"What's going on?\" I ask.\n",
      "\n",
      "\"I don't know,\" he says\n"
     ]
    }
   ],
   "source": [
    " \n",
    "beam_output = gpt2.generate(\n",
    "    input_ids2,\n",
    "    num_beams=5,\n",
    "    max_new_tokens=30,\n",
    ")\n",
    "\n",
    "print(tokenizer.decode(beam_output[0], skip_special_tokens=True))\n",
    " "
   ]
  },
  {
   "cell_type": "markdown",
   "id": "90342b7a",
   "metadata": {},
   "source": [
    "Beam search is effective for tasks with predictable output lengths, like summarization or translation. However, it can be slower and sometimes still lead to repetition in open-ended generation tasks.\n",
    "\n",
    "#### Repetition Penalty and Bad Words\n",
    "\n",
    "To address repetition, you can introduce a repetition penalty:"
   ]
  },
  {
   "cell_type": "code",
   "execution_count": 54,
   "id": "a9a94160",
   "metadata": {},
   "outputs": [
    {
     "name": "stderr",
     "output_type": "stream",
     "text": [
      "The attention mask and the pad token id were not set. As a consequence, you may observe unexpected behavior. Please pass your input's `attention_mask` to obtain reliable results.\n",
      "Setting `pad_token_id` to `eos_token_id`:50256 for open-end generation.\n"
     ]
    },
    {
     "name": "stdout",
     "output_type": "stream",
     "text": [
      "Preposterous, I'm Flabbergasted!\n",
      "\n",
      "It's been a while since I've had a chance to sit down and talk to you guys about this. It's been a while since I've had a chance to sit down\n"
     ]
    }
   ],
   "source": [
    " \n",
    "beam_output = gpt2.generate(\n",
    "    input_ids,\n",
    "    num_beams=5,\n",
    "    repetition_penalty=1.2,\n",
    "    max_new_tokens=38,\n",
    ")\n",
    "\n",
    "print(tokenizer.decode(beam_output[0], skip_special_tokens=True))\n",
    " "
   ]
  },
  {
   "cell_type": "markdown",
   "id": "6942cb8e",
   "metadata": {},
   "source": [
    "You can also specify `bad_words_ids` to prevent the model from generating certain tokens, such as offensive words.\n",
    "\n",
    "### Sampling Techniques\n",
    "\n",
    "Instead of always picking the most likely next token, sampling introduces randomness by sampling from the probability distribution of the next tokens.\n",
    "\n",
    "#### Basic Sampling"
   ]
  },
  {
   "cell_type": "code",
   "execution_count": 55,
   "id": "dc9d4713",
   "metadata": {},
   "outputs": [
    {
     "name": "stderr",
     "output_type": "stream",
     "text": [
      "The attention mask and the pad token id were not set. As a consequence, you may observe unexpected behavior. Please pass your input's `attention_mask` to obtain reliable results.\n",
      "Setting `pad_token_id` to `eos_token_id`:50256 for open-end generation.\n"
     ]
    },
    {
     "name": "stdout",
     "output_type": "stream",
     "text": [
      "Preposterous, I'm Flabbergasted! *Nocturnal Eyes* Baal squirms furiously, clearly enraged. \"I dilute this, uh, Naz\n"
     ]
    }
   ],
   "source": [
    " \n",
    "from transformers import set_seed\n",
    "\n",
    "set_seed(70)\n",
    "\n",
    "sampling_output = gpt2.generate(\n",
    "    input_ids,\n",
    "    do_sample=True,\n",
    "    max_length=34,\n",
    "    top_k=0,  # We'll revisit this parameter\n",
    ")\n",
    "\n",
    "print(tokenizer.decode(sampling_output[0], skip_special_tokens=True))\n",
    " "
   ]
  },
  {
   "cell_type": "markdown",
   "id": "ddfc56c0",
   "metadata": {},
   "source": [
    "By setting `do_sample=True`, the model picks the next token based on its probability distribution, leading to more diverse and less repetitive text.\n",
    "\n",
    "#### Temperature\n",
    "\n",
    "The `temperature` parameter adjusts the randomness of the distribution:"
   ]
  },
  {
   "cell_type": "code",
   "execution_count": 56,
   "id": "ba045ec1",
   "metadata": {},
   "outputs": [
    {
     "name": "stderr",
     "output_type": "stream",
     "text": [
      "The attention mask and the pad token id were not set. As a consequence, you may observe unexpected behavior. Please pass your input's `attention_mask` to obtain reliable results.\n",
      "Setting `pad_token_id` to `eos_token_id`:50256 for open-end generation.\n"
     ]
    },
    {
     "name": "stdout",
     "output_type": "stream",
     "text": [
      "Preposterous, I'm Flabbergasted!\n",
      "\n",
      "The most important thing to know about this recipe is that you can make this with any of the following ingredients.\n",
      "\n",
      "good quality ingredients\n"
     ]
    }
   ],
   "source": [
    " \n",
    "sampling_output = gpt2.generate(\n",
    "    input_ids,\n",
    "    do_sample=True,\n",
    "    temperature=0.4,\n",
    "    max_length=40,\n",
    "    top_k=0,\n",
    ")\n",
    "\n",
    "print(tokenizer.decode(sampling_output[0], skip_special_tokens=True))\n",
    " "
   ]
  },
  {
   "cell_type": "markdown",
   "id": "eb4c8090",
   "metadata": {},
   "source": [
    "A higher temperature increases randomness, making the text more diverse but potentially less coherent. A lower temperature makes the output more predictable.\n",
    "\n",
    "#### Top-K Sampling\n",
    "\n",
    "Top-K sampling limits the selection to the top K tokens:"
   ]
  },
  {
   "cell_type": "code",
   "execution_count": 57,
   "id": "ec276670",
   "metadata": {},
   "outputs": [
    {
     "name": "stderr",
     "output_type": "stream",
     "text": [
      "The attention mask and the pad token id were not set. As a consequence, you may observe unexpected behavior. Please pass your input's `attention_mask` to obtain reliable results.\n",
      "Setting `pad_token_id` to `eos_token_id`:50256 for open-end generation.\n"
     ]
    },
    {
     "name": "stdout",
     "output_type": "stream",
     "text": [
      "Preposterous, I'm Flabbergasted!\n",
      "\n",
      "In this episode, we're joined by our favorite podcast hosts, the guys who've been here over the past couple years, and I\n"
     ]
    }
   ],
   "source": [
    " \n",
    "sampling_output = gpt2.generate(\n",
    "    input_ids,\n",
    "    do_sample=True,\n",
    "    max_length=40,\n",
    "    top_k=10,\n",
    ")\n",
    "\n",
    "print(tokenizer.decode(sampling_output[0], skip_special_tokens=True))\n",
    " "
   ]
  },
  {
   "cell_type": "markdown",
   "id": "b716714a",
   "metadata": {},
   "source": [
    "This method ensures that only the most likely tokens are considered, improving quality but possibly reducing diversity.\n",
    "\n",
    "#### Top-P (Nucleus) Sampling\n",
    "\n",
    "Top-P sampling, or nucleus sampling, includes the most likely tokens whose cumulative probability exceeds a threshold:"
   ]
  },
  {
   "cell_type": "code",
   "execution_count": 58,
   "id": "48ac66e5",
   "metadata": {},
   "outputs": [
    {
     "name": "stderr",
     "output_type": "stream",
     "text": [
      "The attention mask and the pad token id were not set. As a consequence, you may observe unexpected behavior. Please pass your input's `attention_mask` to obtain reliable results.\n",
      "Setting `pad_token_id` to `eos_token_id`:50256 for open-end generation.\n"
     ]
    },
    {
     "name": "stdout",
     "output_type": "stream",
     "text": [
      "Preposterous, I'm Flabbergasted!\n",
      "\n",
      "6 out of 10 Great protein blends. Great quick fix\n",
      "\n",
      "5 out of 5 Good set of amino acids. If you're looking\n"
     ]
    }
   ],
   "source": [
    " \n",
    "sampling_output = gpt2.generate(\n",
    "    input_ids,\n",
    "    do_sample=True,\n",
    "    max_length=40,\n",
    "    top_p=0.94,\n",
    "    top_k=0,\n",
    ")\n",
    "\n",
    "print(tokenizer.decode(sampling_output[0], skip_special_tokens=True))\n",
    " "
   ]
  },
  {
   "cell_type": "markdown",
   "id": "3c9cbe4d",
   "metadata": {},
   "source": [
    "Top-P sampling dynamically chooses the number of tokens based on their cumulative probability, balancing quality and diversity.\n",
    "\n",
    "### Experimenting with Generation Strategies\n",
    "\n",
    "There’s no one-size-fits-all approach to text generation. Experiment with different parameters to see what works best for your specific use case. Here are some suggestions:\n",
    "\n",
    "1. **Parameter Tuning**: Adjust parameters like `num_beams`, `repetition_penalty`, `top_p`, and `top_k` to see how they impact the generated text.\n",
    "2. **Avoiding Repetition**: Use `no_repeat_ngram_size` to prevent the model from repeating the same sequence of words.\n",
    "3. **Advanced Techniques**: Explore newer methods like contrastive search, which balances probability and contextual similarity to generate coherent text while avoiding repetition."
   ]
  }
 ],
 "metadata": {
  "kernelspec": {
   "display_name": ".venv",
   "language": "python",
   "name": "python3"
  },
  "language_info": {
   "codemirror_mode": {
    "name": "ipython",
    "version": 3
   },
   "file_extension": ".py",
   "mimetype": "text/x-python",
   "name": "python",
   "nbconvert_exporter": "python",
   "pygments_lexer": "ipython3",
   "version": "3.12.3"
  }
 },
 "nbformat": 4,
 "nbformat_minor": 5
}
